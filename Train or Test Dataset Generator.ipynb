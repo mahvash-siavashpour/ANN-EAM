{
 "cells": [
  {
   "cell_type": "code",
   "execution_count": 13,
   "id": "wound-beads",
   "metadata": {},
   "outputs": [],
   "source": [
    "import numpy as np\n",
    "import csv\n",
    "import math\n",
    "from tqdm import tqdm\n",
    "import random\n",
    "import copy\n",
    "import os\n",
    "import pickle\n",
    "import sys\n",
    "from PIL import Image\n",
    "import PIL\n"
   ]
  },
  {
   "cell_type": "markdown",
   "id": "needed-column",
   "metadata": {},
   "source": [
    "### Deleting"
   ]
  },
  {
   "cell_type": "code",
   "execution_count": 14,
   "id": "smaller-mistake",
   "metadata": {},
   "outputs": [],
   "source": [
    "filelist = [ f for f in os.listdir('ImageDataset/TestSet/word/')]\n",
    "for f in filelist:\n",
    "    os.remove(os.path.join('ImageDataset/TestSet/word/', f))"
   ]
  },
  {
   "cell_type": "code",
   "execution_count": 15,
   "id": "amber-canberra",
   "metadata": {},
   "outputs": [],
   "source": [
    "filelist = [ f for f in os.listdir('ImageDataset/TestSet/nonword/')]\n",
    "for f in filelist:\n",
    "    os.remove(os.path.join('ImageDataset/TestSet/nonword/', f))"
   ]
  },
  {
   "cell_type": "code",
   "execution_count": 16,
   "id": "worldwide-concert",
   "metadata": {},
   "outputs": [],
   "source": [
    "filelist = [ f for f in os.listdir('ImageDataset/TrainSet/word/')]\n",
    "for f in filelist:\n",
    "    os.remove(os.path.join('ImageDataset/TrainSet/word/', f))"
   ]
  },
  {
   "cell_type": "code",
   "execution_count": 17,
   "id": "willing-thousand",
   "metadata": {},
   "outputs": [],
   "source": [
    "filelist = [ f for f in os.listdir('ImageDataset/TrainSet/nonword/')]\n",
    "for f in filelist:\n",
    "    os.remove(os.path.join('ImageDataset/TrainSet/nonword/', f))"
   ]
  },
  {
   "cell_type": "markdown",
   "id": "muslim-psychology",
   "metadata": {},
   "source": [
    "### Copying"
   ]
  },
  {
   "cell_type": "code",
   "execution_count": 18,
   "id": "unsigned-norfolk",
   "metadata": {},
   "outputs": [],
   "source": [
    "entries = os.listdir('All_Images/nonword')\n",
    "nonwords = []\n",
    "nonwords_path = []\n",
    "for e in entries:\n",
    "    nonwords.append(e.split('_')[1].split('.')[0])\n",
    "    nonwords_path.append(e)\n",
    "    \n",
    "entries = os.listdir('All_Images/word')\n",
    "words = []\n",
    "words_path = []\n",
    "for e in entries:\n",
    "    words.append(e.split('_')[1].split('.')[0])\n",
    "    words_path.append(e)"
   ]
  },
  {
   "cell_type": "code",
   "execution_count": 19,
   "id": "understanding-isaac",
   "metadata": {},
   "outputs": [],
   "source": [
    "num_train_words = 5000\n",
    "num_test_words = 2000\n",
    "\n",
    "num_train_nonwords = 5000\n",
    "num_test_nonwords = 2000"
   ]
  },
  {
   "cell_type": "code",
   "execution_count": 20,
   "id": "according-planet",
   "metadata": {
    "scrolled": true
   },
   "outputs": [
    {
     "name": "stderr",
     "output_type": "stream",
     "text": [
      "100%|█████████████████████████████████████| 5000/5000 [00:02<00:00, 2398.59it/s]\n"
     ]
    }
   ],
   "source": [
    "for w in tqdm(range(num_train_words)):\n",
    "    im1 = Image.open('All_Images/word/'+words_path[w])\n",
    "    im2 = im1.copy()\n",
    "    new_path = 'ImageDataset/TrainSet/word/'+words_path[w]\n",
    "    im2.save(new_path, \"PNG\")\n"
   ]
  },
  {
   "cell_type": "code",
   "execution_count": 21,
   "id": "spanish-duration",
   "metadata": {
    "scrolled": true
   },
   "outputs": [
    {
     "name": "stderr",
     "output_type": "stream",
     "text": [
      "100%|█████████████████████████████████████| 2000/2000 [00:00<00:00, 2097.57it/s]\n"
     ]
    }
   ],
   "source": [
    "for w in tqdm(range(num_test_words)):\n",
    "    im1 = Image.open('All_Images/word/'+words_path[num_train_words+w])\n",
    "    im2 = im1.copy()\n",
    "    new_path = 'ImageDataset/TestSet/word/'+words_path[num_train_words+w]\n",
    "    im2.save(new_path, \"PNG\")\n"
   ]
  },
  {
   "cell_type": "code",
   "execution_count": 22,
   "id": "polyphonic-chinese",
   "metadata": {
    "scrolled": true
   },
   "outputs": [
    {
     "name": "stderr",
     "output_type": "stream",
     "text": [
      "100%|█████████████████████████████████████| 5000/5000 [00:02<00:00, 2253.88it/s]\n"
     ]
    }
   ],
   "source": [
    "for w in tqdm(range(num_train_nonwords)):\n",
    "    im1 = Image.open('All_Images/nonword/'+nonwords_path[w])\n",
    "    im2 = im1.copy()\n",
    "    new_path = 'ImageDataset/TrainSet/nonword/'+nonwords_path[w]\n",
    "    im2.save(new_path, \"PNG\")\n"
   ]
  },
  {
   "cell_type": "code",
   "execution_count": 23,
   "id": "defensive-governor",
   "metadata": {},
   "outputs": [
    {
     "name": "stderr",
     "output_type": "stream",
     "text": [
      "100%|█████████████████████████████████████| 2000/2000 [00:00<00:00, 2310.79it/s]\n"
     ]
    }
   ],
   "source": [
    "for w in tqdm(range(num_test_nonwords)):\n",
    "    im1 = Image.open('All_Images/nonword/'+nonwords_path[num_train_nonwords+w])\n",
    "    im2 = im1.copy()\n",
    "    new_path = 'ImageDataset/TestSet/nonword/'+nonwords_path[num_train_nonwords+w]\n",
    "    im2.save(new_path, \"PNG\")\n"
   ]
  },
  {
   "cell_type": "code",
   "execution_count": null,
   "id": "broadband-necessity",
   "metadata": {},
   "outputs": [],
   "source": []
  },
  {
   "cell_type": "code",
   "execution_count": null,
   "id": "acute-forest",
   "metadata": {},
   "outputs": [],
   "source": []
  }
 ],
 "metadata": {
  "kernelspec": {
   "display_name": "Python 3 (ipykernel)",
   "language": "python",
   "name": "python3"
  },
  "language_info": {
   "codemirror_mode": {
    "name": "ipython",
    "version": 3
   },
   "file_extension": ".py",
   "mimetype": "text/x-python",
   "name": "python",
   "nbconvert_exporter": "python",
   "pygments_lexer": "ipython3",
   "version": "3.8.10"
  }
 },
 "nbformat": 4,
 "nbformat_minor": 5
}

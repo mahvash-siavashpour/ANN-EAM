{
 "cells": [
  {
   "cell_type": "markdown",
   "id": "dbf5ed11-783c-476d-b190-95c7356783ca",
   "metadata": {},
   "source": [
    "## Setting file paths"
   ]
  },
  {
   "cell_type": "markdown",
   "id": "4033aec0-1a29-4288-9d01-314bbedae399",
   "metadata": {},
   "source": [
    "#### RDM Model "
   ]
  },
  {
   "cell_type": "code",
   "execution_count": 12,
   "id": "b293a760",
   "metadata": {
    "executionInfo": {
     "elapsed": 3132,
     "status": "ok",
     "timestamp": 1651313245379,
     "user": {
      "displayName": "Arash Dadras",
      "userId": "05722346836148265544"
     },
     "user_tz": -270
    },
    "id": "9f9375de-32ee-4410-b62e-6e0bb33b716b"
   },
   "outputs": [],
   "source": [
    "root = './'\n",
    "plots_root = root + 'Plots/'\n",
    "datasets_root = root + 'Datasets/'\n",
    "behavioural_data_root = root +  'behavioral_data/selected_data/' \n",
    "stan_files_root = root +  'stan files/' \n",
    "saved_models_root = root + 'stan_results/'\n",
    "\n",
    "plots_folder_name = 'RDM/'\n",
    "dataset_name = 'fastText_subtlex_FC.csv'\n",
    "stan_file_name = 'RDM_hier_3d.stan'\n",
    "saved_model_name = '3D'\n",
    "\n",
    "plots_path = plots_root + plots_folder_name\n",
    "dataset_path = datasets_root + dataset_name\n",
    "stan_file_path = stan_files_root + stan_file_name\n",
    "saved_model_path = saved_models_root + saved_model_name + '_RDM'  + '.pkl'"
   ]
  },
  {
   "cell_type": "markdown",
   "id": "e62ec4f7",
   "metadata": {
    "id": "04ab4fbd-f191-427a-a2e4-db4ff76fa385"
   },
   "source": [
    "## Importing Packages"
   ]
  },
  {
   "cell_type": "code",
   "execution_count": 2,
   "id": "5816c3bf",
   "metadata": {
    "executionInfo": {
     "elapsed": 3102,
     "status": "ok",
     "timestamp": 1651313252929,
     "user": {
      "displayName": "Arash Dadras",
      "userId": "05722346836148265544"
     },
     "user_tz": -270
    },
    "id": "42e504d1-66bf-459a-bdee-ef0f268a7b81"
   },
   "outputs": [
    {
     "name": "stderr",
     "output_type": "stream",
     "text": [
      "\n",
      "Bad key \"text.kerning_factor\" on line 4 in\n",
      "/home/a.dadras/.conda/envs/ANNDDM/lib/python3.7/site-packages/matplotlib/mpl-data/stylelib/_classic_test_patch.mplstyle.\n",
      "You probably need to get an updated matplotlibrc file from\n",
      "https://github.com/matplotlib/matplotlib/blob/v3.1.2/matplotlibrc.template\n",
      "or from the matplotlib source distribution\n"
     ]
    }
   ],
   "source": [
    "import numpy as np\n",
    "import pandas as pd\n",
    "import pystan\n",
    "import rlssm\n",
    "import pickle\n",
    "import matplotlib.pyplot as plt\n",
    "import seaborn as sns\n",
    "import arviz as az\n",
    "\n",
    "from scipy.stats import gaussian_kde\n",
    "\n",
    "sns.set_theme(style=\"whitegrid\")"
   ]
  },
  {
   "cell_type": "markdown",
   "id": "00e617f6",
   "metadata": {
    "id": "123c4809-7b46-4f8d-b578-0d5e9fb5fbe7"
   },
   "source": [
    "## Prepare data"
   ]
  },
  {
   "cell_type": "markdown",
   "id": "13d41247-a08b-4710-a8cb-006ca5ace314",
   "metadata": {},
   "source": [
    "Loading words and non-words with zipf and predicted probabilities"
   ]
  },
  {
   "cell_type": "code",
   "execution_count": 3,
   "id": "5e6417ff",
   "metadata": {
    "colab": {
     "base_uri": "https://localhost:8080/",
     "height": 0
    },
    "executionInfo": {
     "elapsed": 61,
     "status": "ok",
     "timestamp": 1651313252934,
     "user": {
      "displayName": "Arash Dadras",
      "userId": "05722346836148265544"
     },
     "user_tz": -270
    },
    "id": "72172233-0e82-4058-8a5c-8657e9fe4693",
    "outputId": "35336463-3bb2-41e5-c84f-7c34fdcfc77d",
    "tags": []
   },
   "outputs": [
    {
     "data": {
      "text/html": [
       "<div>\n",
       "<style scoped>\n",
       "    .dataframe tbody tr th:only-of-type {\n",
       "        vertical-align: middle;\n",
       "    }\n",
       "\n",
       "    .dataframe tbody tr th {\n",
       "        vertical-align: top;\n",
       "    }\n",
       "\n",
       "    .dataframe thead th {\n",
       "        text-align: right;\n",
       "    }\n",
       "</style>\n",
       "<table border=\"1\" class=\"dataframe\">\n",
       "  <thead>\n",
       "    <tr style=\"text-align: right;\">\n",
       "      <th></th>\n",
       "      <th>string</th>\n",
       "      <th>freq</th>\n",
       "      <th>label</th>\n",
       "      <th>zipf</th>\n",
       "      <th>category</th>\n",
       "      <th>word_prob</th>\n",
       "      <th>non_word_prob</th>\n",
       "    </tr>\n",
       "  </thead>\n",
       "  <tbody>\n",
       "    <tr>\n",
       "      <th>0</th>\n",
       "      <td>repetitions</td>\n",
       "      <td>496</td>\n",
       "      <td>1</td>\n",
       "      <td>2.069985</td>\n",
       "      <td>LF</td>\n",
       "      <td>1.000000e+00</td>\n",
       "      <td>1.770500e-08</td>\n",
       "    </tr>\n",
       "    <tr>\n",
       "      <th>1</th>\n",
       "      <td>fettle</td>\n",
       "      <td>0</td>\n",
       "      <td>0</td>\n",
       "      <td>0.000000</td>\n",
       "      <td>NW</td>\n",
       "      <td>1.454335e-02</td>\n",
       "      <td>9.854567e-01</td>\n",
       "    </tr>\n",
       "    <tr>\n",
       "      <th>2</th>\n",
       "      <td>compulsidaty</td>\n",
       "      <td>0</td>\n",
       "      <td>0</td>\n",
       "      <td>0.000000</td>\n",
       "      <td>NW</td>\n",
       "      <td>8.829454e-04</td>\n",
       "      <td>9.991171e-01</td>\n",
       "    </tr>\n",
       "    <tr>\n",
       "      <th>3</th>\n",
       "      <td>fegaphone</td>\n",
       "      <td>0</td>\n",
       "      <td>0</td>\n",
       "      <td>0.000000</td>\n",
       "      <td>NW</td>\n",
       "      <td>6.154092e-03</td>\n",
       "      <td>9.938459e-01</td>\n",
       "    </tr>\n",
       "    <tr>\n",
       "      <th>4</th>\n",
       "      <td>crel's</td>\n",
       "      <td>0</td>\n",
       "      <td>0</td>\n",
       "      <td>0.000000</td>\n",
       "      <td>NW</td>\n",
       "      <td>7.677795e-04</td>\n",
       "      <td>9.992322e-01</td>\n",
       "    </tr>\n",
       "    <tr>\n",
       "      <th>...</th>\n",
       "      <td>...</td>\n",
       "      <td>...</td>\n",
       "      <td>...</td>\n",
       "      <td>...</td>\n",
       "      <td>...</td>\n",
       "      <td>...</td>\n",
       "      <td>...</td>\n",
       "    </tr>\n",
       "    <tr>\n",
       "      <th>74312</th>\n",
       "      <td>jeeds</td>\n",
       "      <td>0</td>\n",
       "      <td>0</td>\n",
       "      <td>0.000000</td>\n",
       "      <td>NW</td>\n",
       "      <td>1.754459e-07</td>\n",
       "      <td>9.999999e-01</td>\n",
       "    </tr>\n",
       "    <tr>\n",
       "      <th>74313</th>\n",
       "      <td>jidelong</td>\n",
       "      <td>0</td>\n",
       "      <td>0</td>\n",
       "      <td>0.000000</td>\n",
       "      <td>NW</td>\n",
       "      <td>4.784017e-04</td>\n",
       "      <td>9.995216e-01</td>\n",
       "    </tr>\n",
       "    <tr>\n",
       "      <th>74314</th>\n",
       "      <td>aft</td>\n",
       "      <td>934</td>\n",
       "      <td>1</td>\n",
       "      <td>3.549513</td>\n",
       "      <td>LF</td>\n",
       "      <td>9.998860e-01</td>\n",
       "      <td>1.139512e-04</td>\n",
       "    </tr>\n",
       "    <tr>\n",
       "      <th>74315</th>\n",
       "      <td>Ikanian</td>\n",
       "      <td>0</td>\n",
       "      <td>0</td>\n",
       "      <td>0.000000</td>\n",
       "      <td>NW</td>\n",
       "      <td>2.045738e-07</td>\n",
       "      <td>9.999998e-01</td>\n",
       "    </tr>\n",
       "    <tr>\n",
       "      <th>74316</th>\n",
       "      <td>sneeze</td>\n",
       "      <td>540</td>\n",
       "      <td>1</td>\n",
       "      <td>3.470811</td>\n",
       "      <td>LF</td>\n",
       "      <td>1.000000e+00</td>\n",
       "      <td>5.444204e-11</td>\n",
       "    </tr>\n",
       "  </tbody>\n",
       "</table>\n",
       "<p>74317 rows × 7 columns</p>\n",
       "</div>"
      ],
      "text/plain": [
       "             string  freq  label      zipf category     word_prob  \\\n",
       "0       repetitions   496      1  2.069985       LF  1.000000e+00   \n",
       "1            fettle     0      0  0.000000       NW  1.454335e-02   \n",
       "2      compulsidaty     0      0  0.000000       NW  8.829454e-04   \n",
       "3         fegaphone     0      0  0.000000       NW  6.154092e-03   \n",
       "4            crel's     0      0  0.000000       NW  7.677795e-04   \n",
       "...             ...   ...    ...       ...      ...           ...   \n",
       "74312         jeeds     0      0  0.000000       NW  1.754459e-07   \n",
       "74313      jidelong     0      0  0.000000       NW  4.784017e-04   \n",
       "74314           aft   934      1  3.549513       LF  9.998860e-01   \n",
       "74315       Ikanian     0      0  0.000000       NW  2.045738e-07   \n",
       "74316        sneeze   540      1  3.470811       LF  1.000000e+00   \n",
       "\n",
       "       non_word_prob  \n",
       "0       1.770500e-08  \n",
       "1       9.854567e-01  \n",
       "2       9.991171e-01  \n",
       "3       9.938459e-01  \n",
       "4       9.992322e-01  \n",
       "...              ...  \n",
       "74312   9.999999e-01  \n",
       "74313   9.995216e-01  \n",
       "74314   1.139512e-04  \n",
       "74315   9.999998e-01  \n",
       "74316   5.444204e-11  \n",
       "\n",
       "[74317 rows x 7 columns]"
      ]
     },
     "execution_count": 3,
     "metadata": {},
     "output_type": "execute_result"
    }
   ],
   "source": [
    "word_nword_df = pd.read_csv(dataset_path, header=None, names =['string', 'freq',  'label', 'zipf','category', 'word_prob', 'non_word_prob'])\n",
    "word_nword_df"
   ]
  },
  {
   "cell_type": "code",
   "execution_count": 4,
   "id": "8a061e32-1d3d-40c2-afcf-04de82e44ce5",
   "metadata": {},
   "outputs": [],
   "source": [
    "def remove_outliers(df, max_rt, min_rt, std_c=2.5):\n",
    "    \"\"\"\n",
    "    Returns remove outliers from dataframes. Outlier RTs are bigger than\n",
    "    max_rt and smaller than min_rt. Also RTsthat are out of -/+ (std_c * sd) \n",
    "    of mean RT interval are considered as outliers too.\n",
    "\n",
    "    Parameters\n",
    "    ----------\n",
    "        df: pandas dataframe with rt column\n",
    "        max_rt (float): maximum acceptable rt\n",
    "        min_rt (float): minimum acceptable rt\n",
    "        \n",
    "    Optional Parameters\n",
    "    ----------\n",
    "        std_c (float) : Optional\n",
    "            coefficient to define interval of non-outlier RTs\n",
    "    \n",
    "    Returns\n",
    "    -------\n",
    "        df: pandas dataframe without outliers  \n",
    "    \"\"\"\n",
    "    mean = df['rt'].mean()\n",
    "    sd = df['rt'].std()\n",
    "    lower_thr = mean - std_c*sd\n",
    "    upper_thr = mean + std_c*sd\n",
    "    min_bound = max(min_rt, lower_thr)\n",
    "    max_bound = min(max_rt, upper_thr)\n",
    "    df = df[df['rt'] >= min_bound]\n",
    "    df = df[df['rt'] <= max_bound]\n",
    "    return df"
   ]
  },
  {
   "cell_type": "markdown",
   "id": "07cf7c47-7fd4-4bdb-880b-5a52a2b7be4b",
   "metadata": {},
   "source": [
    "Reading and modifing each behavioral data file and combining all of them into a single behavioral dataframe"
   ]
  },
  {
   "cell_type": "code",
   "execution_count": 5,
   "id": "af1a914e",
   "metadata": {
    "executionInfo": {
     "elapsed": 56,
     "status": "ok",
     "timestamp": 1651313252936,
     "user": {
      "displayName": "Arash Dadras",
      "userId": "05722346836148265544"
     },
     "user_tz": -270
    },
    "id": "eb864830-ecb7-48f1-a071-f00173154216"
   },
   "outputs": [],
   "source": [
    "Number_Of_Participants = 5\n",
    "Number_Of_Trials = 400\n",
    "dataframes = []\n",
    "\n",
    "for i in range(Number_Of_Participants):\n",
    "    # Loading each file\n",
    "    df = pd.read_csv(behavioural_data_root + str(i+1) + \"DATA.LDT\", names=['trial', 'string_id', 'string_type', 'accuracy', 'rt', 'string'])\n",
    "    # Dropping non rows and first two rows that are demographic informations \n",
    "    df = df.dropna().drop('string_id', axis=1).drop([0, 1]).iloc[:Number_Of_Trials] \n",
    "    # Converting columns type to suitable data types\n",
    "    convert_dict = {'string_type': 'int16',\n",
    "                    'accuracy': 'int16',\n",
    "                    'rt': float\n",
    "                   }\n",
    "\n",
    "    df = df.astype(convert_dict)\n",
    "    # Convert RTs to seconds\n",
    "    df['rt'] = df['rt'].apply(lambda x: x/1000) \n",
    "    # Removing Outliers\n",
    "    df = remove_outliers(df, 3, .2, 2.5)\n",
    "    # Extracting response of participant from his/her accuracy\n",
    "    df['response'] = np.logical_not(np.logical_xor(df['string_type'], df['accuracy'])).astype('int')\n",
    "    df = df.reset_index(drop=True)\n",
    "    # Particpant number\n",
    "    df['participant'] = i+1\n",
    "    # Minimum RT of participant in all trials (is needed for stan code)\n",
    "    df['minRT'] = df['rt'].min()\n",
    "    dataframes.append(df)"
   ]
  },
  {
   "cell_type": "code",
   "execution_count": 6,
   "id": "4fb6266a",
   "metadata": {
    "executionInfo": {
     "elapsed": 56,
     "status": "ok",
     "timestamp": 1651313252938,
     "user": {
      "displayName": "Arash Dadras",
      "userId": "05722346836148265544"
     },
     "user_tz": -270
    },
    "id": "f37d4118-f2ea-4691-bff9-02f1ac1cebbc"
   },
   "outputs": [],
   "source": [
    "# Combining dataframes\n",
    "behavioural_df = pd.concat(dataframes)\n",
    "# Merging  behavioral dataframe with word_nonword_df to have words and non-words data with behavioral data\n",
    "behavioural_df = pd.merge(behavioural_df, word_nword_df, on='string', how='left').dropna().reset_index(drop=True)\n",
    "behavioural_df = behavioural_df.drop([\"trial\", \"string_type\", \"freq\"], axis=1)"
   ]
  },
  {
   "cell_type": "code",
   "execution_count": 7,
   "id": "07c791ac-26e5-4ee4-929e-379e1b3248df",
   "metadata": {},
   "outputs": [
    {
     "data": {
      "text/html": [
       "<div>\n",
       "<style scoped>\n",
       "    .dataframe tbody tr th:only-of-type {\n",
       "        vertical-align: middle;\n",
       "    }\n",
       "\n",
       "    .dataframe tbody tr th {\n",
       "        vertical-align: top;\n",
       "    }\n",
       "\n",
       "    .dataframe thead th {\n",
       "        text-align: right;\n",
       "    }\n",
       "</style>\n",
       "<table border=\"1\" class=\"dataframe\">\n",
       "  <thead>\n",
       "    <tr style=\"text-align: right;\">\n",
       "      <th></th>\n",
       "      <th>accuracy</th>\n",
       "      <th>rt</th>\n",
       "      <th>string</th>\n",
       "      <th>response</th>\n",
       "      <th>participant</th>\n",
       "      <th>minRT</th>\n",
       "      <th>label</th>\n",
       "      <th>zipf</th>\n",
       "      <th>category</th>\n",
       "      <th>word_prob</th>\n",
       "      <th>non_word_prob</th>\n",
       "    </tr>\n",
       "  </thead>\n",
       "  <tbody>\n",
       "    <tr>\n",
       "      <th>0</th>\n",
       "      <td>0</td>\n",
       "      <td>0.707</td>\n",
       "      <td>bookie</td>\n",
       "      <td>0</td>\n",
       "      <td>1</td>\n",
       "      <td>0.412</td>\n",
       "      <td>1.0</td>\n",
       "      <td>3.409105</td>\n",
       "      <td>LF</td>\n",
       "      <td>1.000000</td>\n",
       "      <td>1.803803e-07</td>\n",
       "    </tr>\n",
       "    <tr>\n",
       "      <th>1</th>\n",
       "      <td>1</td>\n",
       "      <td>0.769</td>\n",
       "      <td>gandbrake</td>\n",
       "      <td>0</td>\n",
       "      <td>1</td>\n",
       "      <td>0.412</td>\n",
       "      <td>0.0</td>\n",
       "      <td>0.000000</td>\n",
       "      <td>NW</td>\n",
       "      <td>0.001226</td>\n",
       "      <td>9.987740e-01</td>\n",
       "    </tr>\n",
       "    <tr>\n",
       "      <th>2</th>\n",
       "      <td>1</td>\n",
       "      <td>0.526</td>\n",
       "      <td>philosophical</td>\n",
       "      <td>1</td>\n",
       "      <td>1</td>\n",
       "      <td>0.412</td>\n",
       "      <td>1.0</td>\n",
       "      <td>3.205648</td>\n",
       "      <td>LF</td>\n",
       "      <td>0.999862</td>\n",
       "      <td>1.382707e-04</td>\n",
       "    </tr>\n",
       "    <tr>\n",
       "      <th>3</th>\n",
       "      <td>0</td>\n",
       "      <td>0.510</td>\n",
       "      <td>umbeaten</td>\n",
       "      <td>1</td>\n",
       "      <td>1</td>\n",
       "      <td>0.412</td>\n",
       "      <td>0.0</td>\n",
       "      <td>0.000000</td>\n",
       "      <td>NW</td>\n",
       "      <td>0.007453</td>\n",
       "      <td>9.925471e-01</td>\n",
       "    </tr>\n",
       "    <tr>\n",
       "      <th>4</th>\n",
       "      <td>1</td>\n",
       "      <td>0.512</td>\n",
       "      <td>belonging</td>\n",
       "      <td>1</td>\n",
       "      <td>1</td>\n",
       "      <td>0.412</td>\n",
       "      <td>1.0</td>\n",
       "      <td>3.317140</td>\n",
       "      <td>LF</td>\n",
       "      <td>1.000000</td>\n",
       "      <td>1.911451e-07</td>\n",
       "    </tr>\n",
       "  </tbody>\n",
       "</table>\n",
       "</div>"
      ],
      "text/plain": [
       "   accuracy     rt         string  response  participant  minRT  label  \\\n",
       "0         0  0.707         bookie         0            1  0.412    1.0   \n",
       "1         1  0.769      gandbrake         0            1  0.412    0.0   \n",
       "2         1  0.526  philosophical         1            1  0.412    1.0   \n",
       "3         0  0.510       umbeaten         1            1  0.412    0.0   \n",
       "4         1  0.512      belonging         1            1  0.412    1.0   \n",
       "\n",
       "       zipf category  word_prob  non_word_prob  \n",
       "0  3.409105       LF   1.000000   1.803803e-07  \n",
       "1  0.000000       NW   0.001226   9.987740e-01  \n",
       "2  3.205648       LF   0.999862   1.382707e-04  \n",
       "3  0.000000       NW   0.007453   9.925471e-01  \n",
       "4  3.317140       LF   1.000000   1.911451e-07  "
      ]
     },
     "execution_count": 7,
     "metadata": {},
     "output_type": "execute_result"
    }
   ],
   "source": [
    "behavioural_df.head()"
   ]
  },
  {
   "cell_type": "markdown",
   "id": "159dddd5-c8a8-4c1a-8c48-9882ee452eb2",
   "metadata": {},
   "source": [
    "Predicted probabilities of words and non-words in different conditions in all trials\n",
    "across participants"
   ]
  },
  {
   "cell_type": "code",
   "execution_count": 8,
   "id": "6c1441c1-4928-4675-92a0-bac19c71fa98",
   "metadata": {},
   "outputs": [
    {
     "data": {
      "text/html": [
       "<div>\n",
       "<style scoped>\n",
       "    .dataframe tbody tr th:only-of-type {\n",
       "        vertical-align: middle;\n",
       "    }\n",
       "\n",
       "    .dataframe tbody tr th {\n",
       "        vertical-align: top;\n",
       "    }\n",
       "\n",
       "    .dataframe thead tr th {\n",
       "        text-align: left;\n",
       "    }\n",
       "\n",
       "    .dataframe thead tr:last-of-type th {\n",
       "        text-align: right;\n",
       "    }\n",
       "</style>\n",
       "<table border=\"1\" class=\"dataframe\">\n",
       "  <thead>\n",
       "    <tr>\n",
       "      <th></th>\n",
       "      <th colspan=\"5\" halign=\"left\">word_prob</th>\n",
       "      <th colspan=\"5\" halign=\"left\">non_word_prob</th>\n",
       "    </tr>\n",
       "    <tr>\n",
       "      <th></th>\n",
       "      <th>mean</th>\n",
       "      <th>std</th>\n",
       "      <th>count</th>\n",
       "      <th>max</th>\n",
       "      <th>min</th>\n",
       "      <th>mean</th>\n",
       "      <th>std</th>\n",
       "      <th>count</th>\n",
       "      <th>max</th>\n",
       "      <th>min</th>\n",
       "    </tr>\n",
       "    <tr>\n",
       "      <th>category</th>\n",
       "      <th></th>\n",
       "      <th></th>\n",
       "      <th></th>\n",
       "      <th></th>\n",
       "      <th></th>\n",
       "      <th></th>\n",
       "      <th></th>\n",
       "      <th></th>\n",
       "      <th></th>\n",
       "      <th></th>\n",
       "    </tr>\n",
       "  </thead>\n",
       "  <tbody>\n",
       "    <tr>\n",
       "      <th>HF</th>\n",
       "      <td>0.999844</td>\n",
       "      <td>0.001011</td>\n",
       "      <td>91</td>\n",
       "      <td>1.000000</td>\n",
       "      <td>9.906882e-01</td>\n",
       "      <td>0.000156</td>\n",
       "      <td>0.001011</td>\n",
       "      <td>91</td>\n",
       "      <td>0.009312</td>\n",
       "      <td>5.545796e-21</td>\n",
       "    </tr>\n",
       "    <tr>\n",
       "      <th>LF</th>\n",
       "      <td>0.990438</td>\n",
       "      <td>0.082460</td>\n",
       "      <td>763</td>\n",
       "      <td>1.000000</td>\n",
       "      <td>7.522420e-04</td>\n",
       "      <td>0.009562</td>\n",
       "      <td>0.082460</td>\n",
       "      <td>763</td>\n",
       "      <td>0.999248</td>\n",
       "      <td>3.344377e-20</td>\n",
       "    </tr>\n",
       "    <tr>\n",
       "      <th>NW</th>\n",
       "      <td>0.004913</td>\n",
       "      <td>0.026677</td>\n",
       "      <td>933</td>\n",
       "      <td>0.646109</td>\n",
       "      <td>9.891284e-20</td>\n",
       "      <td>0.995087</td>\n",
       "      <td>0.026677</td>\n",
       "      <td>933</td>\n",
       "      <td>1.000000</td>\n",
       "      <td>3.538906e-01</td>\n",
       "    </tr>\n",
       "  </tbody>\n",
       "</table>\n",
       "</div>"
      ],
      "text/plain": [
       "         word_prob                                         non_word_prob  \\\n",
       "              mean       std count       max           min          mean   \n",
       "category                                                                   \n",
       "HF        0.999844  0.001011    91  1.000000  9.906882e-01      0.000156   \n",
       "LF        0.990438  0.082460   763  1.000000  7.522420e-04      0.009562   \n",
       "NW        0.004913  0.026677   933  0.646109  9.891284e-20      0.995087   \n",
       "\n",
       "                                                  \n",
       "               std count       max           min  \n",
       "category                                          \n",
       "HF        0.001011    91  0.009312  5.545796e-21  \n",
       "LF        0.082460   763  0.999248  3.344377e-20  \n",
       "NW        0.026677   933  1.000000  3.538906e-01  "
      ]
     },
     "execution_count": 8,
     "metadata": {},
     "output_type": "execute_result"
    }
   ],
   "source": [
    "behavioural_df.groupby(['category']).agg({'word_prob': ['mean', 'std', 'count', 'max', 'min'], 'non_word_prob': ['mean', 'std', 'count', 'max', 'min']})"
   ]
  },
  {
   "cell_type": "markdown",
   "id": "d052f5c8-5b10-4c7d-ad5c-27e781c292fb",
   "metadata": {},
   "source": [
    "RT and response description of words and non-words in different conditions in all trials\n",
    "across participants"
   ]
  },
  {
   "cell_type": "code",
   "execution_count": 9,
   "id": "fba3741e-8006-4460-a23d-67445b949a93",
   "metadata": {},
   "outputs": [
    {
     "data": {
      "text/html": [
       "<div>\n",
       "<style scoped>\n",
       "    .dataframe tbody tr th:only-of-type {\n",
       "        vertical-align: middle;\n",
       "    }\n",
       "\n",
       "    .dataframe tbody tr th {\n",
       "        vertical-align: top;\n",
       "    }\n",
       "\n",
       "    .dataframe thead tr th {\n",
       "        text-align: left;\n",
       "    }\n",
       "\n",
       "    .dataframe thead tr:last-of-type th {\n",
       "        text-align: right;\n",
       "    }\n",
       "</style>\n",
       "<table border=\"1\" class=\"dataframe\">\n",
       "  <thead>\n",
       "    <tr>\n",
       "      <th></th>\n",
       "      <th colspan=\"4\" halign=\"left\">rt</th>\n",
       "      <th colspan=\"4\" halign=\"left\">response</th>\n",
       "    </tr>\n",
       "    <tr>\n",
       "      <th></th>\n",
       "      <th>mean</th>\n",
       "      <th>std</th>\n",
       "      <th>max</th>\n",
       "      <th>min</th>\n",
       "      <th>mean</th>\n",
       "      <th>std</th>\n",
       "      <th>max</th>\n",
       "      <th>min</th>\n",
       "    </tr>\n",
       "    <tr>\n",
       "      <th>category</th>\n",
       "      <th></th>\n",
       "      <th></th>\n",
       "      <th></th>\n",
       "      <th></th>\n",
       "      <th></th>\n",
       "      <th></th>\n",
       "      <th></th>\n",
       "      <th></th>\n",
       "    </tr>\n",
       "  </thead>\n",
       "  <tbody>\n",
       "    <tr>\n",
       "      <th>HF</th>\n",
       "      <td>0.559253</td>\n",
       "      <td>0.162808</td>\n",
       "      <td>1.262</td>\n",
       "      <td>0.301</td>\n",
       "      <td>1.000000</td>\n",
       "      <td>0.000000</td>\n",
       "      <td>1</td>\n",
       "      <td>1</td>\n",
       "    </tr>\n",
       "    <tr>\n",
       "      <th>LF</th>\n",
       "      <td>0.663617</td>\n",
       "      <td>0.214092</td>\n",
       "      <td>1.707</td>\n",
       "      <td>0.271</td>\n",
       "      <td>0.888598</td>\n",
       "      <td>0.314836</td>\n",
       "      <td>1</td>\n",
       "      <td>0</td>\n",
       "    </tr>\n",
       "    <tr>\n",
       "      <th>NW</th>\n",
       "      <td>0.740148</td>\n",
       "      <td>0.225628</td>\n",
       "      <td>1.763</td>\n",
       "      <td>0.200</td>\n",
       "      <td>0.143623</td>\n",
       "      <td>0.350895</td>\n",
       "      <td>1</td>\n",
       "      <td>0</td>\n",
       "    </tr>\n",
       "  </tbody>\n",
       "</table>\n",
       "</div>"
      ],
      "text/plain": [
       "                rt                          response                  \n",
       "              mean       std    max    min      mean       std max min\n",
       "category                                                              \n",
       "HF        0.559253  0.162808  1.262  0.301  1.000000  0.000000   1   1\n",
       "LF        0.663617  0.214092  1.707  0.271  0.888598  0.314836   1   0\n",
       "NW        0.740148  0.225628  1.763  0.200  0.143623  0.350895   1   0"
      ]
     },
     "execution_count": 9,
     "metadata": {},
     "output_type": "execute_result"
    }
   ],
   "source": [
    "behavioural_df.groupby(['category']).agg({'rt': ['mean', 'std', 'max', 'min'], 'response': ['mean', 'std', 'max', 'min']})"
   ]
  },
  {
   "cell_type": "markdown",
   "id": "0bc6ff4c",
   "metadata": {
    "id": "ff61f25e-7817-4f3f-a48f-d5a6666b0e75",
    "tags": []
   },
   "source": [
    "## Stan Model and Estimation"
   ]
  },
  {
   "cell_type": "markdown",
   "id": "27aa0a87-ed95-486a-beec-87a50c2f86ef",
   "metadata": {},
   "source": [
    "Compiling stan model"
   ]
  },
  {
   "cell_type": "code",
   "execution_count": 13,
   "id": "60550ee7-157d-4393-9f12-773eb947efce",
   "metadata": {
    "colab": {
     "base_uri": "https://localhost:8080/"
    },
    "executionInfo": {
     "elapsed": 93380,
     "status": "ok",
     "timestamp": 1651313346844,
     "user": {
      "displayName": "Arash Dadras",
      "userId": "05722346836148265544"
     },
     "user_tz": -270
    },
    "id": "c1b3627d-0ea2-49b6-86f0-7b098a5a16d6",
    "outputId": "4bc8643c-82c0-4fc9-99a0-7f232fa1eea4"
   },
   "outputs": [
    {
     "name": "stderr",
     "output_type": "stream",
     "text": [
      "INFO:pystan:COMPILING THE C++ CODE FOR MODEL anon_model_8bef4439324228bc278c37c462dcf72b NOW.\n"
     ]
    }
   ],
   "source": [
    "rdm_model = pystan.StanModel(file=stan_file_path)"
   ]
  },
  {
   "cell_type": "markdown",
   "id": "b75c8503-9cb2-40c0-ae79-e0e8d386a86f",
   "metadata": {},
   "source": [
    "Preparing model's inputs"
   ]
  },
  {
   "cell_type": "code",
   "execution_count": 28,
   "id": "0361fc9e-7a35-41fc-a377-3b7547842c61",
   "metadata": {
    "executionInfo": {
     "elapsed": 53,
     "status": "ok",
     "timestamp": 1651313346849,
     "user": {
      "displayName": "Arash Dadras",
      "userId": "05722346836148265544"
     },
     "user_tz": -270
    },
    "id": "3e9f42b0-a7b3-476d-8869-958b2155b84c",
    "tags": []
   },
   "outputs": [],
   "source": [
    "N = len(behavioural_df)\n",
    "participant = behavioural_df['participant'].to_numpy()\n",
    "frequencyCondition = behavioural_df['category'].replace([\"HF\", \"LF\", \"NW\"], [1, 2, 3]).to_numpy()\n",
    "response = behavioural_df['response'].to_numpy().astype(int)\n",
    "rt = behavioural_df['rt'].to_numpy()                      \n",
    "minRT = behavioural_df['minRT'].to_numpy()\n",
    "RTbound = 0\n",
    "\n",
    "threshold_priors = [4, 2, 1, 2] \n",
    "drift_priors = [0, 2, 0, 1] \n",
    "ndt_priors = [0, 1, 1, 1];\n",
    "\n",
    "# define input for the model\n",
    "data_dict = {'N': N,\n",
    "             'L': Number_Of_Participants,\n",
    "             'participant': participant,\n",
    "             'frequencyCondition': frequencyCondition,\n",
    "             'response': response,\n",
    "             'rt': rt,\n",
    "             'minRT': minRT,\n",
    "             'RTbound': RTbound,\n",
    "             'threshold_priors': threshold_priors,\n",
    "             'drift_priors': drift_priors,\n",
    "             'ndt_priors': ndt_priors,\n",
    "             }\n",
    "\n",
    "# set sampling parameters\n",
    "n_iter = 1000\n",
    "n_warmup = int(n_iter/2)\n",
    "n_chains = 2"
   ]
  },
  {
   "cell_type": "markdown",
   "id": "f4034d3d-99d8-43bf-b744-6b0608141c8d",
   "metadata": {},
   "source": [
    "Fitting the model"
   ]
  },
  {
   "cell_type": "code",
   "execution_count": 27,
   "id": "f9ddd68e",
   "metadata": {
    "colab": {
     "background_save": true
    },
    "id": "edac015c-18f4-4ebf-8c3c-ecaf4b8e1d6a",
    "scrolled": true,
    "tags": []
   },
   "outputs": [
    {
     "name": "stderr",
     "output_type": "stream",
     "text": [
      "WARNING:pystan:Maximum (flat) parameter count (1000) exceeded: skipping diagnostic tests for n_eff and Rhat.\n",
      "To run all diagnostics call pystan.check_hmc_diagnostics(fit)\n",
      "WARNING:pystan:24 of 1000 iterations ended with a divergence (2.4 %).\n",
      "WARNING:pystan:Try running with adapt_delta larger than 0.8 to remove the divergences.\n",
      "WARNING:pystan:1 of 1000 iterations saturated the maximum tree depth of 10 (0.1 %)\n",
      "WARNING:pystan:Run again with max_treedepth larger than 10 to avoid saturation\n"
     ]
    }
   ],
   "source": [
    "fit = rdm_model.sampling(data=data_dict,\n",
    "                             iter=n_iter, \n",
    "                             warmup=n_warmup,\n",
    "                             chains=n_chains,\n",
    "                             verbose=True)"
   ]
  },
  {
   "cell_type": "markdown",
   "id": "10d7bfe3-f4b0-4c5e-b38a-da896fc9910a",
   "metadata": {},
   "source": [
    "## Model diagnostics"
   ]
  },
  {
   "cell_type": "code",
   "execution_count": 29,
   "id": "83b4b9f0",
   "metadata": {
    "colab": {
     "background_save": true
    },
    "id": "a8e1d56e-e7e4-4ca1-a0bd-5b34edf6ea44"
   },
   "outputs": [
    {
     "name": "stdout",
     "output_type": "stream",
     "text": [
      "***hmc diagnostics:\n"
     ]
    },
    {
     "name": "stderr",
     "output_type": "stream",
     "text": [
      "WARNING:pystan:24 of 1000 iterations ended with a divergence (2.4 %).\n",
      "WARNING:pystan:Try running with adapt_delta larger than 0.8 to remove the divergences.\n",
      "WARNING:pystan:1 of 1000 iterations saturated the maximum tree depth of 10 (0.1 %)\n",
      "WARNING:pystan:Run again with max_treedepth larger than 10 to avoid saturation\n"
     ]
    },
    {
     "name": "stdout",
     "output_type": "stream",
     "text": [
      "{'n_eff': True, 'Rhat': True, 'divergence': False, 'treedepth': False, 'energy': True}\n"
     ]
    }
   ],
   "source": [
    "print(\"***hmc diagnostics:\")\n",
    "print(pystan.check_hmc_diagnostics(fit), flush=True)"
   ]
  },
  {
   "cell_type": "code",
   "execution_count": 30,
   "id": "b033c45b",
   "metadata": {
    "colab": {
     "background_save": true
    },
    "id": "efa2a6ff-ad48-4c7e-a094-4c645923644e"
   },
   "outputs": [
    {
     "name": "stdout",
     "output_type": "stream",
     "text": [
      "***DF: \n"
     ]
    },
    {
     "data": {
      "text/html": [
       "<div>\n",
       "<style scoped>\n",
       "    .dataframe tbody tr th:only-of-type {\n",
       "        vertical-align: middle;\n",
       "    }\n",
       "\n",
       "    .dataframe tbody tr th {\n",
       "        vertical-align: top;\n",
       "    }\n",
       "\n",
       "    .dataframe thead th {\n",
       "        text-align: right;\n",
       "    }\n",
       "</style>\n",
       "<table border=\"1\" class=\"dataframe\">\n",
       "  <thead>\n",
       "    <tr style=\"text-align: right;\">\n",
       "      <th></th>\n",
       "      <th>mean</th>\n",
       "      <th>se_mean</th>\n",
       "      <th>sd</th>\n",
       "      <th>2.5%</th>\n",
       "      <th>25%</th>\n",
       "      <th>50%</th>\n",
       "      <th>75%</th>\n",
       "      <th>97.5%</th>\n",
       "      <th>n_eff</th>\n",
       "      <th>Rhat</th>\n",
       "    </tr>\n",
       "  </thead>\n",
       "  <tbody>\n",
       "    <tr>\n",
       "      <th>mu_ndt</th>\n",
       "      <td>-0.397760</td>\n",
       "      <td>0.023647</td>\n",
       "      <td>0.433900</td>\n",
       "      <td>-1.351317</td>\n",
       "      <td>-0.634645</td>\n",
       "      <td>-0.352131</td>\n",
       "      <td>-0.109944</td>\n",
       "      <td>0.352902</td>\n",
       "      <td>336.689916</td>\n",
       "      <td>1.011914</td>\n",
       "    </tr>\n",
       "    <tr>\n",
       "      <th>mu_threshold_word</th>\n",
       "      <td>1.249561</td>\n",
       "      <td>0.016497</td>\n",
       "      <td>0.293708</td>\n",
       "      <td>0.674317</td>\n",
       "      <td>1.087559</td>\n",
       "      <td>1.239443</td>\n",
       "      <td>1.400359</td>\n",
       "      <td>1.923987</td>\n",
       "      <td>316.981801</td>\n",
       "      <td>1.006333</td>\n",
       "    </tr>\n",
       "    <tr>\n",
       "      <th>mu_threshold_nonword</th>\n",
       "      <td>2.046494</td>\n",
       "      <td>0.020648</td>\n",
       "      <td>0.388605</td>\n",
       "      <td>1.354054</td>\n",
       "      <td>1.843595</td>\n",
       "      <td>2.029418</td>\n",
       "      <td>2.199706</td>\n",
       "      <td>2.947636</td>\n",
       "      <td>354.226170</td>\n",
       "      <td>1.002129</td>\n",
       "    </tr>\n",
       "    <tr>\n",
       "      <th>mu_drift_word[1]</th>\n",
       "      <td>4.706821</td>\n",
       "      <td>0.042939</td>\n",
       "      <td>0.727292</td>\n",
       "      <td>3.091839</td>\n",
       "      <td>4.279455</td>\n",
       "      <td>4.737648</td>\n",
       "      <td>5.202472</td>\n",
       "      <td>6.045976</td>\n",
       "      <td>286.887304</td>\n",
       "      <td>1.008544</td>\n",
       "    </tr>\n",
       "    <tr>\n",
       "      <th>mu_drift_word[2]</th>\n",
       "      <td>3.282523</td>\n",
       "      <td>0.023388</td>\n",
       "      <td>0.427003</td>\n",
       "      <td>2.240293</td>\n",
       "      <td>3.050109</td>\n",
       "      <td>3.316395</td>\n",
       "      <td>3.560424</td>\n",
       "      <td>3.980771</td>\n",
       "      <td>333.317399</td>\n",
       "      <td>1.009206</td>\n",
       "    </tr>\n",
       "    <tr>\n",
       "      <th>...</th>\n",
       "      <td>...</td>\n",
       "      <td>...</td>\n",
       "      <td>...</td>\n",
       "      <td>...</td>\n",
       "      <td>...</td>\n",
       "      <td>...</td>\n",
       "      <td>...</td>\n",
       "      <td>...</td>\n",
       "      <td>...</td>\n",
       "      <td>...</td>\n",
       "    </tr>\n",
       "    <tr>\n",
       "      <th>log_lik[1784]</th>\n",
       "      <td>0.972134</td>\n",
       "      <td>0.003995</td>\n",
       "      <td>0.124668</td>\n",
       "      <td>0.673810</td>\n",
       "      <td>0.899745</td>\n",
       "      <td>0.997475</td>\n",
       "      <td>1.062400</td>\n",
       "      <td>1.151789</td>\n",
       "      <td>973.716783</td>\n",
       "      <td>0.998235</td>\n",
       "    </tr>\n",
       "    <tr>\n",
       "      <th>log_lik[1785]</th>\n",
       "      <td>-1.645492</td>\n",
       "      <td>0.008317</td>\n",
       "      <td>0.245034</td>\n",
       "      <td>-2.162594</td>\n",
       "      <td>-1.807604</td>\n",
       "      <td>-1.625803</td>\n",
       "      <td>-1.468429</td>\n",
       "      <td>-1.197898</td>\n",
       "      <td>867.907427</td>\n",
       "      <td>1.001644</td>\n",
       "    </tr>\n",
       "    <tr>\n",
       "      <th>log_lik[1786]</th>\n",
       "      <td>-4.656261</td>\n",
       "      <td>0.009342</td>\n",
       "      <td>0.318310</td>\n",
       "      <td>-5.295044</td>\n",
       "      <td>-4.868347</td>\n",
       "      <td>-4.654752</td>\n",
       "      <td>-4.433351</td>\n",
       "      <td>-4.042714</td>\n",
       "      <td>1160.886609</td>\n",
       "      <td>1.002003</td>\n",
       "    </tr>\n",
       "    <tr>\n",
       "      <th>log_lik[1787]</th>\n",
       "      <td>0.123748</td>\n",
       "      <td>0.002098</td>\n",
       "      <td>0.062178</td>\n",
       "      <td>-0.006532</td>\n",
       "      <td>0.084886</td>\n",
       "      <td>0.125821</td>\n",
       "      <td>0.167258</td>\n",
       "      <td>0.243158</td>\n",
       "      <td>877.988702</td>\n",
       "      <td>1.002920</td>\n",
       "    </tr>\n",
       "    <tr>\n",
       "      <th>lp__</th>\n",
       "      <td>243.606632</td>\n",
       "      <td>0.560284</td>\n",
       "      <td>7.269510</td>\n",
       "      <td>228.167506</td>\n",
       "      <td>238.747927</td>\n",
       "      <td>243.896679</td>\n",
       "      <td>248.695421</td>\n",
       "      <td>256.913306</td>\n",
       "      <td>168.342480</td>\n",
       "      <td>1.002727</td>\n",
       "    </tr>\n",
       "  </tbody>\n",
       "</table>\n",
       "<p>10840 rows × 10 columns</p>\n",
       "</div>"
      ],
      "text/plain": [
       "                            mean   se_mean        sd        2.5%         25%  \\\n",
       "mu_ndt                 -0.397760  0.023647  0.433900   -1.351317   -0.634645   \n",
       "mu_threshold_word       1.249561  0.016497  0.293708    0.674317    1.087559   \n",
       "mu_threshold_nonword    2.046494  0.020648  0.388605    1.354054    1.843595   \n",
       "mu_drift_word[1]        4.706821  0.042939  0.727292    3.091839    4.279455   \n",
       "mu_drift_word[2]        3.282523  0.023388  0.427003    2.240293    3.050109   \n",
       "...                          ...       ...       ...         ...         ...   \n",
       "log_lik[1784]           0.972134  0.003995  0.124668    0.673810    0.899745   \n",
       "log_lik[1785]          -1.645492  0.008317  0.245034   -2.162594   -1.807604   \n",
       "log_lik[1786]          -4.656261  0.009342  0.318310   -5.295044   -4.868347   \n",
       "log_lik[1787]           0.123748  0.002098  0.062178   -0.006532    0.084886   \n",
       "lp__                  243.606632  0.560284  7.269510  228.167506  238.747927   \n",
       "\n",
       "                             50%         75%       97.5%        n_eff  \\\n",
       "mu_ndt                 -0.352131   -0.109944    0.352902   336.689916   \n",
       "mu_threshold_word       1.239443    1.400359    1.923987   316.981801   \n",
       "mu_threshold_nonword    2.029418    2.199706    2.947636   354.226170   \n",
       "mu_drift_word[1]        4.737648    5.202472    6.045976   286.887304   \n",
       "mu_drift_word[2]        3.316395    3.560424    3.980771   333.317399   \n",
       "...                          ...         ...         ...          ...   \n",
       "log_lik[1784]           0.997475    1.062400    1.151789   973.716783   \n",
       "log_lik[1785]          -1.625803   -1.468429   -1.197898   867.907427   \n",
       "log_lik[1786]          -4.654752   -4.433351   -4.042714  1160.886609   \n",
       "log_lik[1787]           0.125821    0.167258    0.243158   877.988702   \n",
       "lp__                  243.896679  248.695421  256.913306   168.342480   \n",
       "\n",
       "                          Rhat  \n",
       "mu_ndt                1.011914  \n",
       "mu_threshold_word     1.006333  \n",
       "mu_threshold_nonword  1.002129  \n",
       "mu_drift_word[1]      1.008544  \n",
       "mu_drift_word[2]      1.009206  \n",
       "...                        ...  \n",
       "log_lik[1784]         0.998235  \n",
       "log_lik[1785]         1.001644  \n",
       "log_lik[1786]         1.002003  \n",
       "log_lik[1787]         1.002920  \n",
       "lp__                  1.002727  \n",
       "\n",
       "[10840 rows x 10 columns]"
      ]
     },
     "execution_count": 30,
     "metadata": {},
     "output_type": "execute_result"
    }
   ],
   "source": [
    "summary_dict = fit.summary()\n",
    "df = pd.DataFrame(summary_dict['summary'], \n",
    "                  columns=summary_dict['summary_colnames'], \n",
    "                  index=summary_dict['summary_rownames'])\n",
    "\n",
    "print(\"***DF: \")\n",
    "df"
   ]
  },
  {
   "cell_type": "code",
   "execution_count": 31,
   "id": "0302aa3b",
   "metadata": {
    "colab": {
     "background_save": true
    },
    "id": "b33a48e1-8c3b-4668-9e74-ba74c58e3bec",
    "scrolled": true
   },
   "outputs": [
    {
     "name": "stdout",
     "output_type": "stream",
     "text": [
      "***Rhat > 1.01: \n",
      "386\n"
     ]
    }
   ],
   "source": [
    "counter = 0\n",
    "print(\"***Rhat > 1.01: \")\n",
    "for f in df[\"Rhat\"]:\n",
    "    if f >= 1.01 or f <= 0.9:\n",
    "        counter+=1\n",
    "print(counter)"
   ]
  },
  {
   "cell_type": "code",
   "execution_count": 32,
   "id": "54606c2d",
   "metadata": {
    "colab": {
     "background_save": true
    },
    "id": "681ed2bf-2a28-4a8b-90d0-24b9fede846f"
   },
   "outputs": [
    {
     "data": {
      "text/html": [
       "<div>\n",
       "<style scoped>\n",
       "    .dataframe tbody tr th:only-of-type {\n",
       "        vertical-align: middle;\n",
       "    }\n",
       "\n",
       "    .dataframe tbody tr th {\n",
       "        vertical-align: top;\n",
       "    }\n",
       "\n",
       "    .dataframe thead th {\n",
       "        text-align: right;\n",
       "    }\n",
       "</style>\n",
       "<table border=\"1\" class=\"dataframe\">\n",
       "  <thead>\n",
       "    <tr style=\"text-align: right;\">\n",
       "      <th></th>\n",
       "      <th>mean</th>\n",
       "      <th>se_mean</th>\n",
       "      <th>sd</th>\n",
       "      <th>2.5%</th>\n",
       "      <th>25%</th>\n",
       "      <th>50%</th>\n",
       "      <th>75%</th>\n",
       "      <th>97.5%</th>\n",
       "      <th>n_eff</th>\n",
       "      <th>Rhat</th>\n",
       "    </tr>\n",
       "  </thead>\n",
       "  <tbody>\n",
       "    <tr>\n",
       "      <th>mu_ndt</th>\n",
       "      <td>-0.397760</td>\n",
       "      <td>0.023647</td>\n",
       "      <td>0.433900</td>\n",
       "      <td>-1.351317</td>\n",
       "      <td>-0.634645</td>\n",
       "      <td>-0.352131</td>\n",
       "      <td>-0.109944</td>\n",
       "      <td>0.352902</td>\n",
       "      <td>336.689916</td>\n",
       "      <td>1.011914</td>\n",
       "    </tr>\n",
       "    <tr>\n",
       "      <th>sd_ndt</th>\n",
       "      <td>0.902175</td>\n",
       "      <td>0.048503</td>\n",
       "      <td>0.602746</td>\n",
       "      <td>0.115665</td>\n",
       "      <td>0.417264</td>\n",
       "      <td>0.794766</td>\n",
       "      <td>1.260262</td>\n",
       "      <td>2.397180</td>\n",
       "      <td>154.431673</td>\n",
       "      <td>1.010743</td>\n",
       "    </tr>\n",
       "    <tr>\n",
       "      <th>z_ndt[3]</th>\n",
       "      <td>-0.089678</td>\n",
       "      <td>0.034773</td>\n",
       "      <td>0.611577</td>\n",
       "      <td>-1.494965</td>\n",
       "      <td>-0.437847</td>\n",
       "      <td>-0.050560</td>\n",
       "      <td>0.335245</td>\n",
       "      <td>0.970506</td>\n",
       "      <td>309.326616</td>\n",
       "      <td>1.013012</td>\n",
       "    </tr>\n",
       "    <tr>\n",
       "      <th>z_ndt[5]</th>\n",
       "      <td>-0.314208</td>\n",
       "      <td>0.043147</td>\n",
       "      <td>0.652640</td>\n",
       "      <td>-1.898133</td>\n",
       "      <td>-0.686417</td>\n",
       "      <td>-0.250222</td>\n",
       "      <td>0.114186</td>\n",
       "      <td>0.770134</td>\n",
       "      <td>228.799872</td>\n",
       "      <td>1.013237</td>\n",
       "    </tr>\n",
       "    <tr>\n",
       "      <th>z_drift_word[2,2]</th>\n",
       "      <td>-1.191415</td>\n",
       "      <td>0.033896</td>\n",
       "      <td>0.660603</td>\n",
       "      <td>-2.514676</td>\n",
       "      <td>-1.616481</td>\n",
       "      <td>-1.182505</td>\n",
       "      <td>-0.763004</td>\n",
       "      <td>0.038521</td>\n",
       "      <td>379.830534</td>\n",
       "      <td>1.013678</td>\n",
       "    </tr>\n",
       "    <tr>\n",
       "      <th>...</th>\n",
       "      <td>...</td>\n",
       "      <td>...</td>\n",
       "      <td>...</td>\n",
       "      <td>...</td>\n",
       "      <td>...</td>\n",
       "      <td>...</td>\n",
       "      <td>...</td>\n",
       "      <td>...</td>\n",
       "      <td>...</td>\n",
       "      <td>...</td>\n",
       "    </tr>\n",
       "    <tr>\n",
       "      <th>log_lik[548]</th>\n",
       "      <td>0.544545</td>\n",
       "      <td>0.006849</td>\n",
       "      <td>0.091618</td>\n",
       "      <td>0.351404</td>\n",
       "      <td>0.492663</td>\n",
       "      <td>0.544012</td>\n",
       "      <td>0.604597</td>\n",
       "      <td>0.717067</td>\n",
       "      <td>178.941249</td>\n",
       "      <td>1.016698</td>\n",
       "    </tr>\n",
       "    <tr>\n",
       "      <th>log_lik[576]</th>\n",
       "      <td>0.626095</td>\n",
       "      <td>0.007289</td>\n",
       "      <td>0.117960</td>\n",
       "      <td>0.365997</td>\n",
       "      <td>0.558450</td>\n",
       "      <td>0.632868</td>\n",
       "      <td>0.706697</td>\n",
       "      <td>0.830457</td>\n",
       "      <td>261.905652</td>\n",
       "      <td>1.014901</td>\n",
       "    </tr>\n",
       "    <tr>\n",
       "      <th>log_lik[592]</th>\n",
       "      <td>0.639118</td>\n",
       "      <td>0.006273</td>\n",
       "      <td>0.147934</td>\n",
       "      <td>0.298628</td>\n",
       "      <td>0.551944</td>\n",
       "      <td>0.652337</td>\n",
       "      <td>0.740088</td>\n",
       "      <td>0.892596</td>\n",
       "      <td>556.147319</td>\n",
       "      <td>1.010712</td>\n",
       "    </tr>\n",
       "    <tr>\n",
       "      <th>log_lik[623]</th>\n",
       "      <td>0.581930</td>\n",
       "      <td>0.007149</td>\n",
       "      <td>0.100357</td>\n",
       "      <td>0.362931</td>\n",
       "      <td>0.524775</td>\n",
       "      <td>0.584167</td>\n",
       "      <td>0.647836</td>\n",
       "      <td>0.763999</td>\n",
       "      <td>197.048573</td>\n",
       "      <td>1.016652</td>\n",
       "    </tr>\n",
       "    <tr>\n",
       "      <th>log_lik[652]</th>\n",
       "      <td>0.611395</td>\n",
       "      <td>0.007297</td>\n",
       "      <td>0.110556</td>\n",
       "      <td>0.367624</td>\n",
       "      <td>0.547093</td>\n",
       "      <td>0.616479</td>\n",
       "      <td>0.684460</td>\n",
       "      <td>0.806852</td>\n",
       "      <td>229.528740</td>\n",
       "      <td>1.015778</td>\n",
       "    </tr>\n",
       "  </tbody>\n",
       "</table>\n",
       "<p>386 rows × 10 columns</p>\n",
       "</div>"
      ],
      "text/plain": [
       "                       mean   se_mean        sd      2.5%       25%       50%  \\\n",
       "mu_ndt            -0.397760  0.023647  0.433900 -1.351317 -0.634645 -0.352131   \n",
       "sd_ndt             0.902175  0.048503  0.602746  0.115665  0.417264  0.794766   \n",
       "z_ndt[3]          -0.089678  0.034773  0.611577 -1.494965 -0.437847 -0.050560   \n",
       "z_ndt[5]          -0.314208  0.043147  0.652640 -1.898133 -0.686417 -0.250222   \n",
       "z_drift_word[2,2] -1.191415  0.033896  0.660603 -2.514676 -1.616481 -1.182505   \n",
       "...                     ...       ...       ...       ...       ...       ...   \n",
       "log_lik[548]       0.544545  0.006849  0.091618  0.351404  0.492663  0.544012   \n",
       "log_lik[576]       0.626095  0.007289  0.117960  0.365997  0.558450  0.632868   \n",
       "log_lik[592]       0.639118  0.006273  0.147934  0.298628  0.551944  0.652337   \n",
       "log_lik[623]       0.581930  0.007149  0.100357  0.362931  0.524775  0.584167   \n",
       "log_lik[652]       0.611395  0.007297  0.110556  0.367624  0.547093  0.616479   \n",
       "\n",
       "                        75%     97.5%       n_eff      Rhat  \n",
       "mu_ndt            -0.109944  0.352902  336.689916  1.011914  \n",
       "sd_ndt             1.260262  2.397180  154.431673  1.010743  \n",
       "z_ndt[3]           0.335245  0.970506  309.326616  1.013012  \n",
       "z_ndt[5]           0.114186  0.770134  228.799872  1.013237  \n",
       "z_drift_word[2,2] -0.763004  0.038521  379.830534  1.013678  \n",
       "...                     ...       ...         ...       ...  \n",
       "log_lik[548]       0.604597  0.717067  178.941249  1.016698  \n",
       "log_lik[576]       0.706697  0.830457  261.905652  1.014901  \n",
       "log_lik[592]       0.740088  0.892596  556.147319  1.010712  \n",
       "log_lik[623]       0.647836  0.763999  197.048573  1.016652  \n",
       "log_lik[652]       0.684460  0.806852  229.528740  1.015778  \n",
       "\n",
       "[386 rows x 10 columns]"
      ]
     },
     "execution_count": 32,
     "metadata": {},
     "output_type": "execute_result"
    }
   ],
   "source": [
    "df.loc[df['Rhat']>1.01]"
   ]
  },
  {
   "cell_type": "code",
   "execution_count": 33,
   "id": "f0aa820a",
   "metadata": {
    "colab": {
     "background_save": true
    },
    "id": "a651e5b7-b7f1-4426-ae8e-f9e236eb6e91"
   },
   "outputs": [
    {
     "data": {
      "text/html": [
       "<div>\n",
       "<style scoped>\n",
       "    .dataframe tbody tr th:only-of-type {\n",
       "        vertical-align: middle;\n",
       "    }\n",
       "\n",
       "    .dataframe tbody tr th {\n",
       "        vertical-align: top;\n",
       "    }\n",
       "\n",
       "    .dataframe thead th {\n",
       "        text-align: right;\n",
       "    }\n",
       "</style>\n",
       "<table border=\"1\" class=\"dataframe\">\n",
       "  <thead>\n",
       "    <tr style=\"text-align: right;\">\n",
       "      <th></th>\n",
       "      <th>mean</th>\n",
       "      <th>se_mean</th>\n",
       "      <th>sd</th>\n",
       "      <th>2.5%</th>\n",
       "      <th>25%</th>\n",
       "      <th>50%</th>\n",
       "      <th>75%</th>\n",
       "      <th>97.5%</th>\n",
       "      <th>n_eff</th>\n",
       "      <th>Rhat</th>\n",
       "    </tr>\n",
       "  </thead>\n",
       "  <tbody>\n",
       "    <tr>\n",
       "      <th>count</th>\n",
       "      <td>386.000000</td>\n",
       "      <td>386.000000</td>\n",
       "      <td>386.000000</td>\n",
       "      <td>386.000000</td>\n",
       "      <td>386.000000</td>\n",
       "      <td>386.000000</td>\n",
       "      <td>386.000000</td>\n",
       "      <td>386.000000</td>\n",
       "      <td>386.000000</td>\n",
       "      <td>386.000000</td>\n",
       "    </tr>\n",
       "    <tr>\n",
       "      <th>mean</th>\n",
       "      <td>0.035401</td>\n",
       "      <td>0.005776</td>\n",
       "      <td>0.062065</td>\n",
       "      <td>-0.059809</td>\n",
       "      <td>-0.014218</td>\n",
       "      <td>0.028322</td>\n",
       "      <td>0.084508</td>\n",
       "      <td>0.154518</td>\n",
       "      <td>98.755474</td>\n",
       "      <td>1.019169</td>\n",
       "    </tr>\n",
       "    <tr>\n",
       "      <th>std</th>\n",
       "      <td>1.062232</td>\n",
       "      <td>0.021249</td>\n",
       "      <td>0.214312</td>\n",
       "      <td>1.363377</td>\n",
       "      <td>1.290237</td>\n",
       "      <td>1.007002</td>\n",
       "      <td>0.900579</td>\n",
       "      <td>0.762365</td>\n",
       "      <td>48.600067</td>\n",
       "      <td>0.001697</td>\n",
       "    </tr>\n",
       "    <tr>\n",
       "      <th>min</th>\n",
       "      <td>-18.576852</td>\n",
       "      <td>0.003162</td>\n",
       "      <td>0.029624</td>\n",
       "      <td>-23.025851</td>\n",
       "      <td>-23.025851</td>\n",
       "      <td>-17.596246</td>\n",
       "      <td>-15.566791</td>\n",
       "      <td>-12.877849</td>\n",
       "      <td>87.760730</td>\n",
       "      <td>1.010712</td>\n",
       "    </tr>\n",
       "    <tr>\n",
       "      <th>25%</th>\n",
       "      <td>0.133452</td>\n",
       "      <td>0.003162</td>\n",
       "      <td>0.029624</td>\n",
       "      <td>0.101432</td>\n",
       "      <td>0.109546</td>\n",
       "      <td>0.120379</td>\n",
       "      <td>0.159236</td>\n",
       "      <td>0.199487</td>\n",
       "      <td>87.760730</td>\n",
       "      <td>1.019598</td>\n",
       "    </tr>\n",
       "    <tr>\n",
       "      <th>50%</th>\n",
       "      <td>0.133452</td>\n",
       "      <td>0.003162</td>\n",
       "      <td>0.029624</td>\n",
       "      <td>0.101432</td>\n",
       "      <td>0.109546</td>\n",
       "      <td>0.120379</td>\n",
       "      <td>0.159236</td>\n",
       "      <td>0.199487</td>\n",
       "      <td>87.760730</td>\n",
       "      <td>1.019598</td>\n",
       "    </tr>\n",
       "    <tr>\n",
       "      <th>75%</th>\n",
       "      <td>0.133452</td>\n",
       "      <td>0.003162</td>\n",
       "      <td>0.029624</td>\n",
       "      <td>0.101432</td>\n",
       "      <td>0.109546</td>\n",
       "      <td>0.120379</td>\n",
       "      <td>0.159236</td>\n",
       "      <td>0.199487</td>\n",
       "      <td>87.760730</td>\n",
       "      <td>1.019598</td>\n",
       "    </tr>\n",
       "    <tr>\n",
       "      <th>max</th>\n",
       "      <td>0.902175</td>\n",
       "      <td>0.379580</td>\n",
       "      <td>3.608188</td>\n",
       "      <td>0.367624</td>\n",
       "      <td>0.563829</td>\n",
       "      <td>0.794766</td>\n",
       "      <td>1.260262</td>\n",
       "      <td>2.397180</td>\n",
       "      <td>556.147319</td>\n",
       "      <td>1.021055</td>\n",
       "    </tr>\n",
       "  </tbody>\n",
       "</table>\n",
       "</div>"
      ],
      "text/plain": [
       "             mean     se_mean          sd        2.5%         25%         50%  \\\n",
       "count  386.000000  386.000000  386.000000  386.000000  386.000000  386.000000   \n",
       "mean     0.035401    0.005776    0.062065   -0.059809   -0.014218    0.028322   \n",
       "std      1.062232    0.021249    0.214312    1.363377    1.290237    1.007002   \n",
       "min    -18.576852    0.003162    0.029624  -23.025851  -23.025851  -17.596246   \n",
       "25%      0.133452    0.003162    0.029624    0.101432    0.109546    0.120379   \n",
       "50%      0.133452    0.003162    0.029624    0.101432    0.109546    0.120379   \n",
       "75%      0.133452    0.003162    0.029624    0.101432    0.109546    0.120379   \n",
       "max      0.902175    0.379580    3.608188    0.367624    0.563829    0.794766   \n",
       "\n",
       "              75%       97.5%       n_eff        Rhat  \n",
       "count  386.000000  386.000000  386.000000  386.000000  \n",
       "mean     0.084508    0.154518   98.755474    1.019169  \n",
       "std      0.900579    0.762365   48.600067    0.001697  \n",
       "min    -15.566791  -12.877849   87.760730    1.010712  \n",
       "25%      0.159236    0.199487   87.760730    1.019598  \n",
       "50%      0.159236    0.199487   87.760730    1.019598  \n",
       "75%      0.159236    0.199487   87.760730    1.019598  \n",
       "max      1.260262    2.397180  556.147319    1.021055  "
      ]
     },
     "execution_count": 33,
     "metadata": {},
     "output_type": "execute_result"
    }
   ],
   "source": [
    "df.loc[df['Rhat']>1.01].describe()"
   ]
  },
  {
   "cell_type": "markdown",
   "id": "798fea59-640e-4e72-bb35-3f41b389ba76",
   "metadata": {},
   "source": [
    "Saving Model"
   ]
  },
  {
   "cell_type": "code",
   "execution_count": 34,
   "id": "450e6ca5",
   "metadata": {
    "colab": {
     "background_save": true
    },
    "id": "68c03128-0bcf-4139-ae33-60299392e658"
   },
   "outputs": [
    {
     "name": "stderr",
     "output_type": "stream",
     "text": [
      "/home/a.dadras/.conda/envs/ANNDDM/lib/python3.7/site-packages/ipykernel_launcher.py:2: UserWarning: Pickling fit objects is an experimental feature!\n",
      "The relevant StanModel instance must be pickled along with this fit object.\n",
      "When unpickling the StanModel must be unpickled first.\n",
      "  \n"
     ]
    }
   ],
   "source": [
    "with open(saved_model_path, \"wb\") as f:\n",
    "    pickle.dump({'model' : rdm_model, 'fit' : fit}, f, protocol=-1)"
   ]
  },
  {
   "cell_type": "markdown",
   "id": "0b32ef5c",
   "metadata": {
    "id": "2743cc7e-7238-4f84-afe4-4b502770f62b",
    "tags": []
   },
   "source": [
    "## Check parameters"
   ]
  },
  {
   "cell_type": "markdown",
   "id": "62aaf784-e97d-4d81-bcb9-90e7eefff98f",
   "metadata": {},
   "source": [
    "Loading Model"
   ]
  },
  {
   "cell_type": "code",
   "execution_count": 35,
   "id": "0a33d647",
   "metadata": {
    "colab": {
     "background_save": true
    },
    "id": "d781cdef-a1c6-4af1-940c-824398ec7d2b"
   },
   "outputs": [],
   "source": [
    "with open(saved_model_path, \"rb\") as f:\n",
    "    data_dict = pickle.load(f)\n",
    "\n",
    "fit = data_dict['fit']"
   ]
  },
  {
   "cell_type": "markdown",
   "id": "dc740f54-db93-410c-9e26-282710ef2024",
   "metadata": {},
   "source": [
    "Parameters posterior plots"
   ]
  },
  {
   "cell_type": "code",
   "execution_count": 39,
   "id": "67254033",
   "metadata": {
    "colab": {
     "background_save": true
    },
    "id": "48fc6630-74be-47a0-b387-ec99b9dc4b47"
   },
   "outputs": [
    {
     "data": {
      "image/png": "[encoded data removed]",
      "text/plain": [
       "<Figure size 1490.4x993.6 with 9 Axes>"
      ]
     },
     "metadata": {},
     "output_type": "display_data"
    }
   ],
   "source": [
    "az.plot_posterior(fit, var_names=['transf_mu_drift_word', 'transf_mu_drift_nonword', 'transf_mu_threshold_word', 'transf_mu_threshold_nonword', 'transf_mu_ndt'], hdi_prob=.95);\n",
    "plt.savefig(plots_path + 'Parameters')"
   ]
  },
  {
   "cell_type": "markdown",
   "id": "deaeee5d-28e4-4b67-9d90-6d8ba5d39423",
   "metadata": {},
   "source": [
    "#### Models mean parameters in different conditions"
   ]
  },
  {
   "cell_type": "code",
   "execution_count": 40,
   "id": "133df71d",
   "metadata": {
    "colab": {
     "background_save": true
    },
    "id": "3539c070-29f7-422d-8c2e-1f7d44ef9246"
   },
   "outputs": [],
   "source": [
    "# Loading model parameters for each trial\n",
    "drift_word_t = fit['drift_word_t']\n",
    "drift_nonword_t = fit['drift_nonword_t']\n",
    "threshold_t_word = fit['threshold_t_word']\n",
    "threshold_t_nonword = fit['threshold_t_nonword']\n",
    "ndt_t = fit['ndt_t']"
   ]
  },
  {
   "cell_type": "code",
   "execution_count": 41,
   "id": "c645f86a",
   "metadata": {
    "colab": {
     "background_save": true
    },
    "id": "3a247d68-c3af-49ef-91fd-ba4ea221358d"
   },
   "outputs": [],
   "source": [
    "HF_condition_w = drift_word_t[:, behavioural_df['category']==\"HF\"]\n",
    "HF_condition_nw = drift_nonword_t[:, behavioural_df['category']==\"HF\"]\n",
    "LF_condition_w = drift_word_t[:, behavioural_df['category']==\"LF\"]\n",
    "LF_condition_nw = drift_nonword_t[:, behavioural_df['category']==\"LF\"]\n",
    "NW_condition_w = drift_word_t[:, behavioural_df['category']==\"NW\"]\n",
    "NW_condition_nw = drift_nonword_t[:, behavioural_df['category']==\"NW\"]"
   ]
  },
  {
   "cell_type": "code",
   "execution_count": 42,
   "id": "278e000d",
   "metadata": {
    "colab": {
     "background_save": true
    },
    "id": "deac1183-5610-4a19-8ff8-7bace8d12e7c"
   },
   "outputs": [
    {
     "name": "stdout",
     "output_type": "stream",
     "text": [
      "HF words, word drift mean and std:\n",
      "5.190024260961511 0.24683770137239594\n",
      "HF words, nonword drift mean and std:\n",
      "0.4706167158638626 0.4452428422457029\n"
     ]
    }
   ],
   "source": [
    "print('HF words, word drift mean and std:')\n",
    "print(np.mean(np.mean(HF_condition_w, axis=1)), np.std(np.mean(HF_condition_w, axis=1)))\n",
    "print('HF words, nonword drift mean and std:')\n",
    "print(np.mean(np.mean(HF_condition_nw, axis=1)), np.std(np.mean(HF_condition_nw, axis=1)))"
   ]
  },
  {
   "cell_type": "code",
   "execution_count": 43,
   "id": "f51e3e5f",
   "metadata": {
    "colab": {
     "background_save": true
    },
    "id": "b2e382de-87bf-4a1d-a4b9-1fc80548eacf"
   },
   "outputs": [
    {
     "name": "stdout",
     "output_type": "stream",
     "text": [
      "LF words word drift mean and std:\n",
      "3.473493056215646 0.13459453912073668\n",
      "LF words nonword drift mean and std:\n",
      "2.420126676567076 0.17366758608714541\n"
     ]
    }
   ],
   "source": [
    "print('LF words word drift mean and std:')\n",
    "print(np.mean(np.mean(LF_condition_w, axis=1)), np.std(np.mean(LF_condition_w, axis=1)))\n",
    "print('LF words nonword drift mean and std:')\n",
    "print(np.mean(np.mean(LF_condition_nw, axis=1)), np.std(np.mean(LF_condition_nw, axis=1)))"
   ]
  },
  {
   "cell_type": "code",
   "execution_count": 44,
   "id": "fd0eed7f",
   "metadata": {
    "colab": {
     "background_save": true
    },
    "id": "5000a3ea-dd3f-4dff-8dd3-b2acf4f9f238"
   },
   "outputs": [
    {
     "name": "stdout",
     "output_type": "stream",
     "text": [
      "NW words word drift mean and std:\n",
      "0.9656770069597842 0.15154023367511274\n",
      "NW words nonword drift mean and std:\n",
      "4.192485564348274 0.13577010337448137\n"
     ]
    }
   ],
   "source": [
    "print('NW words word drift mean and std:')\n",
    "print(np.mean(np.mean(NW_condition_w, axis=1)), np.std(np.mean(NW_condition_w, axis=1)))\n",
    "print('NW words nonword drift mean and std:')\n",
    "print(np.mean(np.mean(NW_condition_nw, axis=1)), np.std(np.mean(NW_condition_nw, axis=1)))"
   ]
  },
  {
   "cell_type": "code",
   "execution_count": 45,
   "id": "84308d46-e368-491f-8532-0f2b7b4f9966",
   "metadata": {
    "colab": {
     "background_save": true
    },
    "id": "3a247d68-c3af-49ef-91fd-ba4ea221358d"
   },
   "outputs": [],
   "source": [
    "HF_condition_w = threshold_t_word[:, behavioural_df['category']==\"HF\"]\n",
    "HF_condition_nw = threshold_t_nonword[:, behavioural_df['category']==\"HF\"]\n",
    "LF_condition_w = threshold_t_word[:, behavioural_df['category']==\"LF\"]\n",
    "LF_condition_nw = threshold_t_nonword[:, behavioural_df['category']==\"LF\"]\n",
    "NW_condition_w = threshold_t_word[:, behavioural_df['category']==\"NW\"]\n",
    "NW_condition_nw = threshold_t_nonword[:, behavioural_df['category']==\"NW\"]"
   ]
  },
  {
   "cell_type": "code",
   "execution_count": 46,
   "id": "f9d462da-a2d7-403e-9e79-1bcfd84251db",
   "metadata": {
    "colab": {
     "background_save": true
    },
    "id": "deac1183-5610-4a19-8ff8-7bace8d12e7c"
   },
   "outputs": [
    {
     "name": "stdout",
     "output_type": "stream",
     "text": [
      "HF words, word threshold mean and std:\n",
      "1.4903631582836934 0.07976575620863337\n",
      "HF words, nonword threshold mean and std:\n",
      "2.139682768714901 0.09976627391679652\n"
     ]
    }
   ],
   "source": [
    "print('HF words, word threshold mean and std:')\n",
    "print(np.mean(np.mean(HF_condition_w, axis=1)), np.std(np.mean(HF_condition_w, axis=1)))\n",
    "print('HF words, nonword threshold mean and std:')\n",
    "print(np.mean(np.mean(HF_condition_nw, axis=1)), np.std(np.mean(HF_condition_nw, axis=1)))"
   ]
  },
  {
   "cell_type": "code",
   "execution_count": 47,
   "id": "35be809a-7d17-41d2-9b3c-d37ce32b9e94",
   "metadata": {
    "colab": {
     "background_save": true
    },
    "id": "b2e382de-87bf-4a1d-a4b9-1fc80548eacf"
   },
   "outputs": [
    {
     "name": "stdout",
     "output_type": "stream",
     "text": [
      "LF words word threshold mean and std:\n",
      "1.4713383232385835 0.08036289405985939\n",
      "LF words nonword threshold mean and std:\n",
      "2.122344939173802 0.0995551288381507\n"
     ]
    }
   ],
   "source": [
    "print('LF words word threshold mean and std:')\n",
    "print(np.mean(np.mean(LF_condition_w, axis=1)), np.std(np.mean(LF_condition_w, axis=1)))\n",
    "print('LF words nonword threshold mean and std:')\n",
    "print(np.mean(np.mean(LF_condition_nw, axis=1)), np.std(np.mean(LF_condition_nw, axis=1)))"
   ]
  },
  {
   "cell_type": "code",
   "execution_count": 48,
   "id": "4e1414c2-0d9d-49a1-bb16-77502b985e78",
   "metadata": {
    "colab": {
     "background_save": true
    },
    "id": "5000a3ea-dd3f-4dff-8dd3-b2acf4f9f238"
   },
   "outputs": [
    {
     "name": "stdout",
     "output_type": "stream",
     "text": [
      "NW words word threshold mean and std:\n",
      "1.4765346581981351 0.08010610969355361\n",
      "NW words nonword threshold mean and std:\n",
      "2.1261759489104186 0.09942588632399234\n"
     ]
    }
   ],
   "source": [
    "print('NW words word threshold mean and std:')\n",
    "print(np.mean(np.mean(NW_condition_w, axis=1)), np.std(np.mean(NW_condition_w, axis=1)))\n",
    "print('NW words nonword threshold mean and std:')\n",
    "print(np.mean(np.mean(NW_condition_nw, axis=1)), np.std(np.mean(NW_condition_nw, axis=1)))"
   ]
  },
  {
   "cell_type": "code",
   "execution_count": 49,
   "id": "914e74a9",
   "metadata": {
    "colab": {
     "background_save": true
    },
    "id": "06aceb06-2f53-47ae-b0f8-68d0c96f3cbf"
   },
   "outputs": [],
   "source": [
    "HF_condition = ndt_t[:, behavioural_df['category']==\"HF\"]\n",
    "LF_condition = ndt_t[:, behavioural_df['category']==\"LF\"]\n",
    "NW_condition = ndt_t[:, behavioural_df['category']==\"NW\"]"
   ]
  },
  {
   "cell_type": "code",
   "execution_count": 50,
   "id": "1eacfbe0",
   "metadata": {
    "colab": {
     "background_save": true
    },
    "id": "c7ff4f51-0587-4f7a-bf79-7bc1fe0951e2"
   },
   "outputs": [
    {
     "name": "stdout",
     "output_type": "stream",
     "text": [
      "HF words ndt_t mean and std:\n",
      "0.2334371449537949 0.013315075530052662\n"
     ]
    }
   ],
   "source": [
    "print('HF words ndt_t mean and std:')\n",
    "print(np.mean(np.mean(HF_condition, axis=1)), np.std(np.mean(HF_condition, axis=1)))"
   ]
  },
  {
   "cell_type": "code",
   "execution_count": 51,
   "id": "b084b873",
   "metadata": {
    "colab": {
     "background_save": true
    },
    "id": "cb6c1af9-e52c-4247-9b63-7c1eadffb620"
   },
   "outputs": [
    {
     "name": "stdout",
     "output_type": "stream",
     "text": [
      "LF words ndt_t mean and std:\n",
      "0.23466307352702573 0.013075896814602727\n"
     ]
    }
   ],
   "source": [
    "print('LF words ndt_t mean and std:')\n",
    "print(np.mean(np.mean(LF_condition, axis=1)), np.std(np.mean(LF_condition, axis=1)))"
   ]
  },
  {
   "cell_type": "code",
   "execution_count": 52,
   "id": "191321f1",
   "metadata": {
    "colab": {
     "background_save": true
    },
    "id": "8c41e49e-4801-43c1-b700-9721d9f719c9"
   },
   "outputs": [
    {
     "name": "stdout",
     "output_type": "stream",
     "text": [
      "Non Words ndt_t mean and std:\n",
      "0.2330114155994384 0.013209964640963438\n"
     ]
    }
   ],
   "source": [
    "print('Non Words ndt_t mean and std:')\n",
    "print(np.mean(np.mean(NW_condition, axis=1)), np.std(np.mean(NW_condition, axis=1)))"
   ]
  },
  {
   "cell_type": "markdown",
   "id": "3d64f181-de50-4bec-ad6a-9f0c7c95cea5",
   "metadata": {},
   "source": [
    "## Calculating metrics"
   ]
  },
  {
   "cell_type": "code",
   "execution_count": 53,
   "id": "b018e8df-553d-42b4-833c-d2f967b17ed1",
   "metadata": {},
   "outputs": [],
   "source": [
    "def calculate_waic(log_likelihood, pointwise=False):\n",
    "    \"\"\"\n",
    "    Returns model comparisions' metrics.\n",
    "    \n",
    "    Parameters\n",
    "    ----------\n",
    "        log_likelihood: np.array\n",
    "            log_likelihood of each trial\n",
    "        max_rt: float\n",
    "            maximum acceptable rt\n",
    "        min_rt: float\n",
    "             minimum acceptable rt\n",
    "             \n",
    "    Optional Parameters\n",
    "    ----------------\n",
    "    pointwise: float\n",
    "        if true pointwise waic will be calculated\n",
    "        \n",
    "    Returns\n",
    "    -------\n",
    "        out:  a dictionary containing lppd, waic, waic_se and pointwise_waic    \n",
    "    \"\"\"\n",
    "    likelihood = np.exp(log_likelihood)\n",
    "\n",
    "    mean_l = np.mean(likelihood, axis=0) # N observations\n",
    "\n",
    "    pointwise_lppd = np.log(mean_l)\n",
    "    lppd = np.sum(pointwise_lppd)\n",
    "\n",
    "    pointwise_var_l = np.var(log_likelihood, axis=0) # N observations\n",
    "    var_l = np.sum(pointwise_var_l)\n",
    "\n",
    "    pointwise_waic = - 2*pointwise_lppd +  2*pointwise_var_l\n",
    "    waic = -2*lppd + 2*var_l\n",
    "    waic_se = np.sqrt(log_likelihood.shape[1] * np.var(pointwise_waic))\n",
    "\n",
    "    if pointwise:\n",
    "        out = {'lppd':lppd,\n",
    "               'p_waic':var_l,\n",
    "               'waic':waic,\n",
    "               'waic_se':waic_se,\n",
    "               'pointwise_waic':pointwise_waic}\n",
    "    else:\n",
    "        out = {'lppd':lppd,\n",
    "               'p_waic':var_l,\n",
    "                'waic':waic,\n",
    "                'waic_se':waic_se}\n",
    "    return out"
   ]
  },
  {
   "cell_type": "code",
   "execution_count": 54,
   "id": "9beabf75-4cb8-49dc-b604-9f0adf32dfe4",
   "metadata": {},
   "outputs": [
    {
     "data": {
      "text/plain": [
       "{'lppd': 303.06027632872247,\n",
       " 'p_waic': 50.32766552370701,\n",
       " 'waic': -505.4652216100309,\n",
       " 'waic_se': 107.99050932469716}"
      ]
     },
     "execution_count": 54,
     "metadata": {},
     "output_type": "execute_result"
    }
   ],
   "source": [
    "log_likelihood = fit['log_lik']\n",
    "calculate_waic(log_likelihood)"
   ]
  },
  {
   "cell_type": "markdown",
   "id": "5a23772b-94de-40e6-88d6-f5a6aaefab64",
   "metadata": {},
   "source": [
    "## Simulating RDM with estimated parameters"
   ]
  },
  {
   "cell_type": "code",
   "execution_count": 55,
   "id": "737be2f5-fd9f-432a-a42f-c8bc89a28c7a",
   "metadata": {},
   "outputs": [],
   "source": [
    "def random_rdm_2A(cor_drift, inc_drift, threshold_word, threshold_nonword, ndt, noise_constant=1, dt=0.001, max_rt=10):\n",
    "    \"\"\" \n",
    "    Simulates behavior (rt and accuracy) according to the Racing Diffusion Model.\n",
    "     \n",
    "    Parameters\n",
    "    ----------\n",
    "    cor_drift : numpy.ndarray\n",
    "        Drift-rate of the Racing Diffusion Model - correct trials.\n",
    "    inc_drift : numpy.ndarray\n",
    "        Drift-rate of the Racing Diffusion Model - incorrect trials.\n",
    "    threshold : numpy.ndarray\n",
    "        Shape is usually (n_samples, n_trials).\n",
    "        Threshold of the diffusion decision model.\n",
    "    ndt : numpy.ndarray\n",
    "        Shape is usually (n_samples, n_trials).\n",
    "        Non decision time of the diffusion decision model, in seconds.\n",
    "    \n",
    "    Optional Parameters\n",
    "    ----------------\n",
    "    noise_constant : float, default 1\n",
    "        Scaling factor of the Racing Diffusion Model.\n",
    "        If changed, drift and threshold would be scaled accordingly.\n",
    "        Not to be changed in most applications.\n",
    "    dt : float, default 0.001\n",
    "        Controls the time resolution of the Racing Diffusion Model. Default is 1 msec.\n",
    "        Lower values of dt make the function more precise but much slower.\n",
    "    max_rt : float, default 10\n",
    "        Controls the maximum rts that can be predicted.\n",
    "        Making this higher might make the function a bit slower.\n",
    "    \n",
    "    Returns\n",
    "    -------\n",
    "    rt : numpy.ndarray\n",
    "        Shape is the same as the input parameters.\n",
    "        Contains simulated response times according to the Racing Diffusion Model.\n",
    "        Every element corresponds to the set of parameters given as input with the same shape.\n",
    "    acc: numpy.ndarray\n",
    "        Shape is the same as the input parameters.\n",
    "        Contains simulated accuracy according to the Racing Diffusion Model.\n",
    "        Every element corresponds to the set of parameters given as input with the same shape.\n",
    "    \"\"\"\n",
    "    shape = cor_drift.shape\n",
    "    acc = np.empty(shape)\n",
    "    rt = np.empty(shape)\n",
    "    acc[:] = np.nan\n",
    "    rt[:] = np.nan\n",
    "\n",
    "    max_tsteps = max_rt/dt\n",
    "\n",
    "    x_cor = np.zeros(shape)\n",
    "    x_inc = np.zeros(shape)\n",
    "\n",
    "    tstep = 0\n",
    "    ongoing = np.array(np.ones(shape), dtype=bool)\n",
    "\n",
    "    stop_race = False\n",
    "\n",
    "    while np.sum(ongoing) > 0 and tstep < max_tsteps:\n",
    "        x_cor[ongoing] += np.random.normal(cor_drift[ongoing]*dt,\n",
    "                                           noise_constant*np.sqrt(dt),\n",
    "                                           np.sum(ongoing))\n",
    "        x_inc[ongoing] += np.random.normal(inc_drift[ongoing]*dt,\n",
    "                                           noise_constant*np.sqrt(dt),\n",
    "                                           np.sum(ongoing))\n",
    "        tstep += 1\n",
    "        ended_correct = (x_cor >= threshold_word)\n",
    "        ended_incorrect = (x_inc >= threshold_nonword)\n",
    "\n",
    "        # store results and filter out ended trials\n",
    "        if np.sum(ended_correct) > 0:\n",
    "            acc[np.logical_and(ended_correct, ongoing)] = 1\n",
    "            rt[np.logical_and(ended_correct, ongoing)] = dt*tstep + ndt[np.logical_and(ended_correct, ongoing)]\n",
    "            ongoing[ended_correct] = False\n",
    "\n",
    "        if np.sum(ended_incorrect) > 0:\n",
    "            acc[np.logical_and(ended_incorrect, ongoing)] = 0\n",
    "            rt[np.logical_and(ended_incorrect, ongoing)] = dt*tstep + ndt[np.logical_and(ended_incorrect, ongoing)]\n",
    "            ongoing[ended_incorrect] = False\n",
    "    return rt, acc"
   ]
  },
  {
   "cell_type": "markdown",
   "id": "b867e05c-ebda-4bc3-ae51-e340e337344f",
   "metadata": {},
   "source": [
    "Simulating RDM with estimated parameters"
   ]
  },
  {
   "cell_type": "code",
   "execution_count": 56,
   "id": "f6786ed3-265f-4698-9a37-75d19e125806",
   "metadata": {},
   "outputs": [],
   "source": [
    "pp_rt, pp_response = random_rdm_2A(drift_word_t, drift_nonword_t, threshold_t_word, threshold_t_nonword, ndt_t, noise_constant=1, dt=0.001, max_rt=5)"
   ]
  },
  {
   "cell_type": "code",
   "execution_count": 57,
   "id": "c7183cf1-fc0e-436b-b607-9d821ef736f2",
   "metadata": {},
   "outputs": [],
   "source": [
    "def bci(x, alpha=0.05):\n",
    "    \"\"\"\n",
    "    Calculate Bayesian credible interval (BCI).\n",
    "    \n",
    "    Parameters\n",
    "    ----------\n",
    "    x : array-like\n",
    "        An array containing MCMC samples.\n",
    "    \n",
    "    Optional Parameters\n",
    "    -------------------\n",
    "    alpha : float, default 0.05\n",
    "        Desired probability of type I error.\n",
    "    \n",
    "    Returns\n",
    "    -------\n",
    "    interval : numpy.ndarray\n",
    "        Array containing the lower and upper bounds of the bci interval.\n",
    "    \"\"\"\n",
    "    interval = np.nanpercentile(x, [(alpha/2)*100, (1-alpha/2)*100])\n",
    "\n",
    "    return interval"
   ]
  },
  {
   "cell_type": "code",
   "execution_count": 58,
   "id": "b235c705-7301-4c3c-b906-5979789d606f",
   "metadata": {},
   "outputs": [],
   "source": [
    "# Predicted Data\n",
    "rt_predictions = pd.concat((pd.DataFrame(pp_rt, index=pd.Index(np.arange(1, len(pp_rt)+1))).T, behavioural_df['category']), axis=1)\n",
    "response_predictions = pd.concat((pd.DataFrame(pp_response, index=pd.Index(np.arange(1, len(pp_response)+1))).T, behavioural_df['category']), axis=1)\n",
    "\n",
    "# Experiment Data\n",
    "experiment_data = behavioural_df.loc[:, ['rt', 'response', 'category']]"
   ]
  },
  {
   "cell_type": "markdown",
   "id": "7fdd192d-bac0-4fdc-afd2-148b6a9ae332",
   "metadata": {},
   "source": [
    "Separating RT and Response of predicted and experimental data for each condition"
   ]
  },
  {
   "cell_type": "code",
   "execution_count": 59,
   "id": "cffd58c1-f474-4c7c-85d6-f26b16c77859",
   "metadata": {},
   "outputs": [],
   "source": [
    "HF_data = experiment_data.loc[experiment_data['category']=='HF']\n",
    "LF_data = experiment_data.loc[experiment_data['category']=='LF']\n",
    "NW_data = experiment_data.loc[experiment_data['category']=='NW']\n",
    "\n",
    "HF_pred_rt = rt_predictions.loc[rt_predictions['category']=='HF']\n",
    "HF_pred_resp = response_predictions.loc[response_predictions['category']=='HF']\n",
    "LF_pred_rt = rt_predictions.loc[rt_predictions['category']=='LF']\n",
    "LF_pred_resp = response_predictions.loc[response_predictions['category']=='LF']\n",
    "NW_pred_rt = rt_predictions.loc[rt_predictions['category']=='NW']\n",
    "NW_pred_resp = response_predictions.loc[response_predictions['category']=='NW']"
   ]
  },
  {
   "cell_type": "markdown",
   "id": "bc68071a-3121-47da-94c5-bae5db334c5c",
   "metadata": {
    "id": "defea622-f638-4a0e-a269-937234d4a49f",
    "tags": []
   },
   "source": [
    "## Quantiles Posterior Predictions"
   ]
  },
  {
   "cell_type": "code",
   "execution_count": 60,
   "id": "4378eb36-76cc-4a39-b2ed-643addccbc4d",
   "metadata": {},
   "outputs": [],
   "source": [
    "quantiles = [.1, .3, .5, .7, .9]\n",
    "percentiles = np.array(quantiles)*100"
   ]
  },
  {
   "cell_type": "code",
   "execution_count": 61,
   "id": "96001a51-55af-4f25-93c4-cdcc00556eb5",
   "metadata": {},
   "outputs": [],
   "source": [
    "# experiment Data quantile\n",
    "HF_quantile_ex = HF_data['rt'].quantile(quantiles)\n",
    "LF_quantile_ex = LF_data['rt'].quantile(quantiles)\n",
    "NW_quantile_ex = NW_data['rt'].quantile(quantiles)\n",
    "\n",
    "# predicted data quantiles (for each sample)\n",
    "HF_quantile_pred = HF_pred_rt.quantile(quantiles, axis=0).T\n",
    "LF_quantile_pred = LF_pred_rt.quantile(quantiles, axis=0).T\n",
    "NW_quantile_pred = NW_pred_rt.quantile(quantiles, axis=0).T\n",
    "\n",
    "# predicted data quantiles bci\n",
    "HF_predicted_bci = np.array([bci(HF_quantile_pred[x]) for x in quantiles])\n",
    "LF_predicted_bci = np.array([bci(LF_quantile_pred[x]) for x in quantiles])\n",
    "NW_predicted_bci = np.array([bci(NW_quantile_pred[x]) for x in quantiles])"
   ]
  },
  {
   "cell_type": "code",
   "execution_count": 62,
   "id": "3e40fa75-a52a-45f9-8f44-b6097ff621e7",
   "metadata": {},
   "outputs": [
    {
     "data": {
      "image/png": "[encoded data removed]",
      "text/plain": [
       "<Figure size 2520x576 with 3 Axes>"
      ]
     },
     "metadata": {},
     "output_type": "display_data"
    }
   ],
   "source": [
    "fig, axes = plt.subplots(1,3 , figsize=(35,8))\n",
    "plt.subplots_adjust(wspace=0.5, hspace=0.5)\n",
    "\n",
    "axes[0].set_title('HF quantiles')\n",
    "axes[1].set_title('LF quantiles')\n",
    "axes[2].set_title('NW quantiles')\n",
    "\n",
    "axes[0].scatter(quantiles, HF_quantile_ex, color='blue', s=100)\n",
    "axes[1].scatter(quantiles, LF_quantile_ex, color='yellow', s=100)\n",
    "axes[2].scatter(quantiles, NW_quantile_ex, color='green', s=100)\n",
    "\n",
    "axes[0].fill_between(quantiles,\n",
    "                HF_predicted_bci[:, 0],\n",
    "                HF_predicted_bci[:, 1],\n",
    "                HF_predicted_bci[:, 0] < HF_predicted_bci[:, 1],  color = 'red', alpha=0.2)\n",
    "\n",
    "axes[1].fill_between(quantiles,\n",
    "                LF_predicted_bci[:, 0],\n",
    "                LF_predicted_bci[:, 1],\n",
    "                LF_predicted_bci[:, 0] < LF_predicted_bci[:, 1],  color = 'blue', alpha=0.2)\n",
    "\n",
    "axes[2].fill_between(quantiles,\n",
    "                NW_predicted_bci[:, 0],\n",
    "                NW_predicted_bci[:, 1],\n",
    "                NW_predicted_bci[:, 0] < NW_predicted_bci[:, 1],  color = 'green', alpha=0.2)\n",
    "\n",
    "\n",
    "for ax in axes:\n",
    "        ax.set_xlabel('Quantiles')\n",
    "        ax.set_xticks(quantiles)\n",
    "        ax.set_xticklabels(quantiles)\n",
    "        ax.set_ylabel('RTs upper boundary')\n",
    "\n",
    "sns.despine()\n",
    "plt.savefig(plots_path + 'Quantiles Poseterior')"
   ]
  },
  {
   "cell_type": "markdown",
   "id": "9d335303-115f-4be3-b5b9-44db89033c76",
   "metadata": {
    "tags": []
   },
   "source": [
    "## Mean Accuracy and RT Posterior Plots"
   ]
  },
  {
   "cell_type": "code",
   "execution_count": 63,
   "id": "9d60fb04-d913-45b7-aa6b-86aac6e69dfb",
   "metadata": {},
   "outputs": [],
   "source": [
    "HF_data_rt_mean = HF_data['rt'].mean()\n",
    "LF_data_rt_mean = LF_data['rt'].mean()\n",
    "NW_data_rt_mean = NW_data['rt'].mean()\n",
    "\n",
    "HF_pred_rt_mean = HF_pred_rt.mean(axis=0)\n",
    "LF_pred_rt_mean = LF_pred_rt.mean(axis=0)\n",
    "NW_pred_rt_mean = NW_pred_rt.mean(axis=0)\n",
    "\n",
    "\n",
    "HF_data_resp_mean = HF_data['response'].mean()\n",
    "LF_data_resp_mean = LF_data['response'].mean()\n",
    "NW_data_resp_mean = NW_data['response'].mean()\n",
    "\n",
    "HF_pred_resp_mean = HF_pred_resp.mean(axis=0)\n",
    "LF_pred_resp_mean = LF_pred_resp.mean(axis=0)\n",
    "NW_pred_resp_mean = NW_pred_resp.mean(axis=0)\n"
   ]
  },
  {
   "cell_type": "code",
   "execution_count": 64,
   "id": "b28be60d-fa47-4f5b-bb8e-3e9ea312239c",
   "metadata": {},
   "outputs": [],
   "source": [
    "def plot_posterior(x, data_mean, ax):\n",
    "    \"\"\"\n",
    "    Plots the posterior of x with experimental data mean as a line\n",
    "    \n",
    "    Parameters\n",
    "    ----------\n",
    "    x : array-like\n",
    "        An array containing RT or response for each trial.\n",
    "        \n",
    "    x : float\n",
    "        mean of RT or Accuracy of experimental data.\n",
    "\n",
    "    ax : matplotlib.axes.Axes\n",
    "        \n",
    "    Returns\n",
    "    -------\n",
    "    None\n",
    "    \"\"\"\n",
    "    density = gaussian_kde(x, bw_method='scott')\n",
    "    xd = np.linspace(x.min(), x.max())\n",
    "    yd = density(xd)\n",
    "\n",
    "    low, high = bci(x)\n",
    "    ax.fill_between(xd[np.logical_and(xd >= low, xd <= high)],\n",
    "                     yd[np.logical_and(xd >= low, xd <= high)])\n",
    "\n",
    "    ax.plot(xd, yd)\n",
    "    ax.axvline(data_mean, color='red')"
   ]
  },
  {
   "cell_type": "code",
   "execution_count": null,
   "id": "e60ee9b7-ea0d-4ef3-8ba8-8591e9bb437c",
   "metadata": {},
   "outputs": [],
   "source": [
    "fig, axes = plt.subplots(3,2 , figsize=(15,15))\n",
    "plt.subplots_adjust(wspace=0.5, hspace=0.5)\n",
    "\n",
    "axes[0][0].set_title('HF mean RT')\n",
    "axes[0][1].set_title('HF mean Response')\n",
    "axes[1][0].set_title('LF mean RT')\n",
    "axes[1][1].set_title('LF mean Response')\n",
    "axes[2][0].set_title('NW mean RT')\n",
    "axes[2][1].set_title('NW mean Response')\n",
    "\n",
    "plot_posterior(HF_pred_rt_mean, HF_data_rt_mean, axes[0][0])\n",
    "plot_posterior(HF_pred_resp_mean, HF_data_resp_mean, axes[0][1])\n",
    "\n",
    "plot_posterior(LF_pred_rt_mean, LF_data_rt_mean, axes[1][0])\n",
    "plot_posterior(LF_pred_resp_mean, LF_data_resp_mean, axes[1][1])\n",
    "\n",
    "plot_posterior(NW_pred_rt_mean, NW_data_rt_mean, axes[2][0])\n",
    "plot_posterior(NW_pred_resp_mean, NW_data_resp_mean, axes[2][1])\n",
    "\n",
    "plt.savefig(plots_path + 'Mean Accuracy and RT')"
   ]
  }
 ],
 "metadata": {
  "colab": {
   "collapsed_sections": [],
   "name": "Estimation_Hier.ipynb",
   "version": ""
  },
  "kernelspec": {
   "display_name": "ANNDDM",
   "language": "python",
   "name": "annddm"
  },
  "language_info": {
   "codemirror_mode": {
    "name": "ipython",
    "version": 3
   },
   "file_extension": ".py",
   "mimetype": "text/x-python",
   "name": "python",
   "nbconvert_exporter": "python",
   "pygments_lexer": "ipython3",
   "version": "3.7.10"
  }
 },
 "nbformat": 4,
 "nbformat_minor": 5
}

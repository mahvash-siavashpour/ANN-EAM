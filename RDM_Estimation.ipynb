{
 "cells": [
  {
   "cell_type": "markdown",
   "id": "dbf5ed11-783c-476d-b190-95c7356783ca",
   "metadata": {},
   "source": [
    "## Setting file paths"
   ]
  },
  {
   "cell_type": "markdown",
   "id": "4033aec0-1a29-4288-9d01-314bbedae399",
   "metadata": {},
   "source": [
    "#### RDM Model "
   ]
  },
  {
   "cell_type": "code",
   "execution_count": 1,
   "id": "b293a760",
   "metadata": {
    "executionInfo": {
     "elapsed": 3132,
     "status": "ok",
     "timestamp": 1651313245379,
     "user": {
      "displayName": "Arash Dadras",
      "userId": "05722346836148265544"
     },
     "user_tz": -270
    },
    "id": "9f9375de-32ee-4410-b62e-6e0bb33b716b"
   },
   "outputs": [],
   "source": [
    "root = './'\n",
    "plots_root = root + 'Plots/'\n",
    "datasets_root = root + 'Datasets/'\n",
    "behavioural_data_root = root +  'behavioral_data/selected_data/' \n",
    "stan_files_root = root +  'stan files/' \n",
    "saved_models_root = root + 'stan_results/'\n",
    "\n",
    "plots_folder_name = 'RDM/'\n",
    "dataset_name = 'fastText_subtlex_FT.csv'\n",
    "stan_file_name = 'RDM_hier_3d.stan'\n",
    "saved_model_name = '3D'\n",
    "\n",
    "plots_path = plots_root + plots_folder_name\n",
    "dataset_path = datasets_root + dataset_name\n",
    "stan_file_path = stan_files_root + stan_file_name\n",
    "saved_model_path = saved_models_root + saved_model_name + '_RDM'  + '.pkl'"
   ]
  },
  {
   "cell_type": "markdown",
   "id": "e62ec4f7",
   "metadata": {
    "id": "04ab4fbd-f191-427a-a2e4-db4ff76fa385"
   },
   "source": [
    "## Importing Packages"
   ]
  },
  {
   "cell_type": "code",
   "execution_count": 2,
   "id": "5816c3bf",
   "metadata": {
    "executionInfo": {
     "elapsed": 3102,
     "status": "ok",
     "timestamp": 1651313252929,
     "user": {
      "displayName": "Arash Dadras",
      "userId": "05722346836148265544"
     },
     "user_tz": -270
    },
    "id": "42e504d1-66bf-459a-bdee-ef0f268a7b81"
   },
   "outputs": [],
   "source": [
    "import numpy as np\n",
    "import pandas as pd\n",
    "import cmdstanpy \n",
    "import pickle\n",
    "import matplotlib.pyplot as plt\n",
    "import seaborn as sns\n",
    "import arviz as az\n",
    "\n",
    "from scipy.stats import gaussian_kde"
   ]
  },
  {
   "cell_type": "code",
   "execution_count": 3,
   "id": "49c4c972-c98d-4af8-bc2c-77a913eb654b",
   "metadata": {},
   "outputs": [],
   "source": [
    "sns.set_theme(style=\"whitegrid\")\n",
    "plt.rcParams[\"font.family\"] = \"serif\"\n",
    "plt.rcParams[\"font.serif\"] = [\"Times New Roman\"] + plt.rcParams[\"font.serif\"]\n",
    "plt.rcParams['pdf.fonttype'] = 42\n",
    "plt.rcParams['pdf.use14corefonts'] = True"
   ]
  },
  {
   "cell_type": "markdown",
   "id": "00e617f6",
   "metadata": {
    "id": "123c4809-7b46-4f8d-b578-0d5e9fb5fbe7"
   },
   "source": [
    "## Prepare data"
   ]
  },
  {
   "cell_type": "markdown",
   "id": "13d41247-a08b-4710-a8cb-006ca5ace314",
   "metadata": {},
   "source": [
    "Loading words and non-words with zipf and predicted probabilities"
   ]
  },
  {
   "cell_type": "code",
   "execution_count": 4,
   "id": "5e6417ff",
   "metadata": {
    "colab": {
     "base_uri": "https://localhost:8080/",
     "height": 0
    },
    "executionInfo": {
     "elapsed": 61,
     "status": "ok",
     "timestamp": 1651313252934,
     "user": {
      "displayName": "Arash Dadras",
      "userId": "05722346836148265544"
     },
     "user_tz": -270
    },
    "id": "72172233-0e82-4058-8a5c-8657e9fe4693",
    "outputId": "35336463-3bb2-41e5-c84f-7c34fdcfc77d",
    "tags": []
   },
   "outputs": [
    {
     "data": {
      "text/html": [
       "<div>\n",
       "<style scoped>\n",
       "    .dataframe tbody tr th:only-of-type {\n",
       "        vertical-align: middle;\n",
       "    }\n",
       "\n",
       "    .dataframe tbody tr th {\n",
       "        vertical-align: top;\n",
       "    }\n",
       "\n",
       "    .dataframe thead th {\n",
       "        text-align: right;\n",
       "    }\n",
       "</style>\n",
       "<table border=\"1\" class=\"dataframe\">\n",
       "  <thead>\n",
       "    <tr style=\"text-align: right;\">\n",
       "      <th></th>\n",
       "      <th>string</th>\n",
       "      <th>freq</th>\n",
       "      <th>label</th>\n",
       "      <th>zipf</th>\n",
       "      <th>category</th>\n",
       "      <th>word_prob</th>\n",
       "      <th>non_word_prob</th>\n",
       "    </tr>\n",
       "  </thead>\n",
       "  <tbody>\n",
       "    <tr>\n",
       "      <th>0</th>\n",
       "      <td>cornbread</td>\n",
       "      <td>140</td>\n",
       "      <td>1</td>\n",
       "      <td>2.963932</td>\n",
       "      <td>LF</td>\n",
       "      <td>9.994057e-01</td>\n",
       "      <td>0.000594</td>\n",
       "    </tr>\n",
       "    <tr>\n",
       "      <th>1</th>\n",
       "      <td>pains</td>\n",
       "      <td>2259</td>\n",
       "      <td>1</td>\n",
       "      <td>3.723198</td>\n",
       "      <td>HF</td>\n",
       "      <td>9.999964e-01</td>\n",
       "      <td>0.000004</td>\n",
       "    </tr>\n",
       "    <tr>\n",
       "      <th>2</th>\n",
       "      <td>quivers</td>\n",
       "      <td>84</td>\n",
       "      <td>1</td>\n",
       "      <td>2.467925</td>\n",
       "      <td>LF</td>\n",
       "      <td>9.949029e-01</td>\n",
       "      <td>0.005097</td>\n",
       "    </tr>\n",
       "    <tr>\n",
       "      <th>3</th>\n",
       "      <td>cutback</td>\n",
       "      <td>67</td>\n",
       "      <td>1</td>\n",
       "      <td>2.547107</td>\n",
       "      <td>LF</td>\n",
       "      <td>9.994540e-01</td>\n",
       "      <td>0.000546</td>\n",
       "    </tr>\n",
       "    <tr>\n",
       "      <th>4</th>\n",
       "      <td>pourn</td>\n",
       "      <td>0</td>\n",
       "      <td>0</td>\n",
       "      <td>0.000000</td>\n",
       "      <td>NW</td>\n",
       "      <td>7.554672e-06</td>\n",
       "      <td>0.999992</td>\n",
       "    </tr>\n",
       "    <tr>\n",
       "      <th>...</th>\n",
       "      <td>...</td>\n",
       "      <td>...</td>\n",
       "      <td>...</td>\n",
       "      <td>...</td>\n",
       "      <td>...</td>\n",
       "      <td>...</td>\n",
       "      <td>...</td>\n",
       "    </tr>\n",
       "    <tr>\n",
       "      <th>74312</th>\n",
       "      <td>beacan</td>\n",
       "      <td>0</td>\n",
       "      <td>0</td>\n",
       "      <td>0.000000</td>\n",
       "      <td>NW</td>\n",
       "      <td>1.223383e-08</td>\n",
       "      <td>1.000000</td>\n",
       "    </tr>\n",
       "    <tr>\n",
       "      <th>74313</th>\n",
       "      <td>unsold</td>\n",
       "      <td>255</td>\n",
       "      <td>1</td>\n",
       "      <td>2.194924</td>\n",
       "      <td>LF</td>\n",
       "      <td>9.999645e-01</td>\n",
       "      <td>0.000035</td>\n",
       "    </tr>\n",
       "    <tr>\n",
       "      <th>74314</th>\n",
       "      <td>imitating</td>\n",
       "      <td>469</td>\n",
       "      <td>1</td>\n",
       "      <td>3.260317</td>\n",
       "      <td>HF</td>\n",
       "      <td>9.998357e-01</td>\n",
       "      <td>0.000164</td>\n",
       "    </tr>\n",
       "    <tr>\n",
       "      <th>74315</th>\n",
       "      <td>evidence</td>\n",
       "      <td>62334</td>\n",
       "      <td>1</td>\n",
       "      <td>4.928923</td>\n",
       "      <td>HF</td>\n",
       "      <td>9.994597e-01</td>\n",
       "      <td>0.000540</td>\n",
       "    </tr>\n",
       "    <tr>\n",
       "      <th>74316</th>\n",
       "      <td>vites</td>\n",
       "      <td>0</td>\n",
       "      <td>0</td>\n",
       "      <td>0.000000</td>\n",
       "      <td>NW</td>\n",
       "      <td>5.213175e-09</td>\n",
       "      <td>1.000000</td>\n",
       "    </tr>\n",
       "  </tbody>\n",
       "</table>\n",
       "<p>74317 rows × 7 columns</p>\n",
       "</div>"
      ],
      "text/plain": [
       "          string   freq  label      zipf category     word_prob  non_word_prob\n",
       "0      cornbread    140      1  2.963932       LF  9.994057e-01       0.000594\n",
       "1          pains   2259      1  3.723198       HF  9.999964e-01       0.000004\n",
       "2        quivers     84      1  2.467925       LF  9.949029e-01       0.005097\n",
       "3        cutback     67      1  2.547107       LF  9.994540e-01       0.000546\n",
       "4          pourn      0      0  0.000000       NW  7.554672e-06       0.999992\n",
       "...          ...    ...    ...       ...      ...           ...            ...\n",
       "74312     beacan      0      0  0.000000       NW  1.223383e-08       1.000000\n",
       "74313     unsold    255      1  2.194924       LF  9.999645e-01       0.000035\n",
       "74314  imitating    469      1  3.260317       HF  9.998357e-01       0.000164\n",
       "74315   evidence  62334      1  4.928923       HF  9.994597e-01       0.000540\n",
       "74316      vites      0      0  0.000000       NW  5.213175e-09       1.000000\n",
       "\n",
       "[74317 rows x 7 columns]"
      ]
     },
     "execution_count": 4,
     "metadata": {},
     "output_type": "execute_result"
    }
   ],
   "source": [
    "word_nword_df = pd.read_csv(dataset_path, header=None, names =['string', 'freq',  'label', 'zipf','category', 'word_prob', 'non_word_prob'])\n",
    "word_nword_df"
   ]
  },
  {
   "cell_type": "code",
   "execution_count": 5,
   "id": "8a061e32-1d3d-40c2-afcf-04de82e44ce5",
   "metadata": {},
   "outputs": [],
   "source": [
    "def remove_outliers(df, max_rt, min_rt, std_c=2.5):\n",
    "    \"\"\"\n",
    "    Returns remove outliers from dataframes. Outlier RTs are bigger than\n",
    "    max_rt and smaller than min_rt. Also RTsthat are out of -/+ (std_c * sd) \n",
    "    of mean RT interval are considered as outliers too.\n",
    "\n",
    "    Parameters\n",
    "    ----------\n",
    "        df: pandas dataframe with rt column\n",
    "        max_rt (float): maximum acceptable rt\n",
    "        min_rt (float): minimum acceptable rt\n",
    "        \n",
    "    Optional Parameters\n",
    "    ----------\n",
    "        std_c (float) : Optional\n",
    "            coefficient to define interval of non-outlier RTs\n",
    "    \n",
    "    Returns\n",
    "    -------\n",
    "        df: pandas dataframe without outliers  \n",
    "    \"\"\"\n",
    "    mean = df['rt'].mean()\n",
    "    sd = df['rt'].std()\n",
    "    lower_thr = mean - std_c*sd\n",
    "    upper_thr = mean + std_c*sd\n",
    "    min_bound = max(min_rt, lower_thr)\n",
    "    max_bound = min(max_rt, upper_thr)\n",
    "    df = df[df['rt'] >= min_bound]\n",
    "    df = df[df['rt'] <= max_bound]\n",
    "    return df"
   ]
  },
  {
   "cell_type": "markdown",
   "id": "07cf7c47-7fd4-4bdb-880b-5a52a2b7be4b",
   "metadata": {},
   "source": [
    "Reading and modifing each behavioral data file and combining all of them into a single behavioral dataframe"
   ]
  },
  {
   "cell_type": "code",
   "execution_count": 6,
   "id": "af1a914e",
   "metadata": {
    "executionInfo": {
     "elapsed": 56,
     "status": "ok",
     "timestamp": 1651313252936,
     "user": {
      "displayName": "Arash Dadras",
      "userId": "05722346836148265544"
     },
     "user_tz": -270
    },
    "id": "eb864830-ecb7-48f1-a071-f00173154216"
   },
   "outputs": [],
   "source": [
    "Number_Of_Participants = 5\n",
    "Number_Of_Trials = 400\n",
    "dataframes = []\n",
    "\n",
    "for i in range(Number_Of_Participants):\n",
    "    # Loading each file\n",
    "    df = pd.read_csv(behavioural_data_root + str(i+1) + \"DATA.LDT\", names=['trial', 'string_id', 'string_type', 'accuracy', 'rt', 'string'])\n",
    "    # Dropping non rows and first two rows that are demographic informations \n",
    "    df = df.dropna().drop('string_id', axis=1).drop([0, 1]).iloc[:Number_Of_Trials] \n",
    "    # Converting columns type to suitable data types\n",
    "    convert_dict = {'string_type': 'int16',\n",
    "                    'accuracy': 'int16',\n",
    "                    'rt': float\n",
    "                   }\n",
    "\n",
    "    df = df.astype(convert_dict)\n",
    "    # Convert RTs to seconds\n",
    "    df['rt'] = df['rt'].apply(lambda x: x/1000) \n",
    "    # Removing Outliers\n",
    "    df = remove_outliers(df, 3, .2, 2.5)\n",
    "    # Extracting response of participant from his/her accuracy\n",
    "    df['response'] = np.logical_not(np.logical_xor(df['string_type'], df['accuracy'])).astype('int')\n",
    "    df = df.reset_index(drop=True)\n",
    "    # Particpant number\n",
    "    df['participant'] = i+1\n",
    "    # Minimum RT of participant in all trials (is needed for stan code)\n",
    "    df['minRT'] = df['rt'].min()\n",
    "    dataframes.append(df)"
   ]
  },
  {
   "cell_type": "code",
   "execution_count": 7,
   "id": "4fb6266a",
   "metadata": {
    "executionInfo": {
     "elapsed": 56,
     "status": "ok",
     "timestamp": 1651313252938,
     "user": {
      "displayName": "Arash Dadras",
      "userId": "05722346836148265544"
     },
     "user_tz": -270
    },
    "id": "f37d4118-f2ea-4691-bff9-02f1ac1cebbc"
   },
   "outputs": [],
   "source": [
    "# Combining dataframes\n",
    "behavioural_df = pd.concat(dataframes)\n",
    "# Merging  behavioral dataframe with word_nonword_df to have words and non-words data with behavioral data\n",
    "behavioural_df = pd.merge(behavioural_df, word_nword_df, on='string', how='left').dropna().reset_index(drop=True)\n",
    "behavioural_df = behavioural_df.drop([\"trial\", \"string_type\", \"freq\"], axis=1)"
   ]
  },
  {
   "cell_type": "code",
   "execution_count": 8,
   "id": "07c791ac-26e5-4ee4-929e-379e1b3248df",
   "metadata": {},
   "outputs": [
    {
     "data": {
      "text/html": [
       "<div>\n",
       "<style scoped>\n",
       "    .dataframe tbody tr th:only-of-type {\n",
       "        vertical-align: middle;\n",
       "    }\n",
       "\n",
       "    .dataframe tbody tr th {\n",
       "        vertical-align: top;\n",
       "    }\n",
       "\n",
       "    .dataframe thead th {\n",
       "        text-align: right;\n",
       "    }\n",
       "</style>\n",
       "<table border=\"1\" class=\"dataframe\">\n",
       "  <thead>\n",
       "    <tr style=\"text-align: right;\">\n",
       "      <th></th>\n",
       "      <th>accuracy</th>\n",
       "      <th>rt</th>\n",
       "      <th>string</th>\n",
       "      <th>response</th>\n",
       "      <th>participant</th>\n",
       "      <th>minRT</th>\n",
       "      <th>label</th>\n",
       "      <th>zipf</th>\n",
       "      <th>category</th>\n",
       "      <th>word_prob</th>\n",
       "      <th>non_word_prob</th>\n",
       "    </tr>\n",
       "  </thead>\n",
       "  <tbody>\n",
       "    <tr>\n",
       "      <th>0</th>\n",
       "      <td>0</td>\n",
       "      <td>0.707</td>\n",
       "      <td>bookie</td>\n",
       "      <td>0</td>\n",
       "      <td>1</td>\n",
       "      <td>0.412</td>\n",
       "      <td>1.0</td>\n",
       "      <td>3.409105</td>\n",
       "      <td>HF</td>\n",
       "      <td>9.982517e-01</td>\n",
       "      <td>0.001748</td>\n",
       "    </tr>\n",
       "    <tr>\n",
       "      <th>1</th>\n",
       "      <td>1</td>\n",
       "      <td>0.769</td>\n",
       "      <td>gandbrake</td>\n",
       "      <td>0</td>\n",
       "      <td>1</td>\n",
       "      <td>0.412</td>\n",
       "      <td>0.0</td>\n",
       "      <td>0.000000</td>\n",
       "      <td>NW</td>\n",
       "      <td>3.736372e-08</td>\n",
       "      <td>1.000000</td>\n",
       "    </tr>\n",
       "    <tr>\n",
       "      <th>2</th>\n",
       "      <td>1</td>\n",
       "      <td>0.526</td>\n",
       "      <td>philosophical</td>\n",
       "      <td>1</td>\n",
       "      <td>1</td>\n",
       "      <td>0.412</td>\n",
       "      <td>1.0</td>\n",
       "      <td>3.205648</td>\n",
       "      <td>HF</td>\n",
       "      <td>9.968132e-01</td>\n",
       "      <td>0.003187</td>\n",
       "    </tr>\n",
       "    <tr>\n",
       "      <th>3</th>\n",
       "      <td>0</td>\n",
       "      <td>0.510</td>\n",
       "      <td>umbeaten</td>\n",
       "      <td>1</td>\n",
       "      <td>1</td>\n",
       "      <td>0.412</td>\n",
       "      <td>0.0</td>\n",
       "      <td>0.000000</td>\n",
       "      <td>NW</td>\n",
       "      <td>5.537812e-05</td>\n",
       "      <td>0.999945</td>\n",
       "    </tr>\n",
       "    <tr>\n",
       "      <th>4</th>\n",
       "      <td>1</td>\n",
       "      <td>0.512</td>\n",
       "      <td>belonging</td>\n",
       "      <td>1</td>\n",
       "      <td>1</td>\n",
       "      <td>0.412</td>\n",
       "      <td>1.0</td>\n",
       "      <td>3.317140</td>\n",
       "      <td>HF</td>\n",
       "      <td>9.985624e-01</td>\n",
       "      <td>0.001438</td>\n",
       "    </tr>\n",
       "  </tbody>\n",
       "</table>\n",
       "</div>"
      ],
      "text/plain": [
       "   accuracy     rt         string  response  participant  minRT  label  \\\n",
       "0         0  0.707         bookie         0            1  0.412    1.0   \n",
       "1         1  0.769      gandbrake         0            1  0.412    0.0   \n",
       "2         1  0.526  philosophical         1            1  0.412    1.0   \n",
       "3         0  0.510       umbeaten         1            1  0.412    0.0   \n",
       "4         1  0.512      belonging         1            1  0.412    1.0   \n",
       "\n",
       "       zipf category     word_prob  non_word_prob  \n",
       "0  3.409105       HF  9.982517e-01       0.001748  \n",
       "1  0.000000       NW  3.736372e-08       1.000000  \n",
       "2  3.205648       HF  9.968132e-01       0.003187  \n",
       "3  0.000000       NW  5.537812e-05       0.999945  \n",
       "4  3.317140       HF  9.985624e-01       0.001438  "
      ]
     },
     "execution_count": 8,
     "metadata": {},
     "output_type": "execute_result"
    }
   ],
   "source": [
    "behavioural_df.head()"
   ]
  },
  {
   "cell_type": "markdown",
   "id": "159dddd5-c8a8-4c1a-8c48-9882ee452eb2",
   "metadata": {},
   "source": [
    "Predicted probabilities of words and non-words in different conditions in all trials\n",
    "across participants"
   ]
  },
  {
   "cell_type": "code",
   "execution_count": 9,
   "id": "6c1441c1-4928-4675-92a0-bac19c71fa98",
   "metadata": {},
   "outputs": [
    {
     "data": {
      "text/html": [
       "<div>\n",
       "<style scoped>\n",
       "    .dataframe tbody tr th:only-of-type {\n",
       "        vertical-align: middle;\n",
       "    }\n",
       "\n",
       "    .dataframe tbody tr th {\n",
       "        vertical-align: top;\n",
       "    }\n",
       "\n",
       "    .dataframe thead tr th {\n",
       "        text-align: left;\n",
       "    }\n",
       "\n",
       "    .dataframe thead tr:last-of-type th {\n",
       "        text-align: right;\n",
       "    }\n",
       "</style>\n",
       "<table border=\"1\" class=\"dataframe\">\n",
       "  <thead>\n",
       "    <tr>\n",
       "      <th></th>\n",
       "      <th colspan=\"5\" halign=\"left\">word_prob</th>\n",
       "      <th colspan=\"5\" halign=\"left\">non_word_prob</th>\n",
       "    </tr>\n",
       "    <tr>\n",
       "      <th></th>\n",
       "      <th>mean</th>\n",
       "      <th>std</th>\n",
       "      <th>count</th>\n",
       "      <th>max</th>\n",
       "      <th>min</th>\n",
       "      <th>mean</th>\n",
       "      <th>std</th>\n",
       "      <th>count</th>\n",
       "      <th>max</th>\n",
       "      <th>min</th>\n",
       "    </tr>\n",
       "    <tr>\n",
       "      <th>category</th>\n",
       "      <th></th>\n",
       "      <th></th>\n",
       "      <th></th>\n",
       "      <th></th>\n",
       "      <th></th>\n",
       "      <th></th>\n",
       "      <th></th>\n",
       "      <th></th>\n",
       "      <th></th>\n",
       "      <th></th>\n",
       "    </tr>\n",
       "  </thead>\n",
       "  <tbody>\n",
       "    <tr>\n",
       "      <th>HF</th>\n",
       "      <td>0.992733</td>\n",
       "      <td>0.050218</td>\n",
       "      <td>363</td>\n",
       "      <td>1.000000</td>\n",
       "      <td>1.081290e-01</td>\n",
       "      <td>0.007267</td>\n",
       "      <td>0.050218</td>\n",
       "      <td>363</td>\n",
       "      <td>0.891871</td>\n",
       "      <td>6.759641e-13</td>\n",
       "    </tr>\n",
       "    <tr>\n",
       "      <th>LF</th>\n",
       "      <td>0.987004</td>\n",
       "      <td>0.063322</td>\n",
       "      <td>491</td>\n",
       "      <td>1.000000</td>\n",
       "      <td>4.057633e-09</td>\n",
       "      <td>0.012996</td>\n",
       "      <td>0.063322</td>\n",
       "      <td>491</td>\n",
       "      <td>1.000000</td>\n",
       "      <td>5.270731e-10</td>\n",
       "    </tr>\n",
       "    <tr>\n",
       "      <th>NW</th>\n",
       "      <td>0.004349</td>\n",
       "      <td>0.049290</td>\n",
       "      <td>933</td>\n",
       "      <td>0.946264</td>\n",
       "      <td>7.235630e-26</td>\n",
       "      <td>0.995651</td>\n",
       "      <td>0.049290</td>\n",
       "      <td>933</td>\n",
       "      <td>1.000000</td>\n",
       "      <td>5.373600e-02</td>\n",
       "    </tr>\n",
       "  </tbody>\n",
       "</table>\n",
       "</div>"
      ],
      "text/plain": [
       "         word_prob                                         non_word_prob  \\\n",
       "              mean       std count       max           min          mean   \n",
       "category                                                                   \n",
       "HF        0.992733  0.050218   363  1.000000  1.081290e-01      0.007267   \n",
       "LF        0.987004  0.063322   491  1.000000  4.057633e-09      0.012996   \n",
       "NW        0.004349  0.049290   933  0.946264  7.235630e-26      0.995651   \n",
       "\n",
       "                                                  \n",
       "               std count       max           min  \n",
       "category                                          \n",
       "HF        0.050218   363  0.891871  6.759641e-13  \n",
       "LF        0.063322   491  1.000000  5.270731e-10  \n",
       "NW        0.049290   933  1.000000  5.373600e-02  "
      ]
     },
     "execution_count": 9,
     "metadata": {},
     "output_type": "execute_result"
    }
   ],
   "source": [
    "behavioural_df.groupby(['category']).agg({'word_prob': ['mean', 'std', 'count', 'max', 'min'], 'non_word_prob': ['mean', 'std', 'count', 'max', 'min']})"
   ]
  },
  {
   "cell_type": "markdown",
   "id": "d052f5c8-5b10-4c7d-ad5c-27e781c292fb",
   "metadata": {},
   "source": [
    "RT and response description of words and non-words in different conditions in all trials\n",
    "across participants"
   ]
  },
  {
   "cell_type": "code",
   "execution_count": 10,
   "id": "fba3741e-8006-4460-a23d-67445b949a93",
   "metadata": {},
   "outputs": [
    {
     "data": {
      "text/html": [
       "<div>\n",
       "<style scoped>\n",
       "    .dataframe tbody tr th:only-of-type {\n",
       "        vertical-align: middle;\n",
       "    }\n",
       "\n",
       "    .dataframe tbody tr th {\n",
       "        vertical-align: top;\n",
       "    }\n",
       "\n",
       "    .dataframe thead tr th {\n",
       "        text-align: left;\n",
       "    }\n",
       "\n",
       "    .dataframe thead tr:last-of-type th {\n",
       "        text-align: right;\n",
       "    }\n",
       "</style>\n",
       "<table border=\"1\" class=\"dataframe\">\n",
       "  <thead>\n",
       "    <tr>\n",
       "      <th></th>\n",
       "      <th colspan=\"4\" halign=\"left\">rt</th>\n",
       "      <th colspan=\"4\" halign=\"left\">response</th>\n",
       "    </tr>\n",
       "    <tr>\n",
       "      <th></th>\n",
       "      <th>mean</th>\n",
       "      <th>std</th>\n",
       "      <th>max</th>\n",
       "      <th>min</th>\n",
       "      <th>mean</th>\n",
       "      <th>std</th>\n",
       "      <th>max</th>\n",
       "      <th>min</th>\n",
       "    </tr>\n",
       "    <tr>\n",
       "      <th>category</th>\n",
       "      <th></th>\n",
       "      <th></th>\n",
       "      <th></th>\n",
       "      <th></th>\n",
       "      <th></th>\n",
       "      <th></th>\n",
       "      <th></th>\n",
       "      <th></th>\n",
       "    </tr>\n",
       "  </thead>\n",
       "  <tbody>\n",
       "    <tr>\n",
       "      <th>HF</th>\n",
       "      <td>0.599548</td>\n",
       "      <td>0.191587</td>\n",
       "      <td>1.660</td>\n",
       "      <td>0.301</td>\n",
       "      <td>0.953168</td>\n",
       "      <td>0.211570</td>\n",
       "      <td>1</td>\n",
       "      <td>0</td>\n",
       "    </tr>\n",
       "    <tr>\n",
       "      <th>LF</th>\n",
       "      <td>0.691642</td>\n",
       "      <td>0.217314</td>\n",
       "      <td>1.707</td>\n",
       "      <td>0.271</td>\n",
       "      <td>0.861507</td>\n",
       "      <td>0.345769</td>\n",
       "      <td>1</td>\n",
       "      <td>0</td>\n",
       "    </tr>\n",
       "    <tr>\n",
       "      <th>NW</th>\n",
       "      <td>0.740148</td>\n",
       "      <td>0.225628</td>\n",
       "      <td>1.763</td>\n",
       "      <td>0.200</td>\n",
       "      <td>0.143623</td>\n",
       "      <td>0.350895</td>\n",
       "      <td>1</td>\n",
       "      <td>0</td>\n",
       "    </tr>\n",
       "  </tbody>\n",
       "</table>\n",
       "</div>"
      ],
      "text/plain": [
       "                rt                          response                  \n",
       "              mean       std    max    min      mean       std max min\n",
       "category                                                              \n",
       "HF        0.599548  0.191587  1.660  0.301  0.953168  0.211570   1   0\n",
       "LF        0.691642  0.217314  1.707  0.271  0.861507  0.345769   1   0\n",
       "NW        0.740148  0.225628  1.763  0.200  0.143623  0.350895   1   0"
      ]
     },
     "execution_count": 10,
     "metadata": {},
     "output_type": "execute_result"
    }
   ],
   "source": [
    "behavioural_df.groupby(['category']).agg({'rt': ['mean', 'std', 'max', 'min'], 'response': ['mean', 'std', 'max', 'min']})"
   ]
  },
  {
   "cell_type": "markdown",
   "id": "0bc6ff4c",
   "metadata": {
    "id": "ff61f25e-7817-4f3f-a48f-d5a6666b0e75",
    "tags": []
   },
   "source": [
    "## Stan Model and Estimation"
   ]
  },
  {
   "cell_type": "markdown",
   "id": "27aa0a87-ed95-486a-beec-87a50c2f86ef",
   "metadata": {},
   "source": [
    "Compiling stan model"
   ]
  },
  {
   "cell_type": "code",
   "execution_count": 57,
   "id": "60550ee7-157d-4393-9f12-773eb947efce",
   "metadata": {
    "colab": {
     "base_uri": "https://localhost:8080/"
    },
    "executionInfo": {
     "elapsed": 93380,
     "status": "ok",
     "timestamp": 1651313346844,
     "user": {
      "displayName": "Arash Dadras",
      "userId": "05722346836148265544"
     },
     "user_tz": -270
    },
    "id": "c1b3627d-0ea2-49b6-86f0-7b098a5a16d6",
    "outputId": "4bc8643c-82c0-4fc9-99a0-7f232fa1eea4"
   },
   "outputs": [],
   "source": [
    "rdm_model = cmdstanpy.CmdStanModel(stan_file=stan_file_path)"
   ]
  },
  {
   "cell_type": "markdown",
   "id": "b75c8503-9cb2-40c0-ae79-e0e8d386a86f",
   "metadata": {},
   "source": [
    "Preparing model's inputs"
   ]
  },
  {
   "cell_type": "code",
   "execution_count": 58,
   "id": "0361fc9e-7a35-41fc-a377-3b7547842c61",
   "metadata": {
    "executionInfo": {
     "elapsed": 53,
     "status": "ok",
     "timestamp": 1651313346849,
     "user": {
      "displayName": "Arash Dadras",
      "userId": "05722346836148265544"
     },
     "user_tz": -270
    },
    "id": "3e9f42b0-a7b3-476d-8869-958b2155b84c",
    "tags": []
   },
   "outputs": [],
   "source": [
    "N = len(behavioural_df)\n",
    "participant = behavioural_df['participant'].to_numpy()\n",
    "frequencyCondition = behavioural_df['category'].replace([\"HF\", \"LF\", \"NW\"], [1, 2, 3]).to_numpy()\n",
    "response = behavioural_df['response'].to_numpy().astype(int)\n",
    "rt = behavioural_df['rt'].to_numpy()                      \n",
    "minRT = behavioural_df['minRT'].to_numpy()\n",
    "RTbound = 0\n",
    "\n",
    "threshold_priors = [4, 2, 1, 2] \n",
    "drift_priors = [0, 2, 0, 1] \n",
    "ndt_priors = [0, 1, 1, 1];\n",
    "\n",
    "# define input for the model\n",
    "data_dict = {'N': N,\n",
    "             'L': Number_Of_Participants,\n",
    "             'participant': participant,\n",
    "             'frequencyCondition': frequencyCondition,\n",
    "             'response': response,\n",
    "             'rt': rt,\n",
    "             'minRT': minRT,\n",
    "             'RTbound': RTbound,\n",
    "             'threshold_priors': threshold_priors,\n",
    "             'drift_priors': drift_priors,\n",
    "             'ndt_priors': ndt_priors,\n",
    "             }\n",
    "\n",
    "# set sampling parameters\n",
    "n_iter = 1000\n",
    "n_warmup = int(n_iter/2)\n",
    "n_sample = int(n_iter/2)\n",
    "n_chains = 2"
   ]
  },
  {
   "cell_type": "markdown",
   "id": "f4034d3d-99d8-43bf-b744-6b0608141c8d",
   "metadata": {},
   "source": [
    "Fitting the model"
   ]
  },
  {
   "cell_type": "code",
   "execution_count": 59,
   "id": "f9ddd68e",
   "metadata": {
    "colab": {
     "background_save": true
    },
    "id": "edac015c-18f4-4ebf-8c3c-ecaf4b8e1d6a",
    "scrolled": true,
    "tags": []
   },
   "outputs": [
    {
     "name": "stderr",
     "output_type": "stream",
     "text": [
      "17:08:33 - cmdstanpy - INFO - Chain [1] start processing\n",
      "17:08:33 - cmdstanpy - INFO - Chain [2] start processing\n"
     ]
    },
    {
     "name": "stdout",
     "output_type": "stream",
     "text": [
      "Chain [1] method = sample (Default)Chain [2] method = sample (Default)\n",
      "\n",
      "Chain [1] sample\n",
      "Chain [1] num_samples = 500\n",
      "Chain [1] num_warmup = 500\n",
      "Chain [1] save_warmup = 0 (Default)\n",
      "Chain [1] thin = 1 (Default)\n",
      "Chain [1] adapt\n",
      "Chain [1] engaged = 1 (Default)\n",
      "Chain [1] gamma = 0.050000000000000003 (Default)\n",
      "Chain [1] delta = 0.80000000000000004 (Default)\n",
      "Chain [1] kappa = 0.75 (Default)\n",
      "Chain [1] t0 = 10 (Default)\n",
      "Chain [1] init_buffer = 75 (Default)\n",
      "Chain [1] term_buffer = 50 (Default)\n",
      "Chain [1] window = 25 (Default)\n",
      "Chain [1] algorithm = hmc (Default)\n",
      "Chain [1] hmc\n",
      "Chain [1] engine = nuts (Default)\n",
      "Chain [1] nuts\n",
      "Chain [1] max_depth = 10 (Default)\n",
      "Chain [1] metric = diag_e (Default)\n",
      "Chain [1] metric_file =  (Default)\n",
      "Chain [1] stepsize = 1 (Default)\n",
      "Chain [1] stepsize_jitter = 0 (Default)\n",
      "Chain [1] num_chains = 1 (Default)\n",
      "Chain [2] sample\n",
      "Chain [2] num_samples = 500\n",
      "Chain [1] id = 1 (Default)\n",
      "Chain [1] data\n",
      "Chain [1] file = C:\\Users\\mahva\\AppData\\Local\\Temp\\tmpyt73rkrd\\s5lnomtm.json\n",
      "Chain [1] init = 2 (Default)\n",
      "Chain [1] random\n",
      "Chain [1] seed = 73255\n",
      "Chain [1] output\n",
      "Chain [1] file = C:\\Users\\mahva\\AppData\\Local\\Temp\\tmpyt73rkrd\\RDM_hier_3df0p5vpr9\\RDM_hier_3d-20220804170833_1.csv\n",
      "Chain [1] diagnostic_file =  (Default)\n",
      "Chain [1] refresh = 100 (Default)\n",
      "Chain [1] sig_figs = -1 (Default)\n",
      "Chain [1] profile_file = profile.csv (Default)\n",
      "Chain [1] num_threads = 1 (Default)\n",
      "Chain [1] \n",
      "Chain [2] num_warmup = 500\n",
      "Chain [2] save_warmup = 0 (Default)\n",
      "Chain [2] thin = 1 (Default)\n",
      "Chain [2] adapt\n",
      "Chain [2] engaged = 1 (Default)\n",
      "Chain [2] gamma = 0.050000000000000003 (Default)\n",
      "Chain [2] delta = 0.80000000000000004 (Default)\n",
      "Chain [2] kappa = 0.75 (Default)\n",
      "Chain [2] t0 = 10 (Default)\n",
      "Chain [2] init_buffer = 75 (Default)\n",
      "Chain [2] term_buffer = 50 (Default)\n",
      "Chain [2] window = 25 (Default)\n",
      "Chain [2] algorithm = hmc (Default)\n",
      "Chain [2] hmc\n",
      "Chain [2] engine = nuts (Default)\n",
      "Chain [2] nuts\n",
      "Chain [2] max_depth = 10 (Default)\n",
      "Chain [2] metric = diag_e (Default)\n",
      "Chain [2] metric_file =  (Default)\n",
      "Chain [2] stepsize = 1 (Default)\n",
      "Chain [2] stepsize_jitter = 0 (Default)\n",
      "Chain [2] num_chains = 1 (Default)\n",
      "Chain [2] id = 2\n",
      "Chain [2] data\n",
      "Chain [2] file = C:\\Users\\mahva\\AppData\\Local\\Temp\\tmpyt73rkrd\\s5lnomtm.json\n",
      "Chain [2] init = 2 (Default)\n",
      "Chain [2] random\n",
      "Chain [2] seed = 73255\n",
      "Chain [2] output\n",
      "Chain [2] file = C:\\Users\\mahva\\AppData\\Local\\Temp\\tmpyt73rkrd\\RDM_hier_3df0p5vpr9\\RDM_hier_3d-20220804170833_2.csv\n",
      "Chain [2] diagnostic_file =  (Default)\n",
      "Chain [2] refresh = 100 (Default)\n",
      "Chain [2] sig_figs = -1 (Default)\n",
      "Chain [2] profile_file = profile.csv (Default)\n",
      "Chain [2] num_threads = 1 (Default)\n",
      "Chain [2] \n",
      "Chain [2] \n",
      "Chain [2] Gradient evaluation took 0.002216 seconds\n",
      "Chain [2] 1000 transitions using 10 leapfrog steps per transition would take 22.16 seconds.\n",
      "Chain [2] Adjust your expectations accordingly!\n",
      "Chain [2] \n",
      "Chain [2] \n",
      "Chain [1] \n",
      "Chain [1] Gradient evaluation took 0.002726 seconds\n",
      "Chain [1] 1000 transitions using 10 leapfrog steps per transition would take 27.26 seconds.\n",
      "Chain [1] Adjust your expectations accordingly!\n",
      "Chain [1] \n",
      "Chain [1] \n",
      "Chain [1] Iteration:   1 / 1000 [  0%]  (Warmup)\n",
      "Chain [2] Iteration:   1 / 1000 [  0%]  (Warmup)\n",
      "Chain [2] Informational Message: The current Metropolis proposal is about to be rejected because of the following issue:\n",
      "Chain [2] Exception: Exception: Exception: Phi: x is nan, but must be not nan! (in 'C:/Users/mahva/AppData/Local/Temp/tmpordvbyg3/tmp_4m678gh.stan', line 10, column 10 to column 74) (in 'C:/Users/mahva/AppData/Local/Temp/tmpordvbyg3/tmp_4m678gh.stan', line 27, column 20 to column 74) (in 'C:/Users/mahva/AppData/Local/Temp/tmpordvbyg3/tmp_4m678gh.stan', line 165, column 4 to column 91)\n",
      "Chain [2] If this warning occurs sporadically, such as for highly constrained variable types like covariance matrices, then the sampler is fine,\n",
      "Chain [2] but if this warning occurs often then your model may be either severely ill-conditioned or misspecified.\n",
      "Chain [2] \n",
      "Chain [1] Iteration: 100 / 1000 [ 10%]  (Warmup)\n",
      "Chain [1] Iteration: 200 / 1000 [ 20%]  (Warmup)\n",
      "Chain [2] Iteration: 100 / 1000 [ 10%]  (Warmup)\n",
      "Chain [1] Iteration: 300 / 1000 [ 30%]  (Warmup)\n",
      "Chain [1] Iteration: 400 / 1000 [ 40%]  (Warmup)\n",
      "Chain [2] Iteration: 200 / 1000 [ 20%]  (Warmup)\n",
      "Chain [1] Iteration: 500 / 1000 [ 50%]  (Warmup)\n",
      "Chain [1] Iteration: 501 / 1000 [ 50%]  (Sampling)\n",
      "Chain [1] Iteration: 600 / 1000 [ 60%]  (Sampling)\n",
      "Chain [2] Iteration: 300 / 1000 [ 30%]  (Warmup)\n",
      "Chain [1] Iteration: 700 / 1000 [ 70%]  (Sampling)\n",
      "Chain [1] Iteration: 800 / 1000 [ 80%]  (Sampling)\n",
      "Chain [1] Iteration: 900 / 1000 [ 90%]  (Sampling)\n",
      "Chain [2] Iteration: 400 / 1000 [ 40%]  (Warmup)\n",
      "Chain [1] Iteration: 1000 / 1000 [100%]  (Sampling)\n"
     ]
    },
    {
     "name": "stderr",
     "output_type": "stream",
     "text": [
      "17:17:21 - cmdstanpy - INFO - Chain [1] done processing\n"
     ]
    },
    {
     "name": "stdout",
     "output_type": "stream",
     "text": [
      "Chain [1] \n",
      "Chain [1] Elapsed Time: 292.682 seconds (Warm-up)\n",
      "Chain [1] 235.37 seconds (Sampling)\n",
      "Chain [1] 528.052 seconds (Total)\n",
      "Chain [1] \n",
      "Chain [1] \n",
      "Chain [1] \n",
      "Chain [1] \n",
      "Chain [1] \n",
      "Chain [1] \n",
      "Chain [1] \n",
      "Chain [1] \n",
      "Chain [1] \n",
      "Chain [1] \n",
      "Chain [1] \n",
      "Chain [1] \n",
      "Chain [1] \n",
      "Chain [1] \n",
      "Chain [1] \n",
      "Chain [1] \n",
      "Chain [1] \n",
      "Chain [1] \n",
      "Chain [1] \n",
      "Chain [1] \n",
      "Chain [1] \n",
      "Chain [1] \n",
      "Chain [1] \n",
      "Chain [1] \n",
      "Chain [1] \n",
      "Chain [1] \n",
      "Chain [1] \n",
      "Chain [1] \n",
      "Chain [1] \n",
      "Chain [1] \n",
      "Chain [1] \n",
      "Chain [1] \n",
      "Chain [1] \n",
      "Chain [1] \n",
      "Chain [1] \n",
      "Chain [1] \n",
      "Chain [1] \n",
      "Chain [1] \n",
      "Chain [1] \n",
      "Chain [1] \n",
      "Chain [1] \n",
      "Chain [1] \n",
      "Chain [1] \n",
      "Chain [1] \n",
      "Chain [1] \n",
      "Chain [1] \n",
      "Chain [1] \n",
      "Chain [1] \n",
      "Chain [1] \n",
      "Chain [1] \n",
      "Chain [1] \n",
      "Chain [1] \n",
      "Chain [1] \n",
      "Chain [1] \n",
      "Chain [1] \n",
      "Chain [1] \n",
      "Chain [1] \n",
      "Chain [1] \n",
      "Chain [1] \n",
      "Chain [1] \n",
      "Chain [1] \n",
      "Chain [1] \n",
      "Chain [1] \n",
      "Chain [1] \n",
      "Chain [1] \n",
      "Chain [1] \n",
      "Chain [1] \n",
      "Chain [1] \n",
      "Chain [1] \n",
      "Chain [1] \n",
      "Chain [1] \n",
      "Chain [1] \n",
      "Chain [1] \n",
      "Chain [1] \n",
      "Chain [1] \n",
      "Chain [1] \n",
      "Chain [1] \n",
      "Chain [1] \n",
      "Chain [1] \n",
      "Chain [1] \n",
      "Chain [1] \n",
      "Chain [1] \n",
      "Chain [1] \n",
      "Chain [1] \n",
      "Chain [1] \n",
      "Chain [1] \n",
      "Chain [1] \n",
      "Chain [1] \n",
      "Chain [1] \n",
      "Chain [1] \n",
      "Chain [1] \n",
      "Chain [2] Iteration: 500 / 1000 [ 50%]  (Warmup)\n",
      "Chain [2] Iteration: 501 / 1000 [ 50%]  (Sampling)\n",
      "Chain [2] Iteration: 600 / 1000 [ 60%]  (Sampling)\n",
      "Chain [2] Iteration: 700 / 1000 [ 70%]  (Sampling)\n",
      "Chain [2] Iteration: 800 / 1000 [ 80%]  (Sampling)\n",
      "Chain [2] Iteration: 900 / 1000 [ 90%]  (Sampling)\n",
      "Chain [2] Iteration: 1000 / 1000 [100%]  (Sampling)\n"
     ]
    },
    {
     "name": "stderr",
     "output_type": "stream",
     "text": [
      "17:29:08 - cmdstanpy - INFO - Chain [2] done processing\n",
      "17:29:08 - cmdstanpy - WARNING - Non-fatal error during sampling:\n",
      "Exception: Exception: Exception: Phi: x is nan, but must be not nan! (in 'C:/Users/mahva/AppData/Local/Temp/tmpordvbyg3/tmp_4m678gh.stan', line 10, column 10 to column 74) (in 'C:/Users/mahva/AppData/Local/Temp/tmpordvbyg3/tmp_4m678gh.stan', line 27, column 20 to column 74) (in 'C:/Users/mahva/AppData/Local/Temp/tmpordvbyg3/tmp_4m678gh.stan', line 165, column 4 to column 91)\n",
      "Consider re-running with show_console=True if the above output is unclear!\n"
     ]
    },
    {
     "name": "stdout",
     "output_type": "stream",
     "text": [
      "Chain [2] \n",
      "Chain [2] Elapsed Time: 632.12 seconds (Warm-up)\n",
      "Chain [2] 602.829 seconds (Sampling)\n",
      "Chain [2] 1234.95 seconds (Total)\n",
      "Chain [2] \n",
      "Chain [2] \n",
      "Chain [2] \n",
      "Chain [2] \n",
      "Chain [2] \n",
      "Chain [2] \n",
      "Chain [2] \n",
      "Chain [2] \n",
      "Chain [2] \n",
      "Chain [2] \n",
      "Chain [2] \n",
      "Chain [2] \n",
      "Chain [2] \n",
      "Chain [2] \n",
      "Chain [2] \n",
      "Chain [2] \n",
      "Chain [2] \n",
      "Chain [2] \n",
      "Chain [2] \n",
      "Chain [2] \n",
      "Chain [2] \n",
      "Chain [2] \n",
      "Chain [2] \n",
      "Chain [2] \n",
      "Chain [2] \n",
      "Chain [2] \n",
      "Chain [2] \n",
      "Chain [2] \n",
      "Chain [2] \n",
      "Chain [2] \n",
      "Chain [2] \n",
      "Chain [2] \n",
      "Chain [2] \n",
      "Chain [2] \n",
      "Chain [2] \n",
      "Chain [2] \n",
      "Chain [2] \n",
      "Chain [2] \n",
      "Chain [2] \n",
      "Chain [2] \n",
      "Chain [2] \n",
      "Chain [2] \n",
      "Chain [2] \n",
      "Chain [2] \n",
      "Chain [2] \n",
      "Chain [2] \n",
      "Chain [2] \n",
      "Chain [2] \n",
      "Chain [2] \n",
      "Chain [2] \n",
      "Chain [2] \n",
      "Chain [2] \n",
      "Chain [2] \n",
      "Chain [2] \n",
      "Chain [2] \n",
      "Chain [2] \n",
      "Chain [2] \n",
      "Chain [2] \n",
      "Chain [2] \n",
      "Chain [2] \n",
      "Chain [2] \n",
      "Chain [2] \n",
      "Chain [2] \n",
      "Chain [2] \n",
      "Chain [2] \n",
      "Chain [2] \n",
      "Chain [2] \n",
      "Chain [2] \n",
      "Chain [2] \n",
      "Chain [2] \n",
      "Chain [2] \n",
      "Chain [2] \n",
      "Chain [2] \n",
      "Chain [2] \n",
      "Chain [2] \n",
      "Chain [2] \n",
      "Chain [2] \n",
      "Chain [2] \n",
      "Chain [2] \n",
      "Chain [2] \n",
      "Chain [2] \n",
      "Chain [2] \n",
      "Chain [2] \n"
     ]
    },
    {
     "name": "stderr",
     "output_type": "stream",
     "text": [
      "17:29:09 - cmdstanpy - WARNING - Some chains may have failed to converge.\n",
      "\tChain 1 had 2 divergent transitions (0.4%)\n",
      "\tChain 2 had 16 divergent transitions (3.2%)\n",
      "\tChain 2 had 467 iterations at max treedepth (93.4%)\n",
      "\tUse function \"diagnose()\" to see further information.\n"
     ]
    }
   ],
   "source": [
    "fit = rdm_model.sample(data=data_dict,\n",
    "                             iter_sampling=n_sample, \n",
    "                             iter_warmup=n_warmup,\n",
    "                             chains=n_chains, \n",
    "                             show_console=True)"
   ]
  },
  {
   "cell_type": "markdown",
   "id": "10d7bfe3-f4b0-4c5e-b38a-da896fc9910a",
   "metadata": {},
   "source": [
    "## Model diagnostics"
   ]
  },
  {
   "cell_type": "code",
   "execution_count": 17,
   "id": "83b4b9f0",
   "metadata": {
    "colab": {
     "background_save": true
    },
    "id": "a8e1d56e-e7e4-4ca1-a0bd-5b34edf6ea44"
   },
   "outputs": [
    {
     "name": "stdout",
     "output_type": "stream",
     "text": [
      "***hmc diagnostics:\n",
      "Processing csv files: C:\\Users\\mahva\\AppData\\Local\\Temp\\tmpyt73rkrd\\RDM_hier_3d2681aamr\\RDM_hier_3d-20220804164747_1.csv, C:\\Users\\mahva\\AppData\\Local\\Temp\\tmpyt73rkrd\\RDM_hier_3d2681aamr\\RDM_hier_3d-20220804164747_2.csv\n",
      "\n",
      "Checking sampler transitions treedepth.\n",
      "Treedepth satisfactory for all transitions.\n",
      "\n",
      "Checking sampler transitions for divergences.\n",
      "4 of 1000 (0.40%) transitions ended with a divergence.\n",
      "These divergent transitions indicate that HMC is not fully able to explore the posterior distribution.\n",
      "Try increasing adapt delta closer to 1.\n",
      "If this doesn't remove all divergences, try to reparameterize the model.\n",
      "\n",
      "Checking E-BFMI - sampler transitions HMC potential energy.\n",
      "E-BFMI satisfactory.\n",
      "\n",
      "Effective sample size satisfactory.\n",
      "\n",
      "Split R-hat values satisfactory all parameters.\n",
      "\n",
      "Processing complete.\n",
      "\n"
     ]
    }
   ],
   "source": [
    "print(\"***hmc diagnostics:\")\n",
    "print(fit.diagnose(), flush=True)"
   ]
  },
  {
   "cell_type": "code",
   "execution_count": 18,
   "id": "b033c45b",
   "metadata": {
    "colab": {
     "background_save": true
    },
    "id": "efa2a6ff-ad48-4c7e-a094-4c645923644e"
   },
   "outputs": [
    {
     "name": "stdout",
     "output_type": "stream",
     "text": [
      "***DF: \n"
     ]
    },
    {
     "data": {
      "text/html": [
       "<div>\n",
       "<style scoped>\n",
       "    .dataframe tbody tr th:only-of-type {\n",
       "        vertical-align: middle;\n",
       "    }\n",
       "\n",
       "    .dataframe tbody tr th {\n",
       "        vertical-align: top;\n",
       "    }\n",
       "\n",
       "    .dataframe thead th {\n",
       "        text-align: right;\n",
       "    }\n",
       "</style>\n",
       "<table border=\"1\" class=\"dataframe\">\n",
       "  <thead>\n",
       "    <tr style=\"text-align: right;\">\n",
       "      <th></th>\n",
       "      <th>Mean</th>\n",
       "      <th>MCSE</th>\n",
       "      <th>StdDev</th>\n",
       "      <th>5%</th>\n",
       "      <th>50%</th>\n",
       "      <th>95%</th>\n",
       "      <th>N_Eff</th>\n",
       "      <th>N_Eff/s</th>\n",
       "      <th>R_hat</th>\n",
       "    </tr>\n",
       "    <tr>\n",
       "      <th>name</th>\n",
       "      <th></th>\n",
       "      <th></th>\n",
       "      <th></th>\n",
       "      <th></th>\n",
       "      <th></th>\n",
       "      <th></th>\n",
       "      <th></th>\n",
       "      <th></th>\n",
       "      <th></th>\n",
       "    </tr>\n",
       "  </thead>\n",
       "  <tbody>\n",
       "    <tr>\n",
       "      <th>lp__</th>\n",
       "      <td>253.078000</td>\n",
       "      <td>0.519977</td>\n",
       "      <td>7.274820</td>\n",
       "      <td>239.968000</td>\n",
       "      <td>253.683000</td>\n",
       "      <td>264.202000</td>\n",
       "      <td>195.738</td>\n",
       "      <td>0.325499</td>\n",
       "      <td>1.004020</td>\n",
       "    </tr>\n",
       "    <tr>\n",
       "      <th>mu_ndt</th>\n",
       "      <td>-0.127009</td>\n",
       "      <td>0.012554</td>\n",
       "      <td>0.326414</td>\n",
       "      <td>-0.663096</td>\n",
       "      <td>-0.124750</td>\n",
       "      <td>0.395796</td>\n",
       "      <td>676.048</td>\n",
       "      <td>1.124220</td>\n",
       "      <td>0.998825</td>\n",
       "    </tr>\n",
       "    <tr>\n",
       "      <th>mu_threshold_word</th>\n",
       "      <td>1.372640</td>\n",
       "      <td>0.017614</td>\n",
       "      <td>0.408043</td>\n",
       "      <td>0.803199</td>\n",
       "      <td>1.326200</td>\n",
       "      <td>2.100760</td>\n",
       "      <td>536.671</td>\n",
       "      <td>0.892446</td>\n",
       "      <td>0.999327</td>\n",
       "    </tr>\n",
       "    <tr>\n",
       "      <th>mu_threshold_nonword</th>\n",
       "      <td>2.100260</td>\n",
       "      <td>0.020258</td>\n",
       "      <td>0.455732</td>\n",
       "      <td>1.407460</td>\n",
       "      <td>2.095750</td>\n",
       "      <td>2.847850</td>\n",
       "      <td>506.112</td>\n",
       "      <td>0.841628</td>\n",
       "      <td>1.004060</td>\n",
       "    </tr>\n",
       "    <tr>\n",
       "      <th>mu_drift_word[1]</th>\n",
       "      <td>4.038360</td>\n",
       "      <td>0.028762</td>\n",
       "      <td>0.557502</td>\n",
       "      <td>3.122980</td>\n",
       "      <td>4.069120</td>\n",
       "      <td>4.881390</td>\n",
       "      <td>375.709</td>\n",
       "      <td>0.624777</td>\n",
       "      <td>1.008580</td>\n",
       "    </tr>\n",
       "    <tr>\n",
       "      <th>...</th>\n",
       "      <td>...</td>\n",
       "      <td>...</td>\n",
       "      <td>...</td>\n",
       "      <td>...</td>\n",
       "      <td>...</td>\n",
       "      <td>...</td>\n",
       "      <td>...</td>\n",
       "      <td>...</td>\n",
       "      <td>...</td>\n",
       "    </tr>\n",
       "    <tr>\n",
       "      <th>log_lik[1783]</th>\n",
       "      <td>-3.855510</td>\n",
       "      <td>0.009341</td>\n",
       "      <td>0.290916</td>\n",
       "      <td>-4.323250</td>\n",
       "      <td>-3.863410</td>\n",
       "      <td>-3.367140</td>\n",
       "      <td>969.947</td>\n",
       "      <td>1.612950</td>\n",
       "      <td>0.999553</td>\n",
       "    </tr>\n",
       "    <tr>\n",
       "      <th>log_lik[1784]</th>\n",
       "      <td>1.075360</td>\n",
       "      <td>0.001620</td>\n",
       "      <td>0.059537</td>\n",
       "      <td>0.974117</td>\n",
       "      <td>1.076730</td>\n",
       "      <td>1.174240</td>\n",
       "      <td>1350.160</td>\n",
       "      <td>2.245230</td>\n",
       "      <td>0.998158</td>\n",
       "    </tr>\n",
       "    <tr>\n",
       "      <th>log_lik[1785]</th>\n",
       "      <td>-1.732310</td>\n",
       "      <td>0.008383</td>\n",
       "      <td>0.257530</td>\n",
       "      <td>-2.189780</td>\n",
       "      <td>-1.724270</td>\n",
       "      <td>-1.323820</td>\n",
       "      <td>943.786</td>\n",
       "      <td>1.569450</td>\n",
       "      <td>1.001990</td>\n",
       "    </tr>\n",
       "    <tr>\n",
       "      <th>log_lik[1786]</th>\n",
       "      <td>-4.591120</td>\n",
       "      <td>0.010621</td>\n",
       "      <td>0.331964</td>\n",
       "      <td>-5.129990</td>\n",
       "      <td>-4.603260</td>\n",
       "      <td>-4.055320</td>\n",
       "      <td>976.973</td>\n",
       "      <td>1.624640</td>\n",
       "      <td>0.999395</td>\n",
       "    </tr>\n",
       "    <tr>\n",
       "      <th>log_lik[1787]</th>\n",
       "      <td>0.210756</td>\n",
       "      <td>0.001958</td>\n",
       "      <td>0.066088</td>\n",
       "      <td>0.104330</td>\n",
       "      <td>0.210356</td>\n",
       "      <td>0.318139</td>\n",
       "      <td>1139.030</td>\n",
       "      <td>1.894130</td>\n",
       "      <td>1.001480</td>\n",
       "    </tr>\n",
       "  </tbody>\n",
       "</table>\n",
       "<p>10840 rows × 9 columns</p>\n",
       "</div>"
      ],
      "text/plain": [
       "                            Mean      MCSE    StdDev          5%         50%  \\\n",
       "name                                                                           \n",
       "lp__                  253.078000  0.519977  7.274820  239.968000  253.683000   \n",
       "mu_ndt                 -0.127009  0.012554  0.326414   -0.663096   -0.124750   \n",
       "mu_threshold_word       1.372640  0.017614  0.408043    0.803199    1.326200   \n",
       "mu_threshold_nonword    2.100260  0.020258  0.455732    1.407460    2.095750   \n",
       "mu_drift_word[1]        4.038360  0.028762  0.557502    3.122980    4.069120   \n",
       "...                          ...       ...       ...         ...         ...   \n",
       "log_lik[1783]          -3.855510  0.009341  0.290916   -4.323250   -3.863410   \n",
       "log_lik[1784]           1.075360  0.001620  0.059537    0.974117    1.076730   \n",
       "log_lik[1785]          -1.732310  0.008383  0.257530   -2.189780   -1.724270   \n",
       "log_lik[1786]          -4.591120  0.010621  0.331964   -5.129990   -4.603260   \n",
       "log_lik[1787]           0.210756  0.001958  0.066088    0.104330    0.210356   \n",
       "\n",
       "                             95%     N_Eff   N_Eff/s     R_hat  \n",
       "name                                                            \n",
       "lp__                  264.202000   195.738  0.325499  1.004020  \n",
       "mu_ndt                  0.395796   676.048  1.124220  0.998825  \n",
       "mu_threshold_word       2.100760   536.671  0.892446  0.999327  \n",
       "mu_threshold_nonword    2.847850   506.112  0.841628  1.004060  \n",
       "mu_drift_word[1]        4.881390   375.709  0.624777  1.008580  \n",
       "...                          ...       ...       ...       ...  \n",
       "log_lik[1783]          -3.367140   969.947  1.612950  0.999553  \n",
       "log_lik[1784]           1.174240  1350.160  2.245230  0.998158  \n",
       "log_lik[1785]          -1.323820   943.786  1.569450  1.001990  \n",
       "log_lik[1786]          -4.055320   976.973  1.624640  0.999395  \n",
       "log_lik[1787]           0.318139  1139.030  1.894130  1.001480  \n",
       "\n",
       "[10840 rows x 9 columns]"
      ]
     },
     "execution_count": 18,
     "metadata": {},
     "output_type": "execute_result"
    }
   ],
   "source": [
    "df = fit.summary()\n",
    "\n",
    "print(\"***DF: \")\n",
    "df"
   ]
  },
  {
   "cell_type": "code",
   "execution_count": 20,
   "id": "0302aa3b",
   "metadata": {
    "colab": {
     "background_save": true
    },
    "id": "b33a48e1-8c3b-4668-9e74-ba74c58e3bec",
    "scrolled": true
   },
   "outputs": [
    {
     "name": "stdout",
     "output_type": "stream",
     "text": [
      "***Rhat > 1.01: \n",
      "124\n"
     ]
    }
   ],
   "source": [
    "counter = 0\n",
    "print(\"***Rhat > 1.01: \")\n",
    "for f in df[\"R_hat\"]:\n",
    "    if f >= 1.01 or f <= 0.9:\n",
    "        counter+=1\n",
    "print(counter)"
   ]
  },
  {
   "cell_type": "code",
   "execution_count": 23,
   "id": "54606c2d",
   "metadata": {
    "colab": {
     "background_save": true
    },
    "id": "681ed2bf-2a28-4a8b-90d0-24b9fede846f"
   },
   "outputs": [
    {
     "data": {
      "text/html": [
       "<div>\n",
       "<style scoped>\n",
       "    .dataframe tbody tr th:only-of-type {\n",
       "        vertical-align: middle;\n",
       "    }\n",
       "\n",
       "    .dataframe tbody tr th {\n",
       "        vertical-align: top;\n",
       "    }\n",
       "\n",
       "    .dataframe thead th {\n",
       "        text-align: right;\n",
       "    }\n",
       "</style>\n",
       "<table border=\"1\" class=\"dataframe\">\n",
       "  <thead>\n",
       "    <tr style=\"text-align: right;\">\n",
       "      <th></th>\n",
       "      <th>Mean</th>\n",
       "      <th>MCSE</th>\n",
       "      <th>StdDev</th>\n",
       "      <th>5%</th>\n",
       "      <th>50%</th>\n",
       "      <th>95%</th>\n",
       "      <th>N_Eff</th>\n",
       "      <th>N_Eff/s</th>\n",
       "      <th>R_hat</th>\n",
       "    </tr>\n",
       "    <tr>\n",
       "      <th>name</th>\n",
       "      <th></th>\n",
       "      <th></th>\n",
       "      <th></th>\n",
       "      <th></th>\n",
       "      <th></th>\n",
       "      <th></th>\n",
       "      <th></th>\n",
       "      <th></th>\n",
       "      <th></th>\n",
       "    </tr>\n",
       "  </thead>\n",
       "  <tbody>\n",
       "    <tr>\n",
       "      <th>z_drift_nonword[2,2]</th>\n",
       "      <td>-0.646140</td>\n",
       "      <td>0.027335</td>\n",
       "      <td>0.610735</td>\n",
       "      <td>-1.655500</td>\n",
       "      <td>-0.615189</td>\n",
       "      <td>0.288159</td>\n",
       "      <td>499.183</td>\n",
       "      <td>0.830105</td>\n",
       "      <td>1.01121</td>\n",
       "    </tr>\n",
       "    <tr>\n",
       "      <th>drift_word_t[6]</th>\n",
       "      <td>3.384420</td>\n",
       "      <td>0.012452</td>\n",
       "      <td>0.285866</td>\n",
       "      <td>2.947240</td>\n",
       "      <td>3.372470</td>\n",
       "      <td>3.874540</td>\n",
       "      <td>527.081</td>\n",
       "      <td>0.876498</td>\n",
       "      <td>1.01027</td>\n",
       "    </tr>\n",
       "    <tr>\n",
       "      <th>drift_word_t[16]</th>\n",
       "      <td>3.384420</td>\n",
       "      <td>0.012452</td>\n",
       "      <td>0.285866</td>\n",
       "      <td>2.947240</td>\n",
       "      <td>3.372470</td>\n",
       "      <td>3.874540</td>\n",
       "      <td>527.081</td>\n",
       "      <td>0.876498</td>\n",
       "      <td>1.01027</td>\n",
       "    </tr>\n",
       "    <tr>\n",
       "      <th>drift_word_t[18]</th>\n",
       "      <td>3.384420</td>\n",
       "      <td>0.012452</td>\n",
       "      <td>0.285866</td>\n",
       "      <td>2.947240</td>\n",
       "      <td>3.372470</td>\n",
       "      <td>3.874540</td>\n",
       "      <td>527.081</td>\n",
       "      <td>0.876498</td>\n",
       "      <td>1.01027</td>\n",
       "    </tr>\n",
       "    <tr>\n",
       "      <th>drift_word_t[21]</th>\n",
       "      <td>3.384420</td>\n",
       "      <td>0.012452</td>\n",
       "      <td>0.285866</td>\n",
       "      <td>2.947240</td>\n",
       "      <td>3.372470</td>\n",
       "      <td>3.874540</td>\n",
       "      <td>527.081</td>\n",
       "      <td>0.876498</td>\n",
       "      <td>1.01027</td>\n",
       "    </tr>\n",
       "    <tr>\n",
       "      <th>...</th>\n",
       "      <td>...</td>\n",
       "      <td>...</td>\n",
       "      <td>...</td>\n",
       "      <td>...</td>\n",
       "      <td>...</td>\n",
       "      <td>...</td>\n",
       "      <td>...</td>\n",
       "      <td>...</td>\n",
       "      <td>...</td>\n",
       "    </tr>\n",
       "    <tr>\n",
       "      <th>log_lik[192]</th>\n",
       "      <td>0.979067</td>\n",
       "      <td>0.002947</td>\n",
       "      <td>0.059347</td>\n",
       "      <td>0.876248</td>\n",
       "      <td>0.981248</td>\n",
       "      <td>1.076740</td>\n",
       "      <td>405.649</td>\n",
       "      <td>0.674566</td>\n",
       "      <td>1.01042</td>\n",
       "    </tr>\n",
       "    <tr>\n",
       "      <th>log_lik[256]</th>\n",
       "      <td>0.898942</td>\n",
       "      <td>0.003026</td>\n",
       "      <td>0.055482</td>\n",
       "      <td>0.807023</td>\n",
       "      <td>0.898370</td>\n",
       "      <td>0.987849</td>\n",
       "      <td>336.123</td>\n",
       "      <td>0.558949</td>\n",
       "      <td>1.01018</td>\n",
       "    </tr>\n",
       "    <tr>\n",
       "      <th>log_lik[313]</th>\n",
       "      <td>0.983817</td>\n",
       "      <td>0.002677</td>\n",
       "      <td>0.060026</td>\n",
       "      <td>0.877584</td>\n",
       "      <td>0.985672</td>\n",
       "      <td>1.082120</td>\n",
       "      <td>502.831</td>\n",
       "      <td>0.836172</td>\n",
       "      <td>1.01026</td>\n",
       "    </tr>\n",
       "    <tr>\n",
       "      <th>log_lik[345]</th>\n",
       "      <td>0.986721</td>\n",
       "      <td>0.002445</td>\n",
       "      <td>0.060511</td>\n",
       "      <td>0.880097</td>\n",
       "      <td>0.988445</td>\n",
       "      <td>1.086390</td>\n",
       "      <td>612.629</td>\n",
       "      <td>1.018760</td>\n",
       "      <td>1.01013</td>\n",
       "    </tr>\n",
       "    <tr>\n",
       "      <th>log_lik[359]</th>\n",
       "      <td>0.928220</td>\n",
       "      <td>0.003388</td>\n",
       "      <td>0.055995</td>\n",
       "      <td>0.833530</td>\n",
       "      <td>0.930022</td>\n",
       "      <td>1.019180</td>\n",
       "      <td>273.180</td>\n",
       "      <td>0.454279</td>\n",
       "      <td>1.01065</td>\n",
       "    </tr>\n",
       "  </tbody>\n",
       "</table>\n",
       "<p>124 rows × 9 columns</p>\n",
       "</div>"
      ],
      "text/plain": [
       "                          Mean      MCSE    StdDev        5%       50%  \\\n",
       "name                                                                     \n",
       "z_drift_nonword[2,2] -0.646140  0.027335  0.610735 -1.655500 -0.615189   \n",
       "drift_word_t[6]       3.384420  0.012452  0.285866  2.947240  3.372470   \n",
       "drift_word_t[16]      3.384420  0.012452  0.285866  2.947240  3.372470   \n",
       "drift_word_t[18]      3.384420  0.012452  0.285866  2.947240  3.372470   \n",
       "drift_word_t[21]      3.384420  0.012452  0.285866  2.947240  3.372470   \n",
       "...                        ...       ...       ...       ...       ...   \n",
       "log_lik[192]          0.979067  0.002947  0.059347  0.876248  0.981248   \n",
       "log_lik[256]          0.898942  0.003026  0.055482  0.807023  0.898370   \n",
       "log_lik[313]          0.983817  0.002677  0.060026  0.877584  0.985672   \n",
       "log_lik[345]          0.986721  0.002445  0.060511  0.880097  0.988445   \n",
       "log_lik[359]          0.928220  0.003388  0.055995  0.833530  0.930022   \n",
       "\n",
       "                           95%    N_Eff   N_Eff/s    R_hat  \n",
       "name                                                        \n",
       "z_drift_nonword[2,2]  0.288159  499.183  0.830105  1.01121  \n",
       "drift_word_t[6]       3.874540  527.081  0.876498  1.01027  \n",
       "drift_word_t[16]      3.874540  527.081  0.876498  1.01027  \n",
       "drift_word_t[18]      3.874540  527.081  0.876498  1.01027  \n",
       "drift_word_t[21]      3.874540  527.081  0.876498  1.01027  \n",
       "...                        ...      ...       ...      ...  \n",
       "log_lik[192]          1.076740  405.649  0.674566  1.01042  \n",
       "log_lik[256]          0.987849  336.123  0.558949  1.01018  \n",
       "log_lik[313]          1.082120  502.831  0.836172  1.01026  \n",
       "log_lik[345]          1.086390  612.629  1.018760  1.01013  \n",
       "log_lik[359]          1.019180  273.180  0.454279  1.01065  \n",
       "\n",
       "[124 rows x 9 columns]"
      ]
     },
     "execution_count": 23,
     "metadata": {},
     "output_type": "execute_result"
    }
   ],
   "source": [
    "df.loc[df['R_hat']>1.01]"
   ]
  },
  {
   "cell_type": "code",
   "execution_count": 24,
   "id": "f0aa820a",
   "metadata": {
    "colab": {
     "background_save": true
    },
    "id": "a651e5b7-b7f1-4426-ae8e-f9e236eb6e91"
   },
   "outputs": [
    {
     "data": {
      "text/html": [
       "<div>\n",
       "<style scoped>\n",
       "    .dataframe tbody tr th:only-of-type {\n",
       "        vertical-align: middle;\n",
       "    }\n",
       "\n",
       "    .dataframe tbody tr th {\n",
       "        vertical-align: top;\n",
       "    }\n",
       "\n",
       "    .dataframe thead th {\n",
       "        text-align: right;\n",
       "    }\n",
       "</style>\n",
       "<table border=\"1\" class=\"dataframe\">\n",
       "  <thead>\n",
       "    <tr style=\"text-align: right;\">\n",
       "      <th></th>\n",
       "      <th>Mean</th>\n",
       "      <th>MCSE</th>\n",
       "      <th>StdDev</th>\n",
       "      <th>5%</th>\n",
       "      <th>50%</th>\n",
       "      <th>95%</th>\n",
       "      <th>N_Eff</th>\n",
       "      <th>N_Eff/s</th>\n",
       "      <th>R_hat</th>\n",
       "    </tr>\n",
       "  </thead>\n",
       "  <tbody>\n",
       "    <tr>\n",
       "      <th>count</th>\n",
       "      <td>124.000000</td>\n",
       "      <td>124.000000</td>\n",
       "      <td>124.000000</td>\n",
       "      <td>124.000000</td>\n",
       "      <td>124.000000</td>\n",
       "      <td>124.000000</td>\n",
       "      <td>124.000000</td>\n",
       "      <td>124.000000</td>\n",
       "      <td>124.000000</td>\n",
       "    </tr>\n",
       "    <tr>\n",
       "      <th>mean</th>\n",
       "      <td>3.097564</td>\n",
       "      <td>0.011580</td>\n",
       "      <td>0.264616</td>\n",
       "      <td>2.691125</td>\n",
       "      <td>3.087385</td>\n",
       "      <td>3.549861</td>\n",
       "      <td>513.735290</td>\n",
       "      <td>0.854305</td>\n",
       "      <td>1.010295</td>\n",
       "    </tr>\n",
       "    <tr>\n",
       "      <th>std</th>\n",
       "      <td>0.819339</td>\n",
       "      <td>0.003241</td>\n",
       "      <td>0.076696</td>\n",
       "      <td>0.753225</td>\n",
       "      <td>0.813998</td>\n",
       "      <td>0.916265</td>\n",
       "      <td>57.513119</td>\n",
       "      <td>0.095640</td>\n",
       "      <td>0.000123</td>\n",
       "    </tr>\n",
       "    <tr>\n",
       "      <th>min</th>\n",
       "      <td>-0.646140</td>\n",
       "      <td>0.002319</td>\n",
       "      <td>0.055482</td>\n",
       "      <td>-1.655500</td>\n",
       "      <td>-0.615189</td>\n",
       "      <td>0.288159</td>\n",
       "      <td>269.358000</td>\n",
       "      <td>0.447924</td>\n",
       "      <td>1.010070</td>\n",
       "    </tr>\n",
       "    <tr>\n",
       "      <th>25%</th>\n",
       "      <td>3.384420</td>\n",
       "      <td>0.012452</td>\n",
       "      <td>0.285866</td>\n",
       "      <td>2.947240</td>\n",
       "      <td>3.372470</td>\n",
       "      <td>3.874540</td>\n",
       "      <td>527.081000</td>\n",
       "      <td>0.876498</td>\n",
       "      <td>1.010270</td>\n",
       "    </tr>\n",
       "    <tr>\n",
       "      <th>50%</th>\n",
       "      <td>3.384420</td>\n",
       "      <td>0.012452</td>\n",
       "      <td>0.285866</td>\n",
       "      <td>2.947240</td>\n",
       "      <td>3.372470</td>\n",
       "      <td>3.874540</td>\n",
       "      <td>527.081000</td>\n",
       "      <td>0.876498</td>\n",
       "      <td>1.010270</td>\n",
       "    </tr>\n",
       "    <tr>\n",
       "      <th>75%</th>\n",
       "      <td>3.384420</td>\n",
       "      <td>0.012452</td>\n",
       "      <td>0.285866</td>\n",
       "      <td>2.947240</td>\n",
       "      <td>3.372470</td>\n",
       "      <td>3.874540</td>\n",
       "      <td>527.081000</td>\n",
       "      <td>0.876498</td>\n",
       "      <td>1.010270</td>\n",
       "    </tr>\n",
       "    <tr>\n",
       "      <th>max</th>\n",
       "      <td>3.384420</td>\n",
       "      <td>0.027335</td>\n",
       "      <td>0.610735</td>\n",
       "      <td>2.947240</td>\n",
       "      <td>3.372470</td>\n",
       "      <td>3.874540</td>\n",
       "      <td>686.489000</td>\n",
       "      <td>1.141580</td>\n",
       "      <td>1.011210</td>\n",
       "    </tr>\n",
       "  </tbody>\n",
       "</table>\n",
       "</div>"
      ],
      "text/plain": [
       "             Mean        MCSE      StdDev          5%         50%         95%  \\\n",
       "count  124.000000  124.000000  124.000000  124.000000  124.000000  124.000000   \n",
       "mean     3.097564    0.011580    0.264616    2.691125    3.087385    3.549861   \n",
       "std      0.819339    0.003241    0.076696    0.753225    0.813998    0.916265   \n",
       "min     -0.646140    0.002319    0.055482   -1.655500   -0.615189    0.288159   \n",
       "25%      3.384420    0.012452    0.285866    2.947240    3.372470    3.874540   \n",
       "50%      3.384420    0.012452    0.285866    2.947240    3.372470    3.874540   \n",
       "75%      3.384420    0.012452    0.285866    2.947240    3.372470    3.874540   \n",
       "max      3.384420    0.027335    0.610735    2.947240    3.372470    3.874540   \n",
       "\n",
       "            N_Eff     N_Eff/s       R_hat  \n",
       "count  124.000000  124.000000  124.000000  \n",
       "mean   513.735290    0.854305    1.010295  \n",
       "std     57.513119    0.095640    0.000123  \n",
       "min    269.358000    0.447924    1.010070  \n",
       "25%    527.081000    0.876498    1.010270  \n",
       "50%    527.081000    0.876498    1.010270  \n",
       "75%    527.081000    0.876498    1.010270  \n",
       "max    686.489000    1.141580    1.011210  "
      ]
     },
     "execution_count": 24,
     "metadata": {},
     "output_type": "execute_result"
    }
   ],
   "source": [
    "df.loc[df['R_hat']>1.01].describe()"
   ]
  },
  {
   "cell_type": "markdown",
   "id": "798fea59-640e-4e72-bb35-3f41b389ba76",
   "metadata": {},
   "source": [
    "Saving Model"
   ]
  },
  {
   "cell_type": "code",
   "execution_count": 25,
   "id": "450e6ca5",
   "metadata": {
    "colab": {
     "background_save": true
    },
    "id": "68c03128-0bcf-4139-ae33-60299392e658"
   },
   "outputs": [],
   "source": [
    "with open(saved_model_path, \"wb\") as f:\n",
    "    pickle.dump({'model' : rdm_model, 'fit' : fit}, f, protocol=-1)"
   ]
  },
  {
   "cell_type": "markdown",
   "id": "0b32ef5c",
   "metadata": {
    "id": "2743cc7e-7238-4f84-afe4-4b502770f62b",
    "tags": []
   },
   "source": [
    "## Check parameters"
   ]
  },
  {
   "cell_type": "markdown",
   "id": "62aaf784-e97d-4d81-bcb9-90e7eefff98f",
   "metadata": {},
   "source": [
    "Loading Model"
   ]
  },
  {
   "cell_type": "code",
   "execution_count": 26,
   "id": "0a33d647",
   "metadata": {
    "colab": {
     "background_save": true
    },
    "id": "d781cdef-a1c6-4af1-940c-824398ec7d2b"
   },
   "outputs": [],
   "source": [
    "with open(saved_model_path, \"rb\") as f:\n",
    "    data_dict = pickle.load(f)\n",
    "\n",
    "fit = data_dict['fit']"
   ]
  },
  {
   "cell_type": "markdown",
   "id": "dc740f54-db93-410c-9e26-282710ef2024",
   "metadata": {},
   "source": [
    "Parameters posterior plots"
   ]
  },
  {
   "cell_type": "code",
   "execution_count": 28,
   "id": "67254033",
   "metadata": {
    "colab": {
     "background_save": true
    },
    "id": "48fc6630-74be-47a0-b387-ec99b9dc4b47"
   },
   "outputs": [
    {
     "data": {
      "image/png": "[encoded data removed]",
      "text/plain": [
       "<Figure size 1490.4x993.6 with 9 Axes>"
      ]
     },
     "metadata": {
      "needs_background": "light"
     },
     "output_type": "display_data"
    }
   ],
   "source": [
    "az.plot_posterior(fit, var_names=['transf_mu_drift_word', 'transf_mu_drift_nonword', 'transf_mu_threshold_word', 'transf_mu_threshold_nonword', 'transf_mu_ndt'], hdi_prob=.95);\n",
    "plt.savefig(plots_path + 'Parameters.pdf')"
   ]
  },
  {
   "cell_type": "markdown",
   "id": "deaeee5d-28e4-4b67-9d90-6d8ba5d39423",
   "metadata": {},
   "source": [
    "#### Models mean parameters in different conditions"
   ]
  },
  {
   "cell_type": "code",
   "execution_count": 29,
   "id": "133df71d",
   "metadata": {
    "colab": {
     "background_save": true
    },
    "id": "3539c070-29f7-422d-8c2e-1f7d44ef9246"
   },
   "outputs": [],
   "source": [
    "# Loading model parameters for each trial\n",
    "drift_word_t = fit.stan_variables()['drift_word_t']\n",
    "drift_nonword_t = fit.stan_variables()['drift_nonword_t']\n",
    "threshold_t_word = fit.stan_variables()['threshold_t_word']\n",
    "threshold_t_nonword = fit.stan_variables()['threshold_t_nonword']\n",
    "ndt_t = fit.stan_variables()['ndt_t']"
   ]
  },
  {
   "cell_type": "code",
   "execution_count": 30,
   "id": "c645f86a",
   "metadata": {
    "colab": {
     "background_save": true
    },
    "id": "3a247d68-c3af-49ef-91fd-ba4ea221358d"
   },
   "outputs": [],
   "source": [
    "HF_condition_w = drift_word_t[:, behavioural_df['category']==\"HF\"]\n",
    "HF_condition_nw = drift_nonword_t[:, behavioural_df['category']==\"HF\"]\n",
    "LF_condition_w = drift_word_t[:, behavioural_df['category']==\"LF\"]\n",
    "LF_condition_nw = drift_nonword_t[:, behavioural_df['category']==\"LF\"]\n",
    "NW_condition_w = drift_word_t[:, behavioural_df['category']==\"NW\"]\n",
    "NW_condition_nw = drift_nonword_t[:, behavioural_df['category']==\"NW\"]"
   ]
  },
  {
   "cell_type": "code",
   "execution_count": 31,
   "id": "278e000d",
   "metadata": {
    "colab": {
     "background_save": true
    },
    "id": "deac1183-5610-4a19-8ff8-7bace8d12e7c"
   },
   "outputs": [
    {
     "name": "stdout",
     "output_type": "stream",
     "text": [
      "HF words, word drift mean and std:\n",
      "4.350048866831955 0.16144506446618134\n",
      "HF words, nonword drift mean and std:\n",
      "2.0452370176942156 0.25621893967769216\n"
     ]
    }
   ],
   "source": [
    "print('HF words, word drift mean and std:')\n",
    "print(np.mean(np.mean(HF_condition_w, axis=1)), np.std(np.mean(HF_condition_w, axis=1)))\n",
    "print('HF words, nonword drift mean and std:')\n",
    "print(np.mean(np.mean(HF_condition_nw, axis=1)), np.std(np.mean(HF_condition_nw, axis=1)))"
   ]
  },
  {
   "cell_type": "code",
   "execution_count": 32,
   "id": "f51e3e5f",
   "metadata": {
    "colab": {
     "background_save": true
    },
    "id": "b2e382de-87bf-4a1d-a4b9-1fc80548eacf"
   },
   "outputs": [
    {
     "name": "stdout",
     "output_type": "stream",
     "text": [
      "LF words word drift mean and std:\n",
      "3.2284618535234215 0.14120811650221607\n",
      "LF words nonword drift mean and std:\n",
      "2.41865879009165 0.17465092951320607\n"
     ]
    }
   ],
   "source": [
    "print('LF words word drift mean and std:')\n",
    "print(np.mean(np.mean(LF_condition_w, axis=1)), np.std(np.mean(LF_condition_w, axis=1)))\n",
    "print('LF words nonword drift mean and std:')\n",
    "print(np.mean(np.mean(LF_condition_nw, axis=1)), np.std(np.mean(LF_condition_nw, axis=1)))"
   ]
  },
  {
   "cell_type": "code",
   "execution_count": 33,
   "id": "fd0eed7f",
   "metadata": {
    "colab": {
     "background_save": true
    },
    "id": "5000a3ea-dd3f-4dff-8dd3-b2acf4f9f238"
   },
   "outputs": [
    {
     "name": "stdout",
     "output_type": "stream",
     "text": [
      "NW words word drift mean and std:\n",
      "1.0166420233610507 0.15831839217780017\n",
      "NW words nonword drift mean and std:\n",
      "4.153929125766346 0.13425596644110588\n"
     ]
    }
   ],
   "source": [
    "print('NW words word drift mean and std:')\n",
    "print(np.mean(np.mean(NW_condition_w, axis=1)), np.std(np.mean(NW_condition_w, axis=1)))\n",
    "print('NW words nonword drift mean and std:')\n",
    "print(np.mean(np.mean(NW_condition_nw, axis=1)), np.std(np.mean(NW_condition_nw, axis=1)))"
   ]
  },
  {
   "cell_type": "code",
   "execution_count": 34,
   "id": "84308d46-e368-491f-8532-0f2b7b4f9966",
   "metadata": {
    "colab": {
     "background_save": true
    },
    "id": "3a247d68-c3af-49ef-91fd-ba4ea221358d"
   },
   "outputs": [],
   "source": [
    "HF_condition_w = threshold_t_word[:, behavioural_df['category']==\"HF\"]\n",
    "HF_condition_nw = threshold_t_nonword[:, behavioural_df['category']==\"HF\"]\n",
    "LF_condition_w = threshold_t_word[:, behavioural_df['category']==\"LF\"]\n",
    "LF_condition_nw = threshold_t_nonword[:, behavioural_df['category']==\"LF\"]\n",
    "NW_condition_w = threshold_t_word[:, behavioural_df['category']==\"NW\"]\n",
    "NW_condition_nw = threshold_t_nonword[:, behavioural_df['category']==\"NW\"]"
   ]
  },
  {
   "cell_type": "code",
   "execution_count": 35,
   "id": "f9d462da-a2d7-403e-9e79-1bcfd84251db",
   "metadata": {
    "colab": {
     "background_save": true
    },
    "id": "deac1183-5610-4a19-8ff8-7bace8d12e7c"
   },
   "outputs": [
    {
     "name": "stdout",
     "output_type": "stream",
     "text": [
      "HF words, word threshold mean and std:\n",
      "1.5372901587272725 0.08610311247954458\n",
      "HF words, nonword threshold mean and std:\n",
      "2.165433773663912 0.09903245022661783\n"
     ]
    }
   ],
   "source": [
    "print('HF words, word threshold mean and std:')\n",
    "print(np.mean(np.mean(HF_condition_w, axis=1)), np.std(np.mean(HF_condition_w, axis=1)))\n",
    "print('HF words, nonword threshold mean and std:')\n",
    "print(np.mean(np.mean(HF_condition_nw, axis=1)), np.std(np.mean(HF_condition_nw, axis=1)))"
   ]
  },
  {
   "cell_type": "code",
   "execution_count": 36,
   "id": "35be809a-7d17-41d2-9b3c-d37ce32b9e94",
   "metadata": {
    "colab": {
     "background_save": true
    },
    "id": "b2e382de-87bf-4a1d-a4b9-1fc80548eacf"
   },
   "outputs": [
    {
     "name": "stdout",
     "output_type": "stream",
     "text": [
      "LF words word threshold mean and std:\n",
      "1.5420057589368634 0.08654025419067589\n",
      "LF words nonword threshold mean and std:\n",
      "2.1782046654989817 0.09954395548271786\n"
     ]
    }
   ],
   "source": [
    "print('LF words word threshold mean and std:')\n",
    "print(np.mean(np.mean(LF_condition_w, axis=1)), np.std(np.mean(LF_condition_w, axis=1)))\n",
    "print('LF words nonword threshold mean and std:')\n",
    "print(np.mean(np.mean(LF_condition_nw, axis=1)), np.std(np.mean(LF_condition_nw, axis=1)))"
   ]
  },
  {
   "cell_type": "code",
   "execution_count": 37,
   "id": "4e1414c2-0d9d-49a1-bb16-77502b985e78",
   "metadata": {
    "colab": {
     "background_save": true
    },
    "id": "5000a3ea-dd3f-4dff-8dd3-b2acf4f9f238"
   },
   "outputs": [
    {
     "name": "stdout",
     "output_type": "stream",
     "text": [
      "NW words word threshold mean and std:\n",
      "1.5445216118971061 0.08633745164841326\n",
      "NW words nonword threshold mean and std:\n",
      "2.176608567406216 0.09914524555783165\n"
     ]
    }
   ],
   "source": [
    "print('NW words word threshold mean and std:')\n",
    "print(np.mean(np.mean(NW_condition_w, axis=1)), np.std(np.mean(NW_condition_w, axis=1)))\n",
    "print('NW words nonword threshold mean and std:')\n",
    "print(np.mean(np.mean(NW_condition_nw, axis=1)), np.std(np.mean(NW_condition_nw, axis=1)))"
   ]
  },
  {
   "cell_type": "code",
   "execution_count": 38,
   "id": "914e74a9",
   "metadata": {
    "colab": {
     "background_save": true
    },
    "id": "06aceb06-2f53-47ae-b0f8-68d0c96f3cbf"
   },
   "outputs": [],
   "source": [
    "HF_condition = ndt_t[:, behavioural_df['category']==\"HF\"]\n",
    "LF_condition = ndt_t[:, behavioural_df['category']==\"LF\"]\n",
    "NW_condition = ndt_t[:, behavioural_df['category']==\"NW\"]"
   ]
  },
  {
   "cell_type": "code",
   "execution_count": 39,
   "id": "1eacfbe0",
   "metadata": {
    "colab": {
     "background_save": true
    },
    "id": "c7ff4f51-0587-4f7a-bf79-7bc1fe0951e2"
   },
   "outputs": [
    {
     "name": "stdout",
     "output_type": "stream",
     "text": [
      "HF words ndt_t mean and std:\n",
      "0.2209427870101378 0.012293360939928966\n"
     ]
    }
   ],
   "source": [
    "print('HF words ndt_t mean and std:')\n",
    "print(np.mean(np.mean(HF_condition, axis=1)), np.std(np.mean(HF_condition, axis=1)))"
   ]
  },
  {
   "cell_type": "code",
   "execution_count": 40,
   "id": "b084b873",
   "metadata": {
    "colab": {
     "background_save": true
    },
    "id": "cb6c1af9-e52c-4247-9b63-7c1eadffb620"
   },
   "outputs": [
    {
     "name": "stdout",
     "output_type": "stream",
     "text": [
      "LF words ndt_t mean and std:\n",
      "0.2213027747016701 0.012508499636073383\n"
     ]
    }
   ],
   "source": [
    "print('LF words ndt_t mean and std:')\n",
    "print(np.mean(np.mean(LF_condition, axis=1)), np.std(np.mean(LF_condition, axis=1)))"
   ]
  },
  {
   "cell_type": "code",
   "execution_count": 41,
   "id": "191321f1",
   "metadata": {
    "colab": {
     "background_save": true
    },
    "id": "8c41e49e-4801-43c1-b700-9721d9f719c9"
   },
   "outputs": [
    {
     "name": "stdout",
     "output_type": "stream",
     "text": [
      "Non Words ndt_t mean and std:\n",
      "0.21941133383807074 0.01249658589159093\n"
     ]
    }
   ],
   "source": [
    "print('Non Words ndt_t mean and std:')\n",
    "print(np.mean(np.mean(NW_condition, axis=1)), np.std(np.mean(NW_condition, axis=1)))"
   ]
  },
  {
   "cell_type": "markdown",
   "id": "3d64f181-de50-4bec-ad6a-9f0c7c95cea5",
   "metadata": {},
   "source": [
    "## Calculating metrics"
   ]
  },
  {
   "cell_type": "code",
   "execution_count": 42,
   "id": "b018e8df-553d-42b4-833c-d2f967b17ed1",
   "metadata": {},
   "outputs": [],
   "source": [
    "def calculate_waic(log_likelihood, pointwise=False):\n",
    "    \"\"\"\n",
    "    Returns model comparisions' metrics.\n",
    "    \n",
    "    Parameters\n",
    "    ----------\n",
    "        log_likelihood: np.array\n",
    "            log_likelihood of each trial\n",
    "        max_rt: float\n",
    "            maximum acceptable rt\n",
    "        min_rt: float\n",
    "             minimum acceptable rt\n",
    "             \n",
    "    Optional Parameters\n",
    "    ----------------\n",
    "    pointwise: float\n",
    "        if true pointwise waic will be calculated\n",
    "        \n",
    "    Returns\n",
    "    -------\n",
    "        out:  a dictionary containing lppd, waic, waic_se and pointwise_waic    \n",
    "    \"\"\"\n",
    "    likelihood = np.exp(log_likelihood)\n",
    "\n",
    "    mean_l = np.mean(likelihood, axis=0) # N observations\n",
    "\n",
    "    pointwise_lppd = np.log(mean_l)\n",
    "    lppd = np.sum(pointwise_lppd)\n",
    "\n",
    "    pointwise_var_l = np.var(log_likelihood, axis=0) # N observations\n",
    "    var_l = np.sum(pointwise_var_l)\n",
    "\n",
    "    pointwise_waic = - 2*pointwise_lppd +  2*pointwise_var_l\n",
    "    waic = -2*lppd + 2*var_l\n",
    "    waic_se = np.sqrt(log_likelihood.shape[1] * np.var(pointwise_waic))\n",
    "\n",
    "    if pointwise:\n",
    "        out = {'lppd':lppd,\n",
    "               'p_waic':var_l,\n",
    "               'waic':waic,\n",
    "               'waic_se':waic_se,\n",
    "               'pointwise_waic':pointwise_waic}\n",
    "    else:\n",
    "        out = {'lppd':lppd,\n",
    "               'p_waic':var_l,\n",
    "                'waic':waic,\n",
    "                'waic_se':waic_se}\n",
    "    return out"
   ]
  },
  {
   "cell_type": "code",
   "execution_count": 43,
   "id": "9beabf75-4cb8-49dc-b604-9f0adf32dfe4",
   "metadata": {},
   "outputs": [
    {
     "data": {
      "text/plain": [
       "{'lppd': 309.69564686506186,\n",
       " 'p_waic': 47.494011538094426,\n",
       " 'waic': -524.4032706539349,\n",
       " 'waic_se': 99.7217075473332}"
      ]
     },
     "execution_count": 43,
     "metadata": {},
     "output_type": "execute_result"
    }
   ],
   "source": [
    "log_likelihood = fit.stan_variables()['log_lik']\n",
    "calculate_waic(log_likelihood)"
   ]
  },
  {
   "cell_type": "markdown",
   "id": "5a23772b-94de-40e6-88d6-f5a6aaefab64",
   "metadata": {},
   "source": [
    "## Simulating RDM with estimated parameters"
   ]
  },
  {
   "cell_type": "code",
   "execution_count": 44,
   "id": "737be2f5-fd9f-432a-a42f-c8bc89a28c7a",
   "metadata": {},
   "outputs": [],
   "source": [
    "def random_rdm_2A(cor_drift, inc_drift, threshold_word, threshold_nonword, ndt, noise_constant=1, dt=0.001, max_rt=10):\n",
    "    \"\"\" \n",
    "    Simulates behavior (rt and accuracy) according to the Racing Diffusion Model.\n",
    "     \n",
    "    Parameters\n",
    "    ----------\n",
    "    cor_drift : numpy.ndarray\n",
    "        Drift-rate of the Racing Diffusion Model - correct trials.\n",
    "    inc_drift : numpy.ndarray\n",
    "        Drift-rate of the Racing Diffusion Model - incorrect trials.\n",
    "    threshold : numpy.ndarray\n",
    "        Shape is usually (n_samples, n_trials).\n",
    "        Threshold of the diffusion decision model.\n",
    "    ndt : numpy.ndarray\n",
    "        Shape is usually (n_samples, n_trials).\n",
    "        Non decision time of the diffusion decision model, in seconds.\n",
    "    \n",
    "    Optional Parameters\n",
    "    ----------------\n",
    "    noise_constant : float, default 1\n",
    "        Scaling factor of the Racing Diffusion Model.\n",
    "        If changed, drift and threshold would be scaled accordingly.\n",
    "        Not to be changed in most applications.\n",
    "    dt : float, default 0.001\n",
    "        Controls the time resolution of the Racing Diffusion Model. Default is 1 msec.\n",
    "        Lower values of dt make the function more precise but much slower.\n",
    "    max_rt : float, default 10\n",
    "        Controls the maximum rts that can be predicted.\n",
    "        Making this higher might make the function a bit slower.\n",
    "    \n",
    "    Returns\n",
    "    -------\n",
    "    rt : numpy.ndarray\n",
    "        Shape is the same as the input parameters.\n",
    "        Contains simulated response times according to the Racing Diffusion Model.\n",
    "        Every element corresponds to the set of parameters given as input with the same shape.\n",
    "    acc: numpy.ndarray\n",
    "        Shape is the same as the input parameters.\n",
    "        Contains simulated accuracy according to the Racing Diffusion Model.\n",
    "        Every element corresponds to the set of parameters given as input with the same shape.\n",
    "    \"\"\"\n",
    "    shape = cor_drift.shape\n",
    "    acc = np.empty(shape)\n",
    "    rt = np.empty(shape)\n",
    "    acc[:] = np.nan\n",
    "    rt[:] = np.nan\n",
    "\n",
    "    max_tsteps = max_rt/dt\n",
    "\n",
    "    x_cor = np.zeros(shape)\n",
    "    x_inc = np.zeros(shape)\n",
    "\n",
    "    tstep = 0\n",
    "    ongoing = np.array(np.ones(shape), dtype=bool)\n",
    "\n",
    "    stop_race = False\n",
    "\n",
    "    while np.sum(ongoing) > 0 and tstep < max_tsteps:\n",
    "        x_cor[ongoing] += np.random.normal(cor_drift[ongoing]*dt,\n",
    "                                           noise_constant*np.sqrt(dt),\n",
    "                                           np.sum(ongoing))\n",
    "        x_inc[ongoing] += np.random.normal(inc_drift[ongoing]*dt,\n",
    "                                           noise_constant*np.sqrt(dt),\n",
    "                                           np.sum(ongoing))\n",
    "        tstep += 1\n",
    "        ended_correct = (x_cor >= threshold_word)\n",
    "        ended_incorrect = (x_inc >= threshold_nonword)\n",
    "\n",
    "        # store results and filter out ended trials\n",
    "        if np.sum(ended_correct) > 0:\n",
    "            acc[np.logical_and(ended_correct, ongoing)] = 1\n",
    "            rt[np.logical_and(ended_correct, ongoing)] = dt*tstep + ndt[np.logical_and(ended_correct, ongoing)]\n",
    "            ongoing[ended_correct] = False\n",
    "\n",
    "        if np.sum(ended_incorrect) > 0:\n",
    "            acc[np.logical_and(ended_incorrect, ongoing)] = 0\n",
    "            rt[np.logical_and(ended_incorrect, ongoing)] = dt*tstep + ndt[np.logical_and(ended_incorrect, ongoing)]\n",
    "            ongoing[ended_incorrect] = False\n",
    "    return rt, acc"
   ]
  },
  {
   "cell_type": "markdown",
   "id": "b867e05c-ebda-4bc3-ae51-e340e337344f",
   "metadata": {},
   "source": [
    "Simulating RDM with estimated parameters"
   ]
  },
  {
   "cell_type": "code",
   "execution_count": 45,
   "id": "f6786ed3-265f-4698-9a37-75d19e125806",
   "metadata": {},
   "outputs": [],
   "source": [
    "pp_rt, pp_response = random_rdm_2A(drift_word_t, drift_nonword_t, threshold_t_word, threshold_t_nonword, ndt_t, noise_constant=1, dt=0.001, max_rt=5)"
   ]
  },
  {
   "cell_type": "code",
   "execution_count": 46,
   "id": "c7183cf1-fc0e-436b-b607-9d821ef736f2",
   "metadata": {},
   "outputs": [],
   "source": [
    "def bci(x, alpha=0.05):\n",
    "    \"\"\"\n",
    "    Calculate Bayesian credible interval (BCI).\n",
    "    \n",
    "    Parameters\n",
    "    ----------\n",
    "    x : array-like\n",
    "        An array containing MCMC samples.\n",
    "    \n",
    "    Optional Parameters\n",
    "    -------------------\n",
    "    alpha : float, default 0.05\n",
    "        Desired probability of type I error.\n",
    "    \n",
    "    Returns\n",
    "    -------\n",
    "    interval : numpy.ndarray\n",
    "        Array containing the lower and upper bounds of the bci interval.\n",
    "    \"\"\"\n",
    "    interval = np.nanpercentile(x, [(alpha/2)*100, (1-alpha/2)*100])\n",
    "\n",
    "    return interval"
   ]
  },
  {
   "cell_type": "code",
   "execution_count": 47,
   "id": "b235c705-7301-4c3c-b906-5979789d606f",
   "metadata": {},
   "outputs": [],
   "source": [
    "# Predicted Data\n",
    "rt_predictions = pd.concat((pd.DataFrame(pp_rt, index=pd.Index(np.arange(1, len(pp_rt)+1))).T, behavioural_df['category']), axis=1)\n",
    "response_predictions = pd.concat((pd.DataFrame(pp_response, index=pd.Index(np.arange(1, len(pp_response)+1))).T, behavioural_df['category']), axis=1)\n",
    "\n",
    "# Experiment Data\n",
    "experiment_data = behavioural_df.loc[:, ['rt', 'response', 'category']]"
   ]
  },
  {
   "cell_type": "markdown",
   "id": "7fdd192d-bac0-4fdc-afd2-148b6a9ae332",
   "metadata": {},
   "source": [
    "Separating RT and Response of predicted and experimental data for each condition"
   ]
  },
  {
   "cell_type": "code",
   "execution_count": 48,
   "id": "cffd58c1-f474-4c7c-85d6-f26b16c77859",
   "metadata": {},
   "outputs": [],
   "source": [
    "HF_data = experiment_data.loc[experiment_data['category']=='HF']\n",
    "LF_data = experiment_data.loc[experiment_data['category']=='LF']\n",
    "NW_data = experiment_data.loc[experiment_data['category']=='NW']\n",
    "\n",
    "HF_pred_rt = rt_predictions.loc[rt_predictions['category']=='HF']\n",
    "HF_pred_resp = response_predictions.loc[response_predictions['category']=='HF']\n",
    "LF_pred_rt = rt_predictions.loc[rt_predictions['category']=='LF']\n",
    "LF_pred_resp = response_predictions.loc[response_predictions['category']=='LF']\n",
    "NW_pred_rt = rt_predictions.loc[rt_predictions['category']=='NW']\n",
    "NW_pred_resp = response_predictions.loc[response_predictions['category']=='NW']"
   ]
  },
  {
   "cell_type": "markdown",
   "id": "bc68071a-3121-47da-94c5-bae5db334c5c",
   "metadata": {
    "id": "defea622-f638-4a0e-a269-937234d4a49f",
    "tags": []
   },
   "source": [
    "## Quantiles Posterior Predictions"
   ]
  },
  {
   "cell_type": "code",
   "execution_count": 49,
   "id": "4378eb36-76cc-4a39-b2ed-643addccbc4d",
   "metadata": {},
   "outputs": [],
   "source": [
    "quantiles = [.1, .3, .5, .7, .9]\n",
    "percentiles = np.array(quantiles)*100"
   ]
  },
  {
   "cell_type": "code",
   "execution_count": 50,
   "id": "96001a51-55af-4f25-93c4-cdcc00556eb5",
   "metadata": {},
   "outputs": [],
   "source": [
    "# experiment Data quantile\n",
    "HF_quantile_ex = HF_data['rt'].quantile(quantiles)\n",
    "LF_quantile_ex = LF_data['rt'].quantile(quantiles)\n",
    "NW_quantile_ex = NW_data['rt'].quantile(quantiles)\n",
    "\n",
    "# predicted data quantiles (for each sample)\n",
    "HF_quantile_pred = HF_pred_rt.quantile(quantiles, axis=0).T\n",
    "LF_quantile_pred = LF_pred_rt.quantile(quantiles, axis=0).T\n",
    "NW_quantile_pred = NW_pred_rt.quantile(quantiles, axis=0).T\n",
    "\n",
    "# predicted data quantiles bci\n",
    "HF_predicted_bci = np.array([bci(HF_quantile_pred[x]) for x in quantiles])\n",
    "LF_predicted_bci = np.array([bci(LF_quantile_pred[x]) for x in quantiles])\n",
    "NW_predicted_bci = np.array([bci(NW_quantile_pred[x]) for x in quantiles])"
   ]
  },
  {
   "cell_type": "code",
   "execution_count": 51,
   "id": "3e40fa75-a52a-45f9-8f44-b6097ff621e7",
   "metadata": {},
   "outputs": [
    {
     "data": {
      "image/png": "[encoded data removed]",
      "text/plain": [
       "<Figure size 2520x576 with 3 Axes>"
      ]
     },
     "metadata": {
      "needs_background": "light"
     },
     "output_type": "display_data"
    }
   ],
   "source": [
    "fig, axes = plt.subplots(1,3 , figsize=(35,8))\n",
    "plt.subplots_adjust(wspace=0.2, hspace=0.5)\n",
    "\n",
    "axes[0].set_title('HF quantiles', fontweight=\"bold\", size=20)\n",
    "axes[1].set_title('LF quantiles', fontweight=\"bold\", size=20)\n",
    "axes[2].set_title('NW quantiles', fontweight=\"bold\", size=20)\n",
    "\n",
    "axes[0].scatter(quantiles, HF_quantile_ex, color='black', s=150)\n",
    "axes[1].scatter(quantiles, LF_quantile_ex, color='black', s=150)\n",
    "axes[2].scatter(quantiles, NW_quantile_ex, color='black', s=150)\n",
    "\n",
    "axes[0].fill_between(quantiles,\n",
    "                HF_predicted_bci[:, 0],\n",
    "                HF_predicted_bci[:, 1],\n",
    "                HF_predicted_bci[:, 0] < HF_predicted_bci[:, 1],  color = 'gold', alpha=0.3)\n",
    "\n",
    "axes[1].fill_between(quantiles,\n",
    "                LF_predicted_bci[:, 0],\n",
    "                LF_predicted_bci[:, 1],\n",
    "                LF_predicted_bci[:, 0] < LF_predicted_bci[:, 1],  color = 'lightskyblue', alpha=0.3)\n",
    "\n",
    "axes[2].fill_between(quantiles,\n",
    "                NW_predicted_bci[:, 0],\n",
    "                NW_predicted_bci[:, 1],\n",
    "                NW_predicted_bci[:, 0] < NW_predicted_bci[:, 1],  color = 'limegreen', alpha=0.3)\n",
    "\n",
    "\n",
    "for ax in axes:\n",
    "        ax.set_xlabel('Quantiles', fontsize=20)\n",
    "        ax.set_xticks(quantiles)\n",
    "        ax.set_xticklabels(quantiles)\n",
    "        ax.set_ylabel('RTs upper boundary', fontsize=20)\n",
    "        for tick in ax.xaxis.get_major_ticks():\n",
    "                tick.label.set_fontsize(14)\n",
    "        for tick in ax.yaxis.get_major_ticks():\n",
    "            tick.label.set_fontsize(14) \n",
    "\n",
    "sns.despine()\n",
    "plt.savefig(plots_path + 'Quantiles Poseterior.pdf')"
   ]
  },
  {
   "cell_type": "markdown",
   "id": "9d335303-115f-4be3-b5b9-44db89033c76",
   "metadata": {
    "tags": []
   },
   "source": [
    "## Mean Accuracy and RT Posterior Plots"
   ]
  },
  {
   "cell_type": "code",
   "execution_count": 52,
   "id": "9d60fb04-d913-45b7-aa6b-86aac6e69dfb",
   "metadata": {},
   "outputs": [
    {
     "name": "stderr",
     "output_type": "stream",
     "text": [
      "C:\\Users\\mahva\\AppData\\Local\\Temp\\ipykernel_1628\\447608752.py:5: FutureWarning: Dropping of nuisance columns in DataFrame reductions (with 'numeric_only=None') is deprecated; in a future version this will raise TypeError.  Select only valid columns before calling the reduction.\n",
      "  HF_pred_rt_mean = HF_pred_rt.mean(axis=0)\n",
      "C:\\Users\\mahva\\AppData\\Local\\Temp\\ipykernel_1628\\447608752.py:6: FutureWarning: Dropping of nuisance columns in DataFrame reductions (with 'numeric_only=None') is deprecated; in a future version this will raise TypeError.  Select only valid columns before calling the reduction.\n",
      "  LF_pred_rt_mean = LF_pred_rt.mean(axis=0)\n",
      "C:\\Users\\mahva\\AppData\\Local\\Temp\\ipykernel_1628\\447608752.py:7: FutureWarning: Dropping of nuisance columns in DataFrame reductions (with 'numeric_only=None') is deprecated; in a future version this will raise TypeError.  Select only valid columns before calling the reduction.\n",
      "  NW_pred_rt_mean = NW_pred_rt.mean(axis=0)\n",
      "C:\\Users\\mahva\\AppData\\Local\\Temp\\ipykernel_1628\\447608752.py:14: FutureWarning: Dropping of nuisance columns in DataFrame reductions (with 'numeric_only=None') is deprecated; in a future version this will raise TypeError.  Select only valid columns before calling the reduction.\n",
      "  HF_pred_resp_mean = HF_pred_resp.mean(axis=0)\n",
      "C:\\Users\\mahva\\AppData\\Local\\Temp\\ipykernel_1628\\447608752.py:15: FutureWarning: Dropping of nuisance columns in DataFrame reductions (with 'numeric_only=None') is deprecated; in a future version this will raise TypeError.  Select only valid columns before calling the reduction.\n",
      "  LF_pred_resp_mean = LF_pred_resp.mean(axis=0)\n",
      "C:\\Users\\mahva\\AppData\\Local\\Temp\\ipykernel_1628\\447608752.py:16: FutureWarning: Dropping of nuisance columns in DataFrame reductions (with 'numeric_only=None') is deprecated; in a future version this will raise TypeError.  Select only valid columns before calling the reduction.\n",
      "  NW_pred_resp_mean = NW_pred_resp.mean(axis=0)\n"
     ]
    }
   ],
   "source": [
    "HF_data_rt_mean = HF_data['rt'].mean()\n",
    "LF_data_rt_mean = LF_data['rt'].mean()\n",
    "NW_data_rt_mean = NW_data['rt'].mean()\n",
    "\n",
    "HF_pred_rt_mean = HF_pred_rt.mean(axis=0)\n",
    "LF_pred_rt_mean = LF_pred_rt.mean(axis=0)\n",
    "NW_pred_rt_mean = NW_pred_rt.mean(axis=0)\n",
    "\n",
    "\n",
    "HF_data_resp_mean = HF_data['response'].mean()\n",
    "LF_data_resp_mean = LF_data['response'].mean()\n",
    "NW_data_resp_mean = NW_data['response'].mean()\n",
    "\n",
    "HF_pred_resp_mean = HF_pred_resp.mean(axis=0)\n",
    "LF_pred_resp_mean = LF_pred_resp.mean(axis=0)\n",
    "NW_pred_resp_mean = NW_pred_resp.mean(axis=0)\n"
   ]
  },
  {
   "cell_type": "code",
   "execution_count": 53,
   "id": "b28be60d-fa47-4f5b-bb8e-3e9ea312239c",
   "metadata": {},
   "outputs": [],
   "source": [
    "def plot_posterior(x, data_mean, ax):\n",
    "    \"\"\"\n",
    "    Plots the posterior of x with experimental data mean as a line\n",
    "    \n",
    "    Parameters\n",
    "    ----------\n",
    "    x : array-like\n",
    "        An array containing RT or response for each trial.\n",
    "        \n",
    "    x : float\n",
    "        mean of RT or Accuracy of experimental data.\n",
    "\n",
    "    ax : matplotlib.axes.Axes\n",
    "        \n",
    "    Returns\n",
    "    -------\n",
    "    None\n",
    "    \"\"\"\n",
    "    density = gaussian_kde(x, bw_method='scott')\n",
    "    xd = np.linspace(x.min(), x.max())\n",
    "    yd = density(xd)\n",
    "\n",
    "    low, high = bci(x)\n",
    "    ax.fill_between(xd[np.logical_and(xd >= low, xd <= high)],\n",
    "                     yd[np.logical_and(xd >= low, xd <= high)], color = 'lightsteelblue')\n",
    "\n",
    "    ax.plot(xd, yd, color='slategray')\n",
    "    ax.axvline(data_mean, color='red')"
   ]
  },
  {
   "cell_type": "code",
   "execution_count": 54,
   "id": "e60ee9b7-ea0d-4ef3-8ba8-8591e9bb437c",
   "metadata": {},
   "outputs": [
    {
     "data": {
      "image/png": "[encoded data removed]",
      "text/plain": [
       "<Figure size 1080x1440 with 6 Axes>"
      ]
     },
     "metadata": {
      "needs_background": "light"
     },
     "output_type": "display_data"
    }
   ],
   "source": [
    "fig, axes = plt.subplots(3,2 , figsize=(15,20))\n",
    "plt.subplots_adjust(wspace=0.3, hspace=0.5)\n",
    "\n",
    "axes[0][0].set_title('HF mean RT', fontweight=\"bold\", size=16)\n",
    "axes[0][1].set_title('HF mean Response', fontweight=\"bold\", size=16)\n",
    "axes[1][0].set_title('LF mean RT', fontweight=\"bold\", size=16)\n",
    "axes[1][1].set_title('LF mean Response', fontweight=\"bold\", size=16)\n",
    "axes[2][0].set_title('NW mean RT', fontweight=\"bold\", size=16)\n",
    "axes[2][1].set_title('NW mean Response', fontweight=\"bold\", size=16)\n",
    "\n",
    "plot_posterior(HF_pred_rt_mean, HF_data_rt_mean, axes[0][0])\n",
    "plot_posterior(HF_pred_resp_mean, HF_data_resp_mean, axes[0][1])\n",
    "\n",
    "plot_posterior(LF_pred_rt_mean, LF_data_rt_mean, axes[1][0])\n",
    "plot_posterior(LF_pred_resp_mean, LF_data_resp_mean, axes[1][1])\n",
    "\n",
    "plot_posterior(NW_pred_rt_mean, NW_data_rt_mean, axes[2][0])\n",
    "plot_posterior(NW_pred_resp_mean, NW_data_resp_mean, axes[2][1])\n",
    "\n",
    "for ax in axes:\n",
    "        ax[0].set_xlabel('RT', fontsize=14)\n",
    "        ax[1].set_xlabel('Accuracy', fontsize=14)\n",
    "        ax[0].set_ylabel('Density', fontsize=14)\n",
    "        ax[1].set_ylabel('Density', fontsize=14)\n",
    "        for tick in ax[0].xaxis.get_major_ticks():\n",
    "                tick.label.set_fontsize(12)\n",
    "        for tick in ax[0].yaxis.get_major_ticks():\n",
    "            tick.label.set_fontsize(12)\n",
    "        for tick in ax[1].xaxis.get_major_ticks():\n",
    "            tick.label.set_fontsize(12)\n",
    "        for tick in ax[1].yaxis.get_major_ticks():\n",
    "            tick.label.set_fontsize(12) \n",
    "\n",
    "plt.savefig(plots_path + 'Mean Accuracy and RT.pdf')"
   ]
  },
  {
   "cell_type": "code",
   "execution_count": null,
   "id": "d278ece6-6e55-43ec-bcc8-e59ccd1c717e",
   "metadata": {},
   "outputs": [],
   "source": []
  },
  {
   "cell_type": "code",
   "execution_count": null,
   "id": "4f51faf2-2e95-4d86-a285-1e7e38d829de",
   "metadata": {},
   "outputs": [],
   "source": []
  }
 ],
 "metadata": {
  "colab": {
   "collapsed_sections": [],
   "name": "Estimation_Hier.ipynb",
   "version": ""
  },
  "kernelspec": {
   "display_name": "Python 3 (ipykernel)",
   "language": "python",
   "name": "python3"
  },
  "language_info": {
   "codemirror_mode": {
    "name": "ipython",
    "version": 3
   },
   "file_extension": ".py",
   "mimetype": "text/x-python",
   "name": "python",
   "nbconvert_exporter": "python",
   "pygments_lexer": "ipython3",
   "version": "3.10.4"
  }
 },
 "nbformat": 4,
 "nbformat_minor": 5
}

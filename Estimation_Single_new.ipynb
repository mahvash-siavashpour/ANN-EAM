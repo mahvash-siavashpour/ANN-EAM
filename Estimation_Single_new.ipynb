{
  "cells": [
    {
      "cell_type": "markdown",
      "metadata": {
        "id": "04ab4fbd-f191-427a-a2e4-db4ff76fa385"
      },
      "source": [
        "# Import libraries"
      ],
      "id": "04ab4fbd-f191-427a-a2e4-db4ff76fa385"
    },
    {
      "cell_type": "code",
      "execution_count": null,
      "metadata": {
        "colab": {
          "base_uri": "https://localhost:8080/"
        },
        "id": "9746aca6-8ff2-4868-904e-854aee20ffd0",
        "outputId": "602e6f9e-7594-4700-c11c-50d27f1cf651"
      },
      "outputs": [
        {
          "output_type": "stream",
          "name": "stdout",
          "text": [
            "Requirement already satisfied: rlssm in /usr/local/lib/python3.7/dist-packages (0.1.1.dev0)\n",
            "Requirement already satisfied: numpy in /usr/local/lib/python3.7/dist-packages (from rlssm) (1.21.5)\n",
            "Requirement already satisfied: pystan in /usr/local/lib/python3.7/dist-packages (from rlssm) (2.19.1.1)\n",
            "Requirement already satisfied: pandas in /usr/local/lib/python3.7/dist-packages (from rlssm) (1.3.5)\n",
            "Requirement already satisfied: pytz>=2017.3 in /usr/local/lib/python3.7/dist-packages (from pandas->rlssm) (2018.9)\n",
            "Requirement already satisfied: python-dateutil>=2.7.3 in /usr/local/lib/python3.7/dist-packages (from pandas->rlssm) (2.8.2)\n",
            "Requirement already satisfied: six>=1.5 in /usr/local/lib/python3.7/dist-packages (from python-dateutil>=2.7.3->pandas->rlssm) (1.15.0)\n",
            "Requirement already satisfied: Cython!=0.25.1,>=0.22 in /usr/local/lib/python3.7/dist-packages (from pystan->rlssm) (0.29.28)\n"
          ]
        }
      ],
      "source": [
        "!pip install rlssm\n",
        "import rlssm\n",
        "import numpy as np\n",
        "import copy\n",
        "import pickle\n",
        "import pandas as pd\n",
        "import scipy\n",
        "import matplotlib.pyplot as plt\n",
        "import seaborn as sns\n",
        "import csv\n",
        "import pystan\n",
        "import arviz as az\n",
        "from tqdm import tqdm"
      ],
      "id": "9746aca6-8ff2-4868-904e-854aee20ffd0"
    },
    {
      "cell_type": "code",
      "execution_count": null,
      "metadata": {
        "colab": {
          "base_uri": "https://localhost:8080/"
        },
        "id": "Cq8SlnBCoQkl",
        "outputId": "d1298e24-ad77-49d9-b123-e81c6086716d"
      },
      "outputs": [
        {
          "output_type": "stream",
          "name": "stdout",
          "text": [
            "Drive already mounted at /content/drive; to attempt to forcibly remount, call drive.mount(\"/content/drive\", force_remount=True).\n"
          ]
        }
      ],
      "source": [
        "from google.colab import drive\n",
        "drive.mount('/content/drive')"
      ],
      "id": "Cq8SlnBCoQkl"
    },
    {
      "cell_type": "code",
      "execution_count": null,
      "metadata": {
        "id": "cm0nlTMRoOVA"
      },
      "outputs": [],
      "source": [
        "root = \"drive/MyDrive/CMPLabData/Lexicon/\""
      ],
      "id": "cm0nlTMRoOVA"
    },
    {
      "cell_type": "markdown",
      "metadata": {
        "id": "123c4809-7b46-4f8d-b578-0d5e9fb5fbe7"
      },
      "source": [
        "# Prepare data"
      ],
      "id": "123c4809-7b46-4f8d-b578-0d5e9fb5fbe7"
    },
    {
      "cell_type": "code",
      "execution_count": null,
      "metadata": {
        "id": "e99257cb-7244-4960-b51d-1e47bae6c66b"
      },
      "outputs": [],
      "source": [
        "words = []\n",
        "frq = []\n",
        "sum_frq = 0\n",
        "with open(root+\"Datasets/Items.csv\", 'r') as file:\n",
        "    reader = csv.reader(file)\n",
        "    for idx, row in enumerate(reader):\n",
        "        if idx ==0 or len(row[0]) > 20: \n",
        "            continue\n",
        "        words.append([row[0], int(row[2].replace(',',''))])\n",
        "        frq.append(int(row[2].replace(',','')))\n",
        "        sum_frq += int(row[2].replace(',',''))\n",
        "        \n",
        "words.sort(key = lambda x: x[1], reverse=True)\n",
        "\n",
        "all_words = [word[0] for word in words]\n",
        "hf_words = all_words[:int(len(words)/2)]\n",
        "lf_words = all_words[int(len(words)/2):]\n",
        "# Another metric for defining hf an lf is good to be tested (something other than half of the words are hf\n",
        "# and other half is lf)"
      ],
      "id": "e99257cb-7244-4960-b51d-1e47bae6c66b"
    },
    {
      "cell_type": "code",
      "execution_count": null,
      "metadata": {
        "colab": {
          "base_uri": "https://localhost:8080/",
          "height": 424
        },
        "id": "b9041df4-bc04-4ff8-94ad-a8be7df40df2",
        "outputId": "57d7f22f-7de2-4db7-c5d6-324d178a7b88"
      },
      "outputs": [
        {
          "output_type": "execute_result",
          "data": {
            "text/html": [
              "\n",
              "  <div id=\"df-605f0500-5272-44ec-8dea-6e109c0409ce\">\n",
              "    <div class=\"colab-df-container\">\n",
              "      <div>\n",
              "<style scoped>\n",
              "    .dataframe tbody tr th:only-of-type {\n",
              "        vertical-align: middle;\n",
              "    }\n",
              "\n",
              "    .dataframe tbody tr th {\n",
              "        vertical-align: top;\n",
              "    }\n",
              "\n",
              "    .dataframe thead th {\n",
              "        text-align: right;\n",
              "    }\n",
              "</style>\n",
              "<table border=\"1\" class=\"dataframe\">\n",
              "  <thead>\n",
              "    <tr style=\"text-align: right;\">\n",
              "      <th></th>\n",
              "      <th>string</th>\n",
              "      <th>freq</th>\n",
              "      <th>label</th>\n",
              "      <th>log_freq</th>\n",
              "      <th>category</th>\n",
              "      <th>word_prob</th>\n",
              "      <th>non_word_prob</th>\n",
              "      <th>logit</th>\n",
              "    </tr>\n",
              "  </thead>\n",
              "  <tbody>\n",
              "    <tr>\n",
              "      <th>0</th>\n",
              "      <td>a</td>\n",
              "      <td>10610626</td>\n",
              "      <td>1</td>\n",
              "      <td>16.0</td>\n",
              "      <td>HF</td>\n",
              "      <td>0.906281</td>\n",
              "      <td>0.093719</td>\n",
              "      <td>2.269047</td>\n",
              "    </tr>\n",
              "    <tr>\n",
              "      <th>1</th>\n",
              "      <td>aah</td>\n",
              "      <td>222</td>\n",
              "      <td>1</td>\n",
              "      <td>5.0</td>\n",
              "      <td>LF</td>\n",
              "      <td>0.602188</td>\n",
              "      <td>0.397813</td>\n",
              "      <td>0.414588</td>\n",
              "    </tr>\n",
              "    <tr>\n",
              "      <th>2</th>\n",
              "      <td>Aaron</td>\n",
              "      <td>10806</td>\n",
              "      <td>1</td>\n",
              "      <td>9.0</td>\n",
              "      <td>HF</td>\n",
              "      <td>0.847060</td>\n",
              "      <td>0.152940</td>\n",
              "      <td>1.711725</td>\n",
              "    </tr>\n",
              "    <tr>\n",
              "      <th>3</th>\n",
              "      <td>aback</td>\n",
              "      <td>387</td>\n",
              "      <td>1</td>\n",
              "      <td>6.0</td>\n",
              "      <td>LF</td>\n",
              "      <td>0.928595</td>\n",
              "      <td>0.071405</td>\n",
              "      <td>2.565301</td>\n",
              "    </tr>\n",
              "    <tr>\n",
              "      <th>4</th>\n",
              "      <td>abacus</td>\n",
              "      <td>513</td>\n",
              "      <td>1</td>\n",
              "      <td>6.0</td>\n",
              "      <td>LF</td>\n",
              "      <td>0.967652</td>\n",
              "      <td>0.032348</td>\n",
              "      <td>3.398307</td>\n",
              "    </tr>\n",
              "    <tr>\n",
              "      <th>...</th>\n",
              "      <td>...</td>\n",
              "      <td>...</td>\n",
              "      <td>...</td>\n",
              "      <td>...</td>\n",
              "      <td>...</td>\n",
              "      <td>...</td>\n",
              "      <td>...</td>\n",
              "      <td>...</td>\n",
              "    </tr>\n",
              "    <tr>\n",
              "      <th>80817</th>\n",
              "      <td>declassificarion</td>\n",
              "      <td>0</td>\n",
              "      <td>0</td>\n",
              "      <td>0.0</td>\n",
              "      <td>NW</td>\n",
              "      <td>0.207975</td>\n",
              "      <td>0.792025</td>\n",
              "      <td>-1.337176</td>\n",
              "    </tr>\n",
              "    <tr>\n",
              "      <th>80818</th>\n",
              "      <td>antifundamentadast</td>\n",
              "      <td>0</td>\n",
              "      <td>0</td>\n",
              "      <td>0.0</td>\n",
              "      <td>NW</td>\n",
              "      <td>0.008859</td>\n",
              "      <td>0.991141</td>\n",
              "      <td>-4.717467</td>\n",
              "    </tr>\n",
              "    <tr>\n",
              "      <th>80819</th>\n",
              "      <td>transcontanental</td>\n",
              "      <td>0</td>\n",
              "      <td>0</td>\n",
              "      <td>0.0</td>\n",
              "      <td>NW</td>\n",
              "      <td>0.032687</td>\n",
              "      <td>0.967313</td>\n",
              "      <td>-3.387558</td>\n",
              "    </tr>\n",
              "    <tr>\n",
              "      <th>80820</th>\n",
              "      <td>iv</td>\n",
              "      <td>0</td>\n",
              "      <td>0</td>\n",
              "      <td>0.0</td>\n",
              "      <td>NW</td>\n",
              "      <td>0.847766</td>\n",
              "      <td>0.152234</td>\n",
              "      <td>1.717187</td>\n",
              "    </tr>\n",
              "    <tr>\n",
              "      <th>80821</th>\n",
              "      <td>tharacterization</td>\n",
              "      <td>0</td>\n",
              "      <td>0</td>\n",
              "      <td>0.0</td>\n",
              "      <td>NW</td>\n",
              "      <td>0.077157</td>\n",
              "      <td>0.922843</td>\n",
              "      <td>-2.481618</td>\n",
              "    </tr>\n",
              "  </tbody>\n",
              "</table>\n",
              "<p>80822 rows × 8 columns</p>\n",
              "</div>\n",
              "      <button class=\"colab-df-convert\" onclick=\"convertToInteractive('df-605f0500-5272-44ec-8dea-6e109c0409ce')\"\n",
              "              title=\"Convert this dataframe to an interactive table.\"\n",
              "              style=\"display:none;\">\n",
              "        \n",
              "  <svg xmlns=\"http://www.w3.org/2000/svg\" height=\"24px\"viewBox=\"0 0 24 24\"\n",
              "       width=\"24px\">\n",
              "    <path d=\"M0 0h24v24H0V0z\" fill=\"none\"/>\n",
              "    <path d=\"M18.56 5.44l.94 2.06.94-2.06 2.06-.94-2.06-.94-.94-2.06-.94 2.06-2.06.94zm-11 1L8.5 8.5l.94-2.06 2.06-.94-2.06-.94L8.5 2.5l-.94 2.06-2.06.94zm10 10l.94 2.06.94-2.06 2.06-.94-2.06-.94-.94-2.06-.94 2.06-2.06.94z\"/><path d=\"M17.41 7.96l-1.37-1.37c-.4-.4-.92-.59-1.43-.59-.52 0-1.04.2-1.43.59L10.3 9.45l-7.72 7.72c-.78.78-.78 2.05 0 2.83L4 21.41c.39.39.9.59 1.41.59.51 0 1.02-.2 1.41-.59l7.78-7.78 2.81-2.81c.8-.78.8-2.07 0-2.86zM5.41 20L4 18.59l7.72-7.72 1.47 1.35L5.41 20z\"/>\n",
              "  </svg>\n",
              "      </button>\n",
              "      \n",
              "  <style>\n",
              "    .colab-df-container {\n",
              "      display:flex;\n",
              "      flex-wrap:wrap;\n",
              "      gap: 12px;\n",
              "    }\n",
              "\n",
              "    .colab-df-convert {\n",
              "      background-color: #E8F0FE;\n",
              "      border: none;\n",
              "      border-radius: 50%;\n",
              "      cursor: pointer;\n",
              "      display: none;\n",
              "      fill: #1967D2;\n",
              "      height: 32px;\n",
              "      padding: 0 0 0 0;\n",
              "      width: 32px;\n",
              "    }\n",
              "\n",
              "    .colab-df-convert:hover {\n",
              "      background-color: #E2EBFA;\n",
              "      box-shadow: 0px 1px 2px rgba(60, 64, 67, 0.3), 0px 1px 3px 1px rgba(60, 64, 67, 0.15);\n",
              "      fill: #174EA6;\n",
              "    }\n",
              "\n",
              "    [theme=dark] .colab-df-convert {\n",
              "      background-color: #3B4455;\n",
              "      fill: #D2E3FC;\n",
              "    }\n",
              "\n",
              "    [theme=dark] .colab-df-convert:hover {\n",
              "      background-color: #434B5C;\n",
              "      box-shadow: 0px 1px 3px 1px rgba(0, 0, 0, 0.15);\n",
              "      filter: drop-shadow(0px 1px 2px rgba(0, 0, 0, 0.3));\n",
              "      fill: #FFFFFF;\n",
              "    }\n",
              "  </style>\n",
              "\n",
              "      <script>\n",
              "        const buttonEl =\n",
              "          document.querySelector('#df-605f0500-5272-44ec-8dea-6e109c0409ce button.colab-df-convert');\n",
              "        buttonEl.style.display =\n",
              "          google.colab.kernel.accessAllowed ? 'block' : 'none';\n",
              "\n",
              "        async function convertToInteractive(key) {\n",
              "          const element = document.querySelector('#df-605f0500-5272-44ec-8dea-6e109c0409ce');\n",
              "          const dataTable =\n",
              "            await google.colab.kernel.invokeFunction('convertToInteractive',\n",
              "                                                     [key], {});\n",
              "          if (!dataTable) return;\n",
              "\n",
              "          const docLinkHtml = 'Like what you see? Visit the ' +\n",
              "            '<a target=\"_blank\" href=https://colab.research.google.com/notebooks/data_table.ipynb>data table notebook</a>'\n",
              "            + ' to learn more about interactive tables.';\n",
              "          element.innerHTML = '';\n",
              "          dataTable['output_type'] = 'display_data';\n",
              "          await google.colab.output.renderOutput(dataTable, element);\n",
              "          const docLink = document.createElement('div');\n",
              "          docLink.innerHTML = docLinkHtml;\n",
              "          element.appendChild(docLink);\n",
              "        }\n",
              "      </script>\n",
              "    </div>\n",
              "  </div>\n",
              "  "
            ],
            "text/plain": [
              "                   string      freq  label  log_freq category  word_prob  \\\n",
              "0                       a  10610626      1      16.0       HF   0.906281   \n",
              "1                     aah       222      1       5.0       LF   0.602188   \n",
              "2                   Aaron     10806      1       9.0       HF   0.847060   \n",
              "3                   aback       387      1       6.0       LF   0.928595   \n",
              "4                  abacus       513      1       6.0       LF   0.967652   \n",
              "...                   ...       ...    ...       ...      ...        ...   \n",
              "80817    declassificarion         0      0       0.0       NW   0.207975   \n",
              "80818  antifundamentadast         0      0       0.0       NW   0.008859   \n",
              "80819    transcontanental         0      0       0.0       NW   0.032687   \n",
              "80820                  iv         0      0       0.0       NW   0.847766   \n",
              "80821    tharacterization         0      0       0.0       NW   0.077157   \n",
              "\n",
              "       non_word_prob     logit  \n",
              "0           0.093719  2.269047  \n",
              "1           0.397813  0.414588  \n",
              "2           0.152940  1.711725  \n",
              "3           0.071405  2.565301  \n",
              "4           0.032348  3.398307  \n",
              "...              ...       ...  \n",
              "80817       0.792025 -1.337176  \n",
              "80818       0.991141 -4.717467  \n",
              "80819       0.967313 -3.387558  \n",
              "80820       0.152234  1.717187  \n",
              "80821       0.922843 -2.481618  \n",
              "\n",
              "[80822 rows x 8 columns]"
            ]
          },
          "metadata": {},
          "execution_count": 5
        }
      ],
      "source": [
        "word_nword_df = pd.read_csv(root+\"Datasets/full_dataset_prob_a.csv\", header=None, names =['string', 'freq',  'label', 'log_freq','category', 'word_prob', 'non_word_prob', 'logit'])\n",
        "\n",
        "word_nword_df"
      ],
      "id": "b9041df4-bc04-4ff8-94ad-a8be7df40df2"
    },
    {
      "cell_type": "code",
      "source": [
        "def categorise_by_log_freq(row, freq_rate=6):\n",
        "    if row['string_type'] == 0:\n",
        "        return 'NW'\n",
        "    elif row['string_type'] == 1 and row['log_freq'] > freq_rate:\n",
        "        return 'HF'\n",
        "    elif row['string_type'] == 1 and (row['log_freq'] >= 0 and row['log_freq'] <=freq_rate):\n",
        "        return 'LF'"
      ],
      "metadata": {
        "id": "NFpIPN6aNW7u"
      },
      "id": "NFpIPN6aNW7u",
      "execution_count": null,
      "outputs": []
    },
    {
      "cell_type": "code",
      "execution_count": null,
      "metadata": {
        "colab": {
          "base_uri": "https://localhost:8080/"
        },
        "id": "1bdb53fa-5368-470b-b093-f636c06a2372",
        "outputId": "3603a49b-0672-4997-c073-1751ef5e8008"
      },
      "outputs": [
        {
          "output_type": "stream",
          "name": "stderr",
          "text": [
            "500it [00:00, 1695.79it/s]\n"
          ]
        }
      ],
      "source": [
        "Number_Of_Trials = 500\n",
        "behavioural_df = pd.read_csv(root+\"behavioural/1DATA.LDT\", names=['trial', 'string_id', 'string_type', 'accuracy', 'rt', 'string'])\n",
        "behavioural_df = behavioural_df.dropna().drop('string_id', axis=1).drop([0, 1]).iloc[:Number_Of_Trials] \n",
        "convert_dict = {'string_type': 'int16',\n",
        "                'accuracy': 'int16',\n",
        "                'rt': float\n",
        "               }\n",
        "\n",
        "behavioural_df = behavioural_df.astype(convert_dict)\n",
        "behavioural_df['rt'] = behavioural_df['rt'].apply(lambda x: x/1000) # convert to seconds\n",
        "\n",
        "category = []\n",
        "for index, row in tqdm(behavioural_df.iterrows()):\n",
        "    if row['string_type']==0:\n",
        "        category.append(\"NW\")\n",
        "    elif row['string'] in hf_words:\n",
        "        category.append(\"HF\")\n",
        "    elif row['string'] in lf_words:\n",
        "        category.append(\"LF\")\n",
        "        \n",
        "# behavioural_df['category'] = category\n",
        "\n",
        "# behavioural_df['string_type'] = behavioural_df['string_type'].replace(to_replace=[0], value=[2])\n",
        "behavioural_df['accuracy'] = behavioural_df['accuracy'].replace(to_replace=[0], value=[-1])\n",
        "behavioural_df = behavioural_df.reset_index(drop=True)"
      ],
      "id": "1bdb53fa-5368-470b-b093-f636c06a2372"
    },
    {
      "cell_type": "code",
      "execution_count": null,
      "metadata": {
        "colab": {
          "base_uri": "https://localhost:8080/",
          "height": 424
        },
        "id": "56aa7dd1-45ca-4efa-b1f6-ca54d4b059ca",
        "outputId": "05c2867b-de14-425a-90ee-af8d04478dd8"
      },
      "outputs": [
        {
          "output_type": "execute_result",
          "data": {
            "text/html": [
              "\n",
              "  <div id=\"df-9443f595-aa5d-4567-b6f3-32239940372b\">\n",
              "    <div class=\"colab-df-container\">\n",
              "      <div>\n",
              "<style scoped>\n",
              "    .dataframe tbody tr th:only-of-type {\n",
              "        vertical-align: middle;\n",
              "    }\n",
              "\n",
              "    .dataframe tbody tr th {\n",
              "        vertical-align: top;\n",
              "    }\n",
              "\n",
              "    .dataframe thead th {\n",
              "        text-align: right;\n",
              "    }\n",
              "</style>\n",
              "<table border=\"1\" class=\"dataframe\">\n",
              "  <thead>\n",
              "    <tr style=\"text-align: right;\">\n",
              "      <th></th>\n",
              "      <th>trial</th>\n",
              "      <th>string_type</th>\n",
              "      <th>accuracy</th>\n",
              "      <th>rt</th>\n",
              "      <th>string</th>\n",
              "    </tr>\n",
              "  </thead>\n",
              "  <tbody>\n",
              "    <tr>\n",
              "      <th>0</th>\n",
              "      <td>1</td>\n",
              "      <td>1</td>\n",
              "      <td>-1</td>\n",
              "      <td>0.707</td>\n",
              "      <td>bookie</td>\n",
              "    </tr>\n",
              "    <tr>\n",
              "      <th>1</th>\n",
              "      <td>2</td>\n",
              "      <td>0</td>\n",
              "      <td>1</td>\n",
              "      <td>0.769</td>\n",
              "      <td>gandbrake</td>\n",
              "    </tr>\n",
              "    <tr>\n",
              "      <th>2</th>\n",
              "      <td>3</td>\n",
              "      <td>1</td>\n",
              "      <td>1</td>\n",
              "      <td>0.526</td>\n",
              "      <td>philosophical</td>\n",
              "    </tr>\n",
              "    <tr>\n",
              "      <th>3</th>\n",
              "      <td>4</td>\n",
              "      <td>0</td>\n",
              "      <td>-1</td>\n",
              "      <td>0.510</td>\n",
              "      <td>umbeaten</td>\n",
              "    </tr>\n",
              "    <tr>\n",
              "      <th>4</th>\n",
              "      <td>5</td>\n",
              "      <td>1</td>\n",
              "      <td>1</td>\n",
              "      <td>0.512</td>\n",
              "      <td>belonging</td>\n",
              "    </tr>\n",
              "    <tr>\n",
              "      <th>...</th>\n",
              "      <td>...</td>\n",
              "      <td>...</td>\n",
              "      <td>...</td>\n",
              "      <td>...</td>\n",
              "      <td>...</td>\n",
              "    </tr>\n",
              "    <tr>\n",
              "      <th>495</th>\n",
              "      <td>496</td>\n",
              "      <td>0</td>\n",
              "      <td>1</td>\n",
              "      <td>0.685</td>\n",
              "      <td>gelievers</td>\n",
              "    </tr>\n",
              "    <tr>\n",
              "      <th>496</th>\n",
              "      <td>497</td>\n",
              "      <td>1</td>\n",
              "      <td>1</td>\n",
              "      <td>0.483</td>\n",
              "      <td>watch</td>\n",
              "    </tr>\n",
              "    <tr>\n",
              "      <th>497</th>\n",
              "      <td>498</td>\n",
              "      <td>1</td>\n",
              "      <td>-1</td>\n",
              "      <td>0.756</td>\n",
              "      <td>grindings</td>\n",
              "    </tr>\n",
              "    <tr>\n",
              "      <th>498</th>\n",
              "      <td>499</td>\n",
              "      <td>0</td>\n",
              "      <td>1</td>\n",
              "      <td>0.574</td>\n",
              "      <td>hompromise</td>\n",
              "    </tr>\n",
              "    <tr>\n",
              "      <th>499</th>\n",
              "      <td>500</td>\n",
              "      <td>1</td>\n",
              "      <td>1</td>\n",
              "      <td>0.688</td>\n",
              "      <td>psychopathic</td>\n",
              "    </tr>\n",
              "  </tbody>\n",
              "</table>\n",
              "<p>500 rows × 5 columns</p>\n",
              "</div>\n",
              "      <button class=\"colab-df-convert\" onclick=\"convertToInteractive('df-9443f595-aa5d-4567-b6f3-32239940372b')\"\n",
              "              title=\"Convert this dataframe to an interactive table.\"\n",
              "              style=\"display:none;\">\n",
              "        \n",
              "  <svg xmlns=\"http://www.w3.org/2000/svg\" height=\"24px\"viewBox=\"0 0 24 24\"\n",
              "       width=\"24px\">\n",
              "    <path d=\"M0 0h24v24H0V0z\" fill=\"none\"/>\n",
              "    <path d=\"M18.56 5.44l.94 2.06.94-2.06 2.06-.94-2.06-.94-.94-2.06-.94 2.06-2.06.94zm-11 1L8.5 8.5l.94-2.06 2.06-.94-2.06-.94L8.5 2.5l-.94 2.06-2.06.94zm10 10l.94 2.06.94-2.06 2.06-.94-2.06-.94-.94-2.06-.94 2.06-2.06.94z\"/><path d=\"M17.41 7.96l-1.37-1.37c-.4-.4-.92-.59-1.43-.59-.52 0-1.04.2-1.43.59L10.3 9.45l-7.72 7.72c-.78.78-.78 2.05 0 2.83L4 21.41c.39.39.9.59 1.41.59.51 0 1.02-.2 1.41-.59l7.78-7.78 2.81-2.81c.8-.78.8-2.07 0-2.86zM5.41 20L4 18.59l7.72-7.72 1.47 1.35L5.41 20z\"/>\n",
              "  </svg>\n",
              "      </button>\n",
              "      \n",
              "  <style>\n",
              "    .colab-df-container {\n",
              "      display:flex;\n",
              "      flex-wrap:wrap;\n",
              "      gap: 12px;\n",
              "    }\n",
              "\n",
              "    .colab-df-convert {\n",
              "      background-color: #E8F0FE;\n",
              "      border: none;\n",
              "      border-radius: 50%;\n",
              "      cursor: pointer;\n",
              "      display: none;\n",
              "      fill: #1967D2;\n",
              "      height: 32px;\n",
              "      padding: 0 0 0 0;\n",
              "      width: 32px;\n",
              "    }\n",
              "\n",
              "    .colab-df-convert:hover {\n",
              "      background-color: #E2EBFA;\n",
              "      box-shadow: 0px 1px 2px rgba(60, 64, 67, 0.3), 0px 1px 3px 1px rgba(60, 64, 67, 0.15);\n",
              "      fill: #174EA6;\n",
              "    }\n",
              "\n",
              "    [theme=dark] .colab-df-convert {\n",
              "      background-color: #3B4455;\n",
              "      fill: #D2E3FC;\n",
              "    }\n",
              "\n",
              "    [theme=dark] .colab-df-convert:hover {\n",
              "      background-color: #434B5C;\n",
              "      box-shadow: 0px 1px 3px 1px rgba(0, 0, 0, 0.15);\n",
              "      filter: drop-shadow(0px 1px 2px rgba(0, 0, 0, 0.3));\n",
              "      fill: #FFFFFF;\n",
              "    }\n",
              "  </style>\n",
              "\n",
              "      <script>\n",
              "        const buttonEl =\n",
              "          document.querySelector('#df-9443f595-aa5d-4567-b6f3-32239940372b button.colab-df-convert');\n",
              "        buttonEl.style.display =\n",
              "          google.colab.kernel.accessAllowed ? 'block' : 'none';\n",
              "\n",
              "        async function convertToInteractive(key) {\n",
              "          const element = document.querySelector('#df-9443f595-aa5d-4567-b6f3-32239940372b');\n",
              "          const dataTable =\n",
              "            await google.colab.kernel.invokeFunction('convertToInteractive',\n",
              "                                                     [key], {});\n",
              "          if (!dataTable) return;\n",
              "\n",
              "          const docLinkHtml = 'Like what you see? Visit the ' +\n",
              "            '<a target=\"_blank\" href=https://colab.research.google.com/notebooks/data_table.ipynb>data table notebook</a>'\n",
              "            + ' to learn more about interactive tables.';\n",
              "          element.innerHTML = '';\n",
              "          dataTable['output_type'] = 'display_data';\n",
              "          await google.colab.output.renderOutput(dataTable, element);\n",
              "          const docLink = document.createElement('div');\n",
              "          docLink.innerHTML = docLinkHtml;\n",
              "          element.appendChild(docLink);\n",
              "        }\n",
              "      </script>\n",
              "    </div>\n",
              "  </div>\n",
              "  "
            ],
            "text/plain": [
              "    trial  string_type  accuracy     rt         string\n",
              "0       1            1        -1  0.707         bookie\n",
              "1       2            0         1  0.769      gandbrake\n",
              "2       3            1         1  0.526  philosophical\n",
              "3       4            0        -1  0.510       umbeaten\n",
              "4       5            1         1  0.512      belonging\n",
              "..    ...          ...       ...    ...            ...\n",
              "495   496            0         1  0.685      gelievers\n",
              "496   497            1         1  0.483          watch\n",
              "497   498            1        -1  0.756      grindings\n",
              "498   499            0         1  0.574     hompromise\n",
              "499   500            1         1  0.688   psychopathic\n",
              "\n",
              "[500 rows x 5 columns]"
            ]
          },
          "metadata": {},
          "execution_count": 8
        }
      ],
      "source": [
        "behavioural_df"
      ],
      "id": "56aa7dd1-45ca-4efa-b1f6-ca54d4b059ca"
    },
    {
      "cell_type": "code",
      "execution_count": null,
      "metadata": {
        "colab": {
          "base_uri": "https://localhost:8080/"
        },
        "id": "b6987dda-3da4-4793-98e2-e40c41769778",
        "outputId": "51b340eb-4833-4959-9617-cee1c11900e6"
      },
      "outputs": [
        {
          "output_type": "execute_result",
          "data": {
            "text/plain": [
              "pandas.core.frame.DataFrame"
            ]
          },
          "metadata": {},
          "execution_count": 9
        }
      ],
      "source": [
        "type(word_nword_df)"
      ],
      "id": "b6987dda-3da4-4793-98e2-e40c41769778"
    },
    {
      "cell_type": "code",
      "execution_count": null,
      "metadata": {
        "id": "87287fe2-81da-4c1c-93f0-5964e41c498c"
      },
      "outputs": [],
      "source": [
        "behavioural_df = pd.merge(behavioural_df, word_nword_df, on='string', how='left').dropna().reset_index(drop=True)\n",
        "\n",
        "# After the merge there are some NaN's probably becuase word_nword_df is are trainset that is 0.8 of\n",
        "# All our lexical data\n",
        "# It's good to be tested with full data (prediction of ANN on all lexical data)"
      ],
      "id": "87287fe2-81da-4c1c-93f0-5964e41c498c"
    },
    {
      "cell_type": "code",
      "execution_count": null,
      "metadata": {
        "colab": {
          "base_uri": "https://localhost:8080/",
          "height": 468
        },
        "id": "0a978dab-ea61-4d58-bb54-d6ece3daae35",
        "outputId": "0fd8ca11-9200-4cfb-c3f8-2f15007f7508"
      },
      "outputs": [
        {
          "output_type": "execute_result",
          "data": {
            "text/html": [
              "\n",
              "  <div id=\"df-4fef9a5b-2de9-4a27-9916-1ce556c8f6b4\">\n",
              "    <div class=\"colab-df-container\">\n",
              "      <div>\n",
              "<style scoped>\n",
              "    .dataframe tbody tr th:only-of-type {\n",
              "        vertical-align: middle;\n",
              "    }\n",
              "\n",
              "    .dataframe tbody tr th {\n",
              "        vertical-align: top;\n",
              "    }\n",
              "\n",
              "    .dataframe thead th {\n",
              "        text-align: right;\n",
              "    }\n",
              "</style>\n",
              "<table border=\"1\" class=\"dataframe\">\n",
              "  <thead>\n",
              "    <tr style=\"text-align: right;\">\n",
              "      <th></th>\n",
              "      <th>trial</th>\n",
              "      <th>string_type</th>\n",
              "      <th>accuracy</th>\n",
              "      <th>rt</th>\n",
              "      <th>string</th>\n",
              "      <th>freq</th>\n",
              "      <th>label</th>\n",
              "      <th>log_freq</th>\n",
              "      <th>category</th>\n",
              "      <th>word_prob</th>\n",
              "      <th>non_word_prob</th>\n",
              "      <th>logit</th>\n",
              "    </tr>\n",
              "  </thead>\n",
              "  <tbody>\n",
              "    <tr>\n",
              "      <th>0</th>\n",
              "      <td>1</td>\n",
              "      <td>1</td>\n",
              "      <td>-1</td>\n",
              "      <td>0.707</td>\n",
              "      <td>bookie</td>\n",
              "      <td>130</td>\n",
              "      <td>1</td>\n",
              "      <td>5.0</td>\n",
              "      <td>LF</td>\n",
              "      <td>0.989037</td>\n",
              "      <td>0.010963</td>\n",
              "      <td>4.502175</td>\n",
              "    </tr>\n",
              "    <tr>\n",
              "      <th>1</th>\n",
              "      <td>2</td>\n",
              "      <td>0</td>\n",
              "      <td>1</td>\n",
              "      <td>0.769</td>\n",
              "      <td>gandbrake</td>\n",
              "      <td>0</td>\n",
              "      <td>0</td>\n",
              "      <td>0.0</td>\n",
              "      <td>NW</td>\n",
              "      <td>0.012977</td>\n",
              "      <td>0.987023</td>\n",
              "      <td>-4.331480</td>\n",
              "    </tr>\n",
              "    <tr>\n",
              "      <th>2</th>\n",
              "      <td>3</td>\n",
              "      <td>1</td>\n",
              "      <td>1</td>\n",
              "      <td>0.526</td>\n",
              "      <td>philosophical</td>\n",
              "      <td>4959</td>\n",
              "      <td>1</td>\n",
              "      <td>9.0</td>\n",
              "      <td>HF</td>\n",
              "      <td>0.987289</td>\n",
              "      <td>0.012711</td>\n",
              "      <td>4.352460</td>\n",
              "    </tr>\n",
              "    <tr>\n",
              "      <th>3</th>\n",
              "      <td>4</td>\n",
              "      <td>0</td>\n",
              "      <td>-1</td>\n",
              "      <td>0.510</td>\n",
              "      <td>umbeaten</td>\n",
              "      <td>0</td>\n",
              "      <td>0</td>\n",
              "      <td>0.0</td>\n",
              "      <td>NW</td>\n",
              "      <td>0.382299</td>\n",
              "      <td>0.617701</td>\n",
              "      <td>-0.479800</td>\n",
              "    </tr>\n",
              "    <tr>\n",
              "      <th>4</th>\n",
              "      <td>5</td>\n",
              "      <td>1</td>\n",
              "      <td>1</td>\n",
              "      <td>0.512</td>\n",
              "      <td>belonging</td>\n",
              "      <td>2332</td>\n",
              "      <td>1</td>\n",
              "      <td>8.0</td>\n",
              "      <td>LF</td>\n",
              "      <td>0.983846</td>\n",
              "      <td>0.016154</td>\n",
              "      <td>4.109307</td>\n",
              "    </tr>\n",
              "    <tr>\n",
              "      <th>...</th>\n",
              "      <td>...</td>\n",
              "      <td>...</td>\n",
              "      <td>...</td>\n",
              "      <td>...</td>\n",
              "      <td>...</td>\n",
              "      <td>...</td>\n",
              "      <td>...</td>\n",
              "      <td>...</td>\n",
              "      <td>...</td>\n",
              "      <td>...</td>\n",
              "      <td>...</td>\n",
              "      <td>...</td>\n",
              "    </tr>\n",
              "    <tr>\n",
              "      <th>495</th>\n",
              "      <td>496</td>\n",
              "      <td>0</td>\n",
              "      <td>1</td>\n",
              "      <td>0.685</td>\n",
              "      <td>gelievers</td>\n",
              "      <td>0</td>\n",
              "      <td>0</td>\n",
              "      <td>0.0</td>\n",
              "      <td>NW</td>\n",
              "      <td>0.008664</td>\n",
              "      <td>0.991336</td>\n",
              "      <td>-4.739919</td>\n",
              "    </tr>\n",
              "    <tr>\n",
              "      <th>496</th>\n",
              "      <td>497</td>\n",
              "      <td>1</td>\n",
              "      <td>1</td>\n",
              "      <td>0.483</td>\n",
              "      <td>watch</td>\n",
              "      <td>56974</td>\n",
              "      <td>1</td>\n",
              "      <td>11.0</td>\n",
              "      <td>HF</td>\n",
              "      <td>0.923770</td>\n",
              "      <td>0.076230</td>\n",
              "      <td>2.494713</td>\n",
              "    </tr>\n",
              "    <tr>\n",
              "      <th>497</th>\n",
              "      <td>498</td>\n",
              "      <td>1</td>\n",
              "      <td>-1</td>\n",
              "      <td>0.756</td>\n",
              "      <td>grindings</td>\n",
              "      <td>4</td>\n",
              "      <td>1</td>\n",
              "      <td>2.0</td>\n",
              "      <td>LF</td>\n",
              "      <td>0.822219</td>\n",
              "      <td>0.177781</td>\n",
              "      <td>1.531453</td>\n",
              "    </tr>\n",
              "    <tr>\n",
              "      <th>498</th>\n",
              "      <td>499</td>\n",
              "      <td>0</td>\n",
              "      <td>1</td>\n",
              "      <td>0.574</td>\n",
              "      <td>hompromise</td>\n",
              "      <td>0</td>\n",
              "      <td>0</td>\n",
              "      <td>0.0</td>\n",
              "      <td>NW</td>\n",
              "      <td>0.055176</td>\n",
              "      <td>0.944824</td>\n",
              "      <td>-2.840468</td>\n",
              "    </tr>\n",
              "    <tr>\n",
              "      <th>499</th>\n",
              "      <td>500</td>\n",
              "      <td>1</td>\n",
              "      <td>1</td>\n",
              "      <td>0.688</td>\n",
              "      <td>psychopathic</td>\n",
              "      <td>193</td>\n",
              "      <td>1</td>\n",
              "      <td>5.0</td>\n",
              "      <td>LF</td>\n",
              "      <td>0.988181</td>\n",
              "      <td>0.011819</td>\n",
              "      <td>4.426166</td>\n",
              "    </tr>\n",
              "  </tbody>\n",
              "</table>\n",
              "<p>500 rows × 12 columns</p>\n",
              "</div>\n",
              "      <button class=\"colab-df-convert\" onclick=\"convertToInteractive('df-4fef9a5b-2de9-4a27-9916-1ce556c8f6b4')\"\n",
              "              title=\"Convert this dataframe to an interactive table.\"\n",
              "              style=\"display:none;\">\n",
              "        \n",
              "  <svg xmlns=\"http://www.w3.org/2000/svg\" height=\"24px\"viewBox=\"0 0 24 24\"\n",
              "       width=\"24px\">\n",
              "    <path d=\"M0 0h24v24H0V0z\" fill=\"none\"/>\n",
              "    <path d=\"M18.56 5.44l.94 2.06.94-2.06 2.06-.94-2.06-.94-.94-2.06-.94 2.06-2.06.94zm-11 1L8.5 8.5l.94-2.06 2.06-.94-2.06-.94L8.5 2.5l-.94 2.06-2.06.94zm10 10l.94 2.06.94-2.06 2.06-.94-2.06-.94-.94-2.06-.94 2.06-2.06.94z\"/><path d=\"M17.41 7.96l-1.37-1.37c-.4-.4-.92-.59-1.43-.59-.52 0-1.04.2-1.43.59L10.3 9.45l-7.72 7.72c-.78.78-.78 2.05 0 2.83L4 21.41c.39.39.9.59 1.41.59.51 0 1.02-.2 1.41-.59l7.78-7.78 2.81-2.81c.8-.78.8-2.07 0-2.86zM5.41 20L4 18.59l7.72-7.72 1.47 1.35L5.41 20z\"/>\n",
              "  </svg>\n",
              "      </button>\n",
              "      \n",
              "  <style>\n",
              "    .colab-df-container {\n",
              "      display:flex;\n",
              "      flex-wrap:wrap;\n",
              "      gap: 12px;\n",
              "    }\n",
              "\n",
              "    .colab-df-convert {\n",
              "      background-color: #E8F0FE;\n",
              "      border: none;\n",
              "      border-radius: 50%;\n",
              "      cursor: pointer;\n",
              "      display: none;\n",
              "      fill: #1967D2;\n",
              "      height: 32px;\n",
              "      padding: 0 0 0 0;\n",
              "      width: 32px;\n",
              "    }\n",
              "\n",
              "    .colab-df-convert:hover {\n",
              "      background-color: #E2EBFA;\n",
              "      box-shadow: 0px 1px 2px rgba(60, 64, 67, 0.3), 0px 1px 3px 1px rgba(60, 64, 67, 0.15);\n",
              "      fill: #174EA6;\n",
              "    }\n",
              "\n",
              "    [theme=dark] .colab-df-convert {\n",
              "      background-color: #3B4455;\n",
              "      fill: #D2E3FC;\n",
              "    }\n",
              "\n",
              "    [theme=dark] .colab-df-convert:hover {\n",
              "      background-color: #434B5C;\n",
              "      box-shadow: 0px 1px 3px 1px rgba(0, 0, 0, 0.15);\n",
              "      filter: drop-shadow(0px 1px 2px rgba(0, 0, 0, 0.3));\n",
              "      fill: #FFFFFF;\n",
              "    }\n",
              "  </style>\n",
              "\n",
              "      <script>\n",
              "        const buttonEl =\n",
              "          document.querySelector('#df-4fef9a5b-2de9-4a27-9916-1ce556c8f6b4 button.colab-df-convert');\n",
              "        buttonEl.style.display =\n",
              "          google.colab.kernel.accessAllowed ? 'block' : 'none';\n",
              "\n",
              "        async function convertToInteractive(key) {\n",
              "          const element = document.querySelector('#df-4fef9a5b-2de9-4a27-9916-1ce556c8f6b4');\n",
              "          const dataTable =\n",
              "            await google.colab.kernel.invokeFunction('convertToInteractive',\n",
              "                                                     [key], {});\n",
              "          if (!dataTable) return;\n",
              "\n",
              "          const docLinkHtml = 'Like what you see? Visit the ' +\n",
              "            '<a target=\"_blank\" href=https://colab.research.google.com/notebooks/data_table.ipynb>data table notebook</a>'\n",
              "            + ' to learn more about interactive tables.';\n",
              "          element.innerHTML = '';\n",
              "          dataTable['output_type'] = 'display_data';\n",
              "          await google.colab.output.renderOutput(dataTable, element);\n",
              "          const docLink = document.createElement('div');\n",
              "          docLink.innerHTML = docLinkHtml;\n",
              "          element.appendChild(docLink);\n",
              "        }\n",
              "      </script>\n",
              "    </div>\n",
              "  </div>\n",
              "  "
            ],
            "text/plain": [
              "    trial  string_type  accuracy     rt         string   freq  label  \\\n",
              "0       1            1        -1  0.707         bookie    130      1   \n",
              "1       2            0         1  0.769      gandbrake      0      0   \n",
              "2       3            1         1  0.526  philosophical   4959      1   \n",
              "3       4            0        -1  0.510       umbeaten      0      0   \n",
              "4       5            1         1  0.512      belonging   2332      1   \n",
              "..    ...          ...       ...    ...            ...    ...    ...   \n",
              "495   496            0         1  0.685      gelievers      0      0   \n",
              "496   497            1         1  0.483          watch  56974      1   \n",
              "497   498            1        -1  0.756      grindings      4      1   \n",
              "498   499            0         1  0.574     hompromise      0      0   \n",
              "499   500            1         1  0.688   psychopathic    193      1   \n",
              "\n",
              "     log_freq category  word_prob  non_word_prob     logit  \n",
              "0         5.0       LF   0.989037       0.010963  4.502175  \n",
              "1         0.0       NW   0.012977       0.987023 -4.331480  \n",
              "2         9.0       HF   0.987289       0.012711  4.352460  \n",
              "3         0.0       NW   0.382299       0.617701 -0.479800  \n",
              "4         8.0       LF   0.983846       0.016154  4.109307  \n",
              "..        ...      ...        ...            ...       ...  \n",
              "495       0.0       NW   0.008664       0.991336 -4.739919  \n",
              "496      11.0       HF   0.923770       0.076230  2.494713  \n",
              "497       2.0       LF   0.822219       0.177781  1.531453  \n",
              "498       0.0       NW   0.055176       0.944824 -2.840468  \n",
              "499       5.0       LF   0.988181       0.011819  4.426166  \n",
              "\n",
              "[500 rows x 12 columns]"
            ]
          },
          "metadata": {},
          "execution_count": 11
        }
      ],
      "source": [
        "behavioural_df"
      ],
      "id": "0a978dab-ea61-4d58-bb54-d6ece3daae35"
    },
    {
      "cell_type": "code",
      "source": [
        "behavioural_df.groupby('category').count()"
      ],
      "metadata": {
        "colab": {
          "base_uri": "https://localhost:8080/",
          "height": 175
        },
        "id": "34pGJhZhRL22",
        "outputId": "001797de-0e35-42d9-897b-337a57c435b3"
      },
      "id": "34pGJhZhRL22",
      "execution_count": null,
      "outputs": [
        {
          "output_type": "execute_result",
          "data": {
            "text/html": [
              "\n",
              "  <div id=\"df-27df70f4-7e22-456e-bfe7-14bc7d6f7410\">\n",
              "    <div class=\"colab-df-container\">\n",
              "      <div>\n",
              "<style scoped>\n",
              "    .dataframe tbody tr th:only-of-type {\n",
              "        vertical-align: middle;\n",
              "    }\n",
              "\n",
              "    .dataframe tbody tr th {\n",
              "        vertical-align: top;\n",
              "    }\n",
              "\n",
              "    .dataframe thead th {\n",
              "        text-align: right;\n",
              "    }\n",
              "</style>\n",
              "<table border=\"1\" class=\"dataframe\">\n",
              "  <thead>\n",
              "    <tr style=\"text-align: right;\">\n",
              "      <th></th>\n",
              "      <th>trial</th>\n",
              "      <th>string_type</th>\n",
              "      <th>accuracy</th>\n",
              "      <th>rt</th>\n",
              "      <th>string</th>\n",
              "      <th>freq</th>\n",
              "      <th>label</th>\n",
              "      <th>log_freq</th>\n",
              "      <th>word_prob</th>\n",
              "      <th>non_word_prob</th>\n",
              "      <th>logit</th>\n",
              "    </tr>\n",
              "    <tr>\n",
              "      <th>category</th>\n",
              "      <th></th>\n",
              "      <th></th>\n",
              "      <th></th>\n",
              "      <th></th>\n",
              "      <th></th>\n",
              "      <th></th>\n",
              "      <th></th>\n",
              "      <th></th>\n",
              "      <th></th>\n",
              "      <th></th>\n",
              "      <th></th>\n",
              "    </tr>\n",
              "  </thead>\n",
              "  <tbody>\n",
              "    <tr>\n",
              "      <th>HF</th>\n",
              "      <td>39</td>\n",
              "      <td>39</td>\n",
              "      <td>39</td>\n",
              "      <td>39</td>\n",
              "      <td>39</td>\n",
              "      <td>39</td>\n",
              "      <td>39</td>\n",
              "      <td>39</td>\n",
              "      <td>39</td>\n",
              "      <td>39</td>\n",
              "      <td>39</td>\n",
              "    </tr>\n",
              "    <tr>\n",
              "      <th>LF</th>\n",
              "      <td>218</td>\n",
              "      <td>218</td>\n",
              "      <td>218</td>\n",
              "      <td>218</td>\n",
              "      <td>218</td>\n",
              "      <td>218</td>\n",
              "      <td>218</td>\n",
              "      <td>218</td>\n",
              "      <td>218</td>\n",
              "      <td>218</td>\n",
              "      <td>218</td>\n",
              "    </tr>\n",
              "    <tr>\n",
              "      <th>NW</th>\n",
              "      <td>243</td>\n",
              "      <td>243</td>\n",
              "      <td>243</td>\n",
              "      <td>243</td>\n",
              "      <td>243</td>\n",
              "      <td>243</td>\n",
              "      <td>243</td>\n",
              "      <td>243</td>\n",
              "      <td>243</td>\n",
              "      <td>243</td>\n",
              "      <td>243</td>\n",
              "    </tr>\n",
              "  </tbody>\n",
              "</table>\n",
              "</div>\n",
              "      <button class=\"colab-df-convert\" onclick=\"convertToInteractive('df-27df70f4-7e22-456e-bfe7-14bc7d6f7410')\"\n",
              "              title=\"Convert this dataframe to an interactive table.\"\n",
              "              style=\"display:none;\">\n",
              "        \n",
              "  <svg xmlns=\"http://www.w3.org/2000/svg\" height=\"24px\"viewBox=\"0 0 24 24\"\n",
              "       width=\"24px\">\n",
              "    <path d=\"M0 0h24v24H0V0z\" fill=\"none\"/>\n",
              "    <path d=\"M18.56 5.44l.94 2.06.94-2.06 2.06-.94-2.06-.94-.94-2.06-.94 2.06-2.06.94zm-11 1L8.5 8.5l.94-2.06 2.06-.94-2.06-.94L8.5 2.5l-.94 2.06-2.06.94zm10 10l.94 2.06.94-2.06 2.06-.94-2.06-.94-.94-2.06-.94 2.06-2.06.94z\"/><path d=\"M17.41 7.96l-1.37-1.37c-.4-.4-.92-.59-1.43-.59-.52 0-1.04.2-1.43.59L10.3 9.45l-7.72 7.72c-.78.78-.78 2.05 0 2.83L4 21.41c.39.39.9.59 1.41.59.51 0 1.02-.2 1.41-.59l7.78-7.78 2.81-2.81c.8-.78.8-2.07 0-2.86zM5.41 20L4 18.59l7.72-7.72 1.47 1.35L5.41 20z\"/>\n",
              "  </svg>\n",
              "      </button>\n",
              "      \n",
              "  <style>\n",
              "    .colab-df-container {\n",
              "      display:flex;\n",
              "      flex-wrap:wrap;\n",
              "      gap: 12px;\n",
              "    }\n",
              "\n",
              "    .colab-df-convert {\n",
              "      background-color: #E8F0FE;\n",
              "      border: none;\n",
              "      border-radius: 50%;\n",
              "      cursor: pointer;\n",
              "      display: none;\n",
              "      fill: #1967D2;\n",
              "      height: 32px;\n",
              "      padding: 0 0 0 0;\n",
              "      width: 32px;\n",
              "    }\n",
              "\n",
              "    .colab-df-convert:hover {\n",
              "      background-color: #E2EBFA;\n",
              "      box-shadow: 0px 1px 2px rgba(60, 64, 67, 0.3), 0px 1px 3px 1px rgba(60, 64, 67, 0.15);\n",
              "      fill: #174EA6;\n",
              "    }\n",
              "\n",
              "    [theme=dark] .colab-df-convert {\n",
              "      background-color: #3B4455;\n",
              "      fill: #D2E3FC;\n",
              "    }\n",
              "\n",
              "    [theme=dark] .colab-df-convert:hover {\n",
              "      background-color: #434B5C;\n",
              "      box-shadow: 0px 1px 3px 1px rgba(0, 0, 0, 0.15);\n",
              "      filter: drop-shadow(0px 1px 2px rgba(0, 0, 0, 0.3));\n",
              "      fill: #FFFFFF;\n",
              "    }\n",
              "  </style>\n",
              "\n",
              "      <script>\n",
              "        const buttonEl =\n",
              "          document.querySelector('#df-27df70f4-7e22-456e-bfe7-14bc7d6f7410 button.colab-df-convert');\n",
              "        buttonEl.style.display =\n",
              "          google.colab.kernel.accessAllowed ? 'block' : 'none';\n",
              "\n",
              "        async function convertToInteractive(key) {\n",
              "          const element = document.querySelector('#df-27df70f4-7e22-456e-bfe7-14bc7d6f7410');\n",
              "          const dataTable =\n",
              "            await google.colab.kernel.invokeFunction('convertToInteractive',\n",
              "                                                     [key], {});\n",
              "          if (!dataTable) return;\n",
              "\n",
              "          const docLinkHtml = 'Like what you see? Visit the ' +\n",
              "            '<a target=\"_blank\" href=https://colab.research.google.com/notebooks/data_table.ipynb>data table notebook</a>'\n",
              "            + ' to learn more about interactive tables.';\n",
              "          element.innerHTML = '';\n",
              "          dataTable['output_type'] = 'display_data';\n",
              "          await google.colab.output.renderOutput(dataTable, element);\n",
              "          const docLink = document.createElement('div');\n",
              "          docLink.innerHTML = docLinkHtml;\n",
              "          element.appendChild(docLink);\n",
              "        }\n",
              "      </script>\n",
              "    </div>\n",
              "  </div>\n",
              "  "
            ],
            "text/plain": [
              "          trial  string_type  accuracy   rt  string  freq  label  log_freq  \\\n",
              "category                                                                     \n",
              "HF           39           39        39   39      39    39     39        39   \n",
              "LF          218          218       218  218     218   218    218       218   \n",
              "NW          243          243       243  243     243   243    243       243   \n",
              "\n",
              "          word_prob  non_word_prob  logit  \n",
              "category                                   \n",
              "HF               39             39     39  \n",
              "LF              218            218    218  \n",
              "NW              243            243    243  "
            ]
          },
          "metadata": {},
          "execution_count": 12
        }
      ]
    },
    {
      "cell_type": "code",
      "source": [
        "behavioural_df.groupby(['category']).agg({'word_prob': ['mean', 'std', 'count'], 'non_word_prob': ['mean', 'std', 'count'],\n",
        "                                  'logit': ['mean', 'std', 'count']})"
      ],
      "metadata": {
        "colab": {
          "base_uri": "https://localhost:8080/",
          "height": 206
        },
        "id": "W6Snuzdpih-p",
        "outputId": "ac5f788d-c0f3-4d36-bc8a-d398e3c5a364"
      },
      "id": "W6Snuzdpih-p",
      "execution_count": null,
      "outputs": [
        {
          "output_type": "execute_result",
          "data": {
            "text/html": [
              "\n",
              "  <div id=\"df-1a9f528d-c8d7-42fd-a51a-bbe599251182\">\n",
              "    <div class=\"colab-df-container\">\n",
              "      <div>\n",
              "<style scoped>\n",
              "    .dataframe tbody tr th:only-of-type {\n",
              "        vertical-align: middle;\n",
              "    }\n",
              "\n",
              "    .dataframe tbody tr th {\n",
              "        vertical-align: top;\n",
              "    }\n",
              "\n",
              "    .dataframe thead tr th {\n",
              "        text-align: left;\n",
              "    }\n",
              "\n",
              "    .dataframe thead tr:last-of-type th {\n",
              "        text-align: right;\n",
              "    }\n",
              "</style>\n",
              "<table border=\"1\" class=\"dataframe\">\n",
              "  <thead>\n",
              "    <tr>\n",
              "      <th></th>\n",
              "      <th colspan=\"3\" halign=\"left\">word_prob</th>\n",
              "      <th colspan=\"3\" halign=\"left\">non_word_prob</th>\n",
              "      <th colspan=\"3\" halign=\"left\">logit</th>\n",
              "    </tr>\n",
              "    <tr>\n",
              "      <th></th>\n",
              "      <th>mean</th>\n",
              "      <th>std</th>\n",
              "      <th>count</th>\n",
              "      <th>mean</th>\n",
              "      <th>std</th>\n",
              "      <th>count</th>\n",
              "      <th>mean</th>\n",
              "      <th>std</th>\n",
              "      <th>count</th>\n",
              "    </tr>\n",
              "    <tr>\n",
              "      <th>category</th>\n",
              "      <th></th>\n",
              "      <th></th>\n",
              "      <th></th>\n",
              "      <th></th>\n",
              "      <th></th>\n",
              "      <th></th>\n",
              "      <th></th>\n",
              "      <th></th>\n",
              "      <th></th>\n",
              "    </tr>\n",
              "  </thead>\n",
              "  <tbody>\n",
              "    <tr>\n",
              "      <th>HF</th>\n",
              "      <td>0.928299</td>\n",
              "      <td>0.128227</td>\n",
              "      <td>39</td>\n",
              "      <td>0.071701</td>\n",
              "      <td>0.128227</td>\n",
              "      <td>39</td>\n",
              "      <td>3.843487</td>\n",
              "      <td>1.857113</td>\n",
              "      <td>39</td>\n",
              "    </tr>\n",
              "    <tr>\n",
              "      <th>LF</th>\n",
              "      <td>0.850552</td>\n",
              "      <td>0.208267</td>\n",
              "      <td>218</td>\n",
              "      <td>0.149448</td>\n",
              "      <td>0.208267</td>\n",
              "      <td>218</td>\n",
              "      <td>2.674047</td>\n",
              "      <td>1.870452</td>\n",
              "      <td>218</td>\n",
              "    </tr>\n",
              "    <tr>\n",
              "      <th>NW</th>\n",
              "      <td>0.164332</td>\n",
              "      <td>0.252289</td>\n",
              "      <td>243</td>\n",
              "      <td>0.835668</td>\n",
              "      <td>0.252289</td>\n",
              "      <td>243</td>\n",
              "      <td>-2.741229</td>\n",
              "      <td>2.268299</td>\n",
              "      <td>243</td>\n",
              "    </tr>\n",
              "  </tbody>\n",
              "</table>\n",
              "</div>\n",
              "      <button class=\"colab-df-convert\" onclick=\"convertToInteractive('df-1a9f528d-c8d7-42fd-a51a-bbe599251182')\"\n",
              "              title=\"Convert this dataframe to an interactive table.\"\n",
              "              style=\"display:none;\">\n",
              "        \n",
              "  <svg xmlns=\"http://www.w3.org/2000/svg\" height=\"24px\"viewBox=\"0 0 24 24\"\n",
              "       width=\"24px\">\n",
              "    <path d=\"M0 0h24v24H0V0z\" fill=\"none\"/>\n",
              "    <path d=\"M18.56 5.44l.94 2.06.94-2.06 2.06-.94-2.06-.94-.94-2.06-.94 2.06-2.06.94zm-11 1L8.5 8.5l.94-2.06 2.06-.94-2.06-.94L8.5 2.5l-.94 2.06-2.06.94zm10 10l.94 2.06.94-2.06 2.06-.94-2.06-.94-.94-2.06-.94 2.06-2.06.94z\"/><path d=\"M17.41 7.96l-1.37-1.37c-.4-.4-.92-.59-1.43-.59-.52 0-1.04.2-1.43.59L10.3 9.45l-7.72 7.72c-.78.78-.78 2.05 0 2.83L4 21.41c.39.39.9.59 1.41.59.51 0 1.02-.2 1.41-.59l7.78-7.78 2.81-2.81c.8-.78.8-2.07 0-2.86zM5.41 20L4 18.59l7.72-7.72 1.47 1.35L5.41 20z\"/>\n",
              "  </svg>\n",
              "      </button>\n",
              "      \n",
              "  <style>\n",
              "    .colab-df-container {\n",
              "      display:flex;\n",
              "      flex-wrap:wrap;\n",
              "      gap: 12px;\n",
              "    }\n",
              "\n",
              "    .colab-df-convert {\n",
              "      background-color: #E8F0FE;\n",
              "      border: none;\n",
              "      border-radius: 50%;\n",
              "      cursor: pointer;\n",
              "      display: none;\n",
              "      fill: #1967D2;\n",
              "      height: 32px;\n",
              "      padding: 0 0 0 0;\n",
              "      width: 32px;\n",
              "    }\n",
              "\n",
              "    .colab-df-convert:hover {\n",
              "      background-color: #E2EBFA;\n",
              "      box-shadow: 0px 1px 2px rgba(60, 64, 67, 0.3), 0px 1px 3px 1px rgba(60, 64, 67, 0.15);\n",
              "      fill: #174EA6;\n",
              "    }\n",
              "\n",
              "    [theme=dark] .colab-df-convert {\n",
              "      background-color: #3B4455;\n",
              "      fill: #D2E3FC;\n",
              "    }\n",
              "\n",
              "    [theme=dark] .colab-df-convert:hover {\n",
              "      background-color: #434B5C;\n",
              "      box-shadow: 0px 1px 3px 1px rgba(0, 0, 0, 0.15);\n",
              "      filter: drop-shadow(0px 1px 2px rgba(0, 0, 0, 0.3));\n",
              "      fill: #FFFFFF;\n",
              "    }\n",
              "  </style>\n",
              "\n",
              "      <script>\n",
              "        const buttonEl =\n",
              "          document.querySelector('#df-1a9f528d-c8d7-42fd-a51a-bbe599251182 button.colab-df-convert');\n",
              "        buttonEl.style.display =\n",
              "          google.colab.kernel.accessAllowed ? 'block' : 'none';\n",
              "\n",
              "        async function convertToInteractive(key) {\n",
              "          const element = document.querySelector('#df-1a9f528d-c8d7-42fd-a51a-bbe599251182');\n",
              "          const dataTable =\n",
              "            await google.colab.kernel.invokeFunction('convertToInteractive',\n",
              "                                                     [key], {});\n",
              "          if (!dataTable) return;\n",
              "\n",
              "          const docLinkHtml = 'Like what you see? Visit the ' +\n",
              "            '<a target=\"_blank\" href=https://colab.research.google.com/notebooks/data_table.ipynb>data table notebook</a>'\n",
              "            + ' to learn more about interactive tables.';\n",
              "          element.innerHTML = '';\n",
              "          dataTable['output_type'] = 'display_data';\n",
              "          await google.colab.output.renderOutput(dataTable, element);\n",
              "          const docLink = document.createElement('div');\n",
              "          docLink.innerHTML = docLinkHtml;\n",
              "          element.appendChild(docLink);\n",
              "        }\n",
              "      </script>\n",
              "    </div>\n",
              "  </div>\n",
              "  "
            ],
            "text/plain": [
              "         word_prob                 non_word_prob                     logit  \\\n",
              "              mean       std count          mean       std count      mean   \n",
              "category                                                                     \n",
              "HF        0.928299  0.128227    39      0.071701  0.128227    39  3.843487   \n",
              "LF        0.850552  0.208267   218      0.149448  0.208267   218  2.674047   \n",
              "NW        0.164332  0.252289   243      0.835668  0.252289   243 -2.741229   \n",
              "\n",
              "                          \n",
              "               std count  \n",
              "category                  \n",
              "HF        1.857113    39  \n",
              "LF        1.870452   218  \n",
              "NW        2.268299   243  "
            ]
          },
          "metadata": {},
          "execution_count": 13
        }
      ]
    },
    {
      "cell_type": "markdown",
      "metadata": {
        "id": "ff61f25e-7817-4f3f-a48f-d5a6666b0e75"
      },
      "source": [
        "# NN Stan"
      ],
      "id": "ff61f25e-7817-4f3f-a48f-d5a6666b0e75"
    },
    {
      "cell_type": "code",
      "execution_count": null,
      "metadata": {
        "colab": {
          "base_uri": "https://localhost:8080/"
        },
        "id": "7811aa8f-f6c5-4fc1-9267-889386938f9b",
        "scrolled": true,
        "outputId": "90d76a32-8d5d-4b70-da61-4243c5a1765a"
      },
      "outputs": [
        {
          "output_type": "stream",
          "name": "stderr",
          "text": [
            "INFO:pystan:COMPILING THE C++ CODE FOR MODEL anon_model_af9e60bbb72398580d53847644e409e6 NOW.\n"
          ]
        }
      ],
      "source": [
        "ann_ddm_model = pystan.StanModel(file='single.stan')"
      ],
      "id": "7811aa8f-f6c5-4fc1-9267-889386938f9b"
    },
    {
      "cell_type": "code",
      "source": [
        "behavioural_df.iloc[0, [9, 10]].to_numpy() + 0.001   "
      ],
      "metadata": {
        "colab": {
          "base_uri": "https://localhost:8080/"
        },
        "id": "MS2s3gw2a7rA",
        "outputId": "32c3db83-b6b1-44b3-829e-4671d5122af9"
      },
      "id": "MS2s3gw2a7rA",
      "execution_count": null,
      "outputs": [
        {
          "output_type": "execute_result",
          "data": {
            "text/plain": [
              "array([0.9900366, 0.011963330000000001], dtype=object)"
            ]
          },
          "metadata": {},
          "execution_count": 15
        }
      ]
    },
    {
      "cell_type": "code",
      "execution_count": null,
      "metadata": {
        "id": "02b01f76-1d77-42f1-a3e4-b93dcd2f7e5f"
      },
      "outputs": [],
      "source": [
        "N = len(behavioural_df)                                       \n",
        "x = behavioural_df.iloc[:, [9, 10]].to_numpy() + 0.001                         # Feature data\n",
        "frequencies = behavioural_df['freq'].to_numpy() + 1             \n",
        "rt = behavioural_df['rt'].to_numpy()                      \n",
        "accuracy = behavioural_df['accuracy'].to_numpy().astype(int)\n",
        "\n",
        "# word_coefficient_priors = [0, 1]\n",
        "# nword_coefficient_priors = [2, 1]    \n",
        "drift_scaling_priors = [2, 1]                                          # mean and sd of the prior\n",
        "threshold_priors = [5, 3]                                                     # mean and sd of the prior\n",
        "ndt_priors = [0, 0.3] \n",
        "# bias_priors =  [2, 1]  \n",
        "starting_point = 0.5\n",
        "\n",
        "# define input for the model\n",
        "data_dict = {'N': N,\n",
        "             'x' : x, \n",
        "             'frequencies': frequencies,                                                                    \n",
        "             'rt': rt,\n",
        "             'accuracy': accuracy,\n",
        "            #  'word_coefficient_priors': word_coefficient_priors,\n",
        "            #  'nword_coefficient_priors' : nword_coefficient_priors,                                    \n",
        "             'threshold_priors' : threshold_priors,                                                \n",
        "             'ndt_priors':ndt_priors,\n",
        "            #  'bias_priors':bias_priors,\n",
        "             'starting_point': starting_point,\n",
        "             'drift_scaling_priors' : drift_scaling_priors\n",
        "            }\n",
        "\n",
        "# set sampling parameters\n",
        "n_iter = 1000\n",
        "n_warmup = int(n_iter/2)\n",
        "n_chains = 4"
      ],
      "id": "02b01f76-1d77-42f1-a3e4-b93dcd2f7e5f"
    },
    {
      "cell_type": "code",
      "execution_count": null,
      "metadata": {
        "id": "8017ce6c-58a9-4e15-bfb7-18dd50473471",
        "scrolled": true,
        "colab": {
          "base_uri": "https://localhost:8080/"
        },
        "outputId": "9f7a15f6-113e-446e-80ff-ada3aac49f31"
      },
      "outputs": [
        {
          "output_type": "stream",
          "name": "stderr",
          "text": [
            "WARNING:pystan:Maximum (flat) parameter count (1000) exceeded: skipping diagnostic tests for n_eff and Rhat.\n",
            "To run all diagnostics call pystan.check_hmc_diagnostics(fit)\n"
          ]
        }
      ],
      "source": [
        "# fit the model\n",
        "fit = ann_ddm_model.sampling(data=data_dict,\n",
        "                             iter=n_iter, \n",
        "                             warmup=n_warmup,\n",
        "                             chains=n_chains,\n",
        "                             verbose=True)"
      ],
      "id": "8017ce6c-58a9-4e15-bfb7-18dd50473471"
    },
    {
      "cell_type": "code",
      "execution_count": null,
      "metadata": {
        "colab": {
          "base_uri": "https://localhost:8080/"
        },
        "id": "0207be69-d4fa-4f6f-ae58-9c41e465be42",
        "outputId": "10548d81-9760-4868-c965-6b56ce84aace"
      },
      "outputs": [
        {
          "output_type": "stream",
          "name": "stdout",
          "text": [
            "***hmc diagnostics:\n",
            "{'n_eff': True, 'Rhat': True, 'divergence': True, 'treedepth': True, 'energy': True}\n"
          ]
        }
      ],
      "source": [
        "print(\"***hmc diagnostics:\")\n",
        "print(pystan.check_hmc_diagnostics(fit))"
      ],
      "id": "0207be69-d4fa-4f6f-ae58-9c41e465be42"
    },
    {
      "cell_type": "code",
      "execution_count": null,
      "metadata": {
        "colab": {
          "base_uri": "https://localhost:8080/"
        },
        "id": "2590170d-77ac-47a4-b025-395e9b84aad2",
        "outputId": "c5b3395c-d15d-4bfe-9599-bda9d4439407"
      },
      "outputs": [
        {
          "output_type": "stream",
          "name": "stdout",
          "text": [
            "***DF: \n",
            "                            mean   se_mean        sd        2.5%         25%  \\\n",
            "drift_scaling          -1.966485  0.002882  0.106657   -2.189315   -2.033603   \n",
            "threshold               0.767585  0.000967  0.036011    0.699622    0.742257   \n",
            "ndt                    -0.714305  0.000188  0.007263   -0.730175   -0.718925   \n",
            "drift_ll[1]            -1.222624  0.003243  0.120811   -1.464934   -1.303171   \n",
            "drift_ll[2]            -0.560349  0.001487  0.055370   -0.671403   -0.597265   \n",
            "...                          ...       ...       ...         ...         ...   \n",
            "ndt_t[500]              0.398468  0.000062  0.002385    0.393274    0.396946   \n",
            "transf_drift_scaling    0.131591  0.000349  0.013003    0.106154    0.122981   \n",
            "transf_threshold        1.148988  0.000661  0.024597    1.102934    1.131619   \n",
            "transf_ndt              0.398468  0.000062  0.002385    0.393274    0.396946   \n",
            "lp__                 -101.690582  0.038148  1.214822 -104.848304 -102.295956   \n",
            "\n",
            "                             50%         75%       97.5%        n_eff  \\\n",
            "drift_scaling          -1.958818   -1.893306   -1.767375  1369.446598   \n",
            "threshold               0.767474    0.792897    0.838069  1385.622878   \n",
            "ndt                    -0.713800   -0.709179   -0.701468  1499.265179   \n",
            "drift_ll[1]            -1.225745   -1.142630   -0.986289  1387.434245   \n",
            "drift_ll[2]            -0.561779   -0.523686   -0.452033  1387.434245   \n",
            "...                          ...         ...         ...          ...   \n",
            "ndt_t[500]              0.398628    0.400150    0.402699  1502.387340   \n",
            "transf_drift_scaling    0.131927    0.140260    0.157671  1387.434245   \n",
            "transf_threshold        1.148772    1.166205    1.197521  1386.462681   \n",
            "transf_ndt              0.398628    0.400150    0.402699  1502.387340   \n",
            "lp__                 -101.388725 -100.778474 -100.284467  1014.080993   \n",
            "\n",
            "                          Rhat  \n",
            "drift_scaling         1.003585  \n",
            "threshold             1.001780  \n",
            "ndt                   1.001002  \n",
            "drift_ll[1]           1.003310  \n",
            "drift_ll[2]           1.003310  \n",
            "...                        ...  \n",
            "ndt_t[500]            1.000996  \n",
            "transf_drift_scaling  1.003310  \n",
            "transf_threshold      1.001791  \n",
            "transf_ndt            1.000996  \n",
            "lp__                  1.003627  \n",
            "\n",
            "[2007 rows x 10 columns]\n"
          ]
        }
      ],
      "source": [
        "summary_dict = fit.summary()\n",
        "df = pd.DataFrame(summary_dict['summary'], \n",
        "                  columns=summary_dict['summary_colnames'], \n",
        "                  index=summary_dict['summary_rownames'])\n",
        "\n",
        "print(\"***DF: \")\n",
        "print(df)"
      ],
      "id": "2590170d-77ac-47a4-b025-395e9b84aad2"
    },
    {
      "cell_type": "code",
      "execution_count": null,
      "metadata": {
        "id": "ae857c48-36f8-4647-aa0a-0859a0533868",
        "scrolled": true,
        "colab": {
          "base_uri": "https://localhost:8080/"
        },
        "outputId": "dadcd81b-0a38-40d4-8ca9-f17256b0ab16"
      },
      "outputs": [
        {
          "output_type": "stream",
          "name": "stdout",
          "text": [
            "***Rhat > 1.01: \n",
            "0\n"
          ]
        }
      ],
      "source": [
        "counter = 0\n",
        "print(\"***Rhat > 1.01: \")\n",
        "for f in df[\"Rhat\"]:\n",
        "    if f > 1.01:\n",
        "        # print(f)\n",
        "        counter+=1\n",
        "print(counter)"
      ],
      "id": "ae857c48-36f8-4647-aa0a-0859a0533868"
    },
    {
      "cell_type": "code",
      "execution_count": null,
      "metadata": {
        "id": "a23f2f15-f9c7-4342-8f98-66877dffd335",
        "colab": {
          "base_uri": "https://localhost:8080/",
          "height": 300
        },
        "outputId": "6a407d07-7968-4ee6-86eb-19aab3a14bae"
      },
      "outputs": [
        {
          "output_type": "execute_result",
          "data": {
            "text/html": [
              "\n",
              "  <div id=\"df-01356109-b6ee-42c6-b4f5-bddfe0e0a024\">\n",
              "    <div class=\"colab-df-container\">\n",
              "      <div>\n",
              "<style scoped>\n",
              "    .dataframe tbody tr th:only-of-type {\n",
              "        vertical-align: middle;\n",
              "    }\n",
              "\n",
              "    .dataframe tbody tr th {\n",
              "        vertical-align: top;\n",
              "    }\n",
              "\n",
              "    .dataframe thead th {\n",
              "        text-align: right;\n",
              "    }\n",
              "</style>\n",
              "<table border=\"1\" class=\"dataframe\">\n",
              "  <thead>\n",
              "    <tr style=\"text-align: right;\">\n",
              "      <th></th>\n",
              "      <th>mean</th>\n",
              "      <th>se_mean</th>\n",
              "      <th>sd</th>\n",
              "      <th>2.5%</th>\n",
              "      <th>25%</th>\n",
              "      <th>50%</th>\n",
              "      <th>75%</th>\n",
              "      <th>97.5%</th>\n",
              "      <th>n_eff</th>\n",
              "      <th>Rhat</th>\n",
              "    </tr>\n",
              "  </thead>\n",
              "  <tbody>\n",
              "    <tr>\n",
              "      <th>count</th>\n",
              "      <td>0.0</td>\n",
              "      <td>0.0</td>\n",
              "      <td>0.0</td>\n",
              "      <td>0.0</td>\n",
              "      <td>0.0</td>\n",
              "      <td>0.0</td>\n",
              "      <td>0.0</td>\n",
              "      <td>0.0</td>\n",
              "      <td>0.0</td>\n",
              "      <td>0.0</td>\n",
              "    </tr>\n",
              "    <tr>\n",
              "      <th>mean</th>\n",
              "      <td>NaN</td>\n",
              "      <td>NaN</td>\n",
              "      <td>NaN</td>\n",
              "      <td>NaN</td>\n",
              "      <td>NaN</td>\n",
              "      <td>NaN</td>\n",
              "      <td>NaN</td>\n",
              "      <td>NaN</td>\n",
              "      <td>NaN</td>\n",
              "      <td>NaN</td>\n",
              "    </tr>\n",
              "    <tr>\n",
              "      <th>std</th>\n",
              "      <td>NaN</td>\n",
              "      <td>NaN</td>\n",
              "      <td>NaN</td>\n",
              "      <td>NaN</td>\n",
              "      <td>NaN</td>\n",
              "      <td>NaN</td>\n",
              "      <td>NaN</td>\n",
              "      <td>NaN</td>\n",
              "      <td>NaN</td>\n",
              "      <td>NaN</td>\n",
              "    </tr>\n",
              "    <tr>\n",
              "      <th>min</th>\n",
              "      <td>NaN</td>\n",
              "      <td>NaN</td>\n",
              "      <td>NaN</td>\n",
              "      <td>NaN</td>\n",
              "      <td>NaN</td>\n",
              "      <td>NaN</td>\n",
              "      <td>NaN</td>\n",
              "      <td>NaN</td>\n",
              "      <td>NaN</td>\n",
              "      <td>NaN</td>\n",
              "    </tr>\n",
              "    <tr>\n",
              "      <th>25%</th>\n",
              "      <td>NaN</td>\n",
              "      <td>NaN</td>\n",
              "      <td>NaN</td>\n",
              "      <td>NaN</td>\n",
              "      <td>NaN</td>\n",
              "      <td>NaN</td>\n",
              "      <td>NaN</td>\n",
              "      <td>NaN</td>\n",
              "      <td>NaN</td>\n",
              "      <td>NaN</td>\n",
              "    </tr>\n",
              "    <tr>\n",
              "      <th>50%</th>\n",
              "      <td>NaN</td>\n",
              "      <td>NaN</td>\n",
              "      <td>NaN</td>\n",
              "      <td>NaN</td>\n",
              "      <td>NaN</td>\n",
              "      <td>NaN</td>\n",
              "      <td>NaN</td>\n",
              "      <td>NaN</td>\n",
              "      <td>NaN</td>\n",
              "      <td>NaN</td>\n",
              "    </tr>\n",
              "    <tr>\n",
              "      <th>75%</th>\n",
              "      <td>NaN</td>\n",
              "      <td>NaN</td>\n",
              "      <td>NaN</td>\n",
              "      <td>NaN</td>\n",
              "      <td>NaN</td>\n",
              "      <td>NaN</td>\n",
              "      <td>NaN</td>\n",
              "      <td>NaN</td>\n",
              "      <td>NaN</td>\n",
              "      <td>NaN</td>\n",
              "    </tr>\n",
              "    <tr>\n",
              "      <th>max</th>\n",
              "      <td>NaN</td>\n",
              "      <td>NaN</td>\n",
              "      <td>NaN</td>\n",
              "      <td>NaN</td>\n",
              "      <td>NaN</td>\n",
              "      <td>NaN</td>\n",
              "      <td>NaN</td>\n",
              "      <td>NaN</td>\n",
              "      <td>NaN</td>\n",
              "      <td>NaN</td>\n",
              "    </tr>\n",
              "  </tbody>\n",
              "</table>\n",
              "</div>\n",
              "      <button class=\"colab-df-convert\" onclick=\"convertToInteractive('df-01356109-b6ee-42c6-b4f5-bddfe0e0a024')\"\n",
              "              title=\"Convert this dataframe to an interactive table.\"\n",
              "              style=\"display:none;\">\n",
              "        \n",
              "  <svg xmlns=\"http://www.w3.org/2000/svg\" height=\"24px\"viewBox=\"0 0 24 24\"\n",
              "       width=\"24px\">\n",
              "    <path d=\"M0 0h24v24H0V0z\" fill=\"none\"/>\n",
              "    <path d=\"M18.56 5.44l.94 2.06.94-2.06 2.06-.94-2.06-.94-.94-2.06-.94 2.06-2.06.94zm-11 1L8.5 8.5l.94-2.06 2.06-.94-2.06-.94L8.5 2.5l-.94 2.06-2.06.94zm10 10l.94 2.06.94-2.06 2.06-.94-2.06-.94-.94-2.06-.94 2.06-2.06.94z\"/><path d=\"M17.41 7.96l-1.37-1.37c-.4-.4-.92-.59-1.43-.59-.52 0-1.04.2-1.43.59L10.3 9.45l-7.72 7.72c-.78.78-.78 2.05 0 2.83L4 21.41c.39.39.9.59 1.41.59.51 0 1.02-.2 1.41-.59l7.78-7.78 2.81-2.81c.8-.78.8-2.07 0-2.86zM5.41 20L4 18.59l7.72-7.72 1.47 1.35L5.41 20z\"/>\n",
              "  </svg>\n",
              "      </button>\n",
              "      \n",
              "  <style>\n",
              "    .colab-df-container {\n",
              "      display:flex;\n",
              "      flex-wrap:wrap;\n",
              "      gap: 12px;\n",
              "    }\n",
              "\n",
              "    .colab-df-convert {\n",
              "      background-color: #E8F0FE;\n",
              "      border: none;\n",
              "      border-radius: 50%;\n",
              "      cursor: pointer;\n",
              "      display: none;\n",
              "      fill: #1967D2;\n",
              "      height: 32px;\n",
              "      padding: 0 0 0 0;\n",
              "      width: 32px;\n",
              "    }\n",
              "\n",
              "    .colab-df-convert:hover {\n",
              "      background-color: #E2EBFA;\n",
              "      box-shadow: 0px 1px 2px rgba(60, 64, 67, 0.3), 0px 1px 3px 1px rgba(60, 64, 67, 0.15);\n",
              "      fill: #174EA6;\n",
              "    }\n",
              "\n",
              "    [theme=dark] .colab-df-convert {\n",
              "      background-color: #3B4455;\n",
              "      fill: #D2E3FC;\n",
              "    }\n",
              "\n",
              "    [theme=dark] .colab-df-convert:hover {\n",
              "      background-color: #434B5C;\n",
              "      box-shadow: 0px 1px 3px 1px rgba(0, 0, 0, 0.15);\n",
              "      filter: drop-shadow(0px 1px 2px rgba(0, 0, 0, 0.3));\n",
              "      fill: #FFFFFF;\n",
              "    }\n",
              "  </style>\n",
              "\n",
              "      <script>\n",
              "        const buttonEl =\n",
              "          document.querySelector('#df-01356109-b6ee-42c6-b4f5-bddfe0e0a024 button.colab-df-convert');\n",
              "        buttonEl.style.display =\n",
              "          google.colab.kernel.accessAllowed ? 'block' : 'none';\n",
              "\n",
              "        async function convertToInteractive(key) {\n",
              "          const element = document.querySelector('#df-01356109-b6ee-42c6-b4f5-bddfe0e0a024');\n",
              "          const dataTable =\n",
              "            await google.colab.kernel.invokeFunction('convertToInteractive',\n",
              "                                                     [key], {});\n",
              "          if (!dataTable) return;\n",
              "\n",
              "          const docLinkHtml = 'Like what you see? Visit the ' +\n",
              "            '<a target=\"_blank\" href=https://colab.research.google.com/notebooks/data_table.ipynb>data table notebook</a>'\n",
              "            + ' to learn more about interactive tables.';\n",
              "          element.innerHTML = '';\n",
              "          dataTable['output_type'] = 'display_data';\n",
              "          await google.colab.output.renderOutput(dataTable, element);\n",
              "          const docLink = document.createElement('div');\n",
              "          docLink.innerHTML = docLinkHtml;\n",
              "          element.appendChild(docLink);\n",
              "        }\n",
              "      </script>\n",
              "    </div>\n",
              "  </div>\n",
              "  "
            ],
            "text/plain": [
              "       mean  se_mean   sd  2.5%  25%  50%  75%  97.5%  n_eff  Rhat\n",
              "count   0.0      0.0  0.0   0.0  0.0  0.0  0.0    0.0    0.0   0.0\n",
              "mean    NaN      NaN  NaN   NaN  NaN  NaN  NaN    NaN    NaN   NaN\n",
              "std     NaN      NaN  NaN   NaN  NaN  NaN  NaN    NaN    NaN   NaN\n",
              "min     NaN      NaN  NaN   NaN  NaN  NaN  NaN    NaN    NaN   NaN\n",
              "25%     NaN      NaN  NaN   NaN  NaN  NaN  NaN    NaN    NaN   NaN\n",
              "50%     NaN      NaN  NaN   NaN  NaN  NaN  NaN    NaN    NaN   NaN\n",
              "75%     NaN      NaN  NaN   NaN  NaN  NaN  NaN    NaN    NaN   NaN\n",
              "max     NaN      NaN  NaN   NaN  NaN  NaN  NaN    NaN    NaN   NaN"
            ]
          },
          "metadata": {},
          "execution_count": 21
        }
      ],
      "source": [
        "df.loc[df['Rhat']>1.01].describe()"
      ],
      "id": "a23f2f15-f9c7-4342-8f98-66877dffd335"
    },
    {
      "cell_type": "code",
      "execution_count": null,
      "metadata": {
        "id": "91f05ae4-4c6f-40a5-befd-4711dee397bf",
        "colab": {
          "base_uri": "https://localhost:8080/"
        },
        "outputId": "68009088-1c82-4281-dd50-f60db0e17b10"
      },
      "outputs": [
        {
          "output_type": "stream",
          "name": "stderr",
          "text": [
            "/usr/local/lib/python3.7/dist-packages/ipykernel_launcher.py:2: UserWarning: Pickling fit objects is an experimental feature!\n",
            "The relevant StanModel instance must be pickled along with this fit object.\n",
            "When unpickling the StanModel must be unpickled first.\n",
            "  \n"
          ]
        }
      ],
      "source": [
        "with open(root+\"results/model_fit.pkl\", \"wb\") as f:\n",
        "    pickle.dump({'model' : ann_ddm_model, 'fit' : fit}, f, protocol=-1)"
      ],
      "id": "91f05ae4-4c6f-40a5-befd-4711dee397bf"
    },
    {
      "cell_type": "markdown",
      "metadata": {
        "id": "2743cc7e-7238-4f84-afe4-4b502770f62b"
      },
      "source": [
        "# Check parameters"
      ],
      "id": "2743cc7e-7238-4f84-afe4-4b502770f62b"
    },
    {
      "cell_type": "code",
      "execution_count": null,
      "metadata": {
        "id": "6099fee5-6c17-488c-bd45-9a667eafaec6"
      },
      "outputs": [],
      "source": [
        "with open(root+\"results/model_fit.pkl\", \"rb\") as f:\n",
        "    data_dict = pickle.load(f)\n",
        "\n",
        "fit = data_dict['fit']"
      ],
      "id": "6099fee5-6c17-488c-bd45-9a667eafaec6"
    },
    {
      "cell_type": "code",
      "execution_count": null,
      "metadata": {
        "id": "62d19f08-86ff-42b1-a0fa-b533ea0c6398",
        "colab": {
          "base_uri": "https://localhost:8080/",
          "height": 366
        },
        "outputId": "99700bef-e0ef-4678-eb05-6876cd031c12"
      },
      "outputs": [
        {
          "output_type": "execute_result",
          "data": {
            "text/plain": [
              "array([[<matplotlib.axes._subplots.AxesSubplot object at 0x7fc404ee66d0>,\n",
              "        <matplotlib.axes._subplots.AxesSubplot object at 0x7fc4068293d0>],\n",
              "       [<matplotlib.axes._subplots.AxesSubplot object at 0x7fc40683f410>,\n",
              "        <matplotlib.axes._subplots.AxesSubplot object at 0x7fc4067a3690>]],\n",
              "      dtype=object)"
            ]
          },
          "metadata": {},
          "execution_count": 24
        },
        {
          "output_type": "display_data",
          "data": {
            "image/png": "[encoded data removed]",
            "text/plain": [
              "<Figure size 864x288 with 4 Axes>"
            ]
          },
          "metadata": {
            "needs_background": "light"
          }
        }
      ],
      "source": [
        "az.plot_trace(fit, var_names=['transf_threshold', 'transf_ndt'])"
      ],
      "id": "62d19f08-86ff-42b1-a0fa-b533ea0c6398"
    },
    {
      "cell_type": "code",
      "execution_count": null,
      "metadata": {
        "id": "51244b82-34b0-440b-803d-802043beba35"
      },
      "outputs": [],
      "source": [
        "fit_result_df = fit.to_dataframe(pars=['transf_drift_scaling', 'transf_threshold', 'transf_ndt'],\n",
        "                 diagnostics=False, inc_warmup=False).drop(['chain','draw', 'warmup'], axis=1)"
      ],
      "id": "51244b82-34b0-440b-803d-802043beba35"
    },
    {
      "cell_type": "code",
      "execution_count": null,
      "metadata": {
        "id": "c3279aad-9236-4b5d-bc6a-b95fa950534b",
        "colab": {
          "base_uri": "https://localhost:8080/",
          "height": 424
        },
        "outputId": "241f367f-a89e-4b99-b8d8-e4b0016d49d7"
      },
      "outputs": [
        {
          "output_type": "execute_result",
          "data": {
            "text/html": [
              "\n",
              "  <div id=\"df-1e475dd4-7b64-4d71-a856-6e76db5665d2\">\n",
              "    <div class=\"colab-df-container\">\n",
              "      <div>\n",
              "<style scoped>\n",
              "    .dataframe tbody tr th:only-of-type {\n",
              "        vertical-align: middle;\n",
              "    }\n",
              "\n",
              "    .dataframe tbody tr th {\n",
              "        vertical-align: top;\n",
              "    }\n",
              "\n",
              "    .dataframe thead th {\n",
              "        text-align: right;\n",
              "    }\n",
              "</style>\n",
              "<table border=\"1\" class=\"dataframe\">\n",
              "  <thead>\n",
              "    <tr style=\"text-align: right;\">\n",
              "      <th></th>\n",
              "      <th>transf_drift_scaling</th>\n",
              "      <th>transf_ndt</th>\n",
              "      <th>transf_threshold</th>\n",
              "    </tr>\n",
              "  </thead>\n",
              "  <tbody>\n",
              "    <tr>\n",
              "      <th>0</th>\n",
              "      <td>0.121020</td>\n",
              "      <td>0.397449</td>\n",
              "      <td>1.182703</td>\n",
              "    </tr>\n",
              "    <tr>\n",
              "      <th>1</th>\n",
              "      <td>0.149372</td>\n",
              "      <td>0.398420</td>\n",
              "      <td>1.145242</td>\n",
              "    </tr>\n",
              "    <tr>\n",
              "      <th>2</th>\n",
              "      <td>0.112739</td>\n",
              "      <td>0.395467</td>\n",
              "      <td>1.173127</td>\n",
              "    </tr>\n",
              "    <tr>\n",
              "      <th>3</th>\n",
              "      <td>0.125395</td>\n",
              "      <td>0.395858</td>\n",
              "      <td>1.157167</td>\n",
              "    </tr>\n",
              "    <tr>\n",
              "      <th>4</th>\n",
              "      <td>0.143626</td>\n",
              "      <td>0.399511</td>\n",
              "      <td>1.181658</td>\n",
              "    </tr>\n",
              "    <tr>\n",
              "      <th>...</th>\n",
              "      <td>...</td>\n",
              "      <td>...</td>\n",
              "      <td>...</td>\n",
              "    </tr>\n",
              "    <tr>\n",
              "      <th>1995</th>\n",
              "      <td>0.137653</td>\n",
              "      <td>0.400274</td>\n",
              "      <td>1.141382</td>\n",
              "    </tr>\n",
              "    <tr>\n",
              "      <th>1996</th>\n",
              "      <td>0.132196</td>\n",
              "      <td>0.401059</td>\n",
              "      <td>1.123595</td>\n",
              "    </tr>\n",
              "    <tr>\n",
              "      <th>1997</th>\n",
              "      <td>0.138727</td>\n",
              "      <td>0.396133</td>\n",
              "      <td>1.180817</td>\n",
              "    </tr>\n",
              "    <tr>\n",
              "      <th>1998</th>\n",
              "      <td>0.142582</td>\n",
              "      <td>0.396707</td>\n",
              "      <td>1.189208</td>\n",
              "    </tr>\n",
              "    <tr>\n",
              "      <th>1999</th>\n",
              "      <td>0.129206</td>\n",
              "      <td>0.394615</td>\n",
              "      <td>1.179217</td>\n",
              "    </tr>\n",
              "  </tbody>\n",
              "</table>\n",
              "<p>2000 rows × 3 columns</p>\n",
              "</div>\n",
              "      <button class=\"colab-df-convert\" onclick=\"convertToInteractive('df-1e475dd4-7b64-4d71-a856-6e76db5665d2')\"\n",
              "              title=\"Convert this dataframe to an interactive table.\"\n",
              "              style=\"display:none;\">\n",
              "        \n",
              "  <svg xmlns=\"http://www.w3.org/2000/svg\" height=\"24px\"viewBox=\"0 0 24 24\"\n",
              "       width=\"24px\">\n",
              "    <path d=\"M0 0h24v24H0V0z\" fill=\"none\"/>\n",
              "    <path d=\"M18.56 5.44l.94 2.06.94-2.06 2.06-.94-2.06-.94-.94-2.06-.94 2.06-2.06.94zm-11 1L8.5 8.5l.94-2.06 2.06-.94-2.06-.94L8.5 2.5l-.94 2.06-2.06.94zm10 10l.94 2.06.94-2.06 2.06-.94-2.06-.94-.94-2.06-.94 2.06-2.06.94z\"/><path d=\"M17.41 7.96l-1.37-1.37c-.4-.4-.92-.59-1.43-.59-.52 0-1.04.2-1.43.59L10.3 9.45l-7.72 7.72c-.78.78-.78 2.05 0 2.83L4 21.41c.39.39.9.59 1.41.59.51 0 1.02-.2 1.41-.59l7.78-7.78 2.81-2.81c.8-.78.8-2.07 0-2.86zM5.41 20L4 18.59l7.72-7.72 1.47 1.35L5.41 20z\"/>\n",
              "  </svg>\n",
              "      </button>\n",
              "      \n",
              "  <style>\n",
              "    .colab-df-container {\n",
              "      display:flex;\n",
              "      flex-wrap:wrap;\n",
              "      gap: 12px;\n",
              "    }\n",
              "\n",
              "    .colab-df-convert {\n",
              "      background-color: #E8F0FE;\n",
              "      border: none;\n",
              "      border-radius: 50%;\n",
              "      cursor: pointer;\n",
              "      display: none;\n",
              "      fill: #1967D2;\n",
              "      height: 32px;\n",
              "      padding: 0 0 0 0;\n",
              "      width: 32px;\n",
              "    }\n",
              "\n",
              "    .colab-df-convert:hover {\n",
              "      background-color: #E2EBFA;\n",
              "      box-shadow: 0px 1px 2px rgba(60, 64, 67, 0.3), 0px 1px 3px 1px rgba(60, 64, 67, 0.15);\n",
              "      fill: #174EA6;\n",
              "    }\n",
              "\n",
              "    [theme=dark] .colab-df-convert {\n",
              "      background-color: #3B4455;\n",
              "      fill: #D2E3FC;\n",
              "    }\n",
              "\n",
              "    [theme=dark] .colab-df-convert:hover {\n",
              "      background-color: #434B5C;\n",
              "      box-shadow: 0px 1px 3px 1px rgba(0, 0, 0, 0.15);\n",
              "      filter: drop-shadow(0px 1px 2px rgba(0, 0, 0, 0.3));\n",
              "      fill: #FFFFFF;\n",
              "    }\n",
              "  </style>\n",
              "\n",
              "      <script>\n",
              "        const buttonEl =\n",
              "          document.querySelector('#df-1e475dd4-7b64-4d71-a856-6e76db5665d2 button.colab-df-convert');\n",
              "        buttonEl.style.display =\n",
              "          google.colab.kernel.accessAllowed ? 'block' : 'none';\n",
              "\n",
              "        async function convertToInteractive(key) {\n",
              "          const element = document.querySelector('#df-1e475dd4-7b64-4d71-a856-6e76db5665d2');\n",
              "          const dataTable =\n",
              "            await google.colab.kernel.invokeFunction('convertToInteractive',\n",
              "                                                     [key], {});\n",
              "          if (!dataTable) return;\n",
              "\n",
              "          const docLinkHtml = 'Like what you see? Visit the ' +\n",
              "            '<a target=\"_blank\" href=https://colab.research.google.com/notebooks/data_table.ipynb>data table notebook</a>'\n",
              "            + ' to learn more about interactive tables.';\n",
              "          element.innerHTML = '';\n",
              "          dataTable['output_type'] = 'display_data';\n",
              "          await google.colab.output.renderOutput(dataTable, element);\n",
              "          const docLink = document.createElement('div');\n",
              "          docLink.innerHTML = docLinkHtml;\n",
              "          element.appendChild(docLink);\n",
              "        }\n",
              "      </script>\n",
              "    </div>\n",
              "  </div>\n",
              "  "
            ],
            "text/plain": [
              "      transf_drift_scaling  transf_ndt  transf_threshold\n",
              "0                 0.121020    0.397449          1.182703\n",
              "1                 0.149372    0.398420          1.145242\n",
              "2                 0.112739    0.395467          1.173127\n",
              "3                 0.125395    0.395858          1.157167\n",
              "4                 0.143626    0.399511          1.181658\n",
              "...                    ...         ...               ...\n",
              "1995              0.137653    0.400274          1.141382\n",
              "1996              0.132196    0.401059          1.123595\n",
              "1997              0.138727    0.396133          1.180817\n",
              "1998              0.142582    0.396707          1.189208\n",
              "1999              0.129206    0.394615          1.179217\n",
              "\n",
              "[2000 rows x 3 columns]"
            ]
          },
          "metadata": {},
          "execution_count": 26
        }
      ],
      "source": [
        "fit_result_df"
      ],
      "id": "c3279aad-9236-4b5d-bc6a-b95fa950534b"
    },
    {
      "cell_type": "code",
      "execution_count": null,
      "metadata": {
        "id": "aa54713d-1b82-47e3-a2ba-f4958c278a95",
        "colab": {
          "base_uri": "https://localhost:8080/",
          "height": 371
        },
        "outputId": "7b5778d8-ce8f-4b20-f70d-575b3858e6e6"
      },
      "outputs": [
        {
          "output_type": "execute_result",
          "data": {
            "text/plain": [
              "array([<matplotlib.axes._subplots.AxesSubplot object at 0x7fc40692cbd0>,\n",
              "       <matplotlib.axes._subplots.AxesSubplot object at 0x7fc404dd9bd0>],\n",
              "      dtype=object)"
            ]
          },
          "metadata": {},
          "execution_count": 27
        },
        {
          "output_type": "display_data",
          "data": {
            "image/png": "[encoded data removed]",
            "text/plain": [
              "<Figure size 993.6x331.2 with 2 Axes>"
            ]
          },
          "metadata": {
            "needs_background": "light"
          }
        }
      ],
      "source": [
        "az.plot_posterior(fit, var_names=['transf_threshold', 'transf_ndt'], hdi_prob=.95)"
      ],
      "id": "aa54713d-1b82-47e3-a2ba-f4958c278a95"
    },
    {
      "cell_type": "code",
      "execution_count": null,
      "metadata": {
        "id": "bc9c5903-70a3-4950-adfd-bcb31832cf77"
      },
      "outputs": [],
      "source": [
        "drift_t = fit['drift_t']\n",
        "threshold_t = fit['threshold_t']\n",
        "ndt_t = fit['ndt_t']"
      ],
      "id": "bc9c5903-70a3-4950-adfd-bcb31832cf77"
    },
    {
      "cell_type": "code",
      "execution_count": null,
      "metadata": {
        "id": "73c1e525-365e-46e3-a161-8c296c6cd5fc"
      },
      "outputs": [],
      "source": [
        "HF_condition = drift_t[:, behavioural_df.index[behavioural_df['category']==\"HF\"].tolist()]\n",
        "LF_condition = drift_t[:, behavioural_df.index[behavioural_df['category']==\"LF\"].tolist()]\n",
        "NW_condition = drift_t[:, behavioural_df.index[behavioural_df['category']==\"NW\"].tolist()]"
      ],
      "id": "73c1e525-365e-46e3-a161-8c296c6cd5fc"
    },
    {
      "cell_type": "code",
      "execution_count": null,
      "metadata": {
        "id": "965180a8-0df0-4c8c-8ac2-2efe47b22cdd",
        "colab": {
          "base_uri": "https://localhost:8080/"
        },
        "outputId": "8c547328-7735-41be-b700-d01b08b6806c"
      },
      "outputs": [
        {
          "output_type": "stream",
          "name": "stdout",
          "text": [
            "HF words drifts mean and std:\n"
          ]
        },
        {
          "output_type": "execute_result",
          "data": {
            "text/plain": [
              "(1.7932913944030269, 0.17715658721331484)"
            ]
          },
          "metadata": {},
          "execution_count": 30
        }
      ],
      "source": [
        "print('HF words drifts mean and std:')\n",
        "np.mean(np.mean(HF_condition, axis=1)), np.std(np.mean(HF_condition, axis=1))"
      ],
      "id": "965180a8-0df0-4c8c-8ac2-2efe47b22cdd"
    },
    {
      "cell_type": "code",
      "execution_count": null,
      "metadata": {
        "id": "d6e2721a-1710-4656-9870-e433d64f0c9b",
        "colab": {
          "base_uri": "https://localhost:8080/"
        },
        "outputId": "d5348c85-0743-4b77-fdaf-54d6471c2df4"
      },
      "outputs": [
        {
          "output_type": "stream",
          "name": "stdout",
          "text": [
            "LF words drifts mean and std:\n"
          ]
        },
        {
          "output_type": "execute_result",
          "data": {
            "text/plain": [
              "(1.0573205375300154, 0.10445112188904446)"
            ]
          },
          "metadata": {},
          "execution_count": 31
        }
      ],
      "source": [
        "print('LF words drifts mean and std:')\n",
        "np.mean(np.mean(LF_condition, axis=1)), np.std(np.mean(LF_condition, axis=1))"
      ],
      "id": "d6e2721a-1710-4656-9870-e433d64f0c9b"
    },
    {
      "cell_type": "code",
      "execution_count": null,
      "metadata": {
        "id": "102a91fc-9036-495c-b25a-072122bbbcfd",
        "colab": {
          "base_uri": "https://localhost:8080/"
        },
        "outputId": "59976f69-7269-42a9-c82c-dd88c06e60b3"
      },
      "outputs": [
        {
          "output_type": "stream",
          "name": "stdout",
          "text": [
            "Non Words drifts mean and std:\n"
          ]
        },
        {
          "output_type": "execute_result",
          "data": {
            "text/plain": [
              "(-0.34977736242531376, 0.03455398492690092)"
            ]
          },
          "metadata": {},
          "execution_count": 32
        }
      ],
      "source": [
        "print('Non Words drifts mean and std:')\n",
        "np.mean(np.mean(NW_condition, axis=1)), np.std(np.mean(NW_condition, axis=1))"
      ],
      "id": "102a91fc-9036-495c-b25a-072122bbbcfd"
    },
    {
      "cell_type": "markdown",
      "metadata": {
        "id": "0f8d2506-f725-4212-bca2-3ff80b1aaa79"
      },
      "source": [
        "# Posterior Predictions"
      ],
      "id": "0f8d2506-f725-4212-bca2-3ff80b1aaa79"
    },
    {
      "cell_type": "code",
      "execution_count": null,
      "metadata": {
        "id": "0c6fc48a-a6ab-424d-828a-38e12ccb86a2"
      },
      "outputs": [],
      "source": [
        "rt, response = rlssm.random.random_ddm(drift=drift_t, threshold=threshold_t, rel_sp=0.5, ndt=ndt_t, max_rt=10)"
      ],
      "id": "0c6fc48a-a6ab-424d-828a-38e12ccb86a2"
    },
    {
      "cell_type": "code",
      "execution_count": null,
      "metadata": {
        "id": "e86ebb38-1ace-45ed-ba00-39fdecb3ad6b"
      },
      "outputs": [],
      "source": [
        "word_rt = rt[:, behavioural_df['label']==1]\n",
        "hf_word_rt = rt[:, behavioural_df['category']==\"HF\"]\n",
        "lf_word_rt = rt[:, behavioural_df['category']==\"LF\"]\n",
        "nword_rt = rt[:, behavioural_df['label']==0]\n",
        "\n",
        "word_data_rt_mean = np.mean(behavioural_df.loc[behavioural_df['label']==1]['rt'])\n",
        "hf_word_data_rt_mean = np.mean(behavioural_df.loc[behavioural_df['category']=='HF']['rt'])\n",
        "lf_word_data_rt_mean = np.mean(behavioural_df.loc[behavioural_df['category']=='LF']['rt'])\n",
        "nword_data_rt_mean = np.mean(behavioural_df.loc[behavioural_df['label']==0]['rt'])"
      ],
      "id": "e86ebb38-1ace-45ed-ba00-39fdecb3ad6b"
    },
    {
      "cell_type": "code",
      "execution_count": null,
      "metadata": {
        "colab": {
          "base_uri": "https://localhost:8080/"
        },
        "id": "523843df-3710-4be1-95c1-602cfb4b15fd",
        "outputId": "3b44b7f7-cf5c-4514-d7e5-7b2e0820fb78"
      },
      "outputs": [
        {
          "output_type": "stream",
          "name": "stderr",
          "text": [
            "100%|██████████| 2000/2000 [00:02<00:00, 978.91it/s]\n",
            "100%|██████████| 2000/2000 [00:02<00:00, 903.70it/s]\n",
            "100%|██████████| 2000/2000 [00:02<00:00, 905.02it/s]\n",
            "100%|██████████| 2000/2000 [00:02<00:00, 999.67it/s] \n"
          ]
        }
      ],
      "source": [
        "word_acc = []\n",
        "hf_word_acc = []\n",
        "lf_word_acc = []\n",
        "nword_acc = []\n",
        "\n",
        "\n",
        "for index in tqdm(range(response.shape[0])):\n",
        "    sample_acc = response[index,  behavioural_df['label']==1] == behavioural_df.loc[behavioural_df['label']==1]['string_type']\n",
        "    word_acc.append(np.mean(sample_acc))\n",
        "    \n",
        "for index in tqdm(range(response.shape[0])):\n",
        "    sample_acc = response[index,  behavioural_df['category']=='HF'] == behavioural_df.loc[behavioural_df['category']=='HF']['string_type']\n",
        "    hf_word_acc.append(np.mean(sample_acc))\n",
        "    \n",
        "for index in tqdm(range(response.shape[0])):\n",
        "    sample_acc = response[index,  behavioural_df['category']=='LF'] == behavioural_df.loc[behavioural_df['category']=='LF']['string_type']\n",
        "    lf_word_acc.append(np.mean(sample_acc))\n",
        "    \n",
        "for index in tqdm(range(response.shape[0])):\n",
        "    sample_acc = response[index,  behavioural_df['label']==0] == behavioural_df.loc[behavioural_df['label']==0]['string_type']\n",
        "    nword_acc.append(np.mean(sample_acc))\n",
        "    \n",
        "word_acc = np.array(word_acc)\n",
        "nword_acc = np.array(nword_acc)\n",
        "\n",
        "word_data_acc_mean = np.mean(behavioural_df.loc[behavioural_df['label']==1]['accuracy'])\n",
        "hf_word_data_acc_mean = np.mean(behavioural_df.loc[behavioural_df['category']=='HF']['accuracy'])\n",
        "lf_word_data_acc_mean = np.mean(behavioural_df.loc[behavioural_df['category']=='LF']['accuracy'])\n",
        "nword_data_acc_mean = np.mean(behavioural_df.loc[behavioural_df['label']==0]['accuracy'])"
      ],
      "id": "523843df-3710-4be1-95c1-602cfb4b15fd"
    },
    {
      "cell_type": "code",
      "execution_count": null,
      "metadata": {
        "colab": {
          "base_uri": "https://localhost:8080/",
          "height": 786
        },
        "id": "6481d862-25c1-49ec-8bbe-94e34c6374f4",
        "outputId": "d28047c1-a054-4831-82a7-94f9b6693982"
      },
      "outputs": [
        {
          "output_type": "display_data",
          "data": {
            "image/png": "[encoded data removed]",
            "text/plain": [
              "<Figure size 1440x1080 with 4 Axes>"
            ]
          },
          "metadata": {
            "needs_background": "light"
          }
        }
      ],
      "source": [
        "fig, axes = plt.subplots(2,2 , figsize=(20,15))\n",
        "plt.subplots_adjust(wspace=0.5, hspace=0.5)\n",
        "\n",
        "fig.suptitle('RT Distribution')\n",
        "axes[0][0].set_title('Posterior predictive distribution of rt: words')\n",
        "axes[0][1].set_title('Posterior predictive distribution of rt: non-words')\n",
        "axes[1][0].set_title('Posterior predictive distribution of rt: HF_words')\n",
        "axes[1][1].set_title('Posterior predictive distribution of rt: LF_non-words')\n",
        "\n",
        "sns.histplot(ax=axes[0][0], data = np.mean(word_rt, axis=1), color='grey')\n",
        "axes[0][0].axvline(word_data_rt_mean, color='red', linestyle='--');\n",
        "axes[0][0].axvline(np.mean(np.mean(word_rt)), color='yellow', linestyle='--');\n",
        "\n",
        "sns.histplot(ax=axes[0][1], data = np.mean(nword_rt, axis=1), color='grey')\n",
        "axes[0][1].axvline(nword_data_rt_mean, color='red', linestyle='--');\n",
        "axes[0][1].axvline(np.mean(np.mean(nword_rt, axis=1)), color='yellow', linestyle='--');\n",
        "\n",
        "sns.histplot(ax=axes[1][0], data = np.mean(hf_word_rt, axis=1), color='grey')\n",
        "axes[1][0].axvline(hf_word_data_rt_mean, color='red', linestyle='--');\n",
        "axes[1][0].axvline(np.mean(np.mean(hf_word_rt)), color='yellow', linestyle='--');\n",
        "\n",
        "sns.histplot(ax=axes[1][1], data = np.mean(lf_word_rt, axis=1), color='grey')\n",
        "axes[1][1].axvline(lf_word_data_rt_mean, color='red', linestyle='--');\n",
        "axes[1][1].axvline(np.mean(np.mean(lf_word_rt, axis=1)), color='yellow', linestyle='--');"
      ],
      "id": "6481d862-25c1-49ec-8bbe-94e34c6374f4"
    },
    {
      "cell_type": "code",
      "execution_count": null,
      "metadata": {
        "colab": {
          "base_uri": "https://localhost:8080/",
          "height": 781
        },
        "id": "8e041641-99d7-4d92-a0e7-069bbc2a9795",
        "outputId": "642ddce3-20ac-4b75-b461-3ea3d0ff84e3"
      },
      "outputs": [
        {
          "output_type": "display_data",
          "data": {
            "image/png": "[encoded data removed]",
            "text/plain": [
              "<Figure size 1440x1080 with 4 Axes>"
            ]
          },
          "metadata": {
            "needs_background": "light"
          }
        }
      ],
      "source": [
        "fig, axes = plt.subplots(2,2 , figsize=(20,15))\n",
        "plt.subplots_adjust(wspace=0.5, hspace=0.5)\n",
        "\n",
        "fig.suptitle('ACC Distribution')\n",
        "axes[0][0].set_title('Posterior predictive distribution of acc: words')\n",
        "axes[0][1].set_title('Posterior predictive distribution of acc: non-words')\n",
        "axes[1][0].set_title('Posterior predictive distribution of acc: HF_words')\n",
        "axes[1][1].set_title('Posterior predictive distribution of acc: LF_non-words')\n",
        "\n",
        "sns.histplot(ax=axes[0][0], data = word_acc, color='grey')\n",
        "axes[0][0].axvline(word_data_acc_mean, color='red', linestyle='--');\n",
        "axes[0][0].axvline(np.mean(word_acc), color='yellow', linestyle='--');\n",
        "\n",
        "sns.histplot(ax=axes[0][1], data = nword_acc, color='grey')\n",
        "axes[0][1].axvline(nword_data_acc_mean, color='red', linestyle='--');\n",
        "axes[0][1].axvline(np.mean(nword_acc), color='yellow', linestyle='--');\n",
        "\n",
        "sns.histplot(ax=axes[1][0], data = hf_word_acc, color='grey')\n",
        "axes[1][0].axvline(hf_word_data_acc_mean, color='red', linestyle='--');\n",
        "axes[1][0].axvline(np.mean(hf_word_acc), color='yellow', linestyle='--');\n",
        "\n",
        "sns.histplot(ax=axes[1][1], data = lf_word_acc, color='grey')\n",
        "axes[1][1].axvline(lf_word_data_acc_mean, color='red', linestyle='--');\n",
        "axes[1][1].axvline(np.mean(lf_word_acc), color='yellow', linestyle='--');\n"
      ],
      "id": "8e041641-99d7-4d92-a0e7-069bbc2a9795"
    },
    {
      "cell_type": "markdown",
      "metadata": {
        "id": "895ae8e1-efe2-4d7a-93a9-58fe83854b23"
      },
      "source": [
        "# Quantile Data"
      ],
      "id": "895ae8e1-efe2-4d7a-93a9-58fe83854b23"
    },
    {
      "cell_type": "code",
      "execution_count": null,
      "metadata": {
        "id": "016becf4-ceb8-4dd3-9132-1beffc00142f"
      },
      "outputs": [],
      "source": [
        "words_rt_real = behavioural_df.loc[behavioural_df['label']==1]['rt']\n",
        "hf_words_rt_real = behavioural_df.loc[behavioural_df['category']==\"HF\"]['rt']\n",
        "lf_words_rt_real = behavioural_df.loc[behavioural_df['category']==\"LF\"]['rt']\n",
        "non_words_rt_real = behavioural_df.loc[behavioural_df['label']==0]['rt']"
      ],
      "id": "016becf4-ceb8-4dd3-9132-1beffc00142f"
    },
    {
      "cell_type": "markdown",
      "metadata": {
        "id": "3cc3097d-a78c-451c-a01b-5fe611d0fe12"
      },
      "source": [
        "## Words Quantiles"
      ],
      "id": "3cc3097d-a78c-451c-a01b-5fe611d0fe12"
    },
    {
      "cell_type": "code",
      "execution_count": null,
      "metadata": {
        "id": "4c30b0a0-99a8-47c9-b3b1-f7c2533457e8"
      },
      "outputs": [],
      "source": [
        "words_data_dic = {'predicted_rt':np.mean(word_rt, axis=0), 'predicted_quantiles':[\"None\"]*len(words_rt_real),\n",
        "           'real_rt': words_rt_real, 'real_quantiles':[\"None\"]*len(words_rt_real)}\n",
        "words_data = pd.DataFrame(data=words_data_dic)\n",
        "\n",
        "bin_labels= [\"0.1\", \"0.3\", \"0.5\", \"0.7\", \"0.9\", \"1\"]\n",
        "words_data['real_quantiles'] = pd.qcut(words_data['real_rt'],\n",
        "                                q=[0, .1, .3, .5, .7, .9, 1],\n",
        "                                labels=bin_labels)\n",
        "words_data['predicted_quantiles'] = pd.qcut(words_data['predicted_rt'],\n",
        "                                q=[0, .1, .3, .5, .7, .9, 1],\n",
        "                                labels=bin_labels)"
      ],
      "id": "4c30b0a0-99a8-47c9-b3b1-f7c2533457e8"
    },
    {
      "cell_type": "code",
      "execution_count": null,
      "metadata": {
        "colab": {
          "base_uri": "https://localhost:8080/",
          "height": 424
        },
        "id": "03b17ef1-2e3e-4a7b-85d7-5c2346844ab5",
        "outputId": "b3206159-ce52-439c-bf15-97474e33da35"
      },
      "outputs": [
        {
          "output_type": "execute_result",
          "data": {
            "text/html": [
              "\n",
              "  <div id=\"df-d49015cb-019f-4d29-94b5-a9af80f63a93\">\n",
              "    <div class=\"colab-df-container\">\n",
              "      <div>\n",
              "<style scoped>\n",
              "    .dataframe tbody tr th:only-of-type {\n",
              "        vertical-align: middle;\n",
              "    }\n",
              "\n",
              "    .dataframe tbody tr th {\n",
              "        vertical-align: top;\n",
              "    }\n",
              "\n",
              "    .dataframe thead th {\n",
              "        text-align: right;\n",
              "    }\n",
              "</style>\n",
              "<table border=\"1\" class=\"dataframe\">\n",
              "  <thead>\n",
              "    <tr style=\"text-align: right;\">\n",
              "      <th></th>\n",
              "      <th>predicted_rt</th>\n",
              "      <th>predicted_quantiles</th>\n",
              "      <th>real_rt</th>\n",
              "      <th>real_quantiles</th>\n",
              "    </tr>\n",
              "  </thead>\n",
              "  <tbody>\n",
              "    <tr>\n",
              "      <th>0</th>\n",
              "      <td>0.699081</td>\n",
              "      <td>0.5</td>\n",
              "      <td>0.707</td>\n",
              "      <td>0.9</td>\n",
              "    </tr>\n",
              "    <tr>\n",
              "      <th>2</th>\n",
              "      <td>0.664731</td>\n",
              "      <td>0.3</td>\n",
              "      <td>0.526</td>\n",
              "      <td>0.3</td>\n",
              "    </tr>\n",
              "    <tr>\n",
              "      <th>4</th>\n",
              "      <td>0.678569</td>\n",
              "      <td>0.3</td>\n",
              "      <td>0.512</td>\n",
              "      <td>0.3</td>\n",
              "    </tr>\n",
              "    <tr>\n",
              "      <th>5</th>\n",
              "      <td>0.703004</td>\n",
              "      <td>0.5</td>\n",
              "      <td>0.626</td>\n",
              "      <td>0.7</td>\n",
              "    </tr>\n",
              "    <tr>\n",
              "      <th>7</th>\n",
              "      <td>0.685069</td>\n",
              "      <td>0.3</td>\n",
              "      <td>0.846</td>\n",
              "      <td>0.9</td>\n",
              "    </tr>\n",
              "    <tr>\n",
              "      <th>...</th>\n",
              "      <td>...</td>\n",
              "      <td>...</td>\n",
              "      <td>...</td>\n",
              "      <td>...</td>\n",
              "    </tr>\n",
              "    <tr>\n",
              "      <th>492</th>\n",
              "      <td>0.745063</td>\n",
              "      <td>1</td>\n",
              "      <td>0.653</td>\n",
              "      <td>0.7</td>\n",
              "    </tr>\n",
              "    <tr>\n",
              "      <th>494</th>\n",
              "      <td>0.651216</td>\n",
              "      <td>0.1</td>\n",
              "      <td>0.527</td>\n",
              "      <td>0.3</td>\n",
              "    </tr>\n",
              "    <tr>\n",
              "      <th>496</th>\n",
              "      <td>0.667810</td>\n",
              "      <td>0.3</td>\n",
              "      <td>0.483</td>\n",
              "      <td>0.1</td>\n",
              "    </tr>\n",
              "    <tr>\n",
              "      <th>497</th>\n",
              "      <td>0.727087</td>\n",
              "      <td>0.9</td>\n",
              "      <td>0.756</td>\n",
              "      <td>0.9</td>\n",
              "    </tr>\n",
              "    <tr>\n",
              "      <th>499</th>\n",
              "      <td>0.708131</td>\n",
              "      <td>0.7</td>\n",
              "      <td>0.688</td>\n",
              "      <td>0.7</td>\n",
              "    </tr>\n",
              "  </tbody>\n",
              "</table>\n",
              "<p>257 rows × 4 columns</p>\n",
              "</div>\n",
              "      <button class=\"colab-df-convert\" onclick=\"convertToInteractive('df-d49015cb-019f-4d29-94b5-a9af80f63a93')\"\n",
              "              title=\"Convert this dataframe to an interactive table.\"\n",
              "              style=\"display:none;\">\n",
              "        \n",
              "  <svg xmlns=\"http://www.w3.org/2000/svg\" height=\"24px\"viewBox=\"0 0 24 24\"\n",
              "       width=\"24px\">\n",
              "    <path d=\"M0 0h24v24H0V0z\" fill=\"none\"/>\n",
              "    <path d=\"M18.56 5.44l.94 2.06.94-2.06 2.06-.94-2.06-.94-.94-2.06-.94 2.06-2.06.94zm-11 1L8.5 8.5l.94-2.06 2.06-.94-2.06-.94L8.5 2.5l-.94 2.06-2.06.94zm10 10l.94 2.06.94-2.06 2.06-.94-2.06-.94-.94-2.06-.94 2.06-2.06.94z\"/><path d=\"M17.41 7.96l-1.37-1.37c-.4-.4-.92-.59-1.43-.59-.52 0-1.04.2-1.43.59L10.3 9.45l-7.72 7.72c-.78.78-.78 2.05 0 2.83L4 21.41c.39.39.9.59 1.41.59.51 0 1.02-.2 1.41-.59l7.78-7.78 2.81-2.81c.8-.78.8-2.07 0-2.86zM5.41 20L4 18.59l7.72-7.72 1.47 1.35L5.41 20z\"/>\n",
              "  </svg>\n",
              "      </button>\n",
              "      \n",
              "  <style>\n",
              "    .colab-df-container {\n",
              "      display:flex;\n",
              "      flex-wrap:wrap;\n",
              "      gap: 12px;\n",
              "    }\n",
              "\n",
              "    .colab-df-convert {\n",
              "      background-color: #E8F0FE;\n",
              "      border: none;\n",
              "      border-radius: 50%;\n",
              "      cursor: pointer;\n",
              "      display: none;\n",
              "      fill: #1967D2;\n",
              "      height: 32px;\n",
              "      padding: 0 0 0 0;\n",
              "      width: 32px;\n",
              "    }\n",
              "\n",
              "    .colab-df-convert:hover {\n",
              "      background-color: #E2EBFA;\n",
              "      box-shadow: 0px 1px 2px rgba(60, 64, 67, 0.3), 0px 1px 3px 1px rgba(60, 64, 67, 0.15);\n",
              "      fill: #174EA6;\n",
              "    }\n",
              "\n",
              "    [theme=dark] .colab-df-convert {\n",
              "      background-color: #3B4455;\n",
              "      fill: #D2E3FC;\n",
              "    }\n",
              "\n",
              "    [theme=dark] .colab-df-convert:hover {\n",
              "      background-color: #434B5C;\n",
              "      box-shadow: 0px 1px 3px 1px rgba(0, 0, 0, 0.15);\n",
              "      filter: drop-shadow(0px 1px 2px rgba(0, 0, 0, 0.3));\n",
              "      fill: #FFFFFF;\n",
              "    }\n",
              "  </style>\n",
              "\n",
              "      <script>\n",
              "        const buttonEl =\n",
              "          document.querySelector('#df-d49015cb-019f-4d29-94b5-a9af80f63a93 button.colab-df-convert');\n",
              "        buttonEl.style.display =\n",
              "          google.colab.kernel.accessAllowed ? 'block' : 'none';\n",
              "\n",
              "        async function convertToInteractive(key) {\n",
              "          const element = document.querySelector('#df-d49015cb-019f-4d29-94b5-a9af80f63a93');\n",
              "          const dataTable =\n",
              "            await google.colab.kernel.invokeFunction('convertToInteractive',\n",
              "                                                     [key], {});\n",
              "          if (!dataTable) return;\n",
              "\n",
              "          const docLinkHtml = 'Like what you see? Visit the ' +\n",
              "            '<a target=\"_blank\" href=https://colab.research.google.com/notebooks/data_table.ipynb>data table notebook</a>'\n",
              "            + ' to learn more about interactive tables.';\n",
              "          element.innerHTML = '';\n",
              "          dataTable['output_type'] = 'display_data';\n",
              "          await google.colab.output.renderOutput(dataTable, element);\n",
              "          const docLink = document.createElement('div');\n",
              "          docLink.innerHTML = docLinkHtml;\n",
              "          element.appendChild(docLink);\n",
              "        }\n",
              "      </script>\n",
              "    </div>\n",
              "  </div>\n",
              "  "
            ],
            "text/plain": [
              "     predicted_rt predicted_quantiles  real_rt real_quantiles\n",
              "0        0.699081                 0.5    0.707            0.9\n",
              "2        0.664731                 0.3    0.526            0.3\n",
              "4        0.678569                 0.3    0.512            0.3\n",
              "5        0.703004                 0.5    0.626            0.7\n",
              "7        0.685069                 0.3    0.846            0.9\n",
              "..            ...                 ...      ...            ...\n",
              "492      0.745063                   1    0.653            0.7\n",
              "494      0.651216                 0.1    0.527            0.3\n",
              "496      0.667810                 0.3    0.483            0.1\n",
              "497      0.727087                 0.9    0.756            0.9\n",
              "499      0.708131                 0.7    0.688            0.7\n",
              "\n",
              "[257 rows x 4 columns]"
            ]
          },
          "metadata": {},
          "execution_count": 40
        }
      ],
      "source": [
        "words_data"
      ],
      "id": "03b17ef1-2e3e-4a7b-85d7-5c2346844ab5"
    },
    {
      "cell_type": "code",
      "execution_count": null,
      "metadata": {
        "id": "448300d7-430a-408a-9783-4c6345be7f73"
      },
      "outputs": [],
      "source": [
        "real_rt = []\n",
        "predicted_rt = []\n",
        "\n",
        "real_rt.append(np.mean(words_data.loc[words_data['real_quantiles']=='0.1']['real_rt']))\n",
        "real_rt.append(np.mean(words_data.loc[words_data['real_quantiles']=='0.3']['real_rt']))\n",
        "real_rt.append(np.mean(words_data.loc[words_data['real_quantiles']=='0.5']['real_rt']))\n",
        "real_rt.append(np.mean(words_data.loc[words_data['real_quantiles']=='0.7']['real_rt']))\n",
        "real_rt.append(np.mean(words_data.loc[words_data['real_quantiles']=='0.9']['real_rt']))\n",
        "\n",
        "predicted_rt.append(np.mean(words_data.loc[words_data['predicted_quantiles']=='0.1']['predicted_rt']))\n",
        "predicted_rt.append(np.mean(words_data.loc[words_data['predicted_quantiles']=='0.3']['predicted_rt']))\n",
        "predicted_rt.append(np.mean(words_data.loc[words_data['predicted_quantiles']=='0.5']['predicted_rt']))\n",
        "predicted_rt.append(np.mean(words_data.loc[words_data['predicted_quantiles']=='0.7']['predicted_rt']))\n",
        "predicted_rt.append(np.mean(words_data.loc[words_data['predicted_quantiles']=='0.9']['predicted_rt']))"
      ],
      "id": "448300d7-430a-408a-9783-4c6345be7f73"
    },
    {
      "cell_type": "code",
      "execution_count": null,
      "metadata": {
        "id": "4fc5fe00-4c50-4deb-9bb4-3b18498e641b"
      },
      "outputs": [],
      "source": [
        "words_quantiles_dic = {'Real':real_rt, 'Predicted': predicted_rt}\n",
        "words_quantiles = pd.DataFrame(data=words_quantiles_dic)"
      ],
      "id": "4fc5fe00-4c50-4deb-9bb4-3b18498e641b"
    },
    {
      "cell_type": "code",
      "execution_count": null,
      "metadata": {
        "colab": {
          "base_uri": "https://localhost:8080/",
          "height": 514
        },
        "id": "4787745b-0093-4020-b519-f8bebaf20d0f",
        "outputId": "0390c744-97d1-441c-c2fe-bdd79b38d560"
      },
      "outputs": [
        {
          "output_type": "execute_result",
          "data": {
            "text/plain": [
              "<matplotlib.legend.Legend at 0x7fc404d0cf10>"
            ]
          },
          "metadata": {},
          "execution_count": 43
        },
        {
          "output_type": "display_data",
          "data": {
            "image/png": "[encoded data removed]",
            "text/plain": [
              "<Figure size 1008x576 with 1 Axes>"
            ]
          },
          "metadata": {
            "needs_background": "light"
          }
        }
      ],
      "source": [
        "x=np.linspace(0.3, 1, 100)\n",
        "y = x\n",
        "# plotting\n",
        "fig, ax = plt.subplots(figsize = (14,8))\n",
        "ax.plot(words_quantiles['Predicted'], words_quantiles['Real'], linewidth=0, marker='s', label='Data points')\n",
        "ax.plot(x, y)\n",
        "ax.set_xlabel('Predicted')\n",
        "ax.set_ylabel('Real')\n",
        "ax.legend(facecolor='white')"
      ],
      "id": "4787745b-0093-4020-b519-f8bebaf20d0f"
    },
    {
      "cell_type": "markdown",
      "metadata": {
        "id": "9f8afb79-88ff-4deb-afa4-81275cc587b2"
      },
      "source": [
        "## HF Quantiles"
      ],
      "id": "9f8afb79-88ff-4deb-afa4-81275cc587b2"
    },
    {
      "cell_type": "code",
      "execution_count": null,
      "metadata": {
        "id": "16f5333e-d188-443e-ae8e-725b3ec3c9bb"
      },
      "outputs": [],
      "source": [
        "HF_data_dic = {'predicted_rt':np.mean(hf_word_rt, axis=0), 'predicted_quantiles':[\"None\"]*len(hf_words_rt_real),\n",
        "           'real_rt': hf_words_rt_real, 'real_quantiles':[\"None\"]*len(hf_words_rt_real)}\n",
        "HF_data = pd.DataFrame(data=HF_data_dic)\n",
        "\n",
        "bin_labels= [\"0.1\", \"0.3\", \"0.5\", \"0.7\", \"0.9\", \"1\"]\n",
        "HF_data['real_quantiles'] = pd.qcut(HF_data['real_rt'],\n",
        "                                q=[0, .1, .3, .5, .7, .9, 1],\n",
        "                                labels=bin_labels)\n",
        "HF_data['predicted_quantiles'] = pd.qcut(HF_data['predicted_rt'],\n",
        "                                q=[0, .1, .3, .5, .7, .9, 1],\n",
        "                                labels=bin_labels)"
      ],
      "id": "16f5333e-d188-443e-ae8e-725b3ec3c9bb"
    },
    {
      "cell_type": "code",
      "execution_count": null,
      "metadata": {
        "id": "d63fae67-436e-42ab-9eaa-05a038b15855"
      },
      "outputs": [],
      "source": [
        "real_rt = []\n",
        "predicted_rt = []\n",
        "\n",
        "real_rt.append(np.mean(HF_data.loc[HF_data['real_quantiles']=='0.1']['real_rt']))\n",
        "real_rt.append(np.mean(HF_data.loc[HF_data['real_quantiles']=='0.3']['real_rt']))\n",
        "real_rt.append(np.mean(HF_data.loc[HF_data['real_quantiles']=='0.5']['real_rt']))\n",
        "real_rt.append(np.mean(HF_data.loc[HF_data['real_quantiles']=='0.7']['real_rt']))\n",
        "real_rt.append(np.mean(HF_data.loc[HF_data['real_quantiles']=='0.9']['real_rt']))\n",
        "\n",
        "predicted_rt.append(np.mean(HF_data.loc[HF_data['predicted_quantiles']=='0.1']['predicted_rt']))\n",
        "predicted_rt.append(np.mean(HF_data.loc[HF_data['predicted_quantiles']=='0.3']['predicted_rt']))\n",
        "predicted_rt.append(np.mean(HF_data.loc[HF_data['predicted_quantiles']=='0.5']['predicted_rt']))\n",
        "predicted_rt.append(np.mean(HF_data.loc[HF_data['predicted_quantiles']=='0.7']['predicted_rt']))\n",
        "predicted_rt.append(np.mean(HF_data.loc[HF_data['predicted_quantiles']=='0.9']['predicted_rt']))"
      ],
      "id": "d63fae67-436e-42ab-9eaa-05a038b15855"
    },
    {
      "cell_type": "code",
      "execution_count": null,
      "metadata": {
        "id": "bc0e393a-577b-4783-b670-4a1ade485dda"
      },
      "outputs": [],
      "source": [
        "HF_quantiles_dic = {'Real':real_rt, 'Predicted': predicted_rt}\n",
        "HF_quantiles = pd.DataFrame(data=HF_quantiles_dic)"
      ],
      "id": "bc0e393a-577b-4783-b670-4a1ade485dda"
    },
    {
      "cell_type": "code",
      "execution_count": null,
      "metadata": {
        "colab": {
          "base_uri": "https://localhost:8080/",
          "height": 514
        },
        "id": "472d52f4-a377-4cfb-90f8-d8a2328acae1",
        "outputId": "5847d823-9e1a-42ad-da4d-8e97b5c8b049"
      },
      "outputs": [
        {
          "output_type": "execute_result",
          "data": {
            "text/plain": [
              "<matplotlib.legend.Legend at 0x7fc404c1ed50>"
            ]
          },
          "metadata": {},
          "execution_count": 47
        },
        {
          "output_type": "display_data",
          "data": {
            "image/png": "[encoded data removed]",
            "text/plain": [
              "<Figure size 1008x576 with 1 Axes>"
            ]
          },
          "metadata": {
            "needs_background": "light"
          }
        }
      ],
      "source": [
        "x=np.linspace(0.3, 1, 100)\n",
        "y = x\n",
        "# plotting\n",
        "fig, ax = plt.subplots(figsize = (14,8))\n",
        "ax.plot(HF_quantiles['Predicted'], HF_quantiles['Real'], linewidth=0, marker='s', label='Data points')\n",
        "ax.plot(x, y)\n",
        "ax.set_xlabel('Predicted')\n",
        "ax.set_ylabel('Real')\n",
        "ax.legend(facecolor='white')"
      ],
      "id": "472d52f4-a377-4cfb-90f8-d8a2328acae1"
    },
    {
      "cell_type": "markdown",
      "metadata": {
        "id": "cd6ea1a8-db5a-4216-bd60-13e3499d39f4"
      },
      "source": [
        "## LF Quantiles"
      ],
      "id": "cd6ea1a8-db5a-4216-bd60-13e3499d39f4"
    },
    {
      "cell_type": "code",
      "execution_count": null,
      "metadata": {
        "id": "325f46f7-f5da-45d7-9d08-179577023823"
      },
      "outputs": [],
      "source": [
        "LF_data_dic = {'predicted_rt':np.mean(lf_word_rt, axis=0), 'predicted_quantiles':[\"None\"]*len(lf_words_rt_real),\n",
        "           'real_rt': lf_words_rt_real, 'real_quantiles':[\"None\"]*len(lf_words_rt_real)}\n",
        "LF_data = pd.DataFrame(data=LF_data_dic)\n",
        "\n",
        "bin_labels= [\"0.1\", \"0.3\", \"0.5\", \"0.7\", \"0.9\", \"1\"]\n",
        "LF_data['real_quantiles'] = pd.qcut(LF_data['real_rt'],\n",
        "                                q=[0, .1, .3, .5, .7, .9, 1],\n",
        "                                labels=bin_labels)\n",
        "LF_data['predicted_quantiles'] = pd.qcut(LF_data['predicted_rt'],\n",
        "                                q=[0, .1, .3, .5, .7, .9, 1],\n",
        "                                labels=bin_labels)"
      ],
      "id": "325f46f7-f5da-45d7-9d08-179577023823"
    },
    {
      "cell_type": "code",
      "execution_count": null,
      "metadata": {
        "id": "20ea0d5a-4bf9-48bd-84b4-b9e1a90cb25a"
      },
      "outputs": [],
      "source": [
        "real_rt = []\n",
        "predicted_rt = []\n",
        "\n",
        "real_rt.append(np.mean(LF_data.loc[LF_data['real_quantiles']=='0.1']['real_rt']))\n",
        "real_rt.append(np.mean(LF_data.loc[LF_data['real_quantiles']=='0.3']['real_rt']))\n",
        "real_rt.append(np.mean(LF_data.loc[LF_data['real_quantiles']=='0.5']['real_rt']))\n",
        "real_rt.append(np.mean(LF_data.loc[LF_data['real_quantiles']=='0.7']['real_rt']))\n",
        "real_rt.append(np.mean(LF_data.loc[LF_data['real_quantiles']=='0.9']['real_rt']))\n",
        "\n",
        "predicted_rt.append(np.mean(LF_data.loc[LF_data['predicted_quantiles']=='0.1']['predicted_rt']))\n",
        "predicted_rt.append(np.mean(LF_data.loc[LF_data['predicted_quantiles']=='0.3']['predicted_rt']))\n",
        "predicted_rt.append(np.mean(LF_data.loc[LF_data['predicted_quantiles']=='0.5']['predicted_rt']))\n",
        "predicted_rt.append(np.mean(LF_data.loc[LF_data['predicted_quantiles']=='0.7']['predicted_rt']))\n",
        "predicted_rt.append(np.mean(LF_data.loc[LF_data['predicted_quantiles']=='0.9']['predicted_rt']))"
      ],
      "id": "20ea0d5a-4bf9-48bd-84b4-b9e1a90cb25a"
    },
    {
      "cell_type": "code",
      "execution_count": null,
      "metadata": {
        "id": "a0f5274b-1f14-4819-ac1d-2087dd39e1a0"
      },
      "outputs": [],
      "source": [
        "LF_quantiles_dic = {'Real':real_rt, 'Predicted': predicted_rt}\n",
        "LF_quantiles = pd.DataFrame(data=LF_quantiles_dic)"
      ],
      "id": "a0f5274b-1f14-4819-ac1d-2087dd39e1a0"
    },
    {
      "cell_type": "code",
      "execution_count": null,
      "metadata": {
        "colab": {
          "base_uri": "https://localhost:8080/",
          "height": 514
        },
        "id": "f8865b20-529c-4675-bfc6-b5fb96db3503",
        "outputId": "17e749b5-18b3-45c6-b339-13ca3941028f"
      },
      "outputs": [
        {
          "output_type": "execute_result",
          "data": {
            "text/plain": [
              "<matplotlib.legend.Legend at 0x7fc4016edf90>"
            ]
          },
          "metadata": {},
          "execution_count": 51
        },
        {
          "output_type": "display_data",
          "data": {
            "image/png": "[encoded data removed]",
            "text/plain": [
              "<Figure size 1008x576 with 1 Axes>"
            ]
          },
          "metadata": {
            "needs_background": "light"
          }
        }
      ],
      "source": [
        "x=np.linspace(0.3, 1, 100)\n",
        "y = x\n",
        "# plotting\n",
        "fig, ax = plt.subplots(figsize = (14,8))\n",
        "ax.plot(LF_quantiles['Predicted'], LF_quantiles['Real'], linewidth=0, marker='s', label='Data points')\n",
        "ax.plot(x, y)\n",
        "ax.set_xlabel('Predicted')\n",
        "ax.set_ylabel('Real')\n",
        "ax.legend(facecolor='white')"
      ],
      "id": "f8865b20-529c-4675-bfc6-b5fb96db3503"
    },
    {
      "cell_type": "markdown",
      "metadata": {
        "id": "1093a0c6-d45a-41b9-9340-102a24f91683"
      },
      "source": [
        "## NW Quantiles"
      ],
      "id": "1093a0c6-d45a-41b9-9340-102a24f91683"
    },
    {
      "cell_type": "code",
      "execution_count": null,
      "metadata": {
        "id": "5812cc05-ac5b-4322-99dd-e2f7b2c504c9"
      },
      "outputs": [],
      "source": [
        "NW_data_dic = {'predicted_rt':np.mean(nword_rt, axis=0), 'predicted_quantiles':[\"None\"]*len(non_words_rt_real),\n",
        "           'real_rt': non_words_rt_real, 'real_quantiles':[\"None\"]*len(non_words_rt_real)}\n",
        "NW_data = pd.DataFrame(data=NW_data_dic)\n",
        "\n",
        "bin_labels= [\"0.1\", \"0.3\", \"0.5\", \"0.7\", \"0.9\", \"1\"]\n",
        "NW_data['real_quantiles'] = pd.qcut(NW_data['real_rt'],\n",
        "                                q=[0, .1, .3, .5, .7, .9, 1],\n",
        "                                labels=bin_labels)\n",
        "NW_data['predicted_quantiles'] = pd.qcut(NW_data['predicted_rt'],\n",
        "                                q=[0, .1, .3, .5, .7, .9, 1],\n",
        "                                labels=bin_labels)"
      ],
      "id": "5812cc05-ac5b-4322-99dd-e2f7b2c504c9"
    },
    {
      "cell_type": "code",
      "execution_count": null,
      "metadata": {
        "id": "6f8d50a4-d842-4fd9-9d03-1e71b23b91dc"
      },
      "outputs": [],
      "source": [
        "real_rt = []\n",
        "predicted_rt = []\n",
        "\n",
        "real_rt.append(np.mean(NW_data.loc[NW_data['real_quantiles']=='0.1']['real_rt']))\n",
        "real_rt.append(np.mean(NW_data.loc[NW_data['real_quantiles']=='0.3']['real_rt']))\n",
        "real_rt.append(np.mean(NW_data.loc[NW_data['real_quantiles']=='0.5']['real_rt']))\n",
        "real_rt.append(np.mean(NW_data.loc[NW_data['real_quantiles']=='0.7']['real_rt']))\n",
        "real_rt.append(np.mean(NW_data.loc[NW_data['real_quantiles']=='0.9']['real_rt']))\n",
        "\n",
        "predicted_rt.append(np.mean(NW_data.loc[NW_data['predicted_quantiles']=='0.1']['predicted_rt']))\n",
        "predicted_rt.append(np.mean(NW_data.loc[NW_data['predicted_quantiles']=='0.3']['predicted_rt']))\n",
        "predicted_rt.append(np.mean(NW_data.loc[NW_data['predicted_quantiles']=='0.5']['predicted_rt']))\n",
        "predicted_rt.append(np.mean(NW_data.loc[NW_data['predicted_quantiles']=='0.7']['predicted_rt']))\n",
        "predicted_rt.append(np.mean(NW_data.loc[NW_data['predicted_quantiles']=='0.9']['predicted_rt']))"
      ],
      "id": "6f8d50a4-d842-4fd9-9d03-1e71b23b91dc"
    },
    {
      "cell_type": "code",
      "execution_count": null,
      "metadata": {
        "id": "d5311e96-bc84-4c2d-89a9-144f71fb5a24"
      },
      "outputs": [],
      "source": [
        "NW_quantiles_dic = {'Real':real_rt, 'Predicted': predicted_rt}\n",
        "NW_quantiles = pd.DataFrame(data=NW_quantiles_dic)"
      ],
      "id": "d5311e96-bc84-4c2d-89a9-144f71fb5a24"
    },
    {
      "cell_type": "code",
      "execution_count": null,
      "metadata": {
        "colab": {
          "base_uri": "https://localhost:8080/",
          "height": 514
        },
        "id": "221fd1a9-71fc-43c1-b693-f5da45732776",
        "outputId": "b776a924-4e32-48ff-a92f-2033a610b400"
      },
      "outputs": [
        {
          "output_type": "execute_result",
          "data": {
            "text/plain": [
              "<matplotlib.legend.Legend at 0x7fc401677bd0>"
            ]
          },
          "metadata": {},
          "execution_count": 55
        },
        {
          "output_type": "display_data",
          "data": {
            "image/png": "[encoded data removed]",
            "text/plain": [
              "<Figure size 1008x576 with 1 Axes>"
            ]
          },
          "metadata": {
            "needs_background": "light"
          }
        }
      ],
      "source": [
        "x=np.linspace(0.3, 1, 100)\n",
        "y = x\n",
        "# plotting\n",
        "fig, ax = plt.subplots(figsize = (14,8))\n",
        "ax.plot(NW_quantiles['Predicted'], NW_quantiles['Real'], linewidth=0, marker='s', label='Data points')\n",
        "ax.plot(x, y)\n",
        "ax.set_xlabel('Predicted')\n",
        "ax.set_ylabel('Real')\n",
        "ax.legend(facecolor='white')"
      ],
      "id": "221fd1a9-71fc-43c1-b693-f5da45732776"
    },
    {
      "cell_type": "code",
      "execution_count": null,
      "metadata": {
        "id": "52bd2669-3b1f-4a3d-968b-447f92522cc6"
      },
      "outputs": [],
      "source": [
        ""
      ],
      "id": "52bd2669-3b1f-4a3d-968b-447f92522cc6"
    }
  ],
  "metadata": {
    "colab": {
      "name": "Estimation_Single_new.ipynb",
      "provenance": [],
      "collapsed_sections": []
    },
    "kernelspec": {
      "display_name": "tf-gpu",
      "language": "python",
      "name": "tf-gpu"
    },
    "language_info": {
      "codemirror_mode": {
        "name": "ipython",
        "version": 3
      },
      "file_extension": ".py",
      "mimetype": "text/x-python",
      "name": "python",
      "nbconvert_exporter": "python",
      "pygments_lexer": "ipython3",
      "version": "3.9.7"
    }
  },
  "nbformat": 4,
  "nbformat_minor": 5
}
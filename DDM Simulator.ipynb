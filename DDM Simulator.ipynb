{
 "cells": [
  {
   "cell_type": "code",
   "execution_count": 1,
   "id": "falling-queen",
   "metadata": {},
   "outputs": [
    {
     "name": "stderr",
     "output_type": "stream",
     "text": [
      "2021-12-27 19:34:15.115005: W tensorflow/stream_executor/platform/default/dso_loader.cc:64] Could not load dynamic library 'libcudart.so.11.0'; dlerror: libcudart.so.11.0: cannot open shared object file: No such file or directory\n",
      "2021-12-27 19:34:15.115092: I tensorflow/stream_executor/cuda/cudart_stub.cc:29] Ignore above cudart dlerror if you do not have a GPU set up on your machine.\n"
     ]
    }
   ],
   "source": [
    "import rlssm\n",
    "import tensorflow as tf\n",
    "import numpy as np\n",
    "from tensorflow import keras\n",
    "import matplotlib.pyplot as plt\n",
    "import random\n",
    "import csv\n",
    "from tqdm import tqdm\n",
    "import math\n",
    "from tabulate import tabulate\n",
    "import sys"
   ]
  },
  {
   "cell_type": "markdown",
   "id": "hybrid-effect",
   "metadata": {},
   "source": [
    "## High/Low frequency words"
   ]
  },
  {
   "cell_type": "code",
   "execution_count": 2,
   "id": "junior-polish",
   "metadata": {},
   "outputs": [],
   "source": [
    "words = []\n",
    "frq = []\n",
    "sum_frq = 0\n",
    "with open(\"Datasets/meaningful_words_with_frq.csv\", 'r') as file:\n",
    "    reader = csv.reader(file)\n",
    "    for row in reader:\n",
    "        if len(row[0]) > 20: \n",
    "            continue\n",
    "        words.append([row[0], int(row[1])])\n",
    "        frq.append(int(row[1]))\n",
    "        sum_frq += int(row[1])\n"
   ]
  },
  {
   "cell_type": "code",
   "execution_count": 3,
   "id": "silent-noise",
   "metadata": {},
   "outputs": [],
   "source": [
    "words.sort(key = lambda x: x[1], reverse=True)\n"
   ]
  },
  {
   "cell_type": "code",
   "execution_count": 4,
   "id": "fourth-phenomenon",
   "metadata": {},
   "outputs": [],
   "source": [
    "hf = words[:int(len(words)/2)]\n",
    "lf = words[int(len(words)/2):]"
   ]
  },
  {
   "cell_type": "code",
   "execution_count": 5,
   "id": "simple-thesis",
   "metadata": {},
   "outputs": [
    {
     "name": "stdout",
     "output_type": "stream",
     "text": [
      "╒═══════════╤═════════════╤═══════════════╤════════╕\n",
      "│ HF Word   │         FRQ │ LF Word       │    FRQ │\n",
      "╞═══════════╪═════════════╪═══════════════╪════════╡\n",
      "│ the       │ 23135851162 │ snips         │ 329153 │\n",
      "├───────────┼─────────────┼───────────────┼────────┤\n",
      "│ of        │ 13151942776 │ lockup        │ 329124 │\n",
      "├───────────┼─────────────┼───────────────┼────────┤\n",
      "│ and       │ 12997637966 │ tosses        │ 329112 │\n",
      "├───────────┼─────────────┼───────────────┼────────┤\n",
      "│ to        │ 12136980858 │ manifesting   │ 329097 │\n",
      "├───────────┼─────────────┼───────────────┼────────┤\n",
      "│ a         │  9081174698 │ publics       │ 328930 │\n",
      "├───────────┼─────────────┼───────────────┼────────┤\n",
      "│ in        │  8469404971 │ rien          │ 328909 │\n",
      "├───────────┼─────────────┼───────────────┼────────┤\n",
      "│ for       │  5933321709 │ resiliency    │ 328858 │\n",
      "├───────────┼─────────────┼───────────────┼────────┤\n",
      "│ is        │  4705743816 │ scrip         │ 328826 │\n",
      "├───────────┼─────────────┼───────────────┼────────┤\n",
      "│ on        │  3750423199 │ disinfectants │ 328822 │\n",
      "├───────────┼─────────────┼───────────────┼────────┤\n",
      "│ that      │  3400031103 │ inhumane      │ 328781 │\n",
      "╘═══════════╧═════════════╧═══════════════╧════════╛\n"
     ]
    }
   ],
   "source": [
    "hft = []\n",
    "head = ['HF Word', 'FRQ', 'LF Word', 'FRQ']\n",
    "for h, f in zip(hf[:10], lf[:10]):\n",
    "    hft.append([h[0], h[1], f[0], f[1]])\n",
    "\n",
    "print(tabulate(hft, headers=head, tablefmt='fancy_grid'))\n"
   ]
  },
  {
   "cell_type": "markdown",
   "id": "radio-preservation",
   "metadata": {},
   "source": [
    "# Log Odds"
   ]
  },
  {
   "cell_type": "markdown",
   "id": "9075e844",
   "metadata": {},
   "source": [
    "#### Train"
   ]
  },
  {
   "cell_type": "code",
   "execution_count": 6,
   "id": "f20ba3cd",
   "metadata": {},
   "outputs": [],
   "source": [
    "cnn_cal = []\n",
    "lf_count = 0\n",
    "hf_count = 0\n",
    "hf_words = list(list(zip(*hf))[0])\n",
    "lf_words = list(list(zip(*lf))[0])\n",
    "with open(\"Datasets/train_dataset_prob.csv\", 'r') as file:\n",
    "    reader = csv.reader(file)\n",
    "    for k in reader:\n",
    "        cnn_cal.append(k)"
   ]
  },
  {
   "cell_type": "code",
   "execution_count": 7,
   "id": "vulnerable-mason",
   "metadata": {},
   "outputs": [],
   "source": [
    "log_odds = []\n",
    "\n",
    "for e in cnn_cal:\n",
    "    log_odds.append((math.log((float(e[2])+0.00001)/(float(e[1])+0.00001)))) #log(prob word/prob nonword)\n",
    "    "
   ]
  },
  {
   "cell_type": "code",
   "execution_count": 8,
   "id": "c63c2f3e",
   "metadata": {},
   "outputs": [
    {
     "name": "stdout",
     "output_type": "stream",
     "text": [
      "[-3.8615703592369734, -7.169670307817988, -5.543663717579176, -8.050020410470017, -3.2543118293684605, -1.720629359127239, -5.371011820090665, -4.831069255124716, -5.0781435252875955, -4.599391319210328]\n"
     ]
    }
   ],
   "source": [
    "print(log_odds[:10])"
   ]
  },
  {
   "cell_type": "code",
   "execution_count": 9,
   "id": "2d954844",
   "metadata": {},
   "outputs": [
    {
     "name": "stdout",
     "output_type": "stream",
     "text": [
      "['snuilt', '0.979408', '0.020592', '0']\n"
     ]
    }
   ],
   "source": [
    "print(cnn_cal[0])"
   ]
  },
  {
   "cell_type": "markdown",
   "id": "amended-sensitivity",
   "metadata": {},
   "source": [
    "# Simulation"
   ]
  },
  {
   "cell_type": "code",
   "execution_count": 10,
   "id": "postal-earth",
   "metadata": {},
   "outputs": [],
   "source": [
    "threshold = 15\n",
    "ndt = .3\n",
    "v_inter = 0\n",
    "v_slope = 1\n",
    "max_rt = 10"
   ]
  },
  {
   "cell_type": "code",
   "execution_count": 11,
   "id": "valuable-screening",
   "metadata": {},
   "outputs": [],
   "source": [
    "drift_rates = []\n",
    "for lo in log_odds:\n",
    "    drift_rates.append(v_inter + v_slope*(lo))\n",
    "\n",
    "a = [threshold]*len(log_odds)\n",
    "\n",
    "non_dec_time = [ndt]*len(log_odds)"
   ]
  },
  {
   "cell_type": "code",
   "execution_count": 12,
   "id": "private-nicholas",
   "metadata": {},
   "outputs": [],
   "source": [
    "drift_rates = np.array(drift_rates)\n",
    "a = np.array(a)\n",
    "non_dec_time = np.array(non_dec_time)"
   ]
  },
  {
   "cell_type": "code",
   "execution_count": 13,
   "id": "crucial-advance",
   "metadata": {},
   "outputs": [],
   "source": [
    "rt, acc = rlssm.random.random_ddm(drift=drift_rates, threshold=a, ndt=non_dec_time, max_rt=max_rt)"
   ]
  },
  {
   "cell_type": "markdown",
   "id": "d74feff4",
   "metadata": {},
   "source": [
    "In terms of accuracy <br>\n",
    "1 : Word <br>\n",
    "0 : Non-Word"
   ]
  },
  {
   "cell_type": "markdown",
   "id": "mechanical-virginia",
   "metadata": {},
   "source": [
    "### Statistics"
   ]
  },
  {
   "cell_type": "code",
   "execution_count": 14,
   "id": "disabled-gravity",
   "metadata": {},
   "outputs": [],
   "source": [
    "table = []\n",
    "for e, res_time, accuracy, d in zip(cnn_cal, rt, acc, drift_rates):\n",
    "    word = e[0]\n",
    "    nonw_probability = e[1]\n",
    "    w_probability = e[2]\n",
    "    word_nonword_type = 'word' if e[3] == '1' else 'nonword'\n",
    "    if accuracy == 1 and word_nonword_type=='word':\n",
    "        accur = 'Correct'\n",
    "    elif accuracy == 0 and word_nonword_type=='nonword':\n",
    "        accur = \"Correct\"\n",
    "    else:\n",
    "        accur = 'Wrong'\n",
    "\n",
    "    table.append([word, word_nonword_type, res_time, nonw_probability, w_probability, accur, d])"
   ]
  },
  {
   "cell_type": "code",
   "execution_count": 15,
   "id": "american-instrumentation",
   "metadata": {},
   "outputs": [
    {
     "name": "stderr",
     "output_type": "stream",
     "text": [
      "IOPub data rate exceeded.\n",
      "The notebook server will temporarily stop sending output\n",
      "to the client in order to avoid crashing it.\n",
      "To change this limit, set the config variable\n",
      "`--NotebookApp.iopub_data_rate_limit`.\n",
      "\n",
      "Current values:\n",
      "NotebookApp.iopub_data_rate_limit=1000000.0 (bytes/sec)\n",
      "NotebookApp.rate_limit_window=3.0 (secs)\n",
      "\n"
     ]
    }
   ],
   "source": [
    "head = ['Word', 'Type', 'Response Time', 'NW_Prob', 'W_Prob','Accuracy', 'Drift Rate']\n",
    "print(tabulate(table, headers=head, tablefmt='fancy_grid'))\n"
   ]
  },
  {
   "cell_type": "code",
   "execution_count": null,
   "id": "89338896",
   "metadata": {},
   "outputs": [],
   "source": []
  },
  {
   "cell_type": "code",
   "execution_count": 18,
   "id": "signal-found",
   "metadata": {},
   "outputs": [
    {
     "name": "stdout",
     "output_type": "stream",
     "text": [
      "Accuracy=>\n",
      " nonword:  0.9434\n",
      " high frq word:  0.8874700718276137\n",
      " low frq word:  0.9170008019246191\n",
      "Response Time=>\n",
      " nonword:  2.927564000000002\n",
      " high frq word:  2.6697150837988795\n",
      " low frq word:  2.1758027265437043\n",
      "Correct Response Time=>\n",
      " nonword:  2.5296459614161577\n",
      " high frq word:  1.9253979316546774\n",
      " low frq word:  1.6129195452557943\n"
     ]
    }
   ],
   "source": [
    "gp_accuracy = [0, 0, 0]\n",
    "gp_rt = [0, 0, 0]\n",
    "\n",
    "correct_gp_rt = [0, 0, 0]\n",
    "wrong_gp_rt = [0, 0, 0]\n",
    "num_words = [0, 0, 0]\n",
    "hf_words = list(list(zip(*hf))[0])\n",
    "lf_words = list(list(zip(*lf))[0])\n",
    "\n",
    "for t in table:\n",
    "    \n",
    "    acc_res = 0\n",
    "    if t[5] == \"Correct\":\n",
    "        acc_res = 1\n",
    "    res_t = t[2]\n",
    "    if math.isnan(t[2]):\n",
    "        res_t = max_rt\n",
    "#         continue\n",
    "#     if res_t < 0.3 or res_t > 5:\n",
    "#         continue\n",
    "    if t[1] == 'nonword':\n",
    "        gp_accuracy[0] += acc_res\n",
    "        gp_rt[0] += res_t\n",
    "        num_words[0] += 1\n",
    "        if acc_res == 1:\n",
    "            correct_gp_rt[0] += res_t\n",
    "        else:\n",
    "            wrong_gp_rt[0] += res_t\n",
    "    elif t[0] in hf_words:\n",
    "        \n",
    "        gp_accuracy[1] += acc_res\n",
    "        gp_rt[1] += res_t\n",
    "        num_words[1] += 1\n",
    "        if acc_res == 1:\n",
    "            correct_gp_rt[1] += res_t\n",
    "        else:\n",
    "            wrong_gp_rt[1] += res_t\n",
    "    elif t[0] in lf_words:\n",
    "        gp_accuracy[2] += acc_res\n",
    "        gp_rt[2] += res_t\n",
    "        num_words[2] += 1\n",
    "        if acc_res == 1:\n",
    "            correct_gp_rt[2] += res_t\n",
    "        else:\n",
    "            wrong_gp_rt[2] += res_t\n",
    "\n",
    "\n",
    "correct_gp_rt[0] /= gp_accuracy[0]\n",
    "correct_gp_rt[1] /= gp_accuracy[1]\n",
    "correct_gp_rt[2] /= gp_accuracy[2]\n",
    "            \n",
    "gp_accuracy[0]/=num_words[0]\n",
    "gp_accuracy[1]/=num_words[1]\n",
    "gp_accuracy[2]/=num_words[2]\n",
    "\n",
    "\n",
    "gp_rt[0]/=num_words[0]\n",
    "gp_rt[1]/=num_words[1]\n",
    "gp_rt[2]/=num_words[2]\n",
    "\n",
    "\n",
    "\n",
    "print(f\"Accuracy=>\\n nonword:  {gp_accuracy[0]}\\n high frq word:  {gp_accuracy[1]}\\n low frq word:  {gp_accuracy[2]}\")       \n",
    "print(f\"Response Time=>\\n nonword:  {gp_rt[0]}\\n high frq word:  {gp_rt[1]}\\n low frq word:  {gp_rt[2]}\")       \n",
    "print(f\"Correct Response Time=>\\n nonword:  {correct_gp_rt[0]}\\n high frq word:  {correct_gp_rt[1]}\\n low frq word:  {correct_gp_rt[2]}\")       "
   ]
  },
  {
   "cell_type": "code",
   "execution_count": null,
   "id": "0e0d5c49",
   "metadata": {},
   "outputs": [],
   "source": [
    "print(len())"
   ]
  },
  {
   "cell_type": "code",
   "execution_count": 20,
   "id": "failing-pierre",
   "metadata": {},
   "outputs": [
    {
     "name": "stderr",
     "output_type": "stream",
     "text": [
      "100%|█████████████████████████████████| 10000/10000 [00:00<00:00, 434904.29it/s]\n"
     ]
    }
   ],
   "source": [
    "results = []\n",
    "all_words_in_rt_acc = []\n",
    "for e, res_time, accuracy, d in zip(cnn_cal, rt, acc, drift_rates):\n",
    "    if e[0] in all_words_in_rt_acc:\n",
    "        continue\n",
    "    if math.isnan(res_time):\n",
    "        res_time = max_rt\n",
    "    all_words_in_rt_acc.append(e[0])\n",
    "    word = e[0]\n",
    "    nonw_probability = e[1]\n",
    "    w_probability = e[2]\n",
    "    word_nonword_type = 'word' if e[3] == '1' else 'nonword'\n",
    "    \n",
    "    results.append([word, word_nonword_type, res_time, nonw_probability, w_probability, accuracy, d])\n",
    "with open(\"Datasets/train_dataset_rt_acc.csv\", 'w', newline='') as file:\n",
    "    writer = csv.writer(file)\n",
    "    for k in tqdm(results):\n",
    "        writer.writerow(k)"
   ]
  },
  {
   "cell_type": "markdown",
   "id": "7c9908b7",
   "metadata": {},
   "source": [
    "### Digrams"
   ]
  },
  {
   "cell_type": "code",
   "execution_count": 840,
   "id": "asian-extra",
   "metadata": {},
   "outputs": [],
   "source": [
    "import seaborn as sns\n",
    "import matplotlib.pyplot as plt\n"
   ]
  },
  {
   "cell_type": "code",
   "execution_count": 841,
   "id": "3e6f7043",
   "metadata": {},
   "outputs": [],
   "source": [
    "data = []\n",
    "acc = []\n",
    "hf_acc = []\n",
    "lf_acc = []\n",
    "nw_acc = []\n",
    "all_rt = []\n",
    "hf_rt = []\n",
    "lf_rt = []\n",
    "nw_rt = []\n",
    "prt = []\n",
    "nrt = []\n",
    "with open(\"Datasets/train_dataset_rt_acc.csv\", 'r') as file:\n",
    "    reader = csv.reader(file)\n",
    "    for row in reader:\n",
    "        if float(row[2])<0.3 or float(row[2])>5:\n",
    "            continue\n",
    "        \n",
    "        acc.append(float(row[5]))\n",
    "        all_rt.append(float(row[2]))\n",
    "        \n",
    "        if row[0] in hf_words:\n",
    "            hf_rt.append(float(row[2]))\n",
    "            hf_acc.append(float(row[5]))\n",
    "        elif row[0] in lf_words:\n",
    "            lf_rt.append(float(row[2]))\n",
    "            lf_acc.append(float(row[5]))\n",
    "        else:\n",
    "            nw_rt.append(float(row[2]))\n",
    "            nw_acc.append(float(row[5]))\n",
    "            "
   ]
  },
  {
   "cell_type": "markdown",
   "id": "5fca29ae",
   "metadata": {},
   "source": [
    "### Response Time"
   ]
  },
  {
   "cell_type": "code",
   "execution_count": 842,
   "id": "ce13a975",
   "metadata": {},
   "outputs": [
    {
     "name": "stderr",
     "output_type": "stream",
     "text": [
      "/home/mahvash/.local/lib/python3.8/site-packages/seaborn/distributions.py:2619: FutureWarning: `distplot` is a deprecated function and will be removed in a future version. Please adapt your code to use either `displot` (a figure-level function with similar flexibility) or `histplot` (an axes-level function for histograms).\n",
      "  warnings.warn(msg, FutureWarning)\n"
     ]
    },
    {
     "data": {
      "text/plain": [
       "Text(0.5, 1.0, 'Word and Non-Words')"
      ]
     },
     "execution_count": 842,
     "metadata": {},
     "output_type": "execute_result"
    },
    {
     "data": {
      "image/png": "[encoded data removed]",
      "text/plain": [
       "<Figure size 432x288 with 1 Axes>"
      ]
     },
     "metadata": {},
     "output_type": "display_data"
    }
   ],
   "source": [
    "sns.set_style('whitegrid')\n",
    "sns.distplot(rt, kde = True, color ='red')\n",
    "plt.title(\"Word and Non-Words\")"
   ]
  },
  {
   "cell_type": "code",
   "execution_count": 843,
   "id": "ae733e02",
   "metadata": {},
   "outputs": [
    {
     "name": "stderr",
     "output_type": "stream",
     "text": [
      "/home/mahvash/.local/lib/python3.8/site-packages/seaborn/distributions.py:2619: FutureWarning: `distplot` is a deprecated function and will be removed in a future version. Please adapt your code to use either `displot` (a figure-level function with similar flexibility) or `histplot` (an axes-level function for histograms).\n",
      "  warnings.warn(msg, FutureWarning)\n",
      "WARNING:matplotlib.legend:No handles with labels found to put in legend.\n"
     ]
    },
    {
     "data": {
      "text/plain": [
       "<matplotlib.legend.Legend at 0x7f6a81c42fa0>"
      ]
     },
     "execution_count": 843,
     "metadata": {},
     "output_type": "execute_result"
    },
    {
     "data": {
      "image/png": "[encoded data removed]",
      "text/plain": [
       "<Figure size 432x288 with 1 Axes>"
      ]
     },
     "metadata": {},
     "output_type": "display_data"
    }
   ],
   "source": [
    "sns.set_style('whitegrid')\n",
    "sns.distplot(hf_rt, kde = True, color ='blue')\n",
    "plt.title(\"High Frequency Words\")\n",
    "plt.legend()"
   ]
  },
  {
   "cell_type": "code",
   "execution_count": 844,
   "id": "c5ae9a1f",
   "metadata": {},
   "outputs": [
    {
     "name": "stderr",
     "output_type": "stream",
     "text": [
      "/home/mahvash/.local/lib/python3.8/site-packages/seaborn/distributions.py:2619: FutureWarning: `distplot` is a deprecated function and will be removed in a future version. Please adapt your code to use either `displot` (a figure-level function with similar flexibility) or `histplot` (an axes-level function for histograms).\n",
      "  warnings.warn(msg, FutureWarning)\n"
     ]
    },
    {
     "data": {
      "text/plain": [
       "Text(0.5, 1.0, 'Low Frequency Words')"
      ]
     },
     "execution_count": 844,
     "metadata": {},
     "output_type": "execute_result"
    },
    {
     "data": {
      "image/png": "[encoded data removed]",
      "text/plain": [
       "<Figure size 432x288 with 1 Axes>"
      ]
     },
     "metadata": {},
     "output_type": "display_data"
    }
   ],
   "source": [
    "sns.set_style('whitegrid')\n",
    "sns.distplot(lf_rt, kde = True, color ='purple')\n",
    "plt.title(\"Low Frequency Words\")"
   ]
  },
  {
   "cell_type": "code",
   "execution_count": 845,
   "id": "c3e682db",
   "metadata": {},
   "outputs": [
    {
     "name": "stderr",
     "output_type": "stream",
     "text": [
      "/home/mahvash/.local/lib/python3.8/site-packages/seaborn/distributions.py:2619: FutureWarning: `distplot` is a deprecated function and will be removed in a future version. Please adapt your code to use either `displot` (a figure-level function with similar flexibility) or `histplot` (an axes-level function for histograms).\n",
      "  warnings.warn(msg, FutureWarning)\n"
     ]
    },
    {
     "data": {
      "text/plain": [
       "Text(0.5, 1.0, 'NonWords')"
      ]
     },
     "execution_count": 845,
     "metadata": {},
     "output_type": "execute_result"
    },
    {
     "data": {
      "image/png": "[encoded data removed]",
      "text/plain": [
       "<Figure size 432x288 with 1 Axes>"
      ]
     },
     "metadata": {},
     "output_type": "display_data"
    }
   ],
   "source": [
    "sns.set_style('whitegrid')\n",
    "sns.distplot(nw_rt, kde = True, color ='black')\n",
    "plt.title(\"NonWords\")"
   ]
  },
  {
   "cell_type": "markdown",
   "id": "40c34cf3",
   "metadata": {},
   "source": [
    "### Box Digram"
   ]
  },
  {
   "cell_type": "code",
   "execution_count": 846,
   "id": "e00c93f8",
   "metadata": {},
   "outputs": [
    {
     "data": {
      "text/plain": [
       "Text(0, 0.5, 'Response Time')"
      ]
     },
     "execution_count": 846,
     "metadata": {},
     "output_type": "execute_result"
    },
    {
     "data": {
      "image/png": "[encoded data removed]",
      "text/plain": [
       "<Figure size 432x288 with 1 Axes>"
      ]
     },
     "metadata": {},
     "output_type": "display_data"
    }
   ],
   "source": [
    "my_dict = {'HF': hf_rt, 'LF': lf_rt, 'NW': nw_rt}\n",
    "fig, ax = plt.subplots()\n",
    "ax.boxplot(my_dict.values())\n",
    "ax.set_xticklabels(my_dict.keys())\n",
    "plt.ylabel(\"Response Time\")\n"
   ]
  },
  {
   "cell_type": "markdown",
   "id": "6a75fafd",
   "metadata": {},
   "source": [
    "### Box Plot"
   ]
  },
  {
   "cell_type": "code",
   "execution_count": 847,
   "id": "1dbe5e8b",
   "metadata": {},
   "outputs": [
    {
     "data": {
      "image/png": "[encoded data removed]",
      "text/plain": [
       "<Figure size 432x288 with 1 Axes>"
      ]
     },
     "metadata": {},
     "output_type": "display_data"
    }
   ],
   "source": [
    "all_data = [hf_rt, lf_rt, nw_rt]\n",
    "ax = sns.boxplot(y=hf_rt, color ='blue')\n"
   ]
  },
  {
   "cell_type": "code",
   "execution_count": 848,
   "id": "c0f49841",
   "metadata": {},
   "outputs": [
    {
     "data": {
      "image/png": "[encoded data removed]",
      "text/plain": [
       "<Figure size 432x288 with 1 Axes>"
      ]
     },
     "metadata": {},
     "output_type": "display_data"
    }
   ],
   "source": [
    "ax = sns.boxplot(y=lf_rt, color ='purple')\n"
   ]
  },
  {
   "cell_type": "code",
   "execution_count": 849,
   "id": "caec97c4",
   "metadata": {},
   "outputs": [
    {
     "data": {
      "image/png": "[encoded data removed]",
      "text/plain": [
       "<Figure size 432x288 with 1 Axes>"
      ]
     },
     "metadata": {},
     "output_type": "display_data"
    }
   ],
   "source": [
    "ax = sns.boxplot(y=nw_rt, color ='gray')\n"
   ]
  },
  {
   "cell_type": "code",
   "execution_count": null,
   "id": "36dd5688",
   "metadata": {},
   "outputs": [],
   "source": []
  },
  {
   "cell_type": "code",
   "execution_count": null,
   "id": "3b777234",
   "metadata": {},
   "outputs": [],
   "source": []
  },
  {
   "cell_type": "code",
   "execution_count": null,
   "id": "dc46b413",
   "metadata": {},
   "outputs": [],
   "source": []
  },
  {
   "cell_type": "code",
   "execution_count": null,
   "id": "8a917e57",
   "metadata": {},
   "outputs": [],
   "source": []
  }
 ],
 "metadata": {
  "kernelspec": {
   "display_name": "Python 3 (ipykernel)",
   "language": "python",
   "name": "python3"
  },
  "language_info": {
   "codemirror_mode": {
    "name": "ipython",
    "version": 3
   },
   "file_extension": ".py",
   "mimetype": "text/x-python",
   "name": "python",
   "nbconvert_exporter": "python",
   "pygments_lexer": "ipython3",
   "version": "3.8.10"
  }
 },
 "nbformat": 4,
 "nbformat_minor": 5
}

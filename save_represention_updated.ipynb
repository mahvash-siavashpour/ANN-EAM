{
 "cells": [
  {
   "cell_type": "markdown",
   "metadata": {
    "id": "5dYq2NYd4q1c"
   },
   "source": [
    "## Download wiki fasttext"
   ]
  },
  {
   "cell_type": "markdown",
   "metadata": {
    "id": "JTZxZEJyqOoZ"
   },
   "source": [
    "### older : https://fasttext.cc/docs/en/pretrained-vectors.html\n"
   ]
  },
  {
   "cell_type": "code",
   "execution_count": null,
   "metadata": {
    "id": "shi2gYXzqUG7"
   },
   "outputs": [],
   "source": [
    "# !brew install wget\n",
    "# !wget https://dl.fbaipublicfiles.com/fasttext/vectors-wiki/wiki.en.zip\n",
    "# !unzip wiki.en.zip"
   ]
  },
  {
   "cell_type": "markdown",
   "metadata": {
    "id": "OiJEaPbWqWvK"
   },
   "source": [
    "### newer : https://fasttext.cc/docs/en/crawl-vectors.html\n"
   ]
  },
  {
   "cell_type": "code",
   "execution_count": null,
   "metadata": {
    "id": "CINtPDsLqduL"
   },
   "outputs": [],
   "source": [
    "# !brew install wget\n",
    "# !wget https://dl.fbaipublicfiles.com/fasttext/vectors-crawl/cc.en.300.bin.gz\n",
    "# !gunzip -k cc.en.300.bin.gz"
   ]
  },
  {
   "cell_type": "markdown",
   "metadata": {
    "id": "kQhzoefpqgU6"
   },
   "source": [
    "### bigger : https://fasttext.cc/docs/en/english-vectors.html\n",
    "\n",
    "<span style=\"color:red\">Analysis of paper has been done on this version text</span>"
   ]
  },
  {
   "cell_type": "code",
   "execution_count": null,
   "metadata": {
    "colab": {
     "base_uri": "https://localhost:8080/"
    },
    "id": "3YVKJDpjoO1N",
    "outputId": "cf15fd3b-02ac-4913-eaba-46f4fe5c468f"
   },
   "outputs": [
    {
     "name": "stdout",
     "output_type": "stream",
     "text": [
      "Archive:  crawl-300d-2M-subword.zip\n",
      "  inflating: crawl-300d-2M-subword.vec  \n",
      "  inflating: crawl-300d-2M-subword.bin  \n"
     ]
    }
   ],
   "source": [
    "# !brew install wget\n",
    "# !wget https://dl.fbaipublicfiles.com/fasttext/vectors-english/crawl-300d-2M-subword.zip\n",
    "!unzip crawl-300d-2M-subword.zip"
   ]
  },
  {
   "cell_type": "markdown",
   "metadata": {
    "id": "2vzwDi2b9bCN"
   },
   "source": [
    "## Get new represention for words and nonwords"
   ]
  },
  {
   "cell_type": "code",
   "execution_count": null,
   "metadata": {
    "colab": {
     "base_uri": "https://localhost:8080/"
    },
    "id": "739xOEDWmqLZ",
    "outputId": "d6ababe9-14ac-41e1-b29f-8979164a033f"
   },
   "outputs": [
    {
     "name": "stdout",
     "output_type": "stream",
     "text": [
      "Looking in indexes: https://pypi.org/simple, https://us-python.pkg.dev/colab-wheels/public/simple/\n",
      "Collecting fasttext\n",
      "  Downloading fasttext-0.9.2.tar.gz (68 kB)\n",
      "\u001b[K     |████████████████████████████████| 68 kB 3.2 MB/s \n",
      "\u001b[?25hCollecting pybind11>=2.2\n",
      "  Using cached pybind11-2.9.2-py2.py3-none-any.whl (213 kB)\n",
      "Requirement already satisfied: setuptools>=0.7.0 in /usr/local/lib/python3.7/dist-packages (from fasttext) (57.4.0)\n",
      "Requirement already satisfied: numpy in /usr/local/lib/python3.7/dist-packages (from fasttext) (1.21.6)\n",
      "Building wheels for collected packages: fasttext\n",
      "  Building wheel for fasttext (setup.py) ... \u001b[?25l\u001b[?25hdone\n",
      "  Created wheel for fasttext: filename=fasttext-0.9.2-cp37-cp37m-linux_x86_64.whl size=3141306 sha256=7994203667fa62bbf7c6f56952503c69e861b7dcaab7e8dfee26ab36e414d4fa\n",
      "  Stored in directory: /root/.cache/pip/wheels/4e/ca/bf/b020d2be95f7641801a6597a29c8f4f19e38f9c02a345bab9b\n",
      "Successfully built fasttext\n",
      "Installing collected packages: pybind11, fasttext\n",
      "Successfully installed fasttext-0.9.2 pybind11-2.9.2\n"
     ]
    }
   ],
   "source": [
    "!pip install fasttext"
   ]
  },
  {
   "cell_type": "markdown",
   "metadata": {
    "id": "Xcyh-Kgd206V"
   },
   "source": [
    "Reading the older version of fasttext representations"
   ]
  },
  {
   "cell_type": "code",
   "execution_count": null,
   "metadata": {
    "id": "9TbEeYNU2zxA"
   },
   "outputs": [],
   "source": [
    "# from gensim.models.fasttext import FastText\n",
    "# fasttext_model = FastText.load_fasttext_format('wiki.en.bin')"
   ]
  },
  {
   "cell_type": "markdown",
   "metadata": {
    "id": "020YDXjR26eg"
   },
   "source": [
    "Reading the newer version of fasttext representations"
   ]
  },
  {
   "cell_type": "code",
   "execution_count": null,
   "metadata": {
    "colab": {
     "base_uri": "https://localhost:8080/"
    },
    "id": "AW2I19a8oQqU",
    "outputId": "82dbd3dd-a219-4f55-941d-775e7ea254ba"
   },
   "outputs": [
    {
     "name": "stderr",
     "output_type": "stream",
     "text": [
      "Warning : `load_model` does not return WordVectorModel or SupervisedModel any more, but a `FastText` object which is very similar.\n"
     ]
    }
   ],
   "source": [
    "import fasttext\n",
    "fasttext_model = fasttext.load_model('crawl-300d-2M-subword.bin')"
   ]
  },
  {
   "cell_type": "code",
   "execution_count": null,
   "metadata": {
    "colab": {
     "base_uri": "https://localhost:8080/"
    },
    "id": "OxC4KxvzqlF6",
    "outputId": "ee831739-2774-48e6-a899-75eecb9307a9",
    "scrolled": true,
    "tags": []
   },
   "outputs": [
    {
     "data": {
      "text/plain": [
       "array([-0.01662364, -0.06317363,  0.10360997,  0.00988938, -0.01172805,\n",
       "       -0.06221899,  0.10283022, -0.01048956,  0.0042353 , -0.00904447,\n",
       "       -0.01616175, -0.01869791,  0.01348858, -0.00880822,  0.00131212,\n",
       "        0.00032506, -0.0133916 , -0.00606125,  0.00758503,  0.01977285,\n",
       "        0.05345352,  0.02827453,  0.0025488 , -0.00322198, -0.00556884,\n",
       "        0.01026368,  0.00223253, -0.03588201, -0.0050254 , -0.00704392,\n",
       "        0.01111855, -0.04567491, -0.01598716,  0.01861553,  0.01136827,\n",
       "       -0.01811243,  0.04186862, -0.03258073,  0.01579361,  0.03001362,\n",
       "       -0.02310837, -0.05449836, -0.01737375, -0.01279299, -0.00688831,\n",
       "        0.03877896, -0.00044569,  0.00096546, -0.00582876,  0.03611235,\n",
       "       -0.00580491,  0.00786373,  0.01424869,  0.03287562, -0.08014669,\n",
       "       -0.00467078, -0.01531215, -0.01519638, -0.03408588,  0.0175901 ,\n",
       "        0.00888696,  0.00741135, -0.0141809 , -0.00235664, -0.01274599,\n",
       "       -0.00538604, -0.02511308, -0.02076326, -0.00571409, -0.03834781,\n",
       "       -0.0434143 , -0.02499052,  0.04196229, -0.01659214,  0.03436438,\n",
       "       -0.01725809,  0.00759069, -0.01081122,  0.00575262,  0.02156338,\n",
       "        0.00749214, -0.00983862, -0.10559203, -0.03391228,  0.00917309,\n",
       "        0.01902234, -0.01246809, -0.0196227 ,  0.03577271,  0.00865943,\n",
       "       -0.02702382,  0.01690868, -0.01875995, -0.07206738, -0.02103676,\n",
       "        0.09789182, -0.00723643,  0.03314338, -0.02648029,  0.00027683,\n",
       "        0.01474501,  0.017782  ,  0.00106398,  0.01594137, -0.06715367,\n",
       "       -0.00271218,  0.02783955,  0.01786548,  0.04438113,  0.00158675,\n",
       "        0.00149061,  0.00495715, -0.00147596, -0.00036722, -0.00757946,\n",
       "        0.00458392, -0.01848054, -0.01426439, -0.00358731, -0.05618266,\n",
       "        0.00832872,  0.02342687,  0.00679709,  0.01349122,  0.00535664,\n",
       "        0.02644072,  0.01188248,  0.01250956, -0.01080731, -0.01588067,\n",
       "        0.01684252, -0.00089372,  0.01646464,  0.00355155, -0.00773906,\n",
       "       -0.01937665, -0.01541149,  0.00492995, -0.03121768,  0.00031116,\n",
       "        0.01038677,  0.01844274, -0.01202058,  0.0308396 , -0.01148738,\n",
       "       -0.00413898,  0.0053722 , -0.03217107, -0.00204956,  0.00247507,\n",
       "        0.01190265,  0.05049297, -0.00235169, -0.02664842,  0.02598998,\n",
       "       -0.0110329 ,  0.05441305,  0.02289724,  0.01740305, -0.00437571,\n",
       "       -0.00966282,  0.01357164, -0.00847488, -0.01436449, -0.05481108,\n",
       "        0.01911777,  0.01630488, -0.01541654, -0.01874107,  0.03793533,\n",
       "        0.00351985, -0.00469693,  0.01251525,  0.04982035, -0.00773761,\n",
       "        0.00107843,  0.02599707,  0.00529267, -0.06076346,  0.00819337,\n",
       "        0.00154601,  0.00533689,  0.00725278, -0.03875857, -0.03938103,\n",
       "       -0.00710338,  0.02698155,  0.011618  , -0.00321807,  0.00754285,\n",
       "       -0.01109046, -0.00050069,  0.00424794, -0.00908426, -0.00266091,\n",
       "       -0.01054681,  0.06837979, -0.02708871,  0.00375465, -0.00272058,\n",
       "       -0.02831378,  0.00102152, -0.00677103,  0.0044103 ,  0.04825936,\n",
       "        0.03689031, -0.01910508, -0.00070527, -0.00603561, -0.02165568,\n",
       "       -0.04392806, -0.01257196,  0.0537687 , -0.02240141, -0.00717929,\n",
       "       -0.0056696 , -0.0065835 ,  0.0127493 , -0.00713658, -0.00895438,\n",
       "       -0.02604049,  0.01166051, -0.00600919, -0.00083688,  0.06053989,\n",
       "        0.00686577,  0.00464483,  0.04113711, -0.01663391,  0.00684478,\n",
       "        0.0150119 , -0.02407667, -0.02937128,  0.0262931 , -0.02449826,\n",
       "        0.02068685, -0.03308119, -0.00206901, -0.00862466, -0.01609821,\n",
       "        0.00452453, -0.01350623,  0.01889529, -0.0179748 ,  0.00139561,\n",
       "        0.03054522, -0.03414699,  0.03064553, -0.01455582, -0.0286507 ,\n",
       "        0.01678673,  0.0059552 ,  0.01208889, -0.02923318,  0.0229792 ,\n",
       "       -0.00635705, -0.01174522, -0.01867679, -0.01173448,  0.02323996,\n",
       "        0.00817905,  0.00077667, -0.01481945,  0.02080331, -0.05562859,\n",
       "        0.03402965, -0.00636149, -0.0135371 , -0.01639979,  0.00786918,\n",
       "       -0.02416725, -0.00706609,  0.00607889, -0.00444215,  0.00253316,\n",
       "       -0.00643119,  0.00369261,  0.08078148, -0.02420001, -0.01141568,\n",
       "        0.02656714, -0.00106748, -0.02017099,  0.02852062,  0.00879038,\n",
       "        0.01982497,  0.03814542, -0.05384044,  0.00214624, -0.01809879,\n",
       "        0.02952006, -0.01842   ,  0.00377902,  0.01174052, -0.01201222,\n",
       "        0.00779878, -0.06227174, -0.00658366, -0.00859841, -0.0122865 ],\n",
       "      dtype=float32)"
      ]
     },
     "execution_count": 8,
     "metadata": {},
     "output_type": "execute_result"
    }
   ],
   "source": [
    "# Output example\n",
    "fasttext_model['abandon']"
   ]
  },
  {
   "cell_type": "markdown",
   "metadata": {
    "id": "J7KfypRN4JJt"
   },
   "source": [
    "## Connect To Drive"
   ]
  },
  {
   "cell_type": "code",
   "execution_count": null,
   "metadata": {
    "colab": {
     "base_uri": "https://localhost:8080/"
    },
    "id": "xScz18aQ0icf",
    "outputId": "c7a4e7e0-b91d-4654-cc29-da578c1805c8"
   },
   "outputs": [
    {
     "name": "stdout",
     "output_type": "stream",
     "text": [
      "Mounted at /content/drive\n"
     ]
    }
   ],
   "source": [
    "from google.colab import drive\n",
    "drive.mount('/content/drive')"
   ]
  },
  {
   "cell_type": "code",
   "execution_count": null,
   "metadata": {
    "id": "nlkCY248ojml"
   },
   "outputs": [],
   "source": [
    "root = \"drive/MyDrive/CMP/Datasets\""
   ]
  },
  {
   "cell_type": "markdown",
   "metadata": {
    "id": "Z8I5EQD44PmK"
   },
   "source": [
    "## Get and Save Fasttext Representations for words"
   ]
  },
  {
   "cell_type": "code",
   "execution_count": null,
   "metadata": {
    "id": "vOL87AhDoCrQ"
   },
   "outputs": [],
   "source": [
    "import numpy as np\n",
    "import pickle\n",
    "import csv\n",
    "from tqdm import tqdm"
   ]
  },
  {
   "cell_type": "markdown",
   "metadata": {
    "id": "-dz6tNDJucOf"
   },
   "source": [
    "**Words**"
   ]
  },
  {
   "cell_type": "code",
   "execution_count": null,
   "metadata": {
    "colab": {
     "base_uri": "https://localhost:8080/"
    },
    "id": "t0fDCWmcseFM",
    "outputId": "6f25b5e5-3462-4313-fdbf-294c4e17c290"
   },
   "outputs": [
    {
     "name": "stderr",
     "output_type": "stream",
     "text": [
      "40483it [00:01, 33747.17it/s]\n"
     ]
    }
   ],
   "source": [
    "words = []\n",
    "with open(root+\"/Items.csv\", 'r') as file:\n",
    "    reader = csv.reader(file)\n",
    "    for index, row in enumerate(tqdm(reader)):\n",
    "        if index == 0:\n",
    "            continue\n",
    "        words.append([row[0], row[2].replace(',', ''), fasttext_model[row[0]]])\n",
    "\n",
    "with open(root+'/words_2M.pkl', 'wb') as f:\n",
    "  pickle.dump(words, f)"
   ]
  },
  {
   "cell_type": "markdown",
   "metadata": {
    "id": "4hrJPEFGvAtK"
   },
   "source": [
    "**Non-Words**"
   ]
  },
  {
   "cell_type": "code",
   "execution_count": null,
   "metadata": {
    "colab": {
     "base_uri": "https://localhost:8080/"
    },
    "id": "KxUKjCUyvIZT",
    "outputId": "d513d129-4e82-4872-f362-ef40c6805055"
   },
   "outputs": [
    {
     "name": "stderr",
     "output_type": "stream",
     "text": [
      "40342it [00:01, 38506.19it/s]\n"
     ]
    }
   ],
   "source": [
    "non_words = []\n",
    "with open(root+\"/nonword.csv\", 'r') as file:\n",
    "    reader = csv.reader(file)\n",
    "    for index, row in enumerate(tqdm(reader)):\n",
    "        if index == 0:\n",
    "            continue\n",
    "        non_words.append([row[0], fasttext_model[row[0]]])\n",
    "\n",
    "with open(root+'/nonwords_2M.pkl', 'wb') as f:\n",
    "  pickle.dump(non_words, f)"
   ]
  }
 ],
 "metadata": {
  "colab": {
   "collapsed_sections": [
    "5dYq2NYd4q1c",
    "JTZxZEJyqOoZ",
    "OiJEaPbWqWvK",
    "2vzwDi2b9bCN"
   ],
   "name": "save_represention_updated.ipynb",
   "provenance": []
  },
  "kernelspec": {
   "display_name": "Python 3 (ipykernel)",
   "language": "python",
   "name": "python3"
  },
  "language_info": {
   "codemirror_mode": {
    "name": "ipython",
    "version": 3
   },
   "file_extension": ".py",
   "mimetype": "text/x-python",
   "name": "python",
   "nbconvert_exporter": "python",
   "pygments_lexer": "ipython3",
   "version": "3.10.4"
  }
 },
 "nbformat": 4,
 "nbformat_minor": 4
}

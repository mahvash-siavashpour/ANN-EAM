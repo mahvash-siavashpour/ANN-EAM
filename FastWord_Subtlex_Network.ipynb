{
 "cells": [
  {
   "cell_type": "markdown",
   "metadata": {
    "id": "vRSMuj5HfD-S",
    "tags": []
   },
   "source": [
    "## Connect To Drive"
   ]
  },
  {
   "cell_type": "code",
   "execution_count": null,
   "metadata": {
    "colab": {
     "base_uri": "https://localhost:8080/"
    },
    "executionInfo": {
     "elapsed": 2919,
     "status": "ok",
     "timestamp": 1656242454590,
     "user": {
      "displayName": "Arash Dadras",
      "userId": "05722346836148265544"
     },
     "user_tz": -270
    },
    "id": "Z_026v3GfAvi",
    "outputId": "d641cc7f-2eba-4ee9-9a02-9e192faa2e09"
   },
   "outputs": [],
   "source": [
    "from google.colab import drive\n",
    "drive.mount('/content/drive')\n",
    "root = \"drive/MyDrive/DLSSM/\""
   ]
  },
  {
   "cell_type": "markdown",
   "metadata": {},
   "source": [
    "## Local"
   ]
  },
  {
   "cell_type": "code",
   "execution_count": 1,
   "metadata": {},
   "outputs": [],
   "source": [
    "root = './'"
   ]
  },
  {
   "cell_type": "markdown",
   "metadata": {
    "id": "lacOS41nHDgz",
    "tags": []
   },
   "source": [
    "## Import Packages"
   ]
  },
  {
   "cell_type": "code",
   "execution_count": 2,
   "metadata": {
    "executionInfo": {
     "elapsed": 395,
     "status": "ok",
     "timestamp": 1656243008742,
     "user": {
      "displayName": "Arash Dadras",
      "userId": "05722346836148265544"
     },
     "user_tz": -270
    },
    "id": "vOL87AhDoCrQ"
   },
   "outputs": [],
   "source": [
    "import numpy as np\n",
    "import pandas as pd\n",
    "import pickle\n",
    "import seaborn as sns\n",
    "import matplotlib.pyplot as plt\n",
    "import tensorflow as tf\n",
    "from tensorflow import keras\n",
    "from tensorflow.keras import layers\n",
    "from sklearn.model_selection import KFold\n",
    "from tensorflow.keras.utils import plot_model\n",
    "from sklearn import metrics"
   ]
  },
  {
   "cell_type": "markdown",
   "metadata": {
    "id": "-dz6tNDJucOf",
    "tags": []
   },
   "source": [
    "## Data Preparation"
   ]
  },
  {
   "cell_type": "markdown",
   "metadata": {},
   "source": [
    "#### Load SUBTLEX data"
   ]
  },
  {
   "cell_type": "code",
   "execution_count": 3,
   "metadata": {},
   "outputs": [
    {
     "data": {
      "text/html": [
       "<div>\n",
       "<style scoped>\n",
       "    .dataframe tbody tr th:only-of-type {\n",
       "        vertical-align: middle;\n",
       "    }\n",
       "\n",
       "    .dataframe tbody tr th {\n",
       "        vertical-align: top;\n",
       "    }\n",
       "\n",
       "    .dataframe thead th {\n",
       "        text-align: right;\n",
       "    }\n",
       "</style>\n",
       "<table border=\"1\" class=\"dataframe\">\n",
       "  <thead>\n",
       "    <tr style=\"text-align: right;\">\n",
       "      <th></th>\n",
       "      <th>string</th>\n",
       "      <th>zipf</th>\n",
       "    </tr>\n",
       "  </thead>\n",
       "  <tbody>\n",
       "    <tr>\n",
       "      <th>0</th>\n",
       "      <td>a</td>\n",
       "      <td>7.309360</td>\n",
       "    </tr>\n",
       "    <tr>\n",
       "      <th>1</th>\n",
       "      <td>aa</td>\n",
       "      <td>3.236317</td>\n",
       "    </tr>\n",
       "    <tr>\n",
       "      <th>2</th>\n",
       "      <td>aaa</td>\n",
       "      <td>2.706807</td>\n",
       "    </tr>\n",
       "    <tr>\n",
       "      <th>3</th>\n",
       "      <td>aah</td>\n",
       "      <td>4.721425</td>\n",
       "    </tr>\n",
       "    <tr>\n",
       "      <th>4</th>\n",
       "      <td>aahed</td>\n",
       "      <td>1.592864</td>\n",
       "    </tr>\n",
       "  </tbody>\n",
       "</table>\n",
       "</div>"
      ],
      "text/plain": [
       "  string      zipf\n",
       "0      a  7.309360\n",
       "1     aa  3.236317\n",
       "2    aaa  2.706807\n",
       "3    aah  4.721425\n",
       "4  aahed  1.592864"
      ]
     },
     "execution_count": 3,
     "metadata": {},
     "output_type": "execute_result"
    }
   ],
   "source": [
    "# Loading subtlex data\n",
    "SUBTLEX_df = pd.read_excel('Datasets/SUBTLEX_Zipf.xlsx')\n",
    "\n",
    "# renaming columns for latter merge use and dropping unneccery columns\n",
    "SUBTLEX_df.rename(columns={'Word':'string', 'Zipf-value': 'zipf'}, inplace=True)\n",
    "SUBTLEX_df.drop(SUBTLEX_df.columns[1:-1], axis=1, inplace=True)\n",
    "SUBTLEX_df.head()"
   ]
  },
  {
   "cell_type": "code",
   "execution_count": 4,
   "metadata": {},
   "outputs": [
    {
     "data": {
      "text/plain": [
       "count    74286.000000\n",
       "mean         2.479172\n",
       "std          0.835829\n",
       "min          1.592864\n",
       "25%          1.768955\n",
       "50%          2.291834\n",
       "75%          2.954592\n",
       "max          7.621174\n",
       "Name: zipf, dtype: float64"
      ]
     },
     "execution_count": 4,
     "metadata": {},
     "output_type": "execute_result"
    }
   ],
   "source": [
    "SUBTLEX_df['zipf'].describe()"
   ]
  },
  {
   "cell_type": "code",
   "execution_count": 5,
   "metadata": {
    "executionInfo": {
     "elapsed": 449,
     "status": "ok",
     "timestamp": 1656242464635,
     "user": {
      "displayName": "Arash Dadras",
      "userId": "05722346836148265544"
     },
     "user_tz": -270
    },
    "id": "vDujDcOeB8sB"
   },
   "outputs": [],
   "source": [
    "def categorise_by_zipf(row):\n",
    "    \"\"\"\n",
    "    categorizing data string as High frequency word (HF),\n",
    "    Low frequency word (LF) and non-word (NW) by zipf value\n",
    "\n",
    "    Parameters\n",
    "    ----------\n",
    "        row: pandas series\n",
    "            pandas dataframe's row containing label and zipf column\n",
    "    \n",
    "    Returns:\n",
    "        category (str): HF, LF, NW\n",
    "    \"\"\"\n",
    "    category = ''\n",
    "    if row['label'] == 0:\n",
    "        category = 'NW'\n",
    "    elif row['label'] == 1 and row['zipf'] > 3:\n",
    "        category = 'HF'\n",
    "    else:\n",
    "        category = 'LF'\n",
    "    return category"
   ]
  },
  {
   "cell_type": "markdown",
   "metadata": {},
   "source": [
    "#### Load ELP data and Merge with Subtlex data"
   ]
  },
  {
   "cell_type": "markdown",
   "metadata": {},
   "source": [
    "Reading **words** and **non-words** FastText represention"
   ]
  },
  {
   "cell_type": "code",
   "execution_count": 6,
   "metadata": {
    "executionInfo": {
     "elapsed": 656,
     "status": "ok",
     "timestamp": 1656242465679,
     "user": {
      "displayName": "Arash Dadras",
      "userId": "05722346836148265544"
     },
     "user_tz": -270
    },
    "id": "t0fDCWmcseFM"
   },
   "outputs": [],
   "source": [
    "with open(root+'Datasets/FastText_V3/words_2M.pkl', 'rb') as f:\n",
    "  words = pickle.load(f)\n",
    "\n",
    "with open(root+'Datasets/FastText_V3/nonwords_2M.pkl', 'rb') as f:\n",
    "  nonwords = pickle.load(f)"
   ]
  },
  {
   "cell_type": "markdown",
   "metadata": {},
   "source": [
    "Adding appropriate encodings for extra information for both words and non-words"
   ]
  },
  {
   "cell_type": "code",
   "execution_count": 7,
   "metadata": {
    "executionInfo": {
     "elapsed": 3,
     "status": "ok",
     "timestamp": 1656242465680,
     "user": {
      "displayName": "Arash Dadras",
      "userId": "05722346836148265544"
     },
     "user_tz": -270
    },
    "id": "KnkAOS_KqQTq"
   },
   "outputs": [],
   "source": [
    "for w in words:\n",
    "    w.insert(3, [1, 0])\n",
    "    w.insert(4, 1)\n",
    "\n",
    "for nw in nonwords:\n",
    "    nw.insert(1, 0)\n",
    "    nw.insert(3, [0, 1])\n",
    "    nw.insert(4, 0)"
   ]
  },
  {
   "cell_type": "markdown",
   "metadata": {},
   "source": [
    "Loading elp data and merging them with subtlex data"
   ]
  },
  {
   "cell_type": "code",
   "execution_count": 8,
   "metadata": {},
   "outputs": [],
   "source": [
    "# loading elp words and non-words as seprate dataframes\n",
    "elp_words = pd.DataFrame(words, columns =['string', 'freq', 'represention', 'code', 'label'])\n",
    "elp_nonwords = pd.DataFrame(nonwords, columns =['string', 'freq', 'represention', 'code', 'label'])\n",
    "\n",
    "# mergeing elp words with subtlex words to get zipf for each elp words\n",
    "# elp words that does not have zipf will be droped\n",
    "elp_words = pd.merge(elp_words, SUBTLEX_df, on='string', how='left').dropna()\n",
    "elp_df = pd.concat([elp_words, elp_nonwords])\n",
    "\n",
    "# \n",
    "elp_df.fillna(0, inplace=True)\n",
    "elp_df['category'] = elp_df.apply(lambda row: categorise_by_zipf(row), axis=1)\n",
    "elp_df.drop_duplicates(subset=['string'], inplace=True)"
   ]
  },
  {
   "cell_type": "code",
   "execution_count": 9,
   "metadata": {
    "executionInfo": {
     "elapsed": 8,
     "status": "ok",
     "timestamp": 1656242467795,
     "user": {
      "displayName": "Arash Dadras",
      "userId": "05722346836148265544"
     },
     "user_tz": -270
    },
    "id": "Rpo-YDwQ6XAs"
   },
   "outputs": [
    {
     "data": {
      "text/html": [
       "<div>\n",
       "<style scoped>\n",
       "    .dataframe tbody tr th:only-of-type {\n",
       "        vertical-align: middle;\n",
       "    }\n",
       "\n",
       "    .dataframe tbody tr th {\n",
       "        vertical-align: top;\n",
       "    }\n",
       "\n",
       "    .dataframe thead th {\n",
       "        text-align: right;\n",
       "    }\n",
       "</style>\n",
       "<table border=\"1\" class=\"dataframe\">\n",
       "  <thead>\n",
       "    <tr style=\"text-align: right;\">\n",
       "      <th></th>\n",
       "      <th>string</th>\n",
       "      <th>freq</th>\n",
       "      <th>represention</th>\n",
       "      <th>code</th>\n",
       "      <th>label</th>\n",
       "      <th>zipf</th>\n",
       "      <th>category</th>\n",
       "    </tr>\n",
       "  </thead>\n",
       "  <tbody>\n",
       "    <tr>\n",
       "      <th>7852</th>\n",
       "      <td>cornbread</td>\n",
       "      <td>140</td>\n",
       "      <td>[-0.00010051695, 0.014164801, 0.028232336, 0.0...</td>\n",
       "      <td>[1, 0]</td>\n",
       "      <td>1</td>\n",
       "      <td>2.963932</td>\n",
       "      <td>LF</td>\n",
       "    </tr>\n",
       "    <tr>\n",
       "      <th>25149</th>\n",
       "      <td>pains</td>\n",
       "      <td>2259</td>\n",
       "      <td>[-0.0037950415, -0.021302147, 0.08669361, 0.02...</td>\n",
       "      <td>[1, 0]</td>\n",
       "      <td>1</td>\n",
       "      <td>3.723198</td>\n",
       "      <td>HF</td>\n",
       "    </tr>\n",
       "    <tr>\n",
       "      <th>28427</th>\n",
       "      <td>quivers</td>\n",
       "      <td>84</td>\n",
       "      <td>[0.0022105256, -0.023393895, 0.041374255, -0.0...</td>\n",
       "      <td>[1, 0]</td>\n",
       "      <td>1</td>\n",
       "      <td>2.467925</td>\n",
       "      <td>LF</td>\n",
       "    </tr>\n",
       "    <tr>\n",
       "      <th>8694</th>\n",
       "      <td>cutback</td>\n",
       "      <td>67</td>\n",
       "      <td>[0.012463513, 0.023312483, 0.038883347, -0.002...</td>\n",
       "      <td>[1, 0]</td>\n",
       "      <td>1</td>\n",
       "      <td>2.547107</td>\n",
       "      <td>LF</td>\n",
       "    </tr>\n",
       "    <tr>\n",
       "      <th>22718</th>\n",
       "      <td>pourn</td>\n",
       "      <td>0</td>\n",
       "      <td>[0.000715512, -0.025127817, 0.09251284, 0.0174...</td>\n",
       "      <td>[0, 1]</td>\n",
       "      <td>0</td>\n",
       "      <td>0.000000</td>\n",
       "      <td>NW</td>\n",
       "    </tr>\n",
       "  </tbody>\n",
       "</table>\n",
       "</div>"
      ],
      "text/plain": [
       "          string  freq                                       represention  \\\n",
       "7852   cornbread   140  [-0.00010051695, 0.014164801, 0.028232336, 0.0...   \n",
       "25149      pains  2259  [-0.0037950415, -0.021302147, 0.08669361, 0.02...   \n",
       "28427    quivers    84  [0.0022105256, -0.023393895, 0.041374255, -0.0...   \n",
       "8694     cutback    67  [0.012463513, 0.023312483, 0.038883347, -0.002...   \n",
       "22718      pourn     0  [0.000715512, -0.025127817, 0.09251284, 0.0174...   \n",
       "\n",
       "         code  label      zipf category  \n",
       "7852   [1, 0]      1  2.963932       LF  \n",
       "25149  [1, 0]      1  3.723198       HF  \n",
       "28427  [1, 0]      1  2.467925       LF  \n",
       "8694   [1, 0]      1  2.547107       LF  \n",
       "22718  [0, 1]      0  0.000000       NW  "
      ]
     },
     "execution_count": 9,
     "metadata": {},
     "output_type": "execute_result"
    }
   ],
   "source": [
    "elp_df = elp_df.sample(frac=1.0)\n",
    "elp_df.head()"
   ]
  },
  {
   "cell_type": "markdown",
   "metadata": {
    "id": "sQOZT435Ww6G"
   },
   "source": [
    "## Nueral Network"
   ]
  },
  {
   "cell_type": "code",
   "execution_count": 10,
   "metadata": {
    "colab": {
     "base_uri": "https://localhost:8080/",
     "height": 1000
    },
    "executionInfo": {
     "elapsed": 878,
     "status": "ok",
     "timestamp": 1656242469936,
     "user": {
      "displayName": "Arash Dadras",
      "userId": "05722346836148265544"
     },
     "user_tz": -270
    },
    "id": "1Zq5pZILMCZp",
    "outputId": "293e1c9a-ea0d-42b7-840a-311d5869fd1a"
   },
   "outputs": [
    {
     "name": "stdout",
     "output_type": "stream",
     "text": [
      "Model: \"sequential\"\n",
      "_________________________________________________________________\n",
      " Layer (type)                Output Shape              Param #   \n",
      "=================================================================\n",
      " dense1 (Dense)              (None, 300)               90300     \n",
      "                                                                 \n",
      " dense2 (Dense)              (None, 300)               90300     \n",
      "                                                                 \n",
      " dropout (Dropout)           (None, 300)               0         \n",
      "                                                                 \n",
      " dense3 (Dense)              (None, 100)               30100     \n",
      "                                                                 \n",
      " dense4 (Dense)              (None, 50)                5050      \n",
      "                                                                 \n",
      " dropout_1 (Dropout)         (None, 50)                0         \n",
      "                                                                 \n",
      " dense5 (Dense)              (None, 10)                510       \n",
      "                                                                 \n",
      " clf (Dense)                 (None, 2)                 22        \n",
      "                                                                 \n",
      "=================================================================\n",
      "Total params: 216,282\n",
      "Trainable params: 216,282\n",
      "Non-trainable params: 0\n",
      "_________________________________________________________________\n"
     ]
    },
    {
     "data": {
      "image/png": "[encoded data removed]",
      "text/plain": [
       "<IPython.core.display.Image object>"
      ]
     },
     "execution_count": 10,
     "metadata": {},
     "output_type": "execute_result"
    }
   ],
   "source": [
    "# Sequential Model\n",
    "model = tf.keras.models.Sequential()\n",
    "model.add(tf.keras.layers.Input(shape=(300,)))\n",
    "model.add(layers.Dense(300, activation=\"relu\", name=\"dense1\"))\n",
    "model.add(layers.Dense(300, activation=\"relu\", name=\"dense2\"))\n",
    "model.add(layers.Dropout(0.5))\n",
    "model.add(layers.Dense(100, activation=\"relu\", name=\"dense3\"))\n",
    "model.add(layers.Dense(50, activation=\"relu\", name=\"dense4\"))\n",
    "model.add(layers.Dropout(0.25))\n",
    "model.add(layers.Dense(10, activation=\"relu\", name=\"dense5\"))\n",
    "model.add(layers.Dense(2, activation='softmax', name='clf'))\n",
    "\n",
    "opt = tf.keras.optimizers.Adam()\n",
    "model.compile(optimizer=opt,\n",
    "              loss=tf.keras.losses.categorical_crossentropy,\n",
    "              metrics=['accuracy'])\n",
    "\n",
    "model.summary()\n",
    "plot_model(model, to_file='./Plots/FC-RDM/fully_connected_model.png', show_shapes=True)"
   ]
  },
  {
   "cell_type": "code",
   "execution_count": 11,
   "metadata": {
    "executionInfo": {
     "elapsed": 2,
     "status": "ok",
     "timestamp": 1656242470380,
     "user": {
      "displayName": "Arash Dadras",
      "userId": "05722346836148265544"
     },
     "user_tz": -270
    },
    "id": "HWmqHZc4lg87"
   },
   "outputs": [],
   "source": [
    "# Define per-fold score containers\n",
    "acc_per_fold = []\n",
    "loss_per_fold = []\n",
    "\n",
    "# K-fold Cross Validation model evaluation\n",
    "fold_no = 1\n",
    "kf = KFold(n_splits=5, shuffle=True)"
   ]
  },
  {
   "cell_type": "code",
   "execution_count": 12,
   "metadata": {},
   "outputs": [],
   "source": [
    "checkpoint_filepath = root + '/check_points/fully_connected/FC_Model'\n",
    "\n",
    "callbacks_list = [\n",
    "        tf.keras.callbacks.EarlyStopping(\n",
    "            monitor='val_loss',\n",
    "            patience=5,\n",
    "            restore_best_weights=True\n",
    "        ),\n",
    "        tf.keras.callbacks.ModelCheckpoint(\n",
    "            filepath=checkpoint_filepath,\n",
    "            save_weights_only=True,\n",
    "            monitor='val_accuracy',\n",
    "            mode='max',\n",
    "            save_best_only=True\n",
    "        )\n",
    "]"
   ]
  },
  {
   "cell_type": "code",
   "execution_count": 13,
   "metadata": {
    "colab": {
     "base_uri": "https://localhost:8080/"
    },
    "executionInfo": {
     "elapsed": 361398,
     "status": "ok",
     "timestamp": 1656242832214,
     "user": {
      "displayName": "Arash Dadras",
      "userId": "05722346836148265544"
     },
     "user_tz": -270
    },
    "id": "1lNutug_kcxs",
    "outputId": "c1e6ca7e-78a7-44ed-f9f7-3f3c10cfe96e"
   },
   "outputs": [
    {
     "name": "stdout",
     "output_type": "stream",
     "text": [
      "------------------------------------------------------------------------\n",
      "Training for fold 1 ...\n",
      "Epoch 1/20\n",
      "1487/1487 [==============================] - 11s 6ms/step - loss: 0.0525 - accuracy: 0.9845 - val_loss: 0.0369 - val_accuracy: 0.9892\n",
      "Epoch 2/20\n",
      "1487/1487 [==============================] - 11s 8ms/step - loss: 0.0247 - accuracy: 0.9930 - val_loss: 0.0370 - val_accuracy: 0.9910\n",
      "Epoch 3/20\n",
      "1487/1487 [==============================] - 11s 7ms/step - loss: 0.0170 - accuracy: 0.9951 - val_loss: 0.0304 - val_accuracy: 0.9908\n",
      "Epoch 4/20\n",
      "1487/1487 [==============================] - 14s 9ms/step - loss: 0.0120 - accuracy: 0.9967 - val_loss: 0.0298 - val_accuracy: 0.9912\n",
      "Epoch 5/20\n",
      "1487/1487 [==============================] - 14s 10ms/step - loss: 0.0082 - accuracy: 0.9976 - val_loss: 0.0367 - val_accuracy: 0.9928\n",
      "Epoch 6/20\n",
      "1487/1487 [==============================] - 13s 9ms/step - loss: 0.0075 - accuracy: 0.9980 - val_loss: 0.0308 - val_accuracy: 0.9926\n",
      "Epoch 7/20\n",
      "1487/1487 [==============================] - 14s 9ms/step - loss: 0.0065 - accuracy: 0.9983 - val_loss: 0.0414 - val_accuracy: 0.9905\n",
      "Epoch 8/20\n",
      "1487/1487 [==============================] - 13s 9ms/step - loss: 0.0051 - accuracy: 0.9988 - val_loss: 0.0595 - val_accuracy: 0.9918\n",
      "Epoch 9/20\n",
      "1487/1487 [==============================] - 14s 9ms/step - loss: 0.0049 - accuracy: 0.9987 - val_loss: 0.0562 - val_accuracy: 0.9924\n",
      "\n",
      "Score for fold 1: loss of 0.02666391059756279; accuracy of 99.3406891822815%\n",
      "------------------------------------------------------------------------\n",
      "Training for fold 2 ...\n",
      "Epoch 1/20\n",
      "1487/1487 [==============================] - 13s 9ms/step - loss: 0.0161 - accuracy: 0.9962 - val_loss: 0.0296 - val_accuracy: 0.9913\n",
      "Epoch 2/20\n",
      "1487/1487 [==============================] - 13s 9ms/step - loss: 0.0095 - accuracy: 0.9976 - val_loss: 0.0269 - val_accuracy: 0.9922\n",
      "Epoch 3/20\n",
      "1487/1487 [==============================] - 14s 9ms/step - loss: 0.0073 - accuracy: 0.9981 - val_loss: 0.0565 - val_accuracy: 0.9909\n",
      "Epoch 4/20\n",
      "1487/1487 [==============================] - 13s 9ms/step - loss: 0.0055 - accuracy: 0.9986 - val_loss: 0.0576 - val_accuracy: 0.9926\n",
      "Epoch 5/20\n",
      "1487/1487 [==============================] - 14s 9ms/step - loss: 0.0048 - accuracy: 0.9988 - val_loss: 0.0492 - val_accuracy: 0.9929\n",
      "Epoch 6/20\n",
      "1487/1487 [==============================] - 14s 9ms/step - loss: 0.0036 - accuracy: 0.9992 - val_loss: 0.0636 - val_accuracy: 0.9925\n",
      "Epoch 7/20\n",
      "1487/1487 [==============================] - 13s 9ms/step - loss: 0.0059 - accuracy: 0.9985 - val_loss: 0.0364 - val_accuracy: 0.9919\n",
      "\n",
      "Score for fold 2: loss of 0.014827897772192955; accuracy of 99.6097981929779%\n",
      "------------------------------------------------------------------------\n",
      "Training for fold 3 ...\n",
      "Epoch 1/20\n",
      "1487/1487 [==============================] - 13s 9ms/step - loss: 0.0098 - accuracy: 0.9976 - val_loss: 0.0330 - val_accuracy: 0.9913\n",
      "Epoch 2/20\n",
      "1487/1487 [==============================] - 14s 10ms/step - loss: 0.0068 - accuracy: 0.9983 - val_loss: 0.0359 - val_accuracy: 0.9921\n",
      "Epoch 3/20\n",
      "1487/1487 [==============================] - 13s 9ms/step - loss: 0.0053 - accuracy: 0.9987 - val_loss: 0.0346 - val_accuracy: 0.9923\n",
      "Epoch 4/20\n",
      "1487/1487 [==============================] - 13s 9ms/step - loss: 0.0043 - accuracy: 0.9990 - val_loss: 0.0551 - val_accuracy: 0.9929\n",
      "Epoch 5/20\n",
      "1487/1487 [==============================] - 15s 10ms/step - loss: 0.0052 - accuracy: 0.9986 - val_loss: 0.0462 - val_accuracy: 0.9929\n",
      "Epoch 6/20\n",
      "1487/1487 [==============================] - 14s 9ms/step - loss: 0.0044 - accuracy: 0.9991 - val_loss: 0.0399 - val_accuracy: 0.9937\n",
      "\n",
      "Score for fold 3: loss of 0.014577517285943031; accuracy of 99.62995648384094%\n",
      "------------------------------------------------------------------------\n",
      "Training for fold 4 ...\n",
      "Epoch 1/20\n",
      "1487/1487 [==============================] - 15s 10ms/step - loss: 0.0084 - accuracy: 0.9978 - val_loss: 0.0355 - val_accuracy: 0.9923\n",
      "Epoch 2/20\n",
      "1487/1487 [==============================] - 15s 10ms/step - loss: 0.0058 - accuracy: 0.9986 - val_loss: 0.0363 - val_accuracy: 0.9931\n",
      "Epoch 3/20\n",
      "1487/1487 [==============================] - 15s 10ms/step - loss: 0.0059 - accuracy: 0.9987 - val_loss: 0.0348 - val_accuracy: 0.9928\n",
      "Epoch 4/20\n",
      "1487/1487 [==============================] - 14s 10ms/step - loss: 0.0064 - accuracy: 0.9988 - val_loss: 0.0375 - val_accuracy: 0.9919\n",
      "Epoch 5/20\n",
      "1487/1487 [==============================] - 15s 10ms/step - loss: 0.0047 - accuracy: 0.9989 - val_loss: 0.0418 - val_accuracy: 0.9916\n",
      "Epoch 6/20\n",
      "1487/1487 [==============================] - 14s 9ms/step - loss: 0.0039 - accuracy: 0.9992 - val_loss: 0.0388 - val_accuracy: 0.9920\n",
      "Epoch 7/20\n",
      "1487/1487 [==============================] - 14s 9ms/step - loss: 0.0033 - accuracy: 0.9992 - val_loss: 0.0598 - val_accuracy: 0.9931\n",
      "Epoch 8/20\n",
      "1487/1487 [==============================] - 14s 9ms/step - loss: 0.0040 - accuracy: 0.9989 - val_loss: 0.0952 - val_accuracy: 0.9924\n",
      "\n",
      "Score for fold 4: loss of 0.012514079920947552; accuracy of 99.72414970397949%\n",
      "------------------------------------------------------------------------\n",
      "Training for fold 5 ...\n",
      "Epoch 1/20\n",
      "1487/1487 [==============================] - 14s 10ms/step - loss: 0.0066 - accuracy: 0.9988 - val_loss: 0.0442 - val_accuracy: 0.9918\n",
      "Epoch 2/20\n",
      "1487/1487 [==============================] - 14s 9ms/step - loss: 0.0048 - accuracy: 0.9987 - val_loss: 0.0442 - val_accuracy: 0.9908\n",
      "Epoch 3/20\n",
      "1487/1487 [==============================] - 14s 9ms/step - loss: 0.0039 - accuracy: 0.9989 - val_loss: 0.0419 - val_accuracy: 0.9929\n",
      "Epoch 4/20\n",
      "1487/1487 [==============================] - 14s 9ms/step - loss: 0.0034 - accuracy: 0.9991 - val_loss: 0.0410 - val_accuracy: 0.9925\n",
      "Epoch 5/20\n",
      "1487/1487 [==============================] - 14s 10ms/step - loss: 0.0027 - accuracy: 0.9995 - val_loss: 0.0683 - val_accuracy: 0.9922\n",
      "Epoch 6/20\n",
      "1487/1487 [==============================] - 14s 9ms/step - loss: 0.0035 - accuracy: 0.9993 - val_loss: 0.0485 - val_accuracy: 0.9920\n",
      "Epoch 7/20\n",
      "1487/1487 [==============================] - 13s 9ms/step - loss: 0.0028 - accuracy: 0.9992 - val_loss: 0.0673 - val_accuracy: 0.9920\n",
      "Epoch 8/20\n",
      "1487/1487 [==============================] - 13s 9ms/step - loss: 0.0021 - accuracy: 0.9996 - val_loss: 0.0919 - val_accuracy: 0.9925\n",
      "Epoch 9/20\n",
      "1487/1487 [==============================] - 13s 9ms/step - loss: 0.0025 - accuracy: 0.9992 - val_loss: 0.1070 - val_accuracy: 0.9906\n",
      "\n",
      "Score for fold 5: loss of 0.010464186780154705; accuracy of 99.7376024723053%\n"
     ]
    }
   ],
   "source": [
    "for train_index, test_index in kf.split(elp_df['code']):\n",
    "    print('------------------------------------------------------------------------')\n",
    "    print(f'Training for fold {fold_no} ...')\n",
    "\n",
    "    # Fit data to model\n",
    "    history = model.fit(\n",
    "        x = np.array(list(elp_df['represention']))[train_index],\n",
    "        y = np.array(list(elp_df['code']))[train_index],\n",
    "        validation_split=0.2,\n",
    "        callbacks = callbacks_list,\n",
    "        epochs=20)\n",
    "  \n",
    "    # Generate generalization metrics\n",
    "    print()\n",
    "    scores = model.evaluate(np.array(list(elp_df['represention']))[test_index], np.array(list(elp_df['code']))[test_index], verbose=0)\n",
    "    print(f'Score for fold {fold_no}: {model.metrics_names[0]} of {scores[0]}; {model.metrics_names[1]} of {scores[1]*100}%')\n",
    "    acc_per_fold.append(scores[1] * 100)\n",
    "    loss_per_fold.append(scores[0])\n",
    "\n",
    "    # Increase fold number\n",
    "    fold_no = fold_no + 1"
   ]
  },
  {
   "cell_type": "code",
   "execution_count": 14,
   "metadata": {
    "colab": {
     "base_uri": "https://localhost:8080/"
    },
    "executionInfo": {
     "elapsed": 13,
     "status": "ok",
     "timestamp": 1656242832215,
     "user": {
      "displayName": "Arash Dadras",
      "userId": "05722346836148265544"
     },
     "user_tz": -270
    },
    "id": "ngUZWJTGqQTt",
    "outputId": "0df1aff2-6e9b-4dac-86f7-36752270cf4d"
   },
   "outputs": [
    {
     "name": "stdout",
     "output_type": "stream",
     "text": [
      "------------------------------------------------------------------------\n",
      "Score per fold\n",
      "------------------------------------------------------------------------\n",
      "> Fold 1 - Loss: 0.02666391059756279 - Accuracy: 99.3406891822815%\n",
      "------------------------------------------------------------------------\n",
      "> Fold 2 - Loss: 0.014827897772192955 - Accuracy: 99.6097981929779%\n",
      "------------------------------------------------------------------------\n",
      "> Fold 3 - Loss: 0.014577517285943031 - Accuracy: 99.62995648384094%\n",
      "------------------------------------------------------------------------\n",
      "> Fold 4 - Loss: 0.012514079920947552 - Accuracy: 99.72414970397949%\n",
      "------------------------------------------------------------------------\n",
      "> Fold 5 - Loss: 0.010464186780154705 - Accuracy: 99.7376024723053%\n",
      "------------------------------------------------------------------------\n",
      "Average scores for all folds:\n",
      "> Accuracy: 99.60843920707703 (+- 0.14298740084207856)\n",
      "> Loss: 0.015809518471360206\n",
      "------------------------------------------------------------------------\n"
     ]
    }
   ],
   "source": [
    "# == Provide average scores ==\n",
    "print('------------------------------------------------------------------------')\n",
    "print('Score per fold')\n",
    "for i in range(0, len(acc_per_fold)):\n",
    "  print('------------------------------------------------------------------------')\n",
    "  print(f'> Fold {i+1} - Loss: {loss_per_fold[i]} - Accuracy: {acc_per_fold[i]}%')\n",
    "print('------------------------------------------------------------------------')\n",
    "print('Average scores for all folds:')\n",
    "print(f'> Accuracy: {np.mean(acc_per_fold)} (+- {np.std(acc_per_fold)})')\n",
    "print(f'> Loss: {np.mean(loss_per_fold)}')\n",
    "print('------------------------------------------------------------------------')"
   ]
  },
  {
   "cell_type": "code",
   "execution_count": 15,
   "metadata": {
    "colab": {
     "base_uri": "https://localhost:8080/"
    },
    "executionInfo": {
     "elapsed": 1424,
     "status": "ok",
     "timestamp": 1656242833633,
     "user": {
      "displayName": "Arash Dadras",
      "userId": "05722346836148265544"
     },
     "user_tz": -270
    },
    "id": "jbVkp8yjqQTu",
    "outputId": "9075c5b4-ddf2-41b2-c5bf-0eaf48c10aaf"
   },
   "outputs": [
    {
     "data": {
      "text/plain": [
       "<tensorflow.python.training.tracking.util.CheckpointLoadStatus at 0x1e6c63b3850>"
      ]
     },
     "execution_count": 15,
     "metadata": {},
     "output_type": "execute_result"
    }
   ],
   "source": [
    "# Load the best model weights.\n",
    "model.load_weights(checkpoint_filepath)"
   ]
  },
  {
   "cell_type": "markdown",
   "metadata": {
    "id": "Oy1FRAqGB8sO",
    "tags": []
   },
   "source": [
    "## Predicted Probabilities on full dataset\n"
   ]
  },
  {
   "cell_type": "code",
   "execution_count": 16,
   "metadata": {
    "id": "_FCnDm48B8sO"
   },
   "outputs": [
    {
     "name": "stdout",
     "output_type": "stream",
     "text": [
      "2323/2323 [==============================] - 6s 2ms/step\n"
     ]
    }
   ],
   "source": [
    "full_dataset_predictions = model.predict(np.array(list(elp_df['represention'])))"
   ]
  },
  {
   "cell_type": "markdown",
   "metadata": {},
   "source": [
    "#### Classification results"
   ]
  },
  {
   "cell_type": "code",
   "execution_count": 17,
   "metadata": {
    "colab": {
     "base_uri": "https://localhost:8080/"
    },
    "executionInfo": {
     "elapsed": 14,
     "status": "ok",
     "timestamp": 1656239008646,
     "user": {
      "displayName": "Arash Dadras",
      "userId": "05722346836148265544"
     },
     "user_tz": -270
    },
    "id": "YhN1ubS5uD7N",
    "outputId": "00bfc30a-762c-4ae4-f1be-45eacc2fae0e"
   },
   "outputs": [
    {
     "name": "stdout",
     "output_type": "stream",
     "text": [
      "              precision    recall  f1-score   support\n",
      "\n",
      "           0     0.9959    0.9954    0.9957     33978\n",
      "           1     0.9962    0.9965    0.9963     40339\n",
      "\n",
      "    accuracy                         0.9960     74317\n",
      "   macro avg     0.9960    0.9960    0.9960     74317\n",
      "weighted avg     0.9960    0.9960    0.9960     74317\n",
      "\n"
     ]
    }
   ],
   "source": [
    "print(metrics.classification_report(np.argmax(np.array(list(elp_df['code'])), axis=1), np.argmax(full_dataset_predictions, axis=1), digits=4))"
   ]
  },
  {
   "cell_type": "code",
   "execution_count": 18,
   "metadata": {},
   "outputs": [
    {
     "data": {
      "text/plain": [
       "0.9960305179164929"
      ]
     },
     "execution_count": 18,
     "metadata": {},
     "output_type": "execute_result"
    }
   ],
   "source": [
    "acc_score = (metrics.accuracy_score(np.argmax(np.array(list(elp_df['code'])), axis=1),  np.argmax(full_dataset_predictions, axis=1)))\n",
    "acc_score"
   ]
  },
  {
   "cell_type": "markdown",
   "metadata": {},
   "source": [
    "#### Confusion Matrix"
   ]
  },
  {
   "cell_type": "code",
   "execution_count": 19,
   "metadata": {},
   "outputs": [],
   "source": [
    "plt.rcParams[\"font.family\"] = \"serif\"\n",
    "plt.rcParams[\"font.serif\"] = [\"Times New Roman\"] + plt.rcParams[\"font.serif\"]\n",
    "plt.rcParams['pdf.fonttype'] = 42\n",
    "plt.rcParams['pdf.use14corefonts'] = True"
   ]
  },
  {
   "cell_type": "code",
   "execution_count": 20,
   "metadata": {},
   "outputs": [
    {
     "data": {
      "image/png": "[encoded data removed]",
      "text/plain": [
       "<Figure size 648x648 with 1 Axes>"
      ]
     },
     "metadata": {
      "needs_background": "light"
     },
     "output_type": "display_data"
    }
   ],
   "source": [
    "cm = metrics.confusion_matrix(np.argmax(np.array(list(elp_df['code'])), axis=1), np.argmax(full_dataset_predictions, axis=1))\n",
    "plt.figure(figsize=(9,9))\n",
    "hm = sns.heatmap(cm, annot=True, fmt=\".0f\", cbar=False, linewidths=.5, square = True, cmap = 'Blues_r',\n",
    "            annot_kws={\n",
    "                'fontsize': 16,\n",
    "                'fontweight': 'bold'\n",
    "            });\n",
    "hm.set_xticklabels(hm.get_xmajorticklabels(), fontsize = 14)\n",
    "hm.set_yticklabels(hm.get_ymajorticklabels(), fontsize = 14)\n",
    "hm.set_xlabel('Actual label', fontsize=18);\n",
    "hm.set_ylabel('Predicted label', fontsize=18);\n",
    "all_sample_title = 'Accuracy Score: {0}'.format(acc_score)\n",
    "plt.title(all_sample_title, size = 20);\n",
    "plt.savefig('./Plots/FC-RDM/confusion matrix.pdf')"
   ]
  },
  {
   "cell_type": "markdown",
   "metadata": {},
   "source": [
    "#### Pridected Probabilites for each words category and non-words"
   ]
  },
  {
   "cell_type": "code",
   "execution_count": 21,
   "metadata": {
    "id": "guNpoFvjB8sP"
   },
   "outputs": [],
   "source": [
    "elp_df['word_prob'] = full_dataset_predictions[:,0]\n",
    "elp_df['nword_prob'] = full_dataset_predictions[:,1]"
   ]
  },
  {
   "cell_type": "code",
   "execution_count": 22,
   "metadata": {
    "colab": {
     "base_uri": "https://localhost:8080/",
     "height": 206
    },
    "executionInfo": {
     "elapsed": 13,
     "status": "ok",
     "timestamp": 1656239008647,
     "user": {
      "displayName": "Arash Dadras",
      "userId": "05722346836148265544"
     },
     "user_tz": -270
    },
    "id": "gADp8COsFSGt",
    "outputId": "ef221ce0-913c-43d7-ea71-b7beefc6273d"
   },
   "outputs": [
    {
     "data": {
      "text/html": [
       "<div>\n",
       "<style scoped>\n",
       "    .dataframe tbody tr th:only-of-type {\n",
       "        vertical-align: middle;\n",
       "    }\n",
       "\n",
       "    .dataframe tbody tr th {\n",
       "        vertical-align: top;\n",
       "    }\n",
       "\n",
       "    .dataframe thead tr th {\n",
       "        text-align: left;\n",
       "    }\n",
       "\n",
       "    .dataframe thead tr:last-of-type th {\n",
       "        text-align: right;\n",
       "    }\n",
       "</style>\n",
       "<table border=\"1\" class=\"dataframe\">\n",
       "  <thead>\n",
       "    <tr>\n",
       "      <th></th>\n",
       "      <th colspan=\"5\" halign=\"left\">word_prob</th>\n",
       "      <th colspan=\"5\" halign=\"left\">nword_prob</th>\n",
       "    </tr>\n",
       "    <tr>\n",
       "      <th></th>\n",
       "      <th>mean</th>\n",
       "      <th>std</th>\n",
       "      <th>count</th>\n",
       "      <th>max</th>\n",
       "      <th>min</th>\n",
       "      <th>mean</th>\n",
       "      <th>std</th>\n",
       "      <th>count</th>\n",
       "      <th>max</th>\n",
       "      <th>min</th>\n",
       "    </tr>\n",
       "    <tr>\n",
       "      <th>category</th>\n",
       "      <th></th>\n",
       "      <th></th>\n",
       "      <th></th>\n",
       "      <th></th>\n",
       "      <th></th>\n",
       "      <th></th>\n",
       "      <th></th>\n",
       "      <th></th>\n",
       "      <th></th>\n",
       "      <th></th>\n",
       "    </tr>\n",
       "  </thead>\n",
       "  <tbody>\n",
       "    <tr>\n",
       "      <th>HF</th>\n",
       "      <td>0.993825</td>\n",
       "      <td>0.045265</td>\n",
       "      <td>14333</td>\n",
       "      <td>1.000000</td>\n",
       "      <td>1.943495e-07</td>\n",
       "      <td>0.006175</td>\n",
       "      <td>0.045265</td>\n",
       "      <td>14333</td>\n",
       "      <td>1.0</td>\n",
       "      <td>0.000000e+00</td>\n",
       "    </tr>\n",
       "    <tr>\n",
       "      <th>LF</th>\n",
       "      <td>0.985078</td>\n",
       "      <td>0.070747</td>\n",
       "      <td>19645</td>\n",
       "      <td>1.000000</td>\n",
       "      <td>4.057632e-09</td>\n",
       "      <td>0.014922</td>\n",
       "      <td>0.070747</td>\n",
       "      <td>19645</td>\n",
       "      <td>1.0</td>\n",
       "      <td>2.174103e-13</td>\n",
       "    </tr>\n",
       "    <tr>\n",
       "      <th>NW</th>\n",
       "      <td>0.004132</td>\n",
       "      <td>0.048095</td>\n",
       "      <td>40339</td>\n",
       "      <td>0.999901</td>\n",
       "      <td>3.705111e-34</td>\n",
       "      <td>0.995868</td>\n",
       "      <td>0.048095</td>\n",
       "      <td>40339</td>\n",
       "      <td>1.0</td>\n",
       "      <td>9.880379e-05</td>\n",
       "    </tr>\n",
       "  </tbody>\n",
       "</table>\n",
       "</div>"
      ],
      "text/plain": [
       "         word_prob                                          nword_prob  \\\n",
       "              mean       std  count       max           min       mean   \n",
       "category                                                                 \n",
       "HF        0.993825  0.045265  14333  1.000000  1.943495e-07   0.006175   \n",
       "LF        0.985078  0.070747  19645  1.000000  4.057632e-09   0.014922   \n",
       "NW        0.004132  0.048095  40339  0.999901  3.705111e-34   0.995868   \n",
       "\n",
       "                                              \n",
       "               std  count  max           min  \n",
       "category                                      \n",
       "HF        0.045265  14333  1.0  0.000000e+00  \n",
       "LF        0.070747  19645  1.0  2.174103e-13  \n",
       "NW        0.048095  40339  1.0  9.880379e-05  "
      ]
     },
     "execution_count": 22,
     "metadata": {},
     "output_type": "execute_result"
    }
   ],
   "source": [
    "elp_df.groupby(['category']).agg({'word_prob': ['mean', 'std', 'count', 'max', 'min'], 'nword_prob': ['mean', 'std', 'count', 'max', 'min']})"
   ]
  },
  {
   "cell_type": "markdown",
   "metadata": {
    "id": "Oy1FRAqGB8sO",
    "tags": []
   },
   "source": [
    "## Save Predicted Probabilities of full dataset\n"
   ]
  },
  {
   "cell_type": "code",
   "execution_count": 23,
   "metadata": {
    "id": "rHZBOiHZNyjd"
   },
   "outputs": [],
   "source": [
    "elp_df_to_save = elp_df.drop(['represention', 'code'], axis=1)"
   ]
  },
  {
   "cell_type": "code",
   "execution_count": 24,
   "metadata": {},
   "outputs": [
    {
     "data": {
      "text/html": [
       "<div>\n",
       "<style scoped>\n",
       "    .dataframe tbody tr th:only-of-type {\n",
       "        vertical-align: middle;\n",
       "    }\n",
       "\n",
       "    .dataframe tbody tr th {\n",
       "        vertical-align: top;\n",
       "    }\n",
       "\n",
       "    .dataframe thead th {\n",
       "        text-align: right;\n",
       "    }\n",
       "</style>\n",
       "<table border=\"1\" class=\"dataframe\">\n",
       "  <thead>\n",
       "    <tr style=\"text-align: right;\">\n",
       "      <th></th>\n",
       "      <th>string</th>\n",
       "      <th>freq</th>\n",
       "      <th>label</th>\n",
       "      <th>zipf</th>\n",
       "      <th>category</th>\n",
       "      <th>word_prob</th>\n",
       "      <th>nword_prob</th>\n",
       "    </tr>\n",
       "  </thead>\n",
       "  <tbody>\n",
       "    <tr>\n",
       "      <th>7852</th>\n",
       "      <td>cornbread</td>\n",
       "      <td>140</td>\n",
       "      <td>1</td>\n",
       "      <td>2.963932</td>\n",
       "      <td>LF</td>\n",
       "      <td>9.994057e-01</td>\n",
       "      <td>0.000594</td>\n",
       "    </tr>\n",
       "    <tr>\n",
       "      <th>25149</th>\n",
       "      <td>pains</td>\n",
       "      <td>2259</td>\n",
       "      <td>1</td>\n",
       "      <td>3.723198</td>\n",
       "      <td>HF</td>\n",
       "      <td>9.999964e-01</td>\n",
       "      <td>0.000004</td>\n",
       "    </tr>\n",
       "    <tr>\n",
       "      <th>28427</th>\n",
       "      <td>quivers</td>\n",
       "      <td>84</td>\n",
       "      <td>1</td>\n",
       "      <td>2.467925</td>\n",
       "      <td>LF</td>\n",
       "      <td>9.949028e-01</td>\n",
       "      <td>0.005097</td>\n",
       "    </tr>\n",
       "    <tr>\n",
       "      <th>8694</th>\n",
       "      <td>cutback</td>\n",
       "      <td>67</td>\n",
       "      <td>1</td>\n",
       "      <td>2.547107</td>\n",
       "      <td>LF</td>\n",
       "      <td>9.994540e-01</td>\n",
       "      <td>0.000546</td>\n",
       "    </tr>\n",
       "    <tr>\n",
       "      <th>22718</th>\n",
       "      <td>pourn</td>\n",
       "      <td>0</td>\n",
       "      <td>0</td>\n",
       "      <td>0.000000</td>\n",
       "      <td>NW</td>\n",
       "      <td>7.554672e-06</td>\n",
       "      <td>0.999992</td>\n",
       "    </tr>\n",
       "    <tr>\n",
       "      <th>...</th>\n",
       "      <td>...</td>\n",
       "      <td>...</td>\n",
       "      <td>...</td>\n",
       "      <td>...</td>\n",
       "      <td>...</td>\n",
       "      <td>...</td>\n",
       "      <td>...</td>\n",
       "    </tr>\n",
       "    <tr>\n",
       "      <th>2700</th>\n",
       "      <td>beacan</td>\n",
       "      <td>0</td>\n",
       "      <td>0</td>\n",
       "      <td>0.000000</td>\n",
       "      <td>NW</td>\n",
       "      <td>1.223383e-08</td>\n",
       "      <td>1.000000</td>\n",
       "    </tr>\n",
       "    <tr>\n",
       "      <th>38349</th>\n",
       "      <td>unsold</td>\n",
       "      <td>255</td>\n",
       "      <td>1</td>\n",
       "      <td>2.194924</td>\n",
       "      <td>LF</td>\n",
       "      <td>9.999645e-01</td>\n",
       "      <td>0.000035</td>\n",
       "    </tr>\n",
       "    <tr>\n",
       "      <th>17673</th>\n",
       "      <td>imitating</td>\n",
       "      <td>469</td>\n",
       "      <td>1</td>\n",
       "      <td>3.260317</td>\n",
       "      <td>HF</td>\n",
       "      <td>9.998357e-01</td>\n",
       "      <td>0.000164</td>\n",
       "    </tr>\n",
       "    <tr>\n",
       "      <th>12510</th>\n",
       "      <td>evidence</td>\n",
       "      <td>62334</td>\n",
       "      <td>1</td>\n",
       "      <td>4.928923</td>\n",
       "      <td>HF</td>\n",
       "      <td>9.994597e-01</td>\n",
       "      <td>0.000540</td>\n",
       "    </tr>\n",
       "    <tr>\n",
       "      <th>32248</th>\n",
       "      <td>vites</td>\n",
       "      <td>0</td>\n",
       "      <td>0</td>\n",
       "      <td>0.000000</td>\n",
       "      <td>NW</td>\n",
       "      <td>5.213175e-09</td>\n",
       "      <td>1.000000</td>\n",
       "    </tr>\n",
       "  </tbody>\n",
       "</table>\n",
       "<p>74317 rows × 7 columns</p>\n",
       "</div>"
      ],
      "text/plain": [
       "          string   freq  label      zipf category     word_prob  nword_prob\n",
       "7852   cornbread    140      1  2.963932       LF  9.994057e-01    0.000594\n",
       "25149      pains   2259      1  3.723198       HF  9.999964e-01    0.000004\n",
       "28427    quivers     84      1  2.467925       LF  9.949028e-01    0.005097\n",
       "8694     cutback     67      1  2.547107       LF  9.994540e-01    0.000546\n",
       "22718      pourn      0      0  0.000000       NW  7.554672e-06    0.999992\n",
       "...          ...    ...    ...       ...      ...           ...         ...\n",
       "2700      beacan      0      0  0.000000       NW  1.223383e-08    1.000000\n",
       "38349     unsold    255      1  2.194924       LF  9.999645e-01    0.000035\n",
       "17673  imitating    469      1  3.260317       HF  9.998357e-01    0.000164\n",
       "12510   evidence  62334      1  4.928923       HF  9.994597e-01    0.000540\n",
       "32248      vites      0      0  0.000000       NW  5.213175e-09    1.000000\n",
       "\n",
       "[74317 rows x 7 columns]"
      ]
     },
     "execution_count": 24,
     "metadata": {},
     "output_type": "execute_result"
    }
   ],
   "source": [
    "elp_df_to_save"
   ]
  },
  {
   "cell_type": "code",
   "execution_count": 26,
   "metadata": {
    "id": "1EfLZdnjNyg9"
   },
   "outputs": [],
   "source": [
    "elp_df_to_save.to_csv(root+\"Datasets/fastText_subtlex_FC.csv\", header=0, index=False)"
   ]
  }
 ],
 "metadata": {
  "colab": {
   "collapsed_sections": [],
   "name": "FastWord_Network.ipynb",
   "provenance": []
  },
  "gpuClass": "standard",
  "kernelspec": {
   "display_name": "ML",
   "language": "python",
   "name": "ml"
  },
  "language_info": {
   "codemirror_mode": {
    "name": "ipython",
    "version": 3
   },
   "file_extension": ".py",
   "mimetype": "text/x-python",
   "name": "python",
   "nbconvert_exporter": "python",
   "pygments_lexer": "ipython3",
   "version": "3.10.4"
  }
 },
 "nbformat": 4,
 "nbformat_minor": 4
}

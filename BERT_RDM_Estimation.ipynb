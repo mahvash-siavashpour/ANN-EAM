{
 "cells": [
  {
   "cell_type": "markdown",
   "id": "dbf5ed11-783c-476d-b190-95c7356783ca",
   "metadata": {},
   "source": [
    "## Setting file paths"
   ]
  },
  {
   "cell_type": "markdown",
   "id": "4033aec0-1a29-4288-9d01-314bbedae399",
   "metadata": {},
   "source": [
    "#### FC-RDM Model "
   ]
  },
  {
   "cell_type": "code",
   "execution_count": 1,
   "id": "b293a760",
   "metadata": {
    "executionInfo": {
     "elapsed": 3132,
     "status": "ok",
     "timestamp": 1651313245379,
     "user": {
      "displayName": "Arash Dadras",
      "userId": "05722346836148265544"
     },
     "user_tz": -270
    },
    "id": "9f9375de-32ee-4410-b62e-6e0bb33b716b"
   },
   "outputs": [],
   "source": [
    "root = './'\n",
    "plots_root = root + 'Plots/'\n",
    "datasets_root = root + 'Datasets/'\n",
    "behavioural_data_root = root +  'behavioral_data/selected_data/' \n",
    "stan_files_root = root +  'stan files/' \n",
    "saved_models_root = root + 'stan_results/'\n",
    "\n",
    "plots_folder_name = 'BERT-RDM/'\n",
    "dataset_name = 'BERT.csv'\n",
    "stan_file_name = 'RDM_hier_2k_beta_f.stan'\n",
    "saved_model_name = 'BERT'\n",
    "\n",
    "plots_path = plots_root + plots_folder_name\n",
    "dataset_path = datasets_root + dataset_name\n",
    "stan_file_path = stan_files_root + stan_file_name\n",
    "saved_model_path = saved_models_root + saved_model_name  + '.pkl'"
   ]
  },
  {
   "cell_type": "markdown",
   "id": "e62ec4f7",
   "metadata": {
    "id": "04ab4fbd-f191-427a-a2e4-db4ff76fa385"
   },
   "source": [
    "## Importing Packages"
   ]
  },
  {
   "cell_type": "code",
   "execution_count": 2,
   "id": "5816c3bf",
   "metadata": {
    "executionInfo": {
     "elapsed": 3102,
     "status": "ok",
     "timestamp": 1651313252929,
     "user": {
      "displayName": "Arash Dadras",
      "userId": "05722346836148265544"
     },
     "user_tz": -270
    },
    "id": "42e504d1-66bf-459a-bdee-ef0f268a7b81"
   },
   "outputs": [
    {
     "name": "stderr",
     "output_type": "stream",
     "text": [
      "\n",
      "Bad key \"text.kerning_factor\" on line 4 in\n",
      "/home/a.dadras/.conda/envs/ANNDDM/lib/python3.7/site-packages/matplotlib/mpl-data/stylelib/_classic_test_patch.mplstyle.\n",
      "You probably need to get an updated matplotlibrc file from\n",
      "https://github.com/matplotlib/matplotlib/blob/v3.1.2/matplotlibrc.template\n",
      "or from the matplotlib source distribution\n"
     ]
    }
   ],
   "source": [
    "import numpy as np\n",
    "import pandas as pd\n",
    "import pystan\n",
    "import rlssm\n",
    "import pickle\n",
    "import matplotlib.pyplot as plt\n",
    "import seaborn as sns\n",
    "import arviz as az\n",
    "\n",
    "from scipy.stats import gaussian_kde\n",
    "\n",
    "sns.set_theme(style=\"whitegrid\")"
   ]
  },
  {
   "cell_type": "markdown",
   "id": "00e617f6",
   "metadata": {
    "id": "123c4809-7b46-4f8d-b578-0d5e9fb5fbe7"
   },
   "source": [
    "## Prepare data"
   ]
  },
  {
   "cell_type": "markdown",
   "id": "13d41247-a08b-4710-a8cb-006ca5ace314",
   "metadata": {},
   "source": [
    "Loading words and non-words with zipf and predicted probabilities"
   ]
  },
  {
   "cell_type": "code",
   "execution_count": 3,
   "id": "5e6417ff",
   "metadata": {
    "colab": {
     "base_uri": "https://localhost:8080/",
     "height": 0
    },
    "executionInfo": {
     "elapsed": 61,
     "status": "ok",
     "timestamp": 1651313252934,
     "user": {
      "displayName": "Arash Dadras",
      "userId": "05722346836148265544"
     },
     "user_tz": -270
    },
    "id": "72172233-0e82-4058-8a5c-8657e9fe4693",
    "outputId": "35336463-3bb2-41e5-c84f-7c34fdcfc77d",
    "tags": []
   },
   "outputs": [
    {
     "data": {
      "text/html": [
       "<div>\n",
       "<style scoped>\n",
       "    .dataframe tbody tr th:only-of-type {\n",
       "        vertical-align: middle;\n",
       "    }\n",
       "\n",
       "    .dataframe tbody tr th {\n",
       "        vertical-align: top;\n",
       "    }\n",
       "\n",
       "    .dataframe thead th {\n",
       "        text-align: right;\n",
       "    }\n",
       "</style>\n",
       "<table border=\"1\" class=\"dataframe\">\n",
       "  <thead>\n",
       "    <tr style=\"text-align: right;\">\n",
       "      <th></th>\n",
       "      <th>string</th>\n",
       "      <th>freq</th>\n",
       "      <th>label</th>\n",
       "      <th>zipf</th>\n",
       "      <th>category</th>\n",
       "      <th>word_prob</th>\n",
       "      <th>non_word_prob</th>\n",
       "    </tr>\n",
       "  </thead>\n",
       "  <tbody>\n",
       "    <tr>\n",
       "      <th>0</th>\n",
       "      <td>simples</td>\n",
       "      <td>141</td>\n",
       "      <td>1</td>\n",
       "      <td>1.592864</td>\n",
       "      <td>LF</td>\n",
       "      <td>0.386628</td>\n",
       "      <td>0.613372</td>\n",
       "    </tr>\n",
       "    <tr>\n",
       "      <th>1</th>\n",
       "      <td>fluggish</td>\n",
       "      <td>0</td>\n",
       "      <td>0</td>\n",
       "      <td>0.000000</td>\n",
       "      <td>NW</td>\n",
       "      <td>0.652770</td>\n",
       "      <td>0.347230</td>\n",
       "    </tr>\n",
       "    <tr>\n",
       "      <th>2</th>\n",
       "      <td>iddustrious</td>\n",
       "      <td>0</td>\n",
       "      <td>0</td>\n",
       "      <td>0.000000</td>\n",
       "      <td>NW</td>\n",
       "      <td>0.034733</td>\n",
       "      <td>0.965267</td>\n",
       "    </tr>\n",
       "    <tr>\n",
       "      <th>3</th>\n",
       "      <td>paste</td>\n",
       "      <td>6656</td>\n",
       "      <td>1</td>\n",
       "      <td>3.236317</td>\n",
       "      <td>LF</td>\n",
       "      <td>0.974957</td>\n",
       "      <td>0.025043</td>\n",
       "    </tr>\n",
       "    <tr>\n",
       "      <th>4</th>\n",
       "      <td>furtively</td>\n",
       "      <td>76</td>\n",
       "      <td>1</td>\n",
       "      <td>1.768955</td>\n",
       "      <td>LF</td>\n",
       "      <td>0.541270</td>\n",
       "      <td>0.458730</td>\n",
       "    </tr>\n",
       "    <tr>\n",
       "      <th>...</th>\n",
       "      <td>...</td>\n",
       "      <td>...</td>\n",
       "      <td>...</td>\n",
       "      <td>...</td>\n",
       "      <td>...</td>\n",
       "      <td>...</td>\n",
       "      <td>...</td>\n",
       "    </tr>\n",
       "    <tr>\n",
       "      <th>74312</th>\n",
       "      <td>rattered</td>\n",
       "      <td>0</td>\n",
       "      <td>0</td>\n",
       "      <td>0.000000</td>\n",
       "      <td>NW</td>\n",
       "      <td>0.650757</td>\n",
       "      <td>0.349243</td>\n",
       "    </tr>\n",
       "    <tr>\n",
       "      <th>74313</th>\n",
       "      <td>madrogals</td>\n",
       "      <td>0</td>\n",
       "      <td>0</td>\n",
       "      <td>0.000000</td>\n",
       "      <td>NW</td>\n",
       "      <td>0.256779</td>\n",
       "      <td>0.743221</td>\n",
       "    </tr>\n",
       "    <tr>\n",
       "      <th>74314</th>\n",
       "      <td>derandas</td>\n",
       "      <td>0</td>\n",
       "      <td>0</td>\n",
       "      <td>0.000000</td>\n",
       "      <td>NW</td>\n",
       "      <td>0.007479</td>\n",
       "      <td>0.992521</td>\n",
       "    </tr>\n",
       "    <tr>\n",
       "      <th>74315</th>\n",
       "      <td>pressuraze</td>\n",
       "      <td>0</td>\n",
       "      <td>0</td>\n",
       "      <td>0.000000</td>\n",
       "      <td>NW</td>\n",
       "      <td>0.401949</td>\n",
       "      <td>0.598051</td>\n",
       "    </tr>\n",
       "    <tr>\n",
       "      <th>74316</th>\n",
       "      <td>haptized</td>\n",
       "      <td>0</td>\n",
       "      <td>0</td>\n",
       "      <td>0.000000</td>\n",
       "      <td>NW</td>\n",
       "      <td>0.271787</td>\n",
       "      <td>0.728213</td>\n",
       "    </tr>\n",
       "  </tbody>\n",
       "</table>\n",
       "<p>74317 rows × 7 columns</p>\n",
       "</div>"
      ],
      "text/plain": [
       "            string  freq  label      zipf category  word_prob  non_word_prob\n",
       "0          simples   141      1  1.592864       LF   0.386628       0.613372\n",
       "1         fluggish     0      0  0.000000       NW   0.652770       0.347230\n",
       "2      iddustrious     0      0  0.000000       NW   0.034733       0.965267\n",
       "3            paste  6656      1  3.236317       LF   0.974957       0.025043\n",
       "4        furtively    76      1  1.768955       LF   0.541270       0.458730\n",
       "...            ...   ...    ...       ...      ...        ...            ...\n",
       "74312     rattered     0      0  0.000000       NW   0.650757       0.349243\n",
       "74313    madrogals     0      0  0.000000       NW   0.256779       0.743221\n",
       "74314     derandas     0      0  0.000000       NW   0.007479       0.992521\n",
       "74315   pressuraze     0      0  0.000000       NW   0.401949       0.598051\n",
       "74316     haptized     0      0  0.000000       NW   0.271787       0.728213\n",
       "\n",
       "[74317 rows x 7 columns]"
      ]
     },
     "execution_count": 3,
     "metadata": {},
     "output_type": "execute_result"
    }
   ],
   "source": [
    "word_nword_df = pd.read_csv(dataset_path, header=None, names =['string', 'freq',  'label', 'zipf','category', 'word_prob', 'non_word_prob'])\n",
    "word_nword_df"
   ]
  },
  {
   "cell_type": "code",
   "execution_count": 4,
   "id": "8a061e32-1d3d-40c2-afcf-04de82e44ce5",
   "metadata": {},
   "outputs": [],
   "source": [
    "def remove_outliers(df, max_rt, min_rt, std_c=2.5):\n",
    "    \"\"\"\n",
    "    Returns remove outliers from dataframes. Outlier RTs are bigger than\n",
    "    max_rt and smaller than min_rt. Also RTsthat are out of -/+ (std_c * sd) \n",
    "    of mean RT interval are considered as outliers too.\n",
    "\n",
    "    Parameters\n",
    "    ----------\n",
    "        df: pandas dataframe with rt column\n",
    "        max_rt (float): maximum acceptable rt\n",
    "        min_rt (float): minimum acceptable rt\n",
    "        \n",
    "    Optional Parameters\n",
    "    ----------\n",
    "        std_c (float) : Optional\n",
    "            coefficient to define interval of non-outlier RTs\n",
    "    \n",
    "    Returns\n",
    "    -------\n",
    "        df: pandas dataframe without outliers  \n",
    "    \"\"\"\n",
    "    mean = df['rt'].mean()\n",
    "    sd = df['rt'].std()\n",
    "    lower_thr = mean - std_c*sd\n",
    "    upper_thr = mean + std_c*sd\n",
    "    min_bound = max(min_rt, lower_thr)\n",
    "    max_bound = min(max_rt, upper_thr)\n",
    "    df = df[df['rt'] >= min_bound]\n",
    "    df = df[df['rt'] <= max_bound]\n",
    "    return df"
   ]
  },
  {
   "cell_type": "markdown",
   "id": "07cf7c47-7fd4-4bdb-880b-5a52a2b7be4b",
   "metadata": {},
   "source": [
    "Reading and modifing each behavioral data file and combining all of them into a single behavioral dataframe"
   ]
  },
  {
   "cell_type": "code",
   "execution_count": 6,
   "id": "af1a914e",
   "metadata": {
    "executionInfo": {
     "elapsed": 56,
     "status": "ok",
     "timestamp": 1651313252936,
     "user": {
      "displayName": "Arash Dadras",
      "userId": "05722346836148265544"
     },
     "user_tz": -270
    },
    "id": "eb864830-ecb7-48f1-a071-f00173154216"
   },
   "outputs": [],
   "source": [
    "Number_Of_Participants = 10\n",
    "Number_Of_Trials = 400\n",
    "dataframes = []\n",
    "\n",
    "for i in range(Number_Of_Participants):\n",
    "    # Loading each file\n",
    "    df = pd.read_csv(behavioural_data_root + str(i+1) + \"DATA.LDT\", names=['trial', 'string_id', 'string_type', 'accuracy', 'rt', 'string'])\n",
    "    # Dropping non rows and first two rows that are demographic informations \n",
    "    df = df.dropna().drop('string_id', axis=1).drop([0, 1]).iloc[:Number_Of_Trials] \n",
    "    # Converting columns type to suitable data types\n",
    "    convert_dict = {'string_type': 'int16',\n",
    "                    'accuracy': 'int16',\n",
    "                    'rt': float\n",
    "                   }\n",
    "\n",
    "    df = df.astype(convert_dict)\n",
    "    # Convert RTs to seconds\n",
    "    df['rt'] = df['rt'].apply(lambda x: x/1000) \n",
    "    # Removing Outliers\n",
    "    df = remove_outliers(df, 3, .2, 2.5)\n",
    "    # Extracting response of participant from his/her accuracy\n",
    "    df['response'] = np.logical_not(np.logical_xor(df['string_type'], df['accuracy'])).astype('int')\n",
    "    df = df.reset_index(drop=True)\n",
    "    # Particpant number\n",
    "    df['participant'] = i+1\n",
    "    # Minimum RT of participant in all trials (is needed for stan code)\n",
    "    df['minRT'] = df['rt'].min()\n",
    "    dataframes.append(df)"
   ]
  },
  {
   "cell_type": "code",
   "execution_count": 7,
   "id": "4fb6266a",
   "metadata": {
    "executionInfo": {
     "elapsed": 56,
     "status": "ok",
     "timestamp": 1651313252938,
     "user": {
      "displayName": "Arash Dadras",
      "userId": "05722346836148265544"
     },
     "user_tz": -270
    },
    "id": "f37d4118-f2ea-4691-bff9-02f1ac1cebbc"
   },
   "outputs": [],
   "source": [
    "# Combining dataframes\n",
    "behavioural_df = pd.concat(dataframes)\n",
    "# Merging  behavioral dataframe with word_nonword_df to have words and non-words data with behavioral data\n",
    "behavioural_df = pd.merge(behavioural_df, word_nword_df, on='string', how='left').dropna().reset_index(drop=True)\n",
    "behavioural_df = behavioural_df.drop([\"trial\", \"string_type\", \"freq\"], axis=1)"
   ]
  },
  {
   "cell_type": "code",
   "execution_count": 8,
   "id": "07c791ac-26e5-4ee4-929e-379e1b3248df",
   "metadata": {},
   "outputs": [
    {
     "data": {
      "text/html": [
       "<div>\n",
       "<style scoped>\n",
       "    .dataframe tbody tr th:only-of-type {\n",
       "        vertical-align: middle;\n",
       "    }\n",
       "\n",
       "    .dataframe tbody tr th {\n",
       "        vertical-align: top;\n",
       "    }\n",
       "\n",
       "    .dataframe thead th {\n",
       "        text-align: right;\n",
       "    }\n",
       "</style>\n",
       "<table border=\"1\" class=\"dataframe\">\n",
       "  <thead>\n",
       "    <tr style=\"text-align: right;\">\n",
       "      <th></th>\n",
       "      <th>accuracy</th>\n",
       "      <th>rt</th>\n",
       "      <th>string</th>\n",
       "      <th>response</th>\n",
       "      <th>participant</th>\n",
       "      <th>minRT</th>\n",
       "      <th>label</th>\n",
       "      <th>zipf</th>\n",
       "      <th>category</th>\n",
       "      <th>word_prob</th>\n",
       "      <th>non_word_prob</th>\n",
       "    </tr>\n",
       "  </thead>\n",
       "  <tbody>\n",
       "    <tr>\n",
       "      <th>0</th>\n",
       "      <td>0</td>\n",
       "      <td>0.707</td>\n",
       "      <td>bookie</td>\n",
       "      <td>0</td>\n",
       "      <td>1</td>\n",
       "      <td>0.412</td>\n",
       "      <td>1.0</td>\n",
       "      <td>3.409105</td>\n",
       "      <td>LF</td>\n",
       "      <td>0.765460</td>\n",
       "      <td>0.234540</td>\n",
       "    </tr>\n",
       "    <tr>\n",
       "      <th>1</th>\n",
       "      <td>1</td>\n",
       "      <td>0.769</td>\n",
       "      <td>gandbrake</td>\n",
       "      <td>0</td>\n",
       "      <td>1</td>\n",
       "      <td>0.412</td>\n",
       "      <td>0.0</td>\n",
       "      <td>0.000000</td>\n",
       "      <td>NW</td>\n",
       "      <td>0.196695</td>\n",
       "      <td>0.803305</td>\n",
       "    </tr>\n",
       "    <tr>\n",
       "      <th>2</th>\n",
       "      <td>1</td>\n",
       "      <td>0.526</td>\n",
       "      <td>philosophical</td>\n",
       "      <td>1</td>\n",
       "      <td>1</td>\n",
       "      <td>0.412</td>\n",
       "      <td>1.0</td>\n",
       "      <td>3.205648</td>\n",
       "      <td>LF</td>\n",
       "      <td>0.929074</td>\n",
       "      <td>0.070926</td>\n",
       "    </tr>\n",
       "    <tr>\n",
       "      <th>3</th>\n",
       "      <td>0</td>\n",
       "      <td>0.510</td>\n",
       "      <td>umbeaten</td>\n",
       "      <td>1</td>\n",
       "      <td>1</td>\n",
       "      <td>0.412</td>\n",
       "      <td>0.0</td>\n",
       "      <td>0.000000</td>\n",
       "      <td>NW</td>\n",
       "      <td>0.108697</td>\n",
       "      <td>0.891303</td>\n",
       "    </tr>\n",
       "    <tr>\n",
       "      <th>4</th>\n",
       "      <td>1</td>\n",
       "      <td>0.512</td>\n",
       "      <td>belonging</td>\n",
       "      <td>1</td>\n",
       "      <td>1</td>\n",
       "      <td>0.412</td>\n",
       "      <td>1.0</td>\n",
       "      <td>3.317140</td>\n",
       "      <td>LF</td>\n",
       "      <td>0.990028</td>\n",
       "      <td>0.009972</td>\n",
       "    </tr>\n",
       "  </tbody>\n",
       "</table>\n",
       "</div>"
      ],
      "text/plain": [
       "   accuracy     rt         string  response  participant  minRT  label  \\\n",
       "0         0  0.707         bookie         0            1  0.412    1.0   \n",
       "1         1  0.769      gandbrake         0            1  0.412    0.0   \n",
       "2         1  0.526  philosophical         1            1  0.412    1.0   \n",
       "3         0  0.510       umbeaten         1            1  0.412    0.0   \n",
       "4         1  0.512      belonging         1            1  0.412    1.0   \n",
       "\n",
       "       zipf category  word_prob  non_word_prob  \n",
       "0  3.409105       LF   0.765460       0.234540  \n",
       "1  0.000000       NW   0.196695       0.803305  \n",
       "2  3.205648       LF   0.929074       0.070926  \n",
       "3  0.000000       NW   0.108697       0.891303  \n",
       "4  3.317140       LF   0.990028       0.009972  "
      ]
     },
     "execution_count": 8,
     "metadata": {},
     "output_type": "execute_result"
    }
   ],
   "source": [
    "behavioural_df.head()"
   ]
  },
  {
   "cell_type": "markdown",
   "id": "159dddd5-c8a8-4c1a-8c48-9882ee452eb2",
   "metadata": {},
   "source": [
    "Predicted probabilities of words and non-words in different conditions in all trials\n",
    "across participants"
   ]
  },
  {
   "cell_type": "code",
   "execution_count": 9,
   "id": "6c1441c1-4928-4675-92a0-bac19c71fa98",
   "metadata": {},
   "outputs": [
    {
     "data": {
      "text/html": [
       "<div>\n",
       "<style scoped>\n",
       "    .dataframe tbody tr th:only-of-type {\n",
       "        vertical-align: middle;\n",
       "    }\n",
       "\n",
       "    .dataframe tbody tr th {\n",
       "        vertical-align: top;\n",
       "    }\n",
       "\n",
       "    .dataframe thead tr th {\n",
       "        text-align: left;\n",
       "    }\n",
       "\n",
       "    .dataframe thead tr:last-of-type th {\n",
       "        text-align: right;\n",
       "    }\n",
       "</style>\n",
       "<table border=\"1\" class=\"dataframe\">\n",
       "  <thead>\n",
       "    <tr>\n",
       "      <th></th>\n",
       "      <th colspan=\"5\" halign=\"left\">word_prob</th>\n",
       "      <th colspan=\"5\" halign=\"left\">non_word_prob</th>\n",
       "    </tr>\n",
       "    <tr>\n",
       "      <th></th>\n",
       "      <th>mean</th>\n",
       "      <th>std</th>\n",
       "      <th>count</th>\n",
       "      <th>max</th>\n",
       "      <th>min</th>\n",
       "      <th>mean</th>\n",
       "      <th>std</th>\n",
       "      <th>count</th>\n",
       "      <th>max</th>\n",
       "      <th>min</th>\n",
       "    </tr>\n",
       "    <tr>\n",
       "      <th>category</th>\n",
       "      <th></th>\n",
       "      <th></th>\n",
       "      <th></th>\n",
       "      <th></th>\n",
       "      <th></th>\n",
       "      <th></th>\n",
       "      <th></th>\n",
       "      <th></th>\n",
       "      <th></th>\n",
       "      <th></th>\n",
       "    </tr>\n",
       "  </thead>\n",
       "  <tbody>\n",
       "    <tr>\n",
       "      <th>HF</th>\n",
       "      <td>0.916930</td>\n",
       "      <td>0.118660</td>\n",
       "      <td>197</td>\n",
       "      <td>0.999876</td>\n",
       "      <td>0.271366</td>\n",
       "      <td>0.083070</td>\n",
       "      <td>0.118660</td>\n",
       "      <td>197</td>\n",
       "      <td>0.728634</td>\n",
       "      <td>0.000124</td>\n",
       "    </tr>\n",
       "    <tr>\n",
       "      <th>LF</th>\n",
       "      <td>0.776781</td>\n",
       "      <td>0.242393</td>\n",
       "      <td>1462</td>\n",
       "      <td>0.999801</td>\n",
       "      <td>0.012417</td>\n",
       "      <td>0.223219</td>\n",
       "      <td>0.242393</td>\n",
       "      <td>1462</td>\n",
       "      <td>0.987583</td>\n",
       "      <td>0.000199</td>\n",
       "    </tr>\n",
       "    <tr>\n",
       "      <th>NW</th>\n",
       "      <td>0.155612</td>\n",
       "      <td>0.207915</td>\n",
       "      <td>1907</td>\n",
       "      <td>0.996567</td>\n",
       "      <td>0.001972</td>\n",
       "      <td>0.844388</td>\n",
       "      <td>0.207915</td>\n",
       "      <td>1907</td>\n",
       "      <td>0.998028</td>\n",
       "      <td>0.003433</td>\n",
       "    </tr>\n",
       "  </tbody>\n",
       "</table>\n",
       "</div>"
      ],
      "text/plain": [
       "         word_prob                                     non_word_prob  \\\n",
       "              mean       std count       max       min          mean   \n",
       "category                                                               \n",
       "HF        0.916930  0.118660   197  0.999876  0.271366      0.083070   \n",
       "LF        0.776781  0.242393  1462  0.999801  0.012417      0.223219   \n",
       "NW        0.155612  0.207915  1907  0.996567  0.001972      0.844388   \n",
       "\n",
       "                                              \n",
       "               std count       max       min  \n",
       "category                                      \n",
       "HF        0.118660   197  0.728634  0.000124  \n",
       "LF        0.242393  1462  0.987583  0.000199  \n",
       "NW        0.207915  1907  0.998028  0.003433  "
      ]
     },
     "execution_count": 9,
     "metadata": {},
     "output_type": "execute_result"
    }
   ],
   "source": [
    "behavioural_df.groupby(['category']).agg({'word_prob': ['mean', 'std', 'count', 'max', 'min'], 'non_word_prob': ['mean', 'std', 'count', 'max', 'min']})"
   ]
  },
  {
   "cell_type": "markdown",
   "id": "d052f5c8-5b10-4c7d-ad5c-27e781c292fb",
   "metadata": {},
   "source": [
    "RT and response description of words and non-words in different conditions in all trials\n",
    "across participants"
   ]
  },
  {
   "cell_type": "code",
   "execution_count": 10,
   "id": "fba3741e-8006-4460-a23d-67445b949a93",
   "metadata": {},
   "outputs": [
    {
     "data": {
      "text/html": [
       "<div>\n",
       "<style scoped>\n",
       "    .dataframe tbody tr th:only-of-type {\n",
       "        vertical-align: middle;\n",
       "    }\n",
       "\n",
       "    .dataframe tbody tr th {\n",
       "        vertical-align: top;\n",
       "    }\n",
       "\n",
       "    .dataframe thead tr th {\n",
       "        text-align: left;\n",
       "    }\n",
       "\n",
       "    .dataframe thead tr:last-of-type th {\n",
       "        text-align: right;\n",
       "    }\n",
       "</style>\n",
       "<table border=\"1\" class=\"dataframe\">\n",
       "  <thead>\n",
       "    <tr>\n",
       "      <th></th>\n",
       "      <th colspan=\"4\" halign=\"left\">rt</th>\n",
       "      <th colspan=\"4\" halign=\"left\">response</th>\n",
       "    </tr>\n",
       "    <tr>\n",
       "      <th></th>\n",
       "      <th>mean</th>\n",
       "      <th>std</th>\n",
       "      <th>max</th>\n",
       "      <th>min</th>\n",
       "      <th>mean</th>\n",
       "      <th>std</th>\n",
       "      <th>max</th>\n",
       "      <th>min</th>\n",
       "    </tr>\n",
       "    <tr>\n",
       "      <th>category</th>\n",
       "      <th></th>\n",
       "      <th></th>\n",
       "      <th></th>\n",
       "      <th></th>\n",
       "      <th></th>\n",
       "      <th></th>\n",
       "      <th></th>\n",
       "      <th></th>\n",
       "    </tr>\n",
       "  </thead>\n",
       "  <tbody>\n",
       "    <tr>\n",
       "      <th>HF</th>\n",
       "      <td>0.607244</td>\n",
       "      <td>0.182378</td>\n",
       "      <td>1.453</td>\n",
       "      <td>0.301</td>\n",
       "      <td>0.994924</td>\n",
       "      <td>0.071247</td>\n",
       "      <td>1</td>\n",
       "      <td>0</td>\n",
       "    </tr>\n",
       "    <tr>\n",
       "      <th>LF</th>\n",
       "      <td>0.737378</td>\n",
       "      <td>0.275658</td>\n",
       "      <td>2.376</td>\n",
       "      <td>0.271</td>\n",
       "      <td>0.867305</td>\n",
       "      <td>0.339361</td>\n",
       "      <td>1</td>\n",
       "      <td>0</td>\n",
       "    </tr>\n",
       "    <tr>\n",
       "      <th>NW</th>\n",
       "      <td>0.810100</td>\n",
       "      <td>0.265811</td>\n",
       "      <td>2.491</td>\n",
       "      <td>0.200</td>\n",
       "      <td>0.123230</td>\n",
       "      <td>0.328787</td>\n",
       "      <td>1</td>\n",
       "      <td>0</td>\n",
       "    </tr>\n",
       "  </tbody>\n",
       "</table>\n",
       "</div>"
      ],
      "text/plain": [
       "                rt                          response                  \n",
       "              mean       std    max    min      mean       std max min\n",
       "category                                                              \n",
       "HF        0.607244  0.182378  1.453  0.301  0.994924  0.071247   1   0\n",
       "LF        0.737378  0.275658  2.376  0.271  0.867305  0.339361   1   0\n",
       "NW        0.810100  0.265811  2.491  0.200  0.123230  0.328787   1   0"
      ]
     },
     "execution_count": 10,
     "metadata": {},
     "output_type": "execute_result"
    }
   ],
   "source": [
    "behavioural_df.groupby(['category']).agg({'rt': ['mean', 'std', 'max', 'min'], 'response': ['mean', 'std', 'max', 'min']})"
   ]
  },
  {
   "cell_type": "markdown",
   "id": "0bc6ff4c",
   "metadata": {
    "id": "ff61f25e-7817-4f3f-a48f-d5a6666b0e75",
    "tags": []
   },
   "source": [
    "## Stan Model and Estimation"
   ]
  },
  {
   "cell_type": "markdown",
   "id": "27aa0a87-ed95-486a-beec-87a50c2f86ef",
   "metadata": {},
   "source": [
    "Compiling stan model"
   ]
  },
  {
   "cell_type": "code",
   "execution_count": 11,
   "id": "60550ee7-157d-4393-9f12-773eb947efce",
   "metadata": {
    "colab": {
     "base_uri": "https://localhost:8080/"
    },
    "executionInfo": {
     "elapsed": 93380,
     "status": "ok",
     "timestamp": 1651313346844,
     "user": {
      "displayName": "Arash Dadras",
      "userId": "05722346836148265544"
     },
     "user_tz": -270
    },
    "id": "c1b3627d-0ea2-49b6-86f0-7b098a5a16d6",
    "outputId": "4bc8643c-82c0-4fc9-99a0-7f232fa1eea4"
   },
   "outputs": [
    {
     "name": "stderr",
     "output_type": "stream",
     "text": [
      "INFO:pystan:COMPILING THE C++ CODE FOR MODEL anon_model_ecf2ea2142dda9448cf351d10cd95b5f NOW.\n"
     ]
    }
   ],
   "source": [
    "rdm_model = pystan.StanModel(file=stan_file_path)"
   ]
  },
  {
   "cell_type": "markdown",
   "id": "b75c8503-9cb2-40c0-ae79-e0e8d386a86f",
   "metadata": {},
   "source": [
    "Preparing model's inputs"
   ]
  },
  {
   "cell_type": "code",
   "execution_count": 12,
   "id": "0361fc9e-7a35-41fc-a377-3b7547842c61",
   "metadata": {
    "executionInfo": {
     "elapsed": 53,
     "status": "ok",
     "timestamp": 1651313346849,
     "user": {
      "displayName": "Arash Dadras",
      "userId": "05722346836148265544"
     },
     "user_tz": -270
    },
    "id": "3e9f42b0-a7b3-476d-8869-958b2155b84c",
    "tags": []
   },
   "outputs": [],
   "source": [
    "N = len(behavioural_df) # number of all trials\n",
    "participant = behavioural_df['participant'].to_numpy() # participants number\n",
    "x = behavioural_df.loc[:, ['word_prob', 'non_word_prob']].to_numpy() # predicted probabilites of words and non-words\n",
    "frequency = behavioural_df['zipf'].to_numpy() # zipf values\n",
    "response = behavioural_df['response'].to_numpy().astype(int) # participants responses\n",
    "rt = behavioural_df['rt'].to_numpy() # participants RTs \n",
    "minRT = behavioural_df['minRT'].to_numpy() # participants min RT                     \n",
    "RTbound = 0\n",
    "\n",
    "threshold_priors = [4, 2, 1, 2] \n",
    "g_priors = [-2, 1, 0, 1] \n",
    "m_priors = [0, 0.5, 0, 1] \n",
    "alpha_priors = [0, 1, 1, 1]\n",
    "b_priors = [0, 1, 1, 1];\n",
    "k_priors = [2, 1, 1, 1]\n",
    "\n",
    "# define input for the model\n",
    "data_dict = {'N': N,\n",
    "             'L': Number_Of_Participants,\n",
    "             'participant': participant,\n",
    "             'x' : x,\n",
    "             'frequency': frequency,\n",
    "             'response': response,\n",
    "             'rt': rt,\n",
    "             'minRT': minRT,\n",
    "             'RTbound': RTbound,\n",
    "             'threshold_priors': threshold_priors,\n",
    "             'g_priors': g_priors,\n",
    "             'm_priors': m_priors,\n",
    "             'alpha_priors': alpha_priors,\n",
    "             'b_priors': b_priors,\n",
    "             'k_priors': k_priors,\n",
    "            }\n",
    "\n",
    "# set sampling parameters\n",
    "n_iter = 1000\n",
    "n_warmup = int(n_iter/2)\n",
    "n_chains = 2"
   ]
  },
  {
   "cell_type": "markdown",
   "id": "f4034d3d-99d8-43bf-b744-6b0608141c8d",
   "metadata": {},
   "source": [
    "Fitting the model"
   ]
  },
  {
   "cell_type": "code",
   "execution_count": 13,
   "id": "f9ddd68e",
   "metadata": {
    "colab": {
     "background_save": true
    },
    "id": "edac015c-18f4-4ebf-8c3c-ecaf4b8e1d6a",
    "scrolled": true,
    "tags": []
   },
   "outputs": [
    {
     "name": "stderr",
     "output_type": "stream",
     "text": [
      "WARNING:pystan:Maximum (flat) parameter count (1000) exceeded: skipping diagnostic tests for n_eff and Rhat.\n",
      "To run all diagnostics call pystan.check_hmc_diagnostics(fit)\n"
     ]
    }
   ],
   "source": [
    "fit = rdm_model.sampling(data=data_dict,\n",
    "                             iter=n_iter, \n",
    "                             warmup=n_warmup,\n",
    "                             chains=n_chains,\n",
    "                             verbose=True)"
   ]
  },
  {
   "cell_type": "markdown",
   "id": "10d7bfe3-f4b0-4c5e-b38a-da896fc9910a",
   "metadata": {},
   "source": [
    "## Model diagnostics"
   ]
  },
  {
   "cell_type": "code",
   "execution_count": 14,
   "id": "83b4b9f0",
   "metadata": {
    "colab": {
     "background_save": true
    },
    "id": "a8e1d56e-e7e4-4ca1-a0bd-5b34edf6ea44"
   },
   "outputs": [
    {
     "name": "stdout",
     "output_type": "stream",
     "text": [
      "***hmc diagnostics:\n",
      "{'n_eff': True, 'Rhat': True, 'divergence': True, 'treedepth': True, 'energy': True}\n"
     ]
    }
   ],
   "source": [
    "print(\"***hmc diagnostics:\")\n",
    "print(pystan.check_hmc_diagnostics(fit), flush=True)"
   ]
  },
  {
   "cell_type": "code",
   "execution_count": 15,
   "id": "b033c45b",
   "metadata": {
    "colab": {
     "background_save": true
    },
    "id": "efa2a6ff-ad48-4c7e-a094-4c645923644e"
   },
   "outputs": [
    {
     "name": "stdout",
     "output_type": "stream",
     "text": [
      "***DF: \n"
     ]
    },
    {
     "data": {
      "text/html": [
       "<div>\n",
       "<style scoped>\n",
       "    .dataframe tbody tr th:only-of-type {\n",
       "        vertical-align: middle;\n",
       "    }\n",
       "\n",
       "    .dataframe tbody tr th {\n",
       "        vertical-align: top;\n",
       "    }\n",
       "\n",
       "    .dataframe thead th {\n",
       "        text-align: right;\n",
       "    }\n",
       "</style>\n",
       "<table border=\"1\" class=\"dataframe\">\n",
       "  <thead>\n",
       "    <tr style=\"text-align: right;\">\n",
       "      <th></th>\n",
       "      <th>mean</th>\n",
       "      <th>se_mean</th>\n",
       "      <th>sd</th>\n",
       "      <th>2.5%</th>\n",
       "      <th>25%</th>\n",
       "      <th>50%</th>\n",
       "      <th>75%</th>\n",
       "      <th>97.5%</th>\n",
       "      <th>n_eff</th>\n",
       "      <th>Rhat</th>\n",
       "    </tr>\n",
       "  </thead>\n",
       "  <tbody>\n",
       "    <tr>\n",
       "      <th>mu_g</th>\n",
       "      <td>-4.801662</td>\n",
       "      <td>0.017101</td>\n",
       "      <td>0.575729</td>\n",
       "      <td>-6.053062</td>\n",
       "      <td>-5.166991</td>\n",
       "      <td>-4.765131</td>\n",
       "      <td>-4.395171</td>\n",
       "      <td>-3.774925</td>\n",
       "      <td>1133.472084</td>\n",
       "      <td>1.001595</td>\n",
       "    </tr>\n",
       "    <tr>\n",
       "      <th>mu_m</th>\n",
       "      <td>0.141133</td>\n",
       "      <td>0.002624</td>\n",
       "      <td>0.051211</td>\n",
       "      <td>0.027962</td>\n",
       "      <td>0.112554</td>\n",
       "      <td>0.144632</td>\n",
       "      <td>0.175532</td>\n",
       "      <td>0.230424</td>\n",
       "      <td>380.794058</td>\n",
       "      <td>1.008417</td>\n",
       "    </tr>\n",
       "    <tr>\n",
       "      <th>mu_threshold_word</th>\n",
       "      <td>1.079986</td>\n",
       "      <td>0.003712</td>\n",
       "      <td>0.097412</td>\n",
       "      <td>0.883627</td>\n",
       "      <td>1.016241</td>\n",
       "      <td>1.081209</td>\n",
       "      <td>1.145133</td>\n",
       "      <td>1.272591</td>\n",
       "      <td>688.560883</td>\n",
       "      <td>1.000321</td>\n",
       "    </tr>\n",
       "    <tr>\n",
       "      <th>mu_threshold_nonword</th>\n",
       "      <td>1.606548</td>\n",
       "      <td>0.013987</td>\n",
       "      <td>0.176575</td>\n",
       "      <td>1.263932</td>\n",
       "      <td>1.492991</td>\n",
       "      <td>1.601715</td>\n",
       "      <td>1.710887</td>\n",
       "      <td>1.967803</td>\n",
       "      <td>159.382518</td>\n",
       "      <td>1.013319</td>\n",
       "    </tr>\n",
       "    <tr>\n",
       "      <th>mu_alpha</th>\n",
       "      <td>0.962319</td>\n",
       "      <td>0.010310</td>\n",
       "      <td>0.260214</td>\n",
       "      <td>0.434287</td>\n",
       "      <td>0.791055</td>\n",
       "      <td>0.957294</td>\n",
       "      <td>1.138743</td>\n",
       "      <td>1.474913</td>\n",
       "      <td>637.033461</td>\n",
       "      <td>1.001337</td>\n",
       "    </tr>\n",
       "    <tr>\n",
       "      <th>...</th>\n",
       "      <td>...</td>\n",
       "      <td>...</td>\n",
       "      <td>...</td>\n",
       "      <td>...</td>\n",
       "      <td>...</td>\n",
       "      <td>...</td>\n",
       "      <td>...</td>\n",
       "      <td>...</td>\n",
       "      <td>...</td>\n",
       "      <td>...</td>\n",
       "    </tr>\n",
       "    <tr>\n",
       "      <th>log_lik[3563]</th>\n",
       "      <td>0.495463</td>\n",
       "      <td>0.001675</td>\n",
       "      <td>0.058540</td>\n",
       "      <td>0.377973</td>\n",
       "      <td>0.456272</td>\n",
       "      <td>0.498176</td>\n",
       "      <td>0.534685</td>\n",
       "      <td>0.603154</td>\n",
       "      <td>1221.717781</td>\n",
       "      <td>0.998965</td>\n",
       "    </tr>\n",
       "    <tr>\n",
       "      <th>log_lik[3564]</th>\n",
       "      <td>0.939848</td>\n",
       "      <td>0.001840</td>\n",
       "      <td>0.060653</td>\n",
       "      <td>0.824422</td>\n",
       "      <td>0.901172</td>\n",
       "      <td>0.938217</td>\n",
       "      <td>0.981541</td>\n",
       "      <td>1.059336</td>\n",
       "      <td>1086.278983</td>\n",
       "      <td>1.005369</td>\n",
       "    </tr>\n",
       "    <tr>\n",
       "      <th>log_lik[3565]</th>\n",
       "      <td>-1.132621</td>\n",
       "      <td>0.005202</td>\n",
       "      <td>0.174450</td>\n",
       "      <td>-1.473270</td>\n",
       "      <td>-1.247773</td>\n",
       "      <td>-1.127409</td>\n",
       "      <td>-1.017195</td>\n",
       "      <td>-0.806137</td>\n",
       "      <td>1124.487372</td>\n",
       "      <td>0.998763</td>\n",
       "    </tr>\n",
       "    <tr>\n",
       "      <th>log_lik[3566]</th>\n",
       "      <td>0.312791</td>\n",
       "      <td>0.002161</td>\n",
       "      <td>0.074350</td>\n",
       "      <td>0.160855</td>\n",
       "      <td>0.260699</td>\n",
       "      <td>0.317635</td>\n",
       "      <td>0.362953</td>\n",
       "      <td>0.454962</td>\n",
       "      <td>1183.434772</td>\n",
       "      <td>0.999202</td>\n",
       "    </tr>\n",
       "    <tr>\n",
       "      <th>lp__</th>\n",
       "      <td>157.060164</td>\n",
       "      <td>0.842276</td>\n",
       "      <td>9.318639</td>\n",
       "      <td>137.664447</td>\n",
       "      <td>150.718732</td>\n",
       "      <td>157.513410</td>\n",
       "      <td>163.529248</td>\n",
       "      <td>173.832003</td>\n",
       "      <td>122.404104</td>\n",
       "      <td>1.022182</td>\n",
       "    </tr>\n",
       "  </tbody>\n",
       "</table>\n",
       "<p>21581 rows × 10 columns</p>\n",
       "</div>"
      ],
      "text/plain": [
       "                            mean   se_mean        sd        2.5%         25%  \\\n",
       "mu_g                   -4.801662  0.017101  0.575729   -6.053062   -5.166991   \n",
       "mu_m                    0.141133  0.002624  0.051211    0.027962    0.112554   \n",
       "mu_threshold_word       1.079986  0.003712  0.097412    0.883627    1.016241   \n",
       "mu_threshold_nonword    1.606548  0.013987  0.176575    1.263932    1.492991   \n",
       "mu_alpha                0.962319  0.010310  0.260214    0.434287    0.791055   \n",
       "...                          ...       ...       ...         ...         ...   \n",
       "log_lik[3563]           0.495463  0.001675  0.058540    0.377973    0.456272   \n",
       "log_lik[3564]           0.939848  0.001840  0.060653    0.824422    0.901172   \n",
       "log_lik[3565]          -1.132621  0.005202  0.174450   -1.473270   -1.247773   \n",
       "log_lik[3566]           0.312791  0.002161  0.074350    0.160855    0.260699   \n",
       "lp__                  157.060164  0.842276  9.318639  137.664447  150.718732   \n",
       "\n",
       "                             50%         75%       97.5%        n_eff  \\\n",
       "mu_g                   -4.765131   -4.395171   -3.774925  1133.472084   \n",
       "mu_m                    0.144632    0.175532    0.230424   380.794058   \n",
       "mu_threshold_word       1.081209    1.145133    1.272591   688.560883   \n",
       "mu_threshold_nonword    1.601715    1.710887    1.967803   159.382518   \n",
       "mu_alpha                0.957294    1.138743    1.474913   637.033461   \n",
       "...                          ...         ...         ...          ...   \n",
       "log_lik[3563]           0.498176    0.534685    0.603154  1221.717781   \n",
       "log_lik[3564]           0.938217    0.981541    1.059336  1086.278983   \n",
       "log_lik[3565]          -1.127409   -1.017195   -0.806137  1124.487372   \n",
       "log_lik[3566]           0.317635    0.362953    0.454962  1183.434772   \n",
       "lp__                  157.513410  163.529248  173.832003   122.404104   \n",
       "\n",
       "                          Rhat  \n",
       "mu_g                  1.001595  \n",
       "mu_m                  1.008417  \n",
       "mu_threshold_word     1.000321  \n",
       "mu_threshold_nonword  1.013319  \n",
       "mu_alpha              1.001337  \n",
       "...                        ...  \n",
       "log_lik[3563]         0.998965  \n",
       "log_lik[3564]         1.005369  \n",
       "log_lik[3565]         0.998763  \n",
       "log_lik[3566]         0.999202  \n",
       "lp__                  1.022182  \n",
       "\n",
       "[21581 rows x 10 columns]"
      ]
     },
     "execution_count": 15,
     "metadata": {},
     "output_type": "execute_result"
    }
   ],
   "source": [
    "summary_dict = fit.summary()\n",
    "df = pd.DataFrame(summary_dict['summary'], \n",
    "                  columns=summary_dict['summary_colnames'], \n",
    "                  index=summary_dict['summary_rownames'])\n",
    "\n",
    "print(\"***DF: \")\n",
    "df"
   ]
  },
  {
   "cell_type": "code",
   "execution_count": 16,
   "id": "0302aa3b",
   "metadata": {
    "colab": {
     "background_save": true
    },
    "id": "b33a48e1-8c3b-4668-9e74-ba74c58e3bec",
    "scrolled": true
   },
   "outputs": [
    {
     "name": "stdout",
     "output_type": "stream",
     "text": [
      "***Rhat > 1.01: \n",
      "365\n"
     ]
    }
   ],
   "source": [
    "counter = 0\n",
    "print(\"***Rhat > 1.01: \")\n",
    "for f in df[\"Rhat\"]:\n",
    "    if f >= 1.01 or f <= 0.9:\n",
    "        counter+=1\n",
    "print(counter)"
   ]
  },
  {
   "cell_type": "code",
   "execution_count": 17,
   "id": "54606c2d",
   "metadata": {
    "colab": {
     "background_save": true
    },
    "id": "681ed2bf-2a28-4a8b-90d0-24b9fede846f"
   },
   "outputs": [
    {
     "data": {
      "text/html": [
       "<div>\n",
       "<style scoped>\n",
       "    .dataframe tbody tr th:only-of-type {\n",
       "        vertical-align: middle;\n",
       "    }\n",
       "\n",
       "    .dataframe tbody tr th {\n",
       "        vertical-align: top;\n",
       "    }\n",
       "\n",
       "    .dataframe thead th {\n",
       "        text-align: right;\n",
       "    }\n",
       "</style>\n",
       "<table border=\"1\" class=\"dataframe\">\n",
       "  <thead>\n",
       "    <tr style=\"text-align: right;\">\n",
       "      <th></th>\n",
       "      <th>mean</th>\n",
       "      <th>se_mean</th>\n",
       "      <th>sd</th>\n",
       "      <th>2.5%</th>\n",
       "      <th>25%</th>\n",
       "      <th>50%</th>\n",
       "      <th>75%</th>\n",
       "      <th>97.5%</th>\n",
       "      <th>n_eff</th>\n",
       "      <th>Rhat</th>\n",
       "    </tr>\n",
       "  </thead>\n",
       "  <tbody>\n",
       "    <tr>\n",
       "      <th>mu_threshold_nonword</th>\n",
       "      <td>1.606548</td>\n",
       "      <td>0.013987</td>\n",
       "      <td>0.176575</td>\n",
       "      <td>1.263932</td>\n",
       "      <td>1.492991</td>\n",
       "      <td>1.601715</td>\n",
       "      <td>1.710887</td>\n",
       "      <td>1.967803</td>\n",
       "      <td>159.382518</td>\n",
       "      <td>1.013319</td>\n",
       "    </tr>\n",
       "    <tr>\n",
       "      <th>sd_m</th>\n",
       "      <td>0.063256</td>\n",
       "      <td>0.003578</td>\n",
       "      <td>0.051897</td>\n",
       "      <td>0.003860</td>\n",
       "      <td>0.023604</td>\n",
       "      <td>0.051262</td>\n",
       "      <td>0.086683</td>\n",
       "      <td>0.206375</td>\n",
       "      <td>210.379470</td>\n",
       "      <td>1.018387</td>\n",
       "    </tr>\n",
       "    <tr>\n",
       "      <th>sd_threshold_word</th>\n",
       "      <td>0.237776</td>\n",
       "      <td>0.005718</td>\n",
       "      <td>0.091526</td>\n",
       "      <td>0.094438</td>\n",
       "      <td>0.179624</td>\n",
       "      <td>0.229067</td>\n",
       "      <td>0.281935</td>\n",
       "      <td>0.441159</td>\n",
       "      <td>256.249945</td>\n",
       "      <td>1.012265</td>\n",
       "    </tr>\n",
       "    <tr>\n",
       "      <th>z_threshold_nonword[4]</th>\n",
       "      <td>-0.065920</td>\n",
       "      <td>0.024383</td>\n",
       "      <td>0.436070</td>\n",
       "      <td>-0.939448</td>\n",
       "      <td>-0.358017</td>\n",
       "      <td>-0.053584</td>\n",
       "      <td>0.231049</td>\n",
       "      <td>0.770494</td>\n",
       "      <td>319.836761</td>\n",
       "      <td>1.012960</td>\n",
       "    </tr>\n",
       "    <tr>\n",
       "      <th>z_threshold_nonword[8]</th>\n",
       "      <td>-0.436440</td>\n",
       "      <td>0.027509</td>\n",
       "      <td>0.428396</td>\n",
       "      <td>-1.300798</td>\n",
       "      <td>-0.703739</td>\n",
       "      <td>-0.426902</td>\n",
       "      <td>-0.153618</td>\n",
       "      <td>0.389940</td>\n",
       "      <td>242.522942</td>\n",
       "      <td>1.010936</td>\n",
       "    </tr>\n",
       "    <tr>\n",
       "      <th>...</th>\n",
       "      <td>...</td>\n",
       "      <td>...</td>\n",
       "      <td>...</td>\n",
       "      <td>...</td>\n",
       "      <td>...</td>\n",
       "      <td>...</td>\n",
       "      <td>...</td>\n",
       "      <td>...</td>\n",
       "      <td>...</td>\n",
       "      <td>...</td>\n",
       "    </tr>\n",
       "    <tr>\n",
       "      <th>transf_mu_threshold_nonword</th>\n",
       "      <td>1.791500</td>\n",
       "      <td>0.011692</td>\n",
       "      <td>0.147382</td>\n",
       "      <td>1.512776</td>\n",
       "      <td>1.695687</td>\n",
       "      <td>1.785327</td>\n",
       "      <td>1.876999</td>\n",
       "      <td>2.098624</td>\n",
       "      <td>158.884818</td>\n",
       "      <td>1.013404</td>\n",
       "    </tr>\n",
       "    <tr>\n",
       "      <th>log_lik[1579]</th>\n",
       "      <td>-1.421292</td>\n",
       "      <td>0.007004</td>\n",
       "      <td>0.171365</td>\n",
       "      <td>-1.804087</td>\n",
       "      <td>-1.524449</td>\n",
       "      <td>-1.412786</td>\n",
       "      <td>-1.298204</td>\n",
       "      <td>-1.133383</td>\n",
       "      <td>598.584946</td>\n",
       "      <td>1.010801</td>\n",
       "    </tr>\n",
       "    <tr>\n",
       "      <th>log_lik[1672]</th>\n",
       "      <td>-1.596378</td>\n",
       "      <td>0.005634</td>\n",
       "      <td>0.150251</td>\n",
       "      <td>-1.912295</td>\n",
       "      <td>-1.694438</td>\n",
       "      <td>-1.585720</td>\n",
       "      <td>-1.493698</td>\n",
       "      <td>-1.323997</td>\n",
       "      <td>711.315687</td>\n",
       "      <td>1.010538</td>\n",
       "    </tr>\n",
       "    <tr>\n",
       "      <th>log_lik[1785]</th>\n",
       "      <td>-1.447825</td>\n",
       "      <td>0.007781</td>\n",
       "      <td>0.190953</td>\n",
       "      <td>-1.860530</td>\n",
       "      <td>-1.567210</td>\n",
       "      <td>-1.443655</td>\n",
       "      <td>-1.309540</td>\n",
       "      <td>-1.130099</td>\n",
       "      <td>602.194574</td>\n",
       "      <td>1.010263</td>\n",
       "    </tr>\n",
       "    <tr>\n",
       "      <th>lp__</th>\n",
       "      <td>157.060164</td>\n",
       "      <td>0.842276</td>\n",
       "      <td>9.318639</td>\n",
       "      <td>137.664447</td>\n",
       "      <td>150.718732</td>\n",
       "      <td>157.513410</td>\n",
       "      <td>163.529248</td>\n",
       "      <td>173.832003</td>\n",
       "      <td>122.404104</td>\n",
       "      <td>1.022182</td>\n",
       "    </tr>\n",
       "  </tbody>\n",
       "</table>\n",
       "<p>365 rows × 10 columns</p>\n",
       "</div>"
      ],
      "text/plain": [
       "                                   mean   se_mean        sd        2.5%  \\\n",
       "mu_threshold_nonword           1.606548  0.013987  0.176575    1.263932   \n",
       "sd_m                           0.063256  0.003578  0.051897    0.003860   \n",
       "sd_threshold_word              0.237776  0.005718  0.091526    0.094438   \n",
       "z_threshold_nonword[4]        -0.065920  0.024383  0.436070   -0.939448   \n",
       "z_threshold_nonword[8]        -0.436440  0.027509  0.428396   -1.300798   \n",
       "...                                 ...       ...       ...         ...   \n",
       "transf_mu_threshold_nonword    1.791500  0.011692  0.147382    1.512776   \n",
       "log_lik[1579]                 -1.421292  0.007004  0.171365   -1.804087   \n",
       "log_lik[1672]                 -1.596378  0.005634  0.150251   -1.912295   \n",
       "log_lik[1785]                 -1.447825  0.007781  0.190953   -1.860530   \n",
       "lp__                         157.060164  0.842276  9.318639  137.664447   \n",
       "\n",
       "                                    25%         50%         75%       97.5%  \\\n",
       "mu_threshold_nonword           1.492991    1.601715    1.710887    1.967803   \n",
       "sd_m                           0.023604    0.051262    0.086683    0.206375   \n",
       "sd_threshold_word              0.179624    0.229067    0.281935    0.441159   \n",
       "z_threshold_nonword[4]        -0.358017   -0.053584    0.231049    0.770494   \n",
       "z_threshold_nonword[8]        -0.703739   -0.426902   -0.153618    0.389940   \n",
       "...                                 ...         ...         ...         ...   \n",
       "transf_mu_threshold_nonword    1.695687    1.785327    1.876999    2.098624   \n",
       "log_lik[1579]                 -1.524449   -1.412786   -1.298204   -1.133383   \n",
       "log_lik[1672]                 -1.694438   -1.585720   -1.493698   -1.323997   \n",
       "log_lik[1785]                 -1.567210   -1.443655   -1.309540   -1.130099   \n",
       "lp__                         150.718732  157.513410  163.529248  173.832003   \n",
       "\n",
       "                                  n_eff      Rhat  \n",
       "mu_threshold_nonword         159.382518  1.013319  \n",
       "sd_m                         210.379470  1.018387  \n",
       "sd_threshold_word            256.249945  1.012265  \n",
       "z_threshold_nonword[4]       319.836761  1.012960  \n",
       "z_threshold_nonword[8]       242.522942  1.010936  \n",
       "...                                 ...       ...  \n",
       "transf_mu_threshold_nonword  158.884818  1.013404  \n",
       "log_lik[1579]                598.584946  1.010801  \n",
       "log_lik[1672]                711.315687  1.010538  \n",
       "log_lik[1785]                602.194574  1.010263  \n",
       "lp__                         122.404104  1.022182  \n",
       "\n",
       "[365 rows x 10 columns]"
      ]
     },
     "execution_count": 17,
     "metadata": {},
     "output_type": "execute_result"
    }
   ],
   "source": [
    "df.loc[df['Rhat']>1.01]"
   ]
  },
  {
   "cell_type": "code",
   "execution_count": 18,
   "id": "f0aa820a",
   "metadata": {
    "colab": {
     "background_save": true
    },
    "id": "a651e5b7-b7f1-4426-ae8e-f9e236eb6e91"
   },
   "outputs": [
    {
     "data": {
      "text/html": [
       "<div>\n",
       "<style scoped>\n",
       "    .dataframe tbody tr th:only-of-type {\n",
       "        vertical-align: middle;\n",
       "    }\n",
       "\n",
       "    .dataframe tbody tr th {\n",
       "        vertical-align: top;\n",
       "    }\n",
       "\n",
       "    .dataframe thead th {\n",
       "        text-align: right;\n",
       "    }\n",
       "</style>\n",
       "<table border=\"1\" class=\"dataframe\">\n",
       "  <thead>\n",
       "    <tr style=\"text-align: right;\">\n",
       "      <th></th>\n",
       "      <th>mean</th>\n",
       "      <th>se_mean</th>\n",
       "      <th>sd</th>\n",
       "      <th>2.5%</th>\n",
       "      <th>25%</th>\n",
       "      <th>50%</th>\n",
       "      <th>75%</th>\n",
       "      <th>97.5%</th>\n",
       "      <th>n_eff</th>\n",
       "      <th>Rhat</th>\n",
       "    </tr>\n",
       "  </thead>\n",
       "  <tbody>\n",
       "    <tr>\n",
       "      <th>count</th>\n",
       "      <td>365.000000</td>\n",
       "      <td>365.000000</td>\n",
       "      <td>365.000000</td>\n",
       "      <td>365.000000</td>\n",
       "      <td>365.000000</td>\n",
       "      <td>365.000000</td>\n",
       "      <td>365.000000</td>\n",
       "      <td>365.000000</td>\n",
       "      <td>365.000000</td>\n",
       "      <td>365.000000</td>\n",
       "    </tr>\n",
       "    <tr>\n",
       "      <th>mean</th>\n",
       "      <td>0.678884</td>\n",
       "      <td>0.003454</td>\n",
       "      <td>0.045959</td>\n",
       "      <td>0.583770</td>\n",
       "      <td>0.648309</td>\n",
       "      <td>0.681694</td>\n",
       "      <td>0.710770</td>\n",
       "      <td>0.760260</td>\n",
       "      <td>324.740612</td>\n",
       "      <td>1.011126</td>\n",
       "    </tr>\n",
       "    <tr>\n",
       "      <th>std</th>\n",
       "      <td>8.210438</td>\n",
       "      <td>0.044097</td>\n",
       "      <td>0.488545</td>\n",
       "      <td>7.199321</td>\n",
       "      <td>7.879663</td>\n",
       "      <td>8.234042</td>\n",
       "      <td>8.547942</td>\n",
       "      <td>9.085895</td>\n",
       "      <td>34.839420</td>\n",
       "      <td>0.000854</td>\n",
       "    </tr>\n",
       "    <tr>\n",
       "      <th>min</th>\n",
       "      <td>-1.596378</td>\n",
       "      <td>0.000764</td>\n",
       "      <td>0.013625</td>\n",
       "      <td>-1.912295</td>\n",
       "      <td>-1.694438</td>\n",
       "      <td>-1.585720</td>\n",
       "      <td>-1.493698</td>\n",
       "      <td>-1.323997</td>\n",
       "      <td>122.404104</td>\n",
       "      <td>1.010263</td>\n",
       "    </tr>\n",
       "    <tr>\n",
       "      <th>25%</th>\n",
       "      <td>0.258632</td>\n",
       "      <td>0.000767</td>\n",
       "      <td>0.013644</td>\n",
       "      <td>0.229243</td>\n",
       "      <td>0.249846</td>\n",
       "      <td>0.260317</td>\n",
       "      <td>0.268818</td>\n",
       "      <td>0.280375</td>\n",
       "      <td>316.517506</td>\n",
       "      <td>1.010571</td>\n",
       "    </tr>\n",
       "    <tr>\n",
       "      <th>50%</th>\n",
       "      <td>0.262913</td>\n",
       "      <td>0.000836</td>\n",
       "      <td>0.015207</td>\n",
       "      <td>0.232005</td>\n",
       "      <td>0.253234</td>\n",
       "      <td>0.264204</td>\n",
       "      <td>0.273139</td>\n",
       "      <td>0.288682</td>\n",
       "      <td>331.276461</td>\n",
       "      <td>1.011469</td>\n",
       "    </tr>\n",
       "    <tr>\n",
       "      <th>75%</th>\n",
       "      <td>0.262913</td>\n",
       "      <td>0.000836</td>\n",
       "      <td>0.015207</td>\n",
       "      <td>0.232005</td>\n",
       "      <td>0.253234</td>\n",
       "      <td>0.264204</td>\n",
       "      <td>0.273139</td>\n",
       "      <td>0.288682</td>\n",
       "      <td>331.276461</td>\n",
       "      <td>1.011469</td>\n",
       "    </tr>\n",
       "    <tr>\n",
       "      <th>max</th>\n",
       "      <td>157.060164</td>\n",
       "      <td>0.842276</td>\n",
       "      <td>9.318639</td>\n",
       "      <td>137.664447</td>\n",
       "      <td>150.718732</td>\n",
       "      <td>157.513410</td>\n",
       "      <td>163.529248</td>\n",
       "      <td>173.832003</td>\n",
       "      <td>711.315687</td>\n",
       "      <td>1.022182</td>\n",
       "    </tr>\n",
       "  </tbody>\n",
       "</table>\n",
       "</div>"
      ],
      "text/plain": [
       "             mean     se_mean          sd        2.5%         25%         50%  \\\n",
       "count  365.000000  365.000000  365.000000  365.000000  365.000000  365.000000   \n",
       "mean     0.678884    0.003454    0.045959    0.583770    0.648309    0.681694   \n",
       "std      8.210438    0.044097    0.488545    7.199321    7.879663    8.234042   \n",
       "min     -1.596378    0.000764    0.013625   -1.912295   -1.694438   -1.585720   \n",
       "25%      0.258632    0.000767    0.013644    0.229243    0.249846    0.260317   \n",
       "50%      0.262913    0.000836    0.015207    0.232005    0.253234    0.264204   \n",
       "75%      0.262913    0.000836    0.015207    0.232005    0.253234    0.264204   \n",
       "max    157.060164    0.842276    9.318639  137.664447  150.718732  157.513410   \n",
       "\n",
       "              75%       97.5%       n_eff        Rhat  \n",
       "count  365.000000  365.000000  365.000000  365.000000  \n",
       "mean     0.710770    0.760260  324.740612    1.011126  \n",
       "std      8.547942    9.085895   34.839420    0.000854  \n",
       "min     -1.493698   -1.323997  122.404104    1.010263  \n",
       "25%      0.268818    0.280375  316.517506    1.010571  \n",
       "50%      0.273139    0.288682  331.276461    1.011469  \n",
       "75%      0.273139    0.288682  331.276461    1.011469  \n",
       "max    163.529248  173.832003  711.315687    1.022182  "
      ]
     },
     "execution_count": 18,
     "metadata": {},
     "output_type": "execute_result"
    }
   ],
   "source": [
    "df.loc[df['Rhat']>1.01].describe()"
   ]
  },
  {
   "cell_type": "markdown",
   "id": "798fea59-640e-4e72-bb35-3f41b389ba76",
   "metadata": {},
   "source": [
    "Saving Model"
   ]
  },
  {
   "cell_type": "code",
   "execution_count": 19,
   "id": "450e6ca5",
   "metadata": {
    "colab": {
     "background_save": true
    },
    "id": "68c03128-0bcf-4139-ae33-60299392e658"
   },
   "outputs": [
    {
     "name": "stderr",
     "output_type": "stream",
     "text": [
      "/home/a.dadras/.conda/envs/ANNDDM/lib/python3.7/site-packages/ipykernel_launcher.py:2: UserWarning: Pickling fit objects is an experimental feature!\n",
      "The relevant StanModel instance must be pickled along with this fit object.\n",
      "When unpickling the StanModel must be unpickled first.\n",
      "  \n"
     ]
    }
   ],
   "source": [
    "with open(saved_model_path, \"wb\") as f:\n",
    "    pickle.dump({'model' : rdm_model, 'fit' : fit}, f, protocol=-1)"
   ]
  },
  {
   "cell_type": "markdown",
   "id": "0b32ef5c",
   "metadata": {
    "id": "2743cc7e-7238-4f84-afe4-4b502770f62b",
    "tags": []
   },
   "source": [
    "## Check parameters"
   ]
  },
  {
   "cell_type": "markdown",
   "id": "62aaf784-e97d-4d81-bcb9-90e7eefff98f",
   "metadata": {},
   "source": [
    "Loading Model"
   ]
  },
  {
   "cell_type": "code",
   "execution_count": 20,
   "id": "0a33d647",
   "metadata": {
    "colab": {
     "background_save": true
    },
    "id": "d781cdef-a1c6-4af1-940c-824398ec7d2b"
   },
   "outputs": [],
   "source": [
    "with open(saved_model_path, \"rb\") as f:\n",
    "    data_dict = pickle.load(f)\n",
    "\n",
    "fit = data_dict['fit']"
   ]
  },
  {
   "cell_type": "markdown",
   "id": "dc740f54-db93-410c-9e26-282710ef2024",
   "metadata": {},
   "source": [
    "Parameters posterior plots"
   ]
  },
  {
   "cell_type": "code",
   "execution_count": 22,
   "id": "67254033",
   "metadata": {
    "colab": {
     "background_save": true
    },
    "id": "48fc6630-74be-47a0-b387-ec99b9dc4b47"
   },
   "outputs": [
    {
     "data": {
      "image/png": "[encoded data removed]",
      "text/plain": [
       "<Figure size 1490.4x662.4 with 6 Axes>"
      ]
     },
     "metadata": {},
     "output_type": "display_data"
    }
   ],
   "source": [
    "az.plot_posterior(fit, var_names=['transf_mu_alpha', 'transf_mu_b', 'transf_mu_threshold_word', 'transf_mu_threshold_nonword', 'transf_mu_g', 'transf_mu_m'], hdi_prob=.95);\n",
    "plt.savefig(plots_path + 'Parameters')"
   ]
  },
  {
   "cell_type": "markdown",
   "id": "deaeee5d-28e4-4b67-9d90-6d8ba5d39423",
   "metadata": {},
   "source": [
    "#### Models mean parameters in different conditions"
   ]
  },
  {
   "cell_type": "code",
   "execution_count": 23,
   "id": "133df71d",
   "metadata": {
    "colab": {
     "background_save": true
    },
    "id": "3539c070-29f7-422d-8c2e-1f7d44ef9246"
   },
   "outputs": [],
   "source": [
    "# Loading model parameters for each trial\n",
    "drift_word_t = fit['drift_word_t']\n",
    "drift_nonword_t = fit['drift_nonword_t']\n",
    "threshold_t_word = fit['threshold_t_word']\n",
    "threshold_t_nonword = fit['threshold_t_nonword']\n",
    "ndt_t = fit['ndt_t']"
   ]
  },
  {
   "cell_type": "code",
   "execution_count": 24,
   "id": "c645f86a",
   "metadata": {
    "colab": {
     "background_save": true
    },
    "id": "3a247d68-c3af-49ef-91fd-ba4ea221358d"
   },
   "outputs": [],
   "source": [
    "HF_condition_w = drift_word_t[:, behavioural_df['category']==\"HF\"]\n",
    "HF_condition_nw = drift_nonword_t[:, behavioural_df['category']==\"HF\"]\n",
    "LF_condition_w = drift_word_t[:, behavioural_df['category']==\"LF\"]\n",
    "LF_condition_nw = drift_nonword_t[:, behavioural_df['category']==\"LF\"]\n",
    "NW_condition_w = drift_word_t[:, behavioural_df['category']==\"NW\"]\n",
    "NW_condition_nw = drift_nonword_t[:, behavioural_df['category']==\"NW\"]"
   ]
  },
  {
   "cell_type": "code",
   "execution_count": 25,
   "id": "278e000d",
   "metadata": {
    "colab": {
     "background_save": true
    },
    "id": "deac1183-5610-4a19-8ff8-7bace8d12e7c"
   },
   "outputs": [
    {
     "name": "stdout",
     "output_type": "stream",
     "text": [
      "HF words, word drift mean and std:\n",
      "5.140272551475367 0.10672596855348492\n",
      "HF words, nonword drift mean and std:\n",
      "2.089602933338188 0.10213017904282203\n"
     ]
    }
   ],
   "source": [
    "print('HF words, word drift mean and std:')\n",
    "print(np.mean(np.mean(HF_condition_w, axis=1)), np.std(np.mean(HF_condition_w, axis=1)))\n",
    "print('HF words, nonword drift mean and std:')\n",
    "print(np.mean(np.mean(HF_condition_nw, axis=1)), np.std(np.mean(HF_condition_nw, axis=1)))"
   ]
  },
  {
   "cell_type": "code",
   "execution_count": 26,
   "id": "f51e3e5f",
   "metadata": {
    "colab": {
     "background_save": true
    },
    "id": "b2e382de-87bf-4a1d-a4b9-1fc80548eacf"
   },
   "outputs": [
    {
     "name": "stdout",
     "output_type": "stream",
     "text": [
      "LF words word drift mean and std:\n",
      "3.3027705233477387 0.08407924202525965\n",
      "LF words nonword drift mean and std:\n",
      "2.394790129227437 0.09942841584076201\n"
     ]
    }
   ],
   "source": [
    "print('LF words word drift mean and std:')\n",
    "print(np.mean(np.mean(LF_condition_w, axis=1)), np.std(np.mean(LF_condition_w, axis=1)))\n",
    "print('LF words nonword drift mean and std:')\n",
    "print(np.mean(np.mean(LF_condition_nw, axis=1)), np.std(np.mean(LF_condition_nw, axis=1)))"
   ]
  },
  {
   "cell_type": "code",
   "execution_count": 27,
   "id": "fd0eed7f",
   "metadata": {
    "colab": {
     "background_save": true
    },
    "id": "5000a3ea-dd3f-4dff-8dd3-b2acf4f9f238"
   },
   "outputs": [
    {
     "name": "stdout",
     "output_type": "stream",
     "text": [
      "NW words word drift mean and std:\n",
      "0.6770935868433442 0.08578166053284993\n",
      "NW words nonword drift mean and std:\n",
      "3.4450796253382303 0.08692231335979536\n"
     ]
    }
   ],
   "source": [
    "print('NW words word drift mean and std:')\n",
    "print(np.mean(np.mean(NW_condition_w, axis=1)), np.std(np.mean(NW_condition_w, axis=1)))\n",
    "print('NW words nonword drift mean and std:')\n",
    "print(np.mean(np.mean(NW_condition_nw, axis=1)), np.std(np.mean(NW_condition_nw, axis=1)))"
   ]
  },
  {
   "cell_type": "code",
   "execution_count": 28,
   "id": "84308d46-e368-491f-8532-0f2b7b4f9966",
   "metadata": {
    "colab": {
     "background_save": true
    },
    "id": "3a247d68-c3af-49ef-91fd-ba4ea221358d"
   },
   "outputs": [],
   "source": [
    "HF_condition_w = threshold_t_word[:, behavioural_df['category']==\"HF\"]\n",
    "HF_condition_nw = threshold_t_nonword[:, behavioural_df['category']==\"HF\"]\n",
    "LF_condition_w = threshold_t_word[:, behavioural_df['category']==\"LF\"]\n",
    "LF_condition_nw = threshold_t_nonword[:, behavioural_df['category']==\"LF\"]\n",
    "NW_condition_w = threshold_t_word[:, behavioural_df['category']==\"NW\"]\n",
    "NW_condition_nw = threshold_t_nonword[:, behavioural_df['category']==\"NW\"]"
   ]
  },
  {
   "cell_type": "code",
   "execution_count": 29,
   "id": "f9d462da-a2d7-403e-9e79-1bcfd84251db",
   "metadata": {
    "colab": {
     "background_save": true
    },
    "id": "deac1183-5610-4a19-8ff8-7bace8d12e7c"
   },
   "outputs": [
    {
     "name": "stdout",
     "output_type": "stream",
     "text": [
      "HF words, word threshold mean and std:\n",
      "1.3824943075500136 0.04921074485665506\n",
      "HF words, nonword threshold mean and std:\n",
      "1.7713289176635612 0.05906753818274273\n"
     ]
    }
   ],
   "source": [
    "print('HF words, word threshold mean and std:')\n",
    "print(np.mean(np.mean(HF_condition_w, axis=1)), np.std(np.mean(HF_condition_w, axis=1)))\n",
    "print('HF words, nonword threshold mean and std:')\n",
    "print(np.mean(np.mean(HF_condition_nw, axis=1)), np.std(np.mean(HF_condition_nw, axis=1)))"
   ]
  },
  {
   "cell_type": "code",
   "execution_count": 30,
   "id": "35be809a-7d17-41d2-9b3c-d37ce32b9e94",
   "metadata": {
    "colab": {
     "background_save": true
    },
    "id": "b2e382de-87bf-4a1d-a4b9-1fc80548eacf"
   },
   "outputs": [
    {
     "name": "stdout",
     "output_type": "stream",
     "text": [
      "LF words word threshold mean and std:\n",
      "1.373595140099206 0.049258001138150175\n",
      "LF words nonword threshold mean and std:\n",
      "1.7931450291717406 0.05981442773621341\n"
     ]
    }
   ],
   "source": [
    "print('LF words word threshold mean and std:')\n",
    "print(np.mean(np.mean(LF_condition_w, axis=1)), np.std(np.mean(LF_condition_w, axis=1)))\n",
    "print('LF words nonword threshold mean and std:')\n",
    "print(np.mean(np.mean(LF_condition_nw, axis=1)), np.std(np.mean(LF_condition_nw, axis=1)))"
   ]
  },
  {
   "cell_type": "code",
   "execution_count": 31,
   "id": "4e1414c2-0d9d-49a1-bb16-77502b985e78",
   "metadata": {
    "colab": {
     "background_save": true
    },
    "id": "5000a3ea-dd3f-4dff-8dd3-b2acf4f9f238"
   },
   "outputs": [
    {
     "name": "stdout",
     "output_type": "stream",
     "text": [
      "NW words word threshold mean and std:\n",
      "1.3741162809240395 0.0492064085420586\n",
      "NW words nonword threshold mean and std:\n",
      "1.7763162777891857 0.05908818890643657\n"
     ]
    }
   ],
   "source": [
    "print('NW words word threshold mean and std:')\n",
    "print(np.mean(np.mean(NW_condition_w, axis=1)), np.std(np.mean(NW_condition_w, axis=1)))\n",
    "print('NW words nonword threshold mean and std:')\n",
    "print(np.mean(np.mean(NW_condition_nw, axis=1)), np.std(np.mean(NW_condition_nw, axis=1)))"
   ]
  },
  {
   "cell_type": "code",
   "execution_count": 32,
   "id": "914e74a9",
   "metadata": {
    "colab": {
     "background_save": true
    },
    "id": "06aceb06-2f53-47ae-b0f8-68d0c96f3cbf"
   },
   "outputs": [],
   "source": [
    "HF_condition = ndt_t[:, behavioural_df['category']==\"HF\"]\n",
    "LF_condition = ndt_t[:, behavioural_df['category']==\"LF\"]\n",
    "NW_condition = ndt_t[:, behavioural_df['category']==\"NW\"]"
   ]
  },
  {
   "cell_type": "code",
   "execution_count": 33,
   "id": "1eacfbe0",
   "metadata": {
    "colab": {
     "background_save": true
    },
    "id": "c7ff4f51-0587-4f7a-bf79-7bc1fe0951e2"
   },
   "outputs": [
    {
     "name": "stdout",
     "output_type": "stream",
     "text": [
      "HF words ndt_t mean and std:\n",
      "0.3211495485779463 0.008661123153619417\n"
     ]
    }
   ],
   "source": [
    "print('HF words ndt_t mean and std:')\n",
    "print(np.mean(np.mean(HF_condition, axis=1)), np.std(np.mean(HF_condition, axis=1)))"
   ]
  },
  {
   "cell_type": "code",
   "execution_count": 34,
   "id": "b084b873",
   "metadata": {
    "colab": {
     "background_save": true
    },
    "id": "cb6c1af9-e52c-4247-9b63-7c1eadffb620"
   },
   "outputs": [
    {
     "name": "stdout",
     "output_type": "stream",
     "text": [
      "LF words ndt_t mean and std:\n",
      "0.31170926759276835 0.008469841993041854\n"
     ]
    }
   ],
   "source": [
    "print('LF words ndt_t mean and std:')\n",
    "print(np.mean(np.mean(LF_condition, axis=1)), np.std(np.mean(LF_condition, axis=1)))"
   ]
  },
  {
   "cell_type": "code",
   "execution_count": 35,
   "id": "191321f1",
   "metadata": {
    "colab": {
     "background_save": true
    },
    "id": "8c41e49e-4801-43c1-b700-9721d9f719c9"
   },
   "outputs": [
    {
     "name": "stdout",
     "output_type": "stream",
     "text": [
      "Non Words ndt_t mean and std:\n",
      "0.3209556964687264 0.008867510285506277\n"
     ]
    }
   ],
   "source": [
    "print('Non Words ndt_t mean and std:')\n",
    "print(np.mean(np.mean(NW_condition, axis=1)), np.std(np.mean(NW_condition, axis=1)))"
   ]
  },
  {
   "cell_type": "markdown",
   "id": "3d64f181-de50-4bec-ad6a-9f0c7c95cea5",
   "metadata": {},
   "source": [
    "## Calculating metrics"
   ]
  },
  {
   "cell_type": "code",
   "execution_count": 36,
   "id": "b018e8df-553d-42b4-833c-d2f967b17ed1",
   "metadata": {},
   "outputs": [],
   "source": [
    "def calculate_waic(log_likelihood, pointwise=False):\n",
    "    \"\"\"\n",
    "    Returns model comparisions' metrics.\n",
    "    \n",
    "    Parameters\n",
    "    ----------\n",
    "        log_likelihood: np.array\n",
    "            log_likelihood of each trial\n",
    "        max_rt: float\n",
    "            maximum acceptable rt\n",
    "        min_rt: float\n",
    "             minimum acceptable rt\n",
    "             \n",
    "    Optional Parameters\n",
    "    ----------------\n",
    "    pointwise: float\n",
    "        if true pointwise waic will be calculated\n",
    "        \n",
    "    Returns\n",
    "    -------\n",
    "        out:  a dictionary containing lppd, waic, waic_se and pointwise_waic    \n",
    "    \"\"\"\n",
    "    likelihood = np.exp(log_likelihood)\n",
    "\n",
    "    mean_l = np.mean(likelihood, axis=0) # N observations\n",
    "\n",
    "    pointwise_lppd = np.log(mean_l)\n",
    "    lppd = np.sum(pointwise_lppd)\n",
    "\n",
    "    pointwise_var_l = np.var(log_likelihood, axis=0) # N observations\n",
    "    var_l = np.sum(pointwise_var_l)\n",
    "\n",
    "    pointwise_waic = - 2*pointwise_lppd +  2*pointwise_var_l\n",
    "    waic = -2*lppd + 2*var_l\n",
    "    waic_se = np.sqrt(log_likelihood.shape[1] * np.var(pointwise_waic))\n",
    "\n",
    "    if pointwise:\n",
    "        out = {'lppd':lppd,\n",
    "               'p_waic':var_l,\n",
    "               'waic':waic,\n",
    "               'waic_se':waic_se,\n",
    "               'pointwise_waic':pointwise_waic}\n",
    "    else:\n",
    "        out = {'lppd':lppd,\n",
    "               'p_waic':var_l,\n",
    "                'waic':waic,\n",
    "                'waic_se':waic_se}\n",
    "    return out"
   ]
  },
  {
   "cell_type": "code",
   "execution_count": 37,
   "id": "9beabf75-4cb8-49dc-b604-9f0adf32dfe4",
   "metadata": {},
   "outputs": [
    {
     "data": {
      "text/plain": [
       "{'lppd': 249.6011095264248,\n",
       " 'p_waic': 71.3565990668083,\n",
       " 'waic': -356.489020919233,\n",
       " 'waic_se': 145.6860315605472}"
      ]
     },
     "execution_count": 37,
     "metadata": {},
     "output_type": "execute_result"
    }
   ],
   "source": [
    "log_likelihood = fit['log_lik']\n",
    "calculate_waic(log_likelihood)"
   ]
  },
  {
   "cell_type": "markdown",
   "id": "5a23772b-94de-40e6-88d6-f5a6aaefab64",
   "metadata": {},
   "source": [
    "## Simulating RDM with estimated parameters"
   ]
  },
  {
   "cell_type": "code",
   "execution_count": 38,
   "id": "737be2f5-fd9f-432a-a42f-c8bc89a28c7a",
   "metadata": {},
   "outputs": [],
   "source": [
    "def random_rdm_2A(cor_drift, inc_drift, threshold_word, threshold_nonword, ndt, noise_constant=1, dt=0.001, max_rt=10):\n",
    "    \"\"\" \n",
    "    Simulates behavior (rt and accuracy) according to the Racing Diffusion Model.\n",
    "     \n",
    "    Parameters\n",
    "    ----------\n",
    "    cor_drift : numpy.ndarray\n",
    "        Drift-rate of the Racing Diffusion Model - correct trials.\n",
    "    inc_drift : numpy.ndarray\n",
    "        Drift-rate of the Racing Diffusion Model - incorrect trials.\n",
    "    threshold : numpy.ndarray\n",
    "        Shape is usually (n_samples, n_trials).\n",
    "        Threshold of the diffusion decision model.\n",
    "    ndt : numpy.ndarray\n",
    "        Shape is usually (n_samples, n_trials).\n",
    "        Non decision time of the diffusion decision model, in seconds.\n",
    "    \n",
    "    Optional Parameters\n",
    "    ----------------\n",
    "    noise_constant : float, default 1\n",
    "        Scaling factor of the Racing Diffusion Model.\n",
    "        If changed, drift and threshold would be scaled accordingly.\n",
    "        Not to be changed in most applications.\n",
    "    dt : float, default 0.001\n",
    "        Controls the time resolution of the Racing Diffusion Model. Default is 1 msec.\n",
    "        Lower values of dt make the function more precise but much slower.\n",
    "    max_rt : float, default 10\n",
    "        Controls the maximum rts that can be predicted.\n",
    "        Making this higher might make the function a bit slower.\n",
    "    \n",
    "    Returns\n",
    "    -------\n",
    "    rt : numpy.ndarray\n",
    "        Shape is the same as the input parameters.\n",
    "        Contains simulated response times according to the Racing Diffusion Model.\n",
    "        Every element corresponds to the set of parameters given as input with the same shape.\n",
    "    acc: numpy.ndarray\n",
    "        Shape is the same as the input parameters.\n",
    "        Contains simulated accuracy according to the Racing Diffusion Model.\n",
    "        Every element corresponds to the set of parameters given as input with the same shape.\n",
    "    \"\"\"\n",
    "    shape = cor_drift.shape\n",
    "    acc = np.empty(shape)\n",
    "    rt = np.empty(shape)\n",
    "    acc[:] = np.nan\n",
    "    rt[:] = np.nan\n",
    "\n",
    "    max_tsteps = max_rt/dt\n",
    "\n",
    "    x_cor = np.zeros(shape)\n",
    "    x_inc = np.zeros(shape)\n",
    "\n",
    "    tstep = 0\n",
    "    ongoing = np.array(np.ones(shape), dtype=bool)\n",
    "\n",
    "    stop_race = False\n",
    "\n",
    "    while np.sum(ongoing) > 0 and tstep < max_tsteps:\n",
    "        x_cor[ongoing] += np.random.normal(cor_drift[ongoing]*dt,\n",
    "                                           noise_constant*np.sqrt(dt),\n",
    "                                           np.sum(ongoing))\n",
    "        x_inc[ongoing] += np.random.normal(inc_drift[ongoing]*dt,\n",
    "                                           noise_constant*np.sqrt(dt),\n",
    "                                           np.sum(ongoing))\n",
    "        tstep += 1\n",
    "        ended_correct = (x_cor >= threshold_word)\n",
    "        ended_incorrect = (x_inc >= threshold_nonword)\n",
    "\n",
    "        # store results and filter out ended trials\n",
    "        if np.sum(ended_correct) > 0:\n",
    "            acc[np.logical_and(ended_correct, ongoing)] = 1\n",
    "            rt[np.logical_and(ended_correct, ongoing)] = dt*tstep + ndt[np.logical_and(ended_correct, ongoing)]\n",
    "            ongoing[ended_correct] = False\n",
    "\n",
    "        if np.sum(ended_incorrect) > 0:\n",
    "            acc[np.logical_and(ended_incorrect, ongoing)] = 0\n",
    "            rt[np.logical_and(ended_incorrect, ongoing)] = dt*tstep + ndt[np.logical_and(ended_incorrect, ongoing)]\n",
    "            ongoing[ended_incorrect] = False\n",
    "    return rt, acc"
   ]
  },
  {
   "cell_type": "markdown",
   "id": "b867e05c-ebda-4bc3-ae51-e340e337344f",
   "metadata": {},
   "source": [
    "Simulating RDM with estimated parameters"
   ]
  },
  {
   "cell_type": "code",
   "execution_count": 39,
   "id": "f6786ed3-265f-4698-9a37-75d19e125806",
   "metadata": {},
   "outputs": [],
   "source": [
    "pp_rt, pp_response = random_rdm_2A(drift_word_t, drift_nonword_t, threshold_t_word, threshold_t_nonword, ndt_t, noise_constant=1, dt=0.001, max_rt=5)"
   ]
  },
  {
   "cell_type": "code",
   "execution_count": 40,
   "id": "c7183cf1-fc0e-436b-b607-9d821ef736f2",
   "metadata": {},
   "outputs": [],
   "source": [
    "def bci(x, alpha=0.05):\n",
    "    \"\"\"\n",
    "    Calculate Bayesian credible interval (BCI).\n",
    "    \n",
    "    Parameters\n",
    "    ----------\n",
    "    x : array-like\n",
    "        An array containing MCMC samples.\n",
    "    \n",
    "    Optional Parameters\n",
    "    -------------------\n",
    "    alpha : float, default 0.05\n",
    "        Desired probability of type I error.\n",
    "    \n",
    "    Returns\n",
    "    -------\n",
    "    interval : numpy.ndarray\n",
    "        Array containing the lower and upper bounds of the bci interval.\n",
    "    \"\"\"\n",
    "    interval = np.nanpercentile(x, [(alpha/2)*100, (1-alpha/2)*100])\n",
    "\n",
    "    return interval"
   ]
  },
  {
   "cell_type": "code",
   "execution_count": 41,
   "id": "b235c705-7301-4c3c-b906-5979789d606f",
   "metadata": {},
   "outputs": [],
   "source": [
    "# Predicted Data\n",
    "rt_predictions = pd.concat((pd.DataFrame(pp_rt, index=pd.Index(np.arange(1, len(pp_rt)+1))).T, behavioural_df['category']), axis=1)\n",
    "response_predictions = pd.concat((pd.DataFrame(pp_response, index=pd.Index(np.arange(1, len(pp_response)+1))).T, behavioural_df['category']), axis=1)\n",
    "\n",
    "# Experiment Data\n",
    "experiment_data = behavioural_df.loc[:, ['rt', 'response', 'category']]"
   ]
  },
  {
   "cell_type": "markdown",
   "id": "7fdd192d-bac0-4fdc-afd2-148b6a9ae332",
   "metadata": {},
   "source": [
    "Separating RT and Response of predicted and experimental data for each condition"
   ]
  },
  {
   "cell_type": "code",
   "execution_count": 42,
   "id": "cffd58c1-f474-4c7c-85d6-f26b16c77859",
   "metadata": {},
   "outputs": [],
   "source": [
    "HF_data = experiment_data.loc[experiment_data['category']=='HF']\n",
    "LF_data = experiment_data.loc[experiment_data['category']=='LF']\n",
    "NW_data = experiment_data.loc[experiment_data['category']=='NW']\n",
    "\n",
    "HF_pred_rt = rt_predictions.loc[rt_predictions['category']=='HF']\n",
    "HF_pred_resp = response_predictions.loc[response_predictions['category']=='HF']\n",
    "LF_pred_rt = rt_predictions.loc[rt_predictions['category']=='LF']\n",
    "LF_pred_resp = response_predictions.loc[response_predictions['category']=='LF']\n",
    "NW_pred_rt = rt_predictions.loc[rt_predictions['category']=='NW']\n",
    "NW_pred_resp = response_predictions.loc[response_predictions['category']=='NW']"
   ]
  },
  {
   "cell_type": "markdown",
   "id": "bc68071a-3121-47da-94c5-bae5db334c5c",
   "metadata": {
    "id": "defea622-f638-4a0e-a269-937234d4a49f",
    "tags": []
   },
   "source": [
    "## Quantiles Posterior Predictions"
   ]
  },
  {
   "cell_type": "code",
   "execution_count": 43,
   "id": "4378eb36-76cc-4a39-b2ed-643addccbc4d",
   "metadata": {},
   "outputs": [],
   "source": [
    "quantiles = [.1, .3, .5, .7, .9]\n",
    "percentiles = np.array(quantiles)*100"
   ]
  },
  {
   "cell_type": "code",
   "execution_count": 44,
   "id": "96001a51-55af-4f25-93c4-cdcc00556eb5",
   "metadata": {},
   "outputs": [],
   "source": [
    "# experiment Data quantile\n",
    "HF_quantile_ex = HF_data['rt'].quantile(quantiles)\n",
    "LF_quantile_ex = LF_data['rt'].quantile(quantiles)\n",
    "NW_quantile_ex = NW_data['rt'].quantile(quantiles)\n",
    "\n",
    "# predicted data quantiles (for each sample)\n",
    "HF_quantile_pred = HF_pred_rt.quantile(quantiles, axis=0).T\n",
    "LF_quantile_pred = LF_pred_rt.quantile(quantiles, axis=0).T\n",
    "NW_quantile_pred = NW_pred_rt.quantile(quantiles, axis=0).T\n",
    "\n",
    "# predicted data quantiles bci\n",
    "HF_predicted_bci = np.array([bci(HF_quantile_pred[x]) for x in quantiles])\n",
    "LF_predicted_bci = np.array([bci(LF_quantile_pred[x]) for x in quantiles])\n",
    "NW_predicted_bci = np.array([bci(NW_quantile_pred[x]) for x in quantiles])"
   ]
  },
  {
   "cell_type": "code",
   "execution_count": 45,
   "id": "3e40fa75-a52a-45f9-8f44-b6097ff621e7",
   "metadata": {},
   "outputs": [
    {
     "data": {
      "image/png": "[encoded data removed]",
      "text/plain": [
       "<Figure size 2520x576 with 3 Axes>"
      ]
     },
     "metadata": {},
     "output_type": "display_data"
    }
   ],
   "source": [
    "fig, axes = plt.subplots(1,3 , figsize=(35,8))\n",
    "plt.subplots_adjust(wspace=0.5, hspace=0.5)\n",
    "\n",
    "axes[0].set_title('HF quantiles')\n",
    "axes[1].set_title('LF quantiles')\n",
    "axes[2].set_title('NW quantiles')\n",
    "\n",
    "axes[0].scatter(quantiles, HF_quantile_ex, color='blue', s=100)\n",
    "axes[1].scatter(quantiles, LF_quantile_ex, color='yellow', s=100)\n",
    "axes[2].scatter(quantiles, NW_quantile_ex, color='green', s=100)\n",
    "\n",
    "axes[0].fill_between(quantiles,\n",
    "                HF_predicted_bci[:, 0],\n",
    "                HF_predicted_bci[:, 1],\n",
    "                HF_predicted_bci[:, 0] < HF_predicted_bci[:, 1],  color = 'red', alpha=0.2)\n",
    "\n",
    "axes[1].fill_between(quantiles,\n",
    "                LF_predicted_bci[:, 0],\n",
    "                LF_predicted_bci[:, 1],\n",
    "                LF_predicted_bci[:, 0] < LF_predicted_bci[:, 1],  color = 'blue', alpha=0.2)\n",
    "\n",
    "axes[2].fill_between(quantiles,\n",
    "                NW_predicted_bci[:, 0],\n",
    "                NW_predicted_bci[:, 1],\n",
    "                NW_predicted_bci[:, 0] < NW_predicted_bci[:, 1],  color = 'green', alpha=0.2)\n",
    "\n",
    "\n",
    "for ax in axes:\n",
    "        ax.set_xlabel('Quantiles')\n",
    "        ax.set_xticks(quantiles)\n",
    "        ax.set_xticklabels(quantiles)\n",
    "        ax.set_ylabel('RTs upper boundary')\n",
    "\n",
    "sns.despine()\n",
    "plt.savefig(plots_path + 'Quantiles Poseterior')"
   ]
  },
  {
   "cell_type": "markdown",
   "id": "9d335303-115f-4be3-b5b9-44db89033c76",
   "metadata": {
    "tags": []
   },
   "source": [
    "## Mean Accuracy and RT Posterior Plots"
   ]
  },
  {
   "cell_type": "code",
   "execution_count": 46,
   "id": "9d60fb04-d913-45b7-aa6b-86aac6e69dfb",
   "metadata": {},
   "outputs": [],
   "source": [
    "HF_data_rt_mean = HF_data['rt'].mean()\n",
    "LF_data_rt_mean = LF_data['rt'].mean()\n",
    "NW_data_rt_mean = NW_data['rt'].mean()\n",
    "\n",
    "HF_pred_rt_mean = HF_pred_rt.mean(axis=0)\n",
    "LF_pred_rt_mean = LF_pred_rt.mean(axis=0)\n",
    "NW_pred_rt_mean = NW_pred_rt.mean(axis=0)\n",
    "\n",
    "\n",
    "HF_data_resp_mean = HF_data['response'].mean()\n",
    "LF_data_resp_mean = LF_data['response'].mean()\n",
    "NW_data_resp_mean = NW_data['response'].mean()\n",
    "\n",
    "HF_pred_resp_mean = HF_pred_resp.mean(axis=0)\n",
    "LF_pred_resp_mean = LF_pred_resp.mean(axis=0)\n",
    "NW_pred_resp_mean = NW_pred_resp.mean(axis=0)\n"
   ]
  },
  {
   "cell_type": "code",
   "execution_count": 47,
   "id": "b28be60d-fa47-4f5b-bb8e-3e9ea312239c",
   "metadata": {},
   "outputs": [],
   "source": [
    "def plot_posterior(x, data_mean, ax):\n",
    "    \"\"\"\n",
    "    Plots the posterior of x with experimental data mean as a line\n",
    "    \n",
    "    Parameters\n",
    "    ----------\n",
    "    x : array-like\n",
    "        An array containing RT or response for each trial.\n",
    "        \n",
    "    x : float\n",
    "        mean of RT or Accuracy of experimental data.\n",
    "\n",
    "    ax : matplotlib.axes.Axes\n",
    "        \n",
    "    Returns\n",
    "    -------\n",
    "    None\n",
    "    \"\"\"\n",
    "    density = gaussian_kde(x, bw_method='scott')\n",
    "    xd = np.linspace(x.min(), x.max())\n",
    "    yd = density(xd)\n",
    "\n",
    "    low, high = bci(x)\n",
    "    ax.fill_between(xd[np.logical_and(xd >= low, xd <= high)],\n",
    "                     yd[np.logical_and(xd >= low, xd <= high)])\n",
    "\n",
    "    ax.plot(xd, yd)\n",
    "    ax.axvline(data_mean, color='red')"
   ]
  },
  {
   "cell_type": "code",
   "execution_count": 48,
   "id": "e60ee9b7-ea0d-4ef3-8ba8-8591e9bb437c",
   "metadata": {},
   "outputs": [
    {
     "data": {
      "image/png": "[encoded data removed]",
      "text/plain": [
       "<Figure size 1080x1080 with 6 Axes>"
      ]
     },
     "metadata": {},
     "output_type": "display_data"
    }
   ],
   "source": [
    "fig, axes = plt.subplots(3,2 , figsize=(15,15))\n",
    "plt.subplots_adjust(wspace=0.5, hspace=0.5)\n",
    "\n",
    "axes[0][0].set_title('HF mean RT')\n",
    "axes[0][1].set_title('HF mean Response')\n",
    "axes[1][0].set_title('LF mean RT')\n",
    "axes[1][1].set_title('LF mean Response')\n",
    "axes[2][0].set_title('NW mean RT')\n",
    "axes[2][1].set_title('NW mean Response')\n",
    "\n",
    "plot_posterior(HF_pred_rt_mean, HF_data_rt_mean, axes[0][0])\n",
    "plot_posterior(HF_pred_resp_mean, HF_data_resp_mean, axes[0][1])\n",
    "\n",
    "plot_posterior(LF_pred_rt_mean, LF_data_rt_mean, axes[1][0])\n",
    "plot_posterior(LF_pred_resp_mean, LF_data_resp_mean, axes[1][1])\n",
    "\n",
    "plot_posterior(NW_pred_rt_mean, NW_data_rt_mean, axes[2][0])\n",
    "plot_posterior(NW_pred_resp_mean, NW_data_resp_mean, axes[2][1])\n",
    "\n",
    "plt.savefig(plots_path + 'Mean Accuracy and RT')"
   ]
  }
 ],
 "metadata": {
  "colab": {
   "collapsed_sections": [],
   "name": "Estimation_Hier.ipynb",
   "version": ""
  },
  "kernelspec": {
   "display_name": "ANNDDM",
   "language": "python",
   "name": "annddm"
  },
  "language_info": {
   "codemirror_mode": {
    "name": "ipython",
    "version": 3
   },
   "file_extension": ".py",
   "mimetype": "text/x-python",
   "name": "python",
   "nbconvert_exporter": "python",
   "pygments_lexer": "ipython3",
   "version": "3.7.10"
  }
 },
 "nbformat": 4,
 "nbformat_minor": 5
}
